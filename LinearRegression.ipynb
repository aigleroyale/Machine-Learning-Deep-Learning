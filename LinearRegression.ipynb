{
  "nbformat": 4,
  "nbformat_minor": 0,
  "metadata": {
    "colab": {
      "provenance": []
    },
    "kernelspec": {
      "name": "python3",
      "display_name": "Python 3"
    },
    "language_info": {
      "name": "python"
    }
  },
  "cells": [
    {
      "cell_type": "markdown",
      "source": [
        "# Regression Linéaire"
      ],
      "metadata": {
        "id": "5NVsj5CJKzmD"
      }
    },
    {
      "cell_type": "markdown",
      "source": [
        "## Paramètres"
      ],
      "metadata": {
        "id": "iXyh03EHOd-z"
      }
    },
    {
      "cell_type": "code",
      "execution_count": 331,
      "metadata": {
        "id": "8Gvb5YWcJyHF"
      },
      "outputs": [],
      "source": [
        "import pandas as pd\n",
        "import numpy as np\n",
        "\n",
        "import matplotlib\n",
        "import matplotlib.pyplot as plt\n",
        "import seaborn as sns\n",
        "import plotly.express as px\n",
        "import plotly.graph_objects as gp\n",
        "\n",
        "\n",
        "\n",
        "sns.set_style('darkgrid')\n",
        "matplotlib.rcParams['font.size'] = 14\n",
        "matplotlib.rcParams['figure.figsize'] = (8, 5)\n",
        "matplotlib.rcParams['figure.facecolor'] = '#00000000'\n",
        "\n",
        "%matplotlib inline"
      ]
    },
    {
      "cell_type": "markdown",
      "source": [
        "## Data"
      ],
      "metadata": {
        "id": "fP9ArSF2LUP3"
      }
    },
    {
      "cell_type": "code",
      "source": [
        "medical_df = pd.read_csv('medical.csv')"
      ],
      "metadata": {
        "id": "g9D1kHL_LoLf"
      },
      "execution_count": 7,
      "outputs": []
    },
    {
      "cell_type": "code",
      "source": [
        "medical_df.tail()"
      ],
      "metadata": {
        "colab": {
          "base_uri": "https://localhost:8080/",
          "height": 206
        },
        "id": "sPwmwdOUL4oM",
        "outputId": "26f1c3f0-8ec1-4ee6-b811-499cf9066325"
      },
      "execution_count": 8,
      "outputs": [
        {
          "output_type": "execute_result",
          "data": {
            "text/plain": [
              "      age     sex    bmi  children smoker     region     charges\n",
              "1333   50    male  30.97         3     no  northwest  10600.5483\n",
              "1334   18  female  31.92         0     no  northeast   2205.9808\n",
              "1335   18  female  36.85         0     no  southeast   1629.8335\n",
              "1336   21  female  25.80         0     no  southwest   2007.9450\n",
              "1337   61  female  29.07         0    yes  northwest  29141.3603"
            ],
            "text/html": [
              "\n",
              "  <div id=\"df-57fd33a1-f73f-4979-8e22-6641e606843a\">\n",
              "    <div class=\"colab-df-container\">\n",
              "      <div>\n",
              "<style scoped>\n",
              "    .dataframe tbody tr th:only-of-type {\n",
              "        vertical-align: middle;\n",
              "    }\n",
              "\n",
              "    .dataframe tbody tr th {\n",
              "        vertical-align: top;\n",
              "    }\n",
              "\n",
              "    .dataframe thead th {\n",
              "        text-align: right;\n",
              "    }\n",
              "</style>\n",
              "<table border=\"1\" class=\"dataframe\">\n",
              "  <thead>\n",
              "    <tr style=\"text-align: right;\">\n",
              "      <th></th>\n",
              "      <th>age</th>\n",
              "      <th>sex</th>\n",
              "      <th>bmi</th>\n",
              "      <th>children</th>\n",
              "      <th>smoker</th>\n",
              "      <th>region</th>\n",
              "      <th>charges</th>\n",
              "    </tr>\n",
              "  </thead>\n",
              "  <tbody>\n",
              "    <tr>\n",
              "      <th>1333</th>\n",
              "      <td>50</td>\n",
              "      <td>male</td>\n",
              "      <td>30.97</td>\n",
              "      <td>3</td>\n",
              "      <td>no</td>\n",
              "      <td>northwest</td>\n",
              "      <td>10600.5483</td>\n",
              "    </tr>\n",
              "    <tr>\n",
              "      <th>1334</th>\n",
              "      <td>18</td>\n",
              "      <td>female</td>\n",
              "      <td>31.92</td>\n",
              "      <td>0</td>\n",
              "      <td>no</td>\n",
              "      <td>northeast</td>\n",
              "      <td>2205.9808</td>\n",
              "    </tr>\n",
              "    <tr>\n",
              "      <th>1335</th>\n",
              "      <td>18</td>\n",
              "      <td>female</td>\n",
              "      <td>36.85</td>\n",
              "      <td>0</td>\n",
              "      <td>no</td>\n",
              "      <td>southeast</td>\n",
              "      <td>1629.8335</td>\n",
              "    </tr>\n",
              "    <tr>\n",
              "      <th>1336</th>\n",
              "      <td>21</td>\n",
              "      <td>female</td>\n",
              "      <td>25.80</td>\n",
              "      <td>0</td>\n",
              "      <td>no</td>\n",
              "      <td>southwest</td>\n",
              "      <td>2007.9450</td>\n",
              "    </tr>\n",
              "    <tr>\n",
              "      <th>1337</th>\n",
              "      <td>61</td>\n",
              "      <td>female</td>\n",
              "      <td>29.07</td>\n",
              "      <td>0</td>\n",
              "      <td>yes</td>\n",
              "      <td>northwest</td>\n",
              "      <td>29141.3603</td>\n",
              "    </tr>\n",
              "  </tbody>\n",
              "</table>\n",
              "</div>\n",
              "      <button class=\"colab-df-convert\" onclick=\"convertToInteractive('df-57fd33a1-f73f-4979-8e22-6641e606843a')\"\n",
              "              title=\"Convert this dataframe to an interactive table.\"\n",
              "              style=\"display:none;\">\n",
              "        \n",
              "  <svg xmlns=\"http://www.w3.org/2000/svg\" height=\"24px\"viewBox=\"0 0 24 24\"\n",
              "       width=\"24px\">\n",
              "    <path d=\"M0 0h24v24H0V0z\" fill=\"none\"/>\n",
              "    <path d=\"M18.56 5.44l.94 2.06.94-2.06 2.06-.94-2.06-.94-.94-2.06-.94 2.06-2.06.94zm-11 1L8.5 8.5l.94-2.06 2.06-.94-2.06-.94L8.5 2.5l-.94 2.06-2.06.94zm10 10l.94 2.06.94-2.06 2.06-.94-2.06-.94-.94-2.06-.94 2.06-2.06.94z\"/><path d=\"M17.41 7.96l-1.37-1.37c-.4-.4-.92-.59-1.43-.59-.52 0-1.04.2-1.43.59L10.3 9.45l-7.72 7.72c-.78.78-.78 2.05 0 2.83L4 21.41c.39.39.9.59 1.41.59.51 0 1.02-.2 1.41-.59l7.78-7.78 2.81-2.81c.8-.78.8-2.07 0-2.86zM5.41 20L4 18.59l7.72-7.72 1.47 1.35L5.41 20z\"/>\n",
              "  </svg>\n",
              "      </button>\n",
              "      \n",
              "  <style>\n",
              "    .colab-df-container {\n",
              "      display:flex;\n",
              "      flex-wrap:wrap;\n",
              "      gap: 12px;\n",
              "    }\n",
              "\n",
              "    .colab-df-convert {\n",
              "      background-color: #E8F0FE;\n",
              "      border: none;\n",
              "      border-radius: 50%;\n",
              "      cursor: pointer;\n",
              "      display: none;\n",
              "      fill: #1967D2;\n",
              "      height: 32px;\n",
              "      padding: 0 0 0 0;\n",
              "      width: 32px;\n",
              "    }\n",
              "\n",
              "    .colab-df-convert:hover {\n",
              "      background-color: #E2EBFA;\n",
              "      box-shadow: 0px 1px 2px rgba(60, 64, 67, 0.3), 0px 1px 3px 1px rgba(60, 64, 67, 0.15);\n",
              "      fill: #174EA6;\n",
              "    }\n",
              "\n",
              "    [theme=dark] .colab-df-convert {\n",
              "      background-color: #3B4455;\n",
              "      fill: #D2E3FC;\n",
              "    }\n",
              "\n",
              "    [theme=dark] .colab-df-convert:hover {\n",
              "      background-color: #434B5C;\n",
              "      box-shadow: 0px 1px 3px 1px rgba(0, 0, 0, 0.15);\n",
              "      filter: drop-shadow(0px 1px 2px rgba(0, 0, 0, 0.3));\n",
              "      fill: #FFFFFF;\n",
              "    }\n",
              "  </style>\n",
              "\n",
              "      <script>\n",
              "        const buttonEl =\n",
              "          document.querySelector('#df-57fd33a1-f73f-4979-8e22-6641e606843a button.colab-df-convert');\n",
              "        buttonEl.style.display =\n",
              "          google.colab.kernel.accessAllowed ? 'block' : 'none';\n",
              "\n",
              "        async function convertToInteractive(key) {\n",
              "          const element = document.querySelector('#df-57fd33a1-f73f-4979-8e22-6641e606843a');\n",
              "          const dataTable =\n",
              "            await google.colab.kernel.invokeFunction('convertToInteractive',\n",
              "                                                     [key], {});\n",
              "          if (!dataTable) return;\n",
              "\n",
              "          const docLinkHtml = 'Like what you see? Visit the ' +\n",
              "            '<a target=\"_blank\" href=https://colab.research.google.com/notebooks/data_table.ipynb>data table notebook</a>'\n",
              "            + ' to learn more about interactive tables.';\n",
              "          element.innerHTML = '';\n",
              "          dataTable['output_type'] = 'display_data';\n",
              "          await google.colab.output.renderOutput(dataTable, element);\n",
              "          const docLink = document.createElement('div');\n",
              "          docLink.innerHTML = docLinkHtml;\n",
              "          element.appendChild(docLink);\n",
              "        }\n",
              "      </script>\n",
              "    </div>\n",
              "  </div>\n",
              "  "
            ]
          },
          "metadata": {},
          "execution_count": 8
        }
      ]
    },
    {
      "cell_type": "code",
      "source": [
        "medical_df.info()"
      ],
      "metadata": {
        "colab": {
          "base_uri": "https://localhost:8080/",
          "height": 0
        },
        "id": "TF2DgwDqL68c",
        "outputId": "4a2ad305-6174-46a6-a45c-264de6116640"
      },
      "execution_count": 10,
      "outputs": [
        {
          "output_type": "stream",
          "name": "stdout",
          "text": [
            "<class 'pandas.core.frame.DataFrame'>\n",
            "RangeIndex: 1338 entries, 0 to 1337\n",
            "Data columns (total 7 columns):\n",
            " #   Column    Non-Null Count  Dtype  \n",
            "---  ------    --------------  -----  \n",
            " 0   age       1338 non-null   int64  \n",
            " 1   sex       1338 non-null   object \n",
            " 2   bmi       1338 non-null   float64\n",
            " 3   children  1338 non-null   int64  \n",
            " 4   smoker    1338 non-null   object \n",
            " 5   region    1338 non-null   object \n",
            " 6   charges   1338 non-null   float64\n",
            "dtypes: float64(2), int64(2), object(3)\n",
            "memory usage: 73.3+ KB\n"
          ]
        }
      ]
    },
    {
      "cell_type": "code",
      "source": [
        "medical_df.shape"
      ],
      "metadata": {
        "colab": {
          "base_uri": "https://localhost:8080/",
          "height": 0
        },
        "id": "-e9A8M4MMDwa",
        "outputId": "652949b1-a9c7-4cb7-90df-288258b06b84"
      },
      "execution_count": 11,
      "outputs": [
        {
          "output_type": "execute_result",
          "data": {
            "text/plain": [
              "(1338, 7)"
            ]
          },
          "metadata": {},
          "execution_count": 11
        }
      ]
    },
    {
      "cell_type": "code",
      "source": [
        "medical_df.describe(include='all')"
      ],
      "metadata": {
        "colab": {
          "base_uri": "https://localhost:8080/",
          "height": 394
        },
        "id": "e7efEAPzMIbb",
        "outputId": "ac75fb63-ffe3-4787-9af7-09d1a15ab83e"
      },
      "execution_count": 15,
      "outputs": [
        {
          "output_type": "execute_result",
          "data": {
            "text/plain": [
              "                age   sex          bmi     children smoker     region  \\\n",
              "count   1338.000000  1338  1338.000000  1338.000000   1338       1338   \n",
              "unique          NaN     2          NaN          NaN      2          4   \n",
              "top             NaN  male          NaN          NaN     no  southeast   \n",
              "freq            NaN   676          NaN          NaN   1064        364   \n",
              "mean      39.207025   NaN    30.663397     1.094918    NaN        NaN   \n",
              "std       14.049960   NaN     6.098187     1.205493    NaN        NaN   \n",
              "min       18.000000   NaN    15.960000     0.000000    NaN        NaN   \n",
              "25%       27.000000   NaN    26.296250     0.000000    NaN        NaN   \n",
              "50%       39.000000   NaN    30.400000     1.000000    NaN        NaN   \n",
              "75%       51.000000   NaN    34.693750     2.000000    NaN        NaN   \n",
              "max       64.000000   NaN    53.130000     5.000000    NaN        NaN   \n",
              "\n",
              "             charges  \n",
              "count    1338.000000  \n",
              "unique           NaN  \n",
              "top              NaN  \n",
              "freq             NaN  \n",
              "mean    13270.422265  \n",
              "std     12110.011237  \n",
              "min      1121.873900  \n",
              "25%      4740.287150  \n",
              "50%      9382.033000  \n",
              "75%     16639.912515  \n",
              "max     63770.428010  "
            ],
            "text/html": [
              "\n",
              "  <div id=\"df-30efeda3-0c20-4d09-a1d9-92ff32c24a83\">\n",
              "    <div class=\"colab-df-container\">\n",
              "      <div>\n",
              "<style scoped>\n",
              "    .dataframe tbody tr th:only-of-type {\n",
              "        vertical-align: middle;\n",
              "    }\n",
              "\n",
              "    .dataframe tbody tr th {\n",
              "        vertical-align: top;\n",
              "    }\n",
              "\n",
              "    .dataframe thead th {\n",
              "        text-align: right;\n",
              "    }\n",
              "</style>\n",
              "<table border=\"1\" class=\"dataframe\">\n",
              "  <thead>\n",
              "    <tr style=\"text-align: right;\">\n",
              "      <th></th>\n",
              "      <th>age</th>\n",
              "      <th>sex</th>\n",
              "      <th>bmi</th>\n",
              "      <th>children</th>\n",
              "      <th>smoker</th>\n",
              "      <th>region</th>\n",
              "      <th>charges</th>\n",
              "    </tr>\n",
              "  </thead>\n",
              "  <tbody>\n",
              "    <tr>\n",
              "      <th>count</th>\n",
              "      <td>1338.000000</td>\n",
              "      <td>1338</td>\n",
              "      <td>1338.000000</td>\n",
              "      <td>1338.000000</td>\n",
              "      <td>1338</td>\n",
              "      <td>1338</td>\n",
              "      <td>1338.000000</td>\n",
              "    </tr>\n",
              "    <tr>\n",
              "      <th>unique</th>\n",
              "      <td>NaN</td>\n",
              "      <td>2</td>\n",
              "      <td>NaN</td>\n",
              "      <td>NaN</td>\n",
              "      <td>2</td>\n",
              "      <td>4</td>\n",
              "      <td>NaN</td>\n",
              "    </tr>\n",
              "    <tr>\n",
              "      <th>top</th>\n",
              "      <td>NaN</td>\n",
              "      <td>male</td>\n",
              "      <td>NaN</td>\n",
              "      <td>NaN</td>\n",
              "      <td>no</td>\n",
              "      <td>southeast</td>\n",
              "      <td>NaN</td>\n",
              "    </tr>\n",
              "    <tr>\n",
              "      <th>freq</th>\n",
              "      <td>NaN</td>\n",
              "      <td>676</td>\n",
              "      <td>NaN</td>\n",
              "      <td>NaN</td>\n",
              "      <td>1064</td>\n",
              "      <td>364</td>\n",
              "      <td>NaN</td>\n",
              "    </tr>\n",
              "    <tr>\n",
              "      <th>mean</th>\n",
              "      <td>39.207025</td>\n",
              "      <td>NaN</td>\n",
              "      <td>30.663397</td>\n",
              "      <td>1.094918</td>\n",
              "      <td>NaN</td>\n",
              "      <td>NaN</td>\n",
              "      <td>13270.422265</td>\n",
              "    </tr>\n",
              "    <tr>\n",
              "      <th>std</th>\n",
              "      <td>14.049960</td>\n",
              "      <td>NaN</td>\n",
              "      <td>6.098187</td>\n",
              "      <td>1.205493</td>\n",
              "      <td>NaN</td>\n",
              "      <td>NaN</td>\n",
              "      <td>12110.011237</td>\n",
              "    </tr>\n",
              "    <tr>\n",
              "      <th>min</th>\n",
              "      <td>18.000000</td>\n",
              "      <td>NaN</td>\n",
              "      <td>15.960000</td>\n",
              "      <td>0.000000</td>\n",
              "      <td>NaN</td>\n",
              "      <td>NaN</td>\n",
              "      <td>1121.873900</td>\n",
              "    </tr>\n",
              "    <tr>\n",
              "      <th>25%</th>\n",
              "      <td>27.000000</td>\n",
              "      <td>NaN</td>\n",
              "      <td>26.296250</td>\n",
              "      <td>0.000000</td>\n",
              "      <td>NaN</td>\n",
              "      <td>NaN</td>\n",
              "      <td>4740.287150</td>\n",
              "    </tr>\n",
              "    <tr>\n",
              "      <th>50%</th>\n",
              "      <td>39.000000</td>\n",
              "      <td>NaN</td>\n",
              "      <td>30.400000</td>\n",
              "      <td>1.000000</td>\n",
              "      <td>NaN</td>\n",
              "      <td>NaN</td>\n",
              "      <td>9382.033000</td>\n",
              "    </tr>\n",
              "    <tr>\n",
              "      <th>75%</th>\n",
              "      <td>51.000000</td>\n",
              "      <td>NaN</td>\n",
              "      <td>34.693750</td>\n",
              "      <td>2.000000</td>\n",
              "      <td>NaN</td>\n",
              "      <td>NaN</td>\n",
              "      <td>16639.912515</td>\n",
              "    </tr>\n",
              "    <tr>\n",
              "      <th>max</th>\n",
              "      <td>64.000000</td>\n",
              "      <td>NaN</td>\n",
              "      <td>53.130000</td>\n",
              "      <td>5.000000</td>\n",
              "      <td>NaN</td>\n",
              "      <td>NaN</td>\n",
              "      <td>63770.428010</td>\n",
              "    </tr>\n",
              "  </tbody>\n",
              "</table>\n",
              "</div>\n",
              "      <button class=\"colab-df-convert\" onclick=\"convertToInteractive('df-30efeda3-0c20-4d09-a1d9-92ff32c24a83')\"\n",
              "              title=\"Convert this dataframe to an interactive table.\"\n",
              "              style=\"display:none;\">\n",
              "        \n",
              "  <svg xmlns=\"http://www.w3.org/2000/svg\" height=\"24px\"viewBox=\"0 0 24 24\"\n",
              "       width=\"24px\">\n",
              "    <path d=\"M0 0h24v24H0V0z\" fill=\"none\"/>\n",
              "    <path d=\"M18.56 5.44l.94 2.06.94-2.06 2.06-.94-2.06-.94-.94-2.06-.94 2.06-2.06.94zm-11 1L8.5 8.5l.94-2.06 2.06-.94-2.06-.94L8.5 2.5l-.94 2.06-2.06.94zm10 10l.94 2.06.94-2.06 2.06-.94-2.06-.94-.94-2.06-.94 2.06-2.06.94z\"/><path d=\"M17.41 7.96l-1.37-1.37c-.4-.4-.92-.59-1.43-.59-.52 0-1.04.2-1.43.59L10.3 9.45l-7.72 7.72c-.78.78-.78 2.05 0 2.83L4 21.41c.39.39.9.59 1.41.59.51 0 1.02-.2 1.41-.59l7.78-7.78 2.81-2.81c.8-.78.8-2.07 0-2.86zM5.41 20L4 18.59l7.72-7.72 1.47 1.35L5.41 20z\"/>\n",
              "  </svg>\n",
              "      </button>\n",
              "      \n",
              "  <style>\n",
              "    .colab-df-container {\n",
              "      display:flex;\n",
              "      flex-wrap:wrap;\n",
              "      gap: 12px;\n",
              "    }\n",
              "\n",
              "    .colab-df-convert {\n",
              "      background-color: #E8F0FE;\n",
              "      border: none;\n",
              "      border-radius: 50%;\n",
              "      cursor: pointer;\n",
              "      display: none;\n",
              "      fill: #1967D2;\n",
              "      height: 32px;\n",
              "      padding: 0 0 0 0;\n",
              "      width: 32px;\n",
              "    }\n",
              "\n",
              "    .colab-df-convert:hover {\n",
              "      background-color: #E2EBFA;\n",
              "      box-shadow: 0px 1px 2px rgba(60, 64, 67, 0.3), 0px 1px 3px 1px rgba(60, 64, 67, 0.15);\n",
              "      fill: #174EA6;\n",
              "    }\n",
              "\n",
              "    [theme=dark] .colab-df-convert {\n",
              "      background-color: #3B4455;\n",
              "      fill: #D2E3FC;\n",
              "    }\n",
              "\n",
              "    [theme=dark] .colab-df-convert:hover {\n",
              "      background-color: #434B5C;\n",
              "      box-shadow: 0px 1px 3px 1px rgba(0, 0, 0, 0.15);\n",
              "      filter: drop-shadow(0px 1px 2px rgba(0, 0, 0, 0.3));\n",
              "      fill: #FFFFFF;\n",
              "    }\n",
              "  </style>\n",
              "\n",
              "      <script>\n",
              "        const buttonEl =\n",
              "          document.querySelector('#df-30efeda3-0c20-4d09-a1d9-92ff32c24a83 button.colab-df-convert');\n",
              "        buttonEl.style.display =\n",
              "          google.colab.kernel.accessAllowed ? 'block' : 'none';\n",
              "\n",
              "        async function convertToInteractive(key) {\n",
              "          const element = document.querySelector('#df-30efeda3-0c20-4d09-a1d9-92ff32c24a83');\n",
              "          const dataTable =\n",
              "            await google.colab.kernel.invokeFunction('convertToInteractive',\n",
              "                                                     [key], {});\n",
              "          if (!dataTable) return;\n",
              "\n",
              "          const docLinkHtml = 'Like what you see? Visit the ' +\n",
              "            '<a target=\"_blank\" href=https://colab.research.google.com/notebooks/data_table.ipynb>data table notebook</a>'\n",
              "            + ' to learn more about interactive tables.';\n",
              "          element.innerHTML = '';\n",
              "          dataTable['output_type'] = 'display_data';\n",
              "          await google.colab.output.renderOutput(dataTable, element);\n",
              "          const docLink = document.createElement('div');\n",
              "          docLink.innerHTML = docLinkHtml;\n",
              "          element.appendChild(docLink);\n",
              "        }\n",
              "      </script>\n",
              "    </div>\n",
              "  </div>\n",
              "  "
            ]
          },
          "metadata": {},
          "execution_count": 15
        }
      ]
    },
    {
      "cell_type": "markdown",
      "source": [
        "### AGE"
      ],
      "metadata": {
        "id": "HnRAEpE9Olo4"
      }
    },
    {
      "cell_type": "code",
      "source": [
        "medical_df.age.describe()"
      ],
      "metadata": {
        "colab": {
          "base_uri": "https://localhost:8080/",
          "height": 0
        },
        "id": "Di4MsvDDMMui",
        "outputId": "82ca1bd7-a6cc-417f-994d-564c9f601701"
      },
      "execution_count": 31,
      "outputs": [
        {
          "output_type": "execute_result",
          "data": {
            "text/plain": [
              "count    1338.000000\n",
              "mean       39.207025\n",
              "std        14.049960\n",
              "min        18.000000\n",
              "25%        27.000000\n",
              "50%        39.000000\n",
              "75%        51.000000\n",
              "max        64.000000\n",
              "Name: age, dtype: float64"
            ]
          },
          "metadata": {},
          "execution_count": 31
        }
      ]
    },
    {
      "cell_type": "code",
      "source": [
        "fig = px.histogram(medical_df,\n",
        "                   x = 'age',\n",
        "                   marginal= 'box',\n",
        "                   nbins=47,\n",
        "                   title = \"Distribution de l'Age\")\n",
        "fig.update_layout(bargap = 0.1)\n",
        "fig.show()"
      ],
      "metadata": {
        "colab": {
          "base_uri": "https://localhost:8080/",
          "height": 542
        },
        "id": "5v9oyTiEM5uT",
        "outputId": "11a21875-e50a-4e98-ff9c-1389a2e39d20"
      },
      "execution_count": 38,
      "outputs": [
        {
          "output_type": "display_data",
          "data": {
            "text/html": [
              "<html>\n",
              "<head><meta charset=\"utf-8\" /></head>\n",
              "<body>\n",
              "    <div>            <script src=\"https://cdnjs.cloudflare.com/ajax/libs/mathjax/2.7.5/MathJax.js?config=TeX-AMS-MML_SVG\"></script><script type=\"text/javascript\">if (window.MathJax) {MathJax.Hub.Config({SVG: {font: \"STIX-Web\"}});}</script>                <script type=\"text/javascript\">window.PlotlyConfig = {MathJaxConfig: 'local'};</script>\n",
              "        <script src=\"https://cdn.plot.ly/plotly-2.8.3.min.js\"></script>                <div id=\"da91da9f-fdf3-4f32-8383-71a0583b34e1\" class=\"plotly-graph-div\" style=\"height:525px; width:100%;\"></div>            <script type=\"text/javascript\">                                    window.PLOTLYENV=window.PLOTLYENV || {};                                    if (document.getElementById(\"da91da9f-fdf3-4f32-8383-71a0583b34e1\")) {                    Plotly.newPlot(                        \"da91da9f-fdf3-4f32-8383-71a0583b34e1\",                        [{\"alignmentgroup\":\"True\",\"bingroup\":\"x\",\"hovertemplate\":\"age=%{x}<br>count=%{y}<extra></extra>\",\"legendgroup\":\"\",\"marker\":{\"color\":\"#636efa\",\"pattern\":{\"shape\":\"\"}},\"name\":\"\",\"nbinsx\":47,\"offsetgroup\":\"\",\"orientation\":\"v\",\"showlegend\":false,\"x\":[19,18,28,33,32,31,46,37,37,60,25,62,23,56,27,19,52,23,56,30,60,30,18,34,37,59,63,55,23,31,22,18,19,63,28,19,62,26,35,60,24,31,41,37,38,55,18,28,60,36,18,21,48,36,40,58,58,18,53,34,43,25,64,28,20,19,61,40,40,28,27,31,53,58,44,57,29,21,22,41,31,45,22,48,37,45,57,56,46,55,21,53,59,35,64,28,54,55,56,38,41,30,18,61,34,20,19,26,29,63,54,55,37,21,52,60,58,29,49,37,44,18,20,44,47,26,19,52,32,38,59,61,53,19,20,22,19,22,54,22,34,26,34,29,30,29,46,51,53,19,35,48,32,42,40,44,48,18,30,50,42,18,54,32,37,47,20,32,19,27,63,49,18,35,24,63,38,54,46,41,58,18,22,44,44,36,26,30,41,29,61,36,25,56,18,19,39,45,51,64,19,48,60,27,46,28,59,35,63,40,20,40,24,34,45,41,53,27,26,24,34,53,32,19,42,55,28,58,41,47,42,59,19,59,39,40,18,31,19,44,23,33,55,40,63,54,60,24,19,29,18,63,54,27,50,55,56,38,51,19,58,20,52,19,53,46,40,59,45,49,18,50,41,50,25,47,19,22,59,51,40,54,30,55,52,46,46,63,59,52,28,29,25,22,25,18,19,47,31,48,36,53,56,28,57,29,28,30,58,41,50,19,43,49,27,52,50,54,44,32,34,26,34,57,29,40,27,45,64,52,61,52,61,56,43,64,60,62,50,46,24,62,60,63,49,34,33,46,36,19,57,50,30,33,18,46,46,47,23,18,48,35,19,21,21,49,56,42,44,18,61,57,42,26,20,23,39,24,64,62,27,55,55,35,44,19,58,50,26,24,48,19,48,49,46,46,43,21,64,18,51,47,64,49,31,52,33,47,38,32,19,44,26,25,19,43,52,36,64,63,64,61,40,25,48,45,38,18,21,27,19,29,42,60,31,60,22,35,52,26,31,33,18,59,56,45,60,56,40,35,39,30,24,20,32,59,55,57,56,40,49,42,62,56,19,30,60,56,28,18,27,18,19,47,54,61,24,25,21,23,63,49,18,51,48,31,54,19,44,53,19,61,18,61,21,20,31,45,44,62,29,43,51,19,38,37,22,21,24,57,56,27,51,19,39,58,20,45,35,31,50,32,51,38,42,18,19,51,46,18,57,62,59,37,64,38,33,46,46,53,34,20,63,54,54,49,28,54,25,43,63,32,62,52,25,28,46,34,35,19,46,54,27,50,18,19,38,41,49,48,31,18,30,62,57,58,22,31,52,25,59,19,39,32,19,33,21,34,61,38,58,47,20,21,41,46,42,34,43,52,18,51,56,64,19,51,27,59,28,30,47,38,18,34,20,47,56,49,19,55,30,37,49,18,59,29,36,33,58,44,53,24,29,40,51,64,19,35,39,56,33,42,61,23,43,48,39,40,18,58,49,53,48,45,59,52,26,27,48,57,37,57,32,18,64,43,49,40,62,40,30,29,36,41,44,45,55,60,56,49,21,19,39,53,33,53,42,40,47,27,21,47,20,24,27,26,53,41,56,23,21,50,53,34,47,33,51,49,31,36,18,50,43,20,24,60,49,60,51,58,51,53,62,19,50,30,41,29,18,41,35,53,24,48,59,49,37,26,23,29,45,27,53,31,50,50,34,19,47,28,37,21,64,58,24,31,39,47,30,18,22,23,33,27,45,57,47,42,64,38,61,53,44,19,41,51,40,45,35,53,30,18,51,50,31,35,60,21,29,62,39,19,22,53,39,27,30,30,58,33,42,64,21,18,23,45,40,19,18,25,46,33,54,28,36,20,24,23,47,33,45,26,18,44,60,64,56,36,41,39,63,36,28,58,36,42,36,56,35,59,21,59,23,57,53,60,51,23,27,55,37,61,46,53,49,20,48,25,25,57,37,38,55,36,51,40,18,57,61,25,50,26,42,43,44,23,49,33,41,37,22,23,21,51,25,32,57,36,22,57,64,36,54,47,62,61,43,19,18,19,49,60,26,49,60,26,27,44,63,32,22,18,59,44,33,24,43,45,61,35,62,62,38,34,43,50,19,57,62,41,26,39,46,45,32,59,44,39,18,53,18,50,18,19,62,56,42,37,42,25,57,51,30,44,34,31,54,24,43,48,19,29,63,46,52,35,51,44,21,39,50,34,22,19,26,29,48,26,45,36,54,34,31,27,20,44,43,45,34,24,26,38,50,38,27,39,39,63,33,36,30,24,24,48,47,29,28,47,25,51,48,43,61,48,38,59,19,26,54,21,51,22,47,18,47,21,19,23,54,37,46,55,30,18,61,54,22,45,22,19,35,18,20,28,55,43,43,22,25,49,44,64,49,47,27,55,48,45,24,32,24,57,59,36,29,42,48,39,63,54,37,63,21,54,60,32,47,21,28,63,18,32,38,32,62,39,55,57,52,56,47,55,23,22,50,18,51,22,52,25,33,53,29,58,37,54,49,50,26,45,54,38,48,28,23,55,41,25,33,30,23,46,53,27,23,63,55,35,34,19,39,27,57,52,28,50,44,26,33,19,50,41,52,39,50,52,60,20,55,42,18,58,43,35,48,36,19,23,20,32,43,34,30,18,41,35,57,29,32,37,18,43,56,38,29,22,52,40,23,31,42,24,25,48,23,45,20,62,43,23,31,41,58,48,31,19,19,41,40,31,37,46,22,51,18,35,59,36,37,59,36,39,18,52,27,18,40,29,46,38,30,40,50,20,41,33,38,42,56,58,52,20,54,58,45,26,63,58,37,25,52,64,22,28,18,28,45,33,18,32,24,19,20,40,34,42,51,54,55,52,32,28,41,43,49,64,55,24,20,45,26,25,43,35,26,57,22,32,39,25,48,47,18,18,61,47,28,36,20,44,38,19,21,46,58,20,18,28,33,19,45,62,25,43,42,24,29,32,25,41,42,33,34,19,30,18,19,18,35,39,31,62,62,42,31,61,42,51,23,52,57,23,52,50,18,18,21,61],\"xaxis\":\"x\",\"yaxis\":\"y\",\"type\":\"histogram\"},{\"alignmentgroup\":\"True\",\"hovertemplate\":\"age=%{x}<extra></extra>\",\"legendgroup\":\"\",\"marker\":{\"color\":\"#636efa\"},\"name\":\"\",\"notched\":true,\"offsetgroup\":\"\",\"showlegend\":false,\"x\":[19,18,28,33,32,31,46,37,37,60,25,62,23,56,27,19,52,23,56,30,60,30,18,34,37,59,63,55,23,31,22,18,19,63,28,19,62,26,35,60,24,31,41,37,38,55,18,28,60,36,18,21,48,36,40,58,58,18,53,34,43,25,64,28,20,19,61,40,40,28,27,31,53,58,44,57,29,21,22,41,31,45,22,48,37,45,57,56,46,55,21,53,59,35,64,28,54,55,56,38,41,30,18,61,34,20,19,26,29,63,54,55,37,21,52,60,58,29,49,37,44,18,20,44,47,26,19,52,32,38,59,61,53,19,20,22,19,22,54,22,34,26,34,29,30,29,46,51,53,19,35,48,32,42,40,44,48,18,30,50,42,18,54,32,37,47,20,32,19,27,63,49,18,35,24,63,38,54,46,41,58,18,22,44,44,36,26,30,41,29,61,36,25,56,18,19,39,45,51,64,19,48,60,27,46,28,59,35,63,40,20,40,24,34,45,41,53,27,26,24,34,53,32,19,42,55,28,58,41,47,42,59,19,59,39,40,18,31,19,44,23,33,55,40,63,54,60,24,19,29,18,63,54,27,50,55,56,38,51,19,58,20,52,19,53,46,40,59,45,49,18,50,41,50,25,47,19,22,59,51,40,54,30,55,52,46,46,63,59,52,28,29,25,22,25,18,19,47,31,48,36,53,56,28,57,29,28,30,58,41,50,19,43,49,27,52,50,54,44,32,34,26,34,57,29,40,27,45,64,52,61,52,61,56,43,64,60,62,50,46,24,62,60,63,49,34,33,46,36,19,57,50,30,33,18,46,46,47,23,18,48,35,19,21,21,49,56,42,44,18,61,57,42,26,20,23,39,24,64,62,27,55,55,35,44,19,58,50,26,24,48,19,48,49,46,46,43,21,64,18,51,47,64,49,31,52,33,47,38,32,19,44,26,25,19,43,52,36,64,63,64,61,40,25,48,45,38,18,21,27,19,29,42,60,31,60,22,35,52,26,31,33,18,59,56,45,60,56,40,35,39,30,24,20,32,59,55,57,56,40,49,42,62,56,19,30,60,56,28,18,27,18,19,47,54,61,24,25,21,23,63,49,18,51,48,31,54,19,44,53,19,61,18,61,21,20,31,45,44,62,29,43,51,19,38,37,22,21,24,57,56,27,51,19,39,58,20,45,35,31,50,32,51,38,42,18,19,51,46,18,57,62,59,37,64,38,33,46,46,53,34,20,63,54,54,49,28,54,25,43,63,32,62,52,25,28,46,34,35,19,46,54,27,50,18,19,38,41,49,48,31,18,30,62,57,58,22,31,52,25,59,19,39,32,19,33,21,34,61,38,58,47,20,21,41,46,42,34,43,52,18,51,56,64,19,51,27,59,28,30,47,38,18,34,20,47,56,49,19,55,30,37,49,18,59,29,36,33,58,44,53,24,29,40,51,64,19,35,39,56,33,42,61,23,43,48,39,40,18,58,49,53,48,45,59,52,26,27,48,57,37,57,32,18,64,43,49,40,62,40,30,29,36,41,44,45,55,60,56,49,21,19,39,53,33,53,42,40,47,27,21,47,20,24,27,26,53,41,56,23,21,50,53,34,47,33,51,49,31,36,18,50,43,20,24,60,49,60,51,58,51,53,62,19,50,30,41,29,18,41,35,53,24,48,59,49,37,26,23,29,45,27,53,31,50,50,34,19,47,28,37,21,64,58,24,31,39,47,30,18,22,23,33,27,45,57,47,42,64,38,61,53,44,19,41,51,40,45,35,53,30,18,51,50,31,35,60,21,29,62,39,19,22,53,39,27,30,30,58,33,42,64,21,18,23,45,40,19,18,25,46,33,54,28,36,20,24,23,47,33,45,26,18,44,60,64,56,36,41,39,63,36,28,58,36,42,36,56,35,59,21,59,23,57,53,60,51,23,27,55,37,61,46,53,49,20,48,25,25,57,37,38,55,36,51,40,18,57,61,25,50,26,42,43,44,23,49,33,41,37,22,23,21,51,25,32,57,36,22,57,64,36,54,47,62,61,43,19,18,19,49,60,26,49,60,26,27,44,63,32,22,18,59,44,33,24,43,45,61,35,62,62,38,34,43,50,19,57,62,41,26,39,46,45,32,59,44,39,18,53,18,50,18,19,62,56,42,37,42,25,57,51,30,44,34,31,54,24,43,48,19,29,63,46,52,35,51,44,21,39,50,34,22,19,26,29,48,26,45,36,54,34,31,27,20,44,43,45,34,24,26,38,50,38,27,39,39,63,33,36,30,24,24,48,47,29,28,47,25,51,48,43,61,48,38,59,19,26,54,21,51,22,47,18,47,21,19,23,54,37,46,55,30,18,61,54,22,45,22,19,35,18,20,28,55,43,43,22,25,49,44,64,49,47,27,55,48,45,24,32,24,57,59,36,29,42,48,39,63,54,37,63,21,54,60,32,47,21,28,63,18,32,38,32,62,39,55,57,52,56,47,55,23,22,50,18,51,22,52,25,33,53,29,58,37,54,49,50,26,45,54,38,48,28,23,55,41,25,33,30,23,46,53,27,23,63,55,35,34,19,39,27,57,52,28,50,44,26,33,19,50,41,52,39,50,52,60,20,55,42,18,58,43,35,48,36,19,23,20,32,43,34,30,18,41,35,57,29,32,37,18,43,56,38,29,22,52,40,23,31,42,24,25,48,23,45,20,62,43,23,31,41,58,48,31,19,19,41,40,31,37,46,22,51,18,35,59,36,37,59,36,39,18,52,27,18,40,29,46,38,30,40,50,20,41,33,38,42,56,58,52,20,54,58,45,26,63,58,37,25,52,64,22,28,18,28,45,33,18,32,24,19,20,40,34,42,51,54,55,52,32,28,41,43,49,64,55,24,20,45,26,25,43,35,26,57,22,32,39,25,48,47,18,18,61,47,28,36,20,44,38,19,21,46,58,20,18,28,33,19,45,62,25,43,42,24,29,32,25,41,42,33,34,19,30,18,19,18,35,39,31,62,62,42,31,61,42,51,23,52,57,23,52,50,18,18,21,61],\"xaxis\":\"x2\",\"yaxis\":\"y2\",\"type\":\"box\"}],                        {\"template\":{\"data\":{\"bar\":[{\"error_x\":{\"color\":\"#2a3f5f\"},\"error_y\":{\"color\":\"#2a3f5f\"},\"marker\":{\"line\":{\"color\":\"#E5ECF6\",\"width\":0.5},\"pattern\":{\"fillmode\":\"overlay\",\"size\":10,\"solidity\":0.2}},\"type\":\"bar\"}],\"barpolar\":[{\"marker\":{\"line\":{\"color\":\"#E5ECF6\",\"width\":0.5},\"pattern\":{\"fillmode\":\"overlay\",\"size\":10,\"solidity\":0.2}},\"type\":\"barpolar\"}],\"carpet\":[{\"aaxis\":{\"endlinecolor\":\"#2a3f5f\",\"gridcolor\":\"white\",\"linecolor\":\"white\",\"minorgridcolor\":\"white\",\"startlinecolor\":\"#2a3f5f\"},\"baxis\":{\"endlinecolor\":\"#2a3f5f\",\"gridcolor\":\"white\",\"linecolor\":\"white\",\"minorgridcolor\":\"white\",\"startlinecolor\":\"#2a3f5f\"},\"type\":\"carpet\"}],\"choropleth\":[{\"colorbar\":{\"outlinewidth\":0,\"ticks\":\"\"},\"type\":\"choropleth\"}],\"contour\":[{\"colorbar\":{\"outlinewidth\":0,\"ticks\":\"\"},\"colorscale\":[[0.0,\"#0d0887\"],[0.1111111111111111,\"#46039f\"],[0.2222222222222222,\"#7201a8\"],[0.3333333333333333,\"#9c179e\"],[0.4444444444444444,\"#bd3786\"],[0.5555555555555556,\"#d8576b\"],[0.6666666666666666,\"#ed7953\"],[0.7777777777777778,\"#fb9f3a\"],[0.8888888888888888,\"#fdca26\"],[1.0,\"#f0f921\"]],\"type\":\"contour\"}],\"contourcarpet\":[{\"colorbar\":{\"outlinewidth\":0,\"ticks\":\"\"},\"type\":\"contourcarpet\"}],\"heatmap\":[{\"colorbar\":{\"outlinewidth\":0,\"ticks\":\"\"},\"colorscale\":[[0.0,\"#0d0887\"],[0.1111111111111111,\"#46039f\"],[0.2222222222222222,\"#7201a8\"],[0.3333333333333333,\"#9c179e\"],[0.4444444444444444,\"#bd3786\"],[0.5555555555555556,\"#d8576b\"],[0.6666666666666666,\"#ed7953\"],[0.7777777777777778,\"#fb9f3a\"],[0.8888888888888888,\"#fdca26\"],[1.0,\"#f0f921\"]],\"type\":\"heatmap\"}],\"heatmapgl\":[{\"colorbar\":{\"outlinewidth\":0,\"ticks\":\"\"},\"colorscale\":[[0.0,\"#0d0887\"],[0.1111111111111111,\"#46039f\"],[0.2222222222222222,\"#7201a8\"],[0.3333333333333333,\"#9c179e\"],[0.4444444444444444,\"#bd3786\"],[0.5555555555555556,\"#d8576b\"],[0.6666666666666666,\"#ed7953\"],[0.7777777777777778,\"#fb9f3a\"],[0.8888888888888888,\"#fdca26\"],[1.0,\"#f0f921\"]],\"type\":\"heatmapgl\"}],\"histogram\":[{\"marker\":{\"pattern\":{\"fillmode\":\"overlay\",\"size\":10,\"solidity\":0.2}},\"type\":\"histogram\"}],\"histogram2d\":[{\"colorbar\":{\"outlinewidth\":0,\"ticks\":\"\"},\"colorscale\":[[0.0,\"#0d0887\"],[0.1111111111111111,\"#46039f\"],[0.2222222222222222,\"#7201a8\"],[0.3333333333333333,\"#9c179e\"],[0.4444444444444444,\"#bd3786\"],[0.5555555555555556,\"#d8576b\"],[0.6666666666666666,\"#ed7953\"],[0.7777777777777778,\"#fb9f3a\"],[0.8888888888888888,\"#fdca26\"],[1.0,\"#f0f921\"]],\"type\":\"histogram2d\"}],\"histogram2dcontour\":[{\"colorbar\":{\"outlinewidth\":0,\"ticks\":\"\"},\"colorscale\":[[0.0,\"#0d0887\"],[0.1111111111111111,\"#46039f\"],[0.2222222222222222,\"#7201a8\"],[0.3333333333333333,\"#9c179e\"],[0.4444444444444444,\"#bd3786\"],[0.5555555555555556,\"#d8576b\"],[0.6666666666666666,\"#ed7953\"],[0.7777777777777778,\"#fb9f3a\"],[0.8888888888888888,\"#fdca26\"],[1.0,\"#f0f921\"]],\"type\":\"histogram2dcontour\"}],\"mesh3d\":[{\"colorbar\":{\"outlinewidth\":0,\"ticks\":\"\"},\"type\":\"mesh3d\"}],\"parcoords\":[{\"line\":{\"colorbar\":{\"outlinewidth\":0,\"ticks\":\"\"}},\"type\":\"parcoords\"}],\"pie\":[{\"automargin\":true,\"type\":\"pie\"}],\"scatter\":[{\"marker\":{\"colorbar\":{\"outlinewidth\":0,\"ticks\":\"\"}},\"type\":\"scatter\"}],\"scatter3d\":[{\"line\":{\"colorbar\":{\"outlinewidth\":0,\"ticks\":\"\"}},\"marker\":{\"colorbar\":{\"outlinewidth\":0,\"ticks\":\"\"}},\"type\":\"scatter3d\"}],\"scattercarpet\":[{\"marker\":{\"colorbar\":{\"outlinewidth\":0,\"ticks\":\"\"}},\"type\":\"scattercarpet\"}],\"scattergeo\":[{\"marker\":{\"colorbar\":{\"outlinewidth\":0,\"ticks\":\"\"}},\"type\":\"scattergeo\"}],\"scattergl\":[{\"marker\":{\"colorbar\":{\"outlinewidth\":0,\"ticks\":\"\"}},\"type\":\"scattergl\"}],\"scattermapbox\":[{\"marker\":{\"colorbar\":{\"outlinewidth\":0,\"ticks\":\"\"}},\"type\":\"scattermapbox\"}],\"scatterpolar\":[{\"marker\":{\"colorbar\":{\"outlinewidth\":0,\"ticks\":\"\"}},\"type\":\"scatterpolar\"}],\"scatterpolargl\":[{\"marker\":{\"colorbar\":{\"outlinewidth\":0,\"ticks\":\"\"}},\"type\":\"scatterpolargl\"}],\"scatterternary\":[{\"marker\":{\"colorbar\":{\"outlinewidth\":0,\"ticks\":\"\"}},\"type\":\"scatterternary\"}],\"surface\":[{\"colorbar\":{\"outlinewidth\":0,\"ticks\":\"\"},\"colorscale\":[[0.0,\"#0d0887\"],[0.1111111111111111,\"#46039f\"],[0.2222222222222222,\"#7201a8\"],[0.3333333333333333,\"#9c179e\"],[0.4444444444444444,\"#bd3786\"],[0.5555555555555556,\"#d8576b\"],[0.6666666666666666,\"#ed7953\"],[0.7777777777777778,\"#fb9f3a\"],[0.8888888888888888,\"#fdca26\"],[1.0,\"#f0f921\"]],\"type\":\"surface\"}],\"table\":[{\"cells\":{\"fill\":{\"color\":\"#EBF0F8\"},\"line\":{\"color\":\"white\"}},\"header\":{\"fill\":{\"color\":\"#C8D4E3\"},\"line\":{\"color\":\"white\"}},\"type\":\"table\"}]},\"layout\":{\"annotationdefaults\":{\"arrowcolor\":\"#2a3f5f\",\"arrowhead\":0,\"arrowwidth\":1},\"autotypenumbers\":\"strict\",\"coloraxis\":{\"colorbar\":{\"outlinewidth\":0,\"ticks\":\"\"}},\"colorscale\":{\"diverging\":[[0,\"#8e0152\"],[0.1,\"#c51b7d\"],[0.2,\"#de77ae\"],[0.3,\"#f1b6da\"],[0.4,\"#fde0ef\"],[0.5,\"#f7f7f7\"],[0.6,\"#e6f5d0\"],[0.7,\"#b8e186\"],[0.8,\"#7fbc41\"],[0.9,\"#4d9221\"],[1,\"#276419\"]],\"sequential\":[[0.0,\"#0d0887\"],[0.1111111111111111,\"#46039f\"],[0.2222222222222222,\"#7201a8\"],[0.3333333333333333,\"#9c179e\"],[0.4444444444444444,\"#bd3786\"],[0.5555555555555556,\"#d8576b\"],[0.6666666666666666,\"#ed7953\"],[0.7777777777777778,\"#fb9f3a\"],[0.8888888888888888,\"#fdca26\"],[1.0,\"#f0f921\"]],\"sequentialminus\":[[0.0,\"#0d0887\"],[0.1111111111111111,\"#46039f\"],[0.2222222222222222,\"#7201a8\"],[0.3333333333333333,\"#9c179e\"],[0.4444444444444444,\"#bd3786\"],[0.5555555555555556,\"#d8576b\"],[0.6666666666666666,\"#ed7953\"],[0.7777777777777778,\"#fb9f3a\"],[0.8888888888888888,\"#fdca26\"],[1.0,\"#f0f921\"]]},\"colorway\":[\"#636efa\",\"#EF553B\",\"#00cc96\",\"#ab63fa\",\"#FFA15A\",\"#19d3f3\",\"#FF6692\",\"#B6E880\",\"#FF97FF\",\"#FECB52\"],\"font\":{\"color\":\"#2a3f5f\"},\"geo\":{\"bgcolor\":\"white\",\"lakecolor\":\"white\",\"landcolor\":\"#E5ECF6\",\"showlakes\":true,\"showland\":true,\"subunitcolor\":\"white\"},\"hoverlabel\":{\"align\":\"left\"},\"hovermode\":\"closest\",\"mapbox\":{\"style\":\"light\"},\"paper_bgcolor\":\"white\",\"plot_bgcolor\":\"#E5ECF6\",\"polar\":{\"angularaxis\":{\"gridcolor\":\"white\",\"linecolor\":\"white\",\"ticks\":\"\"},\"bgcolor\":\"#E5ECF6\",\"radialaxis\":{\"gridcolor\":\"white\",\"linecolor\":\"white\",\"ticks\":\"\"}},\"scene\":{\"xaxis\":{\"backgroundcolor\":\"#E5ECF6\",\"gridcolor\":\"white\",\"gridwidth\":2,\"linecolor\":\"white\",\"showbackground\":true,\"ticks\":\"\",\"zerolinecolor\":\"white\"},\"yaxis\":{\"backgroundcolor\":\"#E5ECF6\",\"gridcolor\":\"white\",\"gridwidth\":2,\"linecolor\":\"white\",\"showbackground\":true,\"ticks\":\"\",\"zerolinecolor\":\"white\"},\"zaxis\":{\"backgroundcolor\":\"#E5ECF6\",\"gridcolor\":\"white\",\"gridwidth\":2,\"linecolor\":\"white\",\"showbackground\":true,\"ticks\":\"\",\"zerolinecolor\":\"white\"}},\"shapedefaults\":{\"line\":{\"color\":\"#2a3f5f\"}},\"ternary\":{\"aaxis\":{\"gridcolor\":\"white\",\"linecolor\":\"white\",\"ticks\":\"\"},\"baxis\":{\"gridcolor\":\"white\",\"linecolor\":\"white\",\"ticks\":\"\"},\"bgcolor\":\"#E5ECF6\",\"caxis\":{\"gridcolor\":\"white\",\"linecolor\":\"white\",\"ticks\":\"\"}},\"title\":{\"x\":0.05},\"xaxis\":{\"automargin\":true,\"gridcolor\":\"white\",\"linecolor\":\"white\",\"ticks\":\"\",\"title\":{\"standoff\":15},\"zerolinecolor\":\"white\",\"zerolinewidth\":2},\"yaxis\":{\"automargin\":true,\"gridcolor\":\"white\",\"linecolor\":\"white\",\"ticks\":\"\",\"title\":{\"standoff\":15},\"zerolinecolor\":\"white\",\"zerolinewidth\":2}}},\"xaxis\":{\"anchor\":\"y\",\"domain\":[0.0,1.0],\"title\":{\"text\":\"age\"}},\"yaxis\":{\"anchor\":\"x\",\"domain\":[0.0,0.8316],\"title\":{\"text\":\"count\"}},\"xaxis2\":{\"anchor\":\"y2\",\"domain\":[0.0,1.0],\"matches\":\"x\",\"showticklabels\":false,\"showgrid\":true},\"yaxis2\":{\"anchor\":\"x2\",\"domain\":[0.8416,1.0],\"matches\":\"y2\",\"showticklabels\":false,\"showline\":false,\"ticks\":\"\",\"showgrid\":false},\"legend\":{\"tracegroupgap\":0},\"title\":{\"text\":\"Distribution de l'Age\"},\"barmode\":\"relative\",\"bargap\":0.1},                        {\"responsive\": true}                    ).then(function(){\n",
              "                            \n",
              "var gd = document.getElementById('da91da9f-fdf3-4f32-8383-71a0583b34e1');\n",
              "var x = new MutationObserver(function (mutations, observer) {{\n",
              "        var display = window.getComputedStyle(gd).display;\n",
              "        if (!display || display === 'none') {{\n",
              "            console.log([gd, 'removed!']);\n",
              "            Plotly.purge(gd);\n",
              "            observer.disconnect();\n",
              "        }}\n",
              "}});\n",
              "\n",
              "// Listen for the removal of the full notebook cells\n",
              "var notebookContainer = gd.closest('#notebook-container');\n",
              "if (notebookContainer) {{\n",
              "    x.observe(notebookContainer, {childList: true});\n",
              "}}\n",
              "\n",
              "// Listen for the clearing of the current output cell\n",
              "var outputEl = gd.closest('.output');\n",
              "if (outputEl) {{\n",
              "    x.observe(outputEl, {childList: true});\n",
              "}}\n",
              "\n",
              "                        })                };                            </script>        </div>\n",
              "</body>\n",
              "</html>"
            ]
          },
          "metadata": {}
        }
      ]
    },
    {
      "cell_type": "code",
      "source": [
        "df_pyramide = medical_df[['age', 'sex']]\n",
        "df_pyramide.head()"
      ],
      "metadata": {
        "colab": {
          "base_uri": "https://localhost:8080/",
          "height": 206
        },
        "id": "IPLhRhZTNAF5",
        "outputId": "1e2d8247-9d58-45a0-fcbb-f27fa82f2468"
      },
      "execution_count": 89,
      "outputs": [
        {
          "output_type": "execute_result",
          "data": {
            "text/plain": [
              "   age     sex\n",
              "0   19  female\n",
              "1   18    male\n",
              "2   28    male\n",
              "3   33    male\n",
              "4   32    male"
            ],
            "text/html": [
              "\n",
              "  <div id=\"df-68fd87bd-6f5c-49dd-93cd-d43a82d9fd08\">\n",
              "    <div class=\"colab-df-container\">\n",
              "      <div>\n",
              "<style scoped>\n",
              "    .dataframe tbody tr th:only-of-type {\n",
              "        vertical-align: middle;\n",
              "    }\n",
              "\n",
              "    .dataframe tbody tr th {\n",
              "        vertical-align: top;\n",
              "    }\n",
              "\n",
              "    .dataframe thead th {\n",
              "        text-align: right;\n",
              "    }\n",
              "</style>\n",
              "<table border=\"1\" class=\"dataframe\">\n",
              "  <thead>\n",
              "    <tr style=\"text-align: right;\">\n",
              "      <th></th>\n",
              "      <th>age</th>\n",
              "      <th>sex</th>\n",
              "    </tr>\n",
              "  </thead>\n",
              "  <tbody>\n",
              "    <tr>\n",
              "      <th>0</th>\n",
              "      <td>19</td>\n",
              "      <td>female</td>\n",
              "    </tr>\n",
              "    <tr>\n",
              "      <th>1</th>\n",
              "      <td>18</td>\n",
              "      <td>male</td>\n",
              "    </tr>\n",
              "    <tr>\n",
              "      <th>2</th>\n",
              "      <td>28</td>\n",
              "      <td>male</td>\n",
              "    </tr>\n",
              "    <tr>\n",
              "      <th>3</th>\n",
              "      <td>33</td>\n",
              "      <td>male</td>\n",
              "    </tr>\n",
              "    <tr>\n",
              "      <th>4</th>\n",
              "      <td>32</td>\n",
              "      <td>male</td>\n",
              "    </tr>\n",
              "  </tbody>\n",
              "</table>\n",
              "</div>\n",
              "      <button class=\"colab-df-convert\" onclick=\"convertToInteractive('df-68fd87bd-6f5c-49dd-93cd-d43a82d9fd08')\"\n",
              "              title=\"Convert this dataframe to an interactive table.\"\n",
              "              style=\"display:none;\">\n",
              "        \n",
              "  <svg xmlns=\"http://www.w3.org/2000/svg\" height=\"24px\"viewBox=\"0 0 24 24\"\n",
              "       width=\"24px\">\n",
              "    <path d=\"M0 0h24v24H0V0z\" fill=\"none\"/>\n",
              "    <path d=\"M18.56 5.44l.94 2.06.94-2.06 2.06-.94-2.06-.94-.94-2.06-.94 2.06-2.06.94zm-11 1L8.5 8.5l.94-2.06 2.06-.94-2.06-.94L8.5 2.5l-.94 2.06-2.06.94zm10 10l.94 2.06.94-2.06 2.06-.94-2.06-.94-.94-2.06-.94 2.06-2.06.94z\"/><path d=\"M17.41 7.96l-1.37-1.37c-.4-.4-.92-.59-1.43-.59-.52 0-1.04.2-1.43.59L10.3 9.45l-7.72 7.72c-.78.78-.78 2.05 0 2.83L4 21.41c.39.39.9.59 1.41.59.51 0 1.02-.2 1.41-.59l7.78-7.78 2.81-2.81c.8-.78.8-2.07 0-2.86zM5.41 20L4 18.59l7.72-7.72 1.47 1.35L5.41 20z\"/>\n",
              "  </svg>\n",
              "      </button>\n",
              "      \n",
              "  <style>\n",
              "    .colab-df-container {\n",
              "      display:flex;\n",
              "      flex-wrap:wrap;\n",
              "      gap: 12px;\n",
              "    }\n",
              "\n",
              "    .colab-df-convert {\n",
              "      background-color: #E8F0FE;\n",
              "      border: none;\n",
              "      border-radius: 50%;\n",
              "      cursor: pointer;\n",
              "      display: none;\n",
              "      fill: #1967D2;\n",
              "      height: 32px;\n",
              "      padding: 0 0 0 0;\n",
              "      width: 32px;\n",
              "    }\n",
              "\n",
              "    .colab-df-convert:hover {\n",
              "      background-color: #E2EBFA;\n",
              "      box-shadow: 0px 1px 2px rgba(60, 64, 67, 0.3), 0px 1px 3px 1px rgba(60, 64, 67, 0.15);\n",
              "      fill: #174EA6;\n",
              "    }\n",
              "\n",
              "    [theme=dark] .colab-df-convert {\n",
              "      background-color: #3B4455;\n",
              "      fill: #D2E3FC;\n",
              "    }\n",
              "\n",
              "    [theme=dark] .colab-df-convert:hover {\n",
              "      background-color: #434B5C;\n",
              "      box-shadow: 0px 1px 3px 1px rgba(0, 0, 0, 0.15);\n",
              "      filter: drop-shadow(0px 1px 2px rgba(0, 0, 0, 0.3));\n",
              "      fill: #FFFFFF;\n",
              "    }\n",
              "  </style>\n",
              "\n",
              "      <script>\n",
              "        const buttonEl =\n",
              "          document.querySelector('#df-68fd87bd-6f5c-49dd-93cd-d43a82d9fd08 button.colab-df-convert');\n",
              "        buttonEl.style.display =\n",
              "          google.colab.kernel.accessAllowed ? 'block' : 'none';\n",
              "\n",
              "        async function convertToInteractive(key) {\n",
              "          const element = document.querySelector('#df-68fd87bd-6f5c-49dd-93cd-d43a82d9fd08');\n",
              "          const dataTable =\n",
              "            await google.colab.kernel.invokeFunction('convertToInteractive',\n",
              "                                                     [key], {});\n",
              "          if (!dataTable) return;\n",
              "\n",
              "          const docLinkHtml = 'Like what you see? Visit the ' +\n",
              "            '<a target=\"_blank\" href=https://colab.research.google.com/notebooks/data_table.ipynb>data table notebook</a>'\n",
              "            + ' to learn more about interactive tables.';\n",
              "          element.innerHTML = '';\n",
              "          dataTable['output_type'] = 'display_data';\n",
              "          await google.colab.output.renderOutput(dataTable, element);\n",
              "          const docLink = document.createElement('div');\n",
              "          docLink.innerHTML = docLinkHtml;\n",
              "          element.appendChild(docLink);\n",
              "        }\n",
              "      </script>\n",
              "    </div>\n",
              "  </div>\n",
              "  "
            ]
          },
          "metadata": {},
          "execution_count": 89
        }
      ]
    },
    {
      "cell_type": "code",
      "source": [
        "M = df_pyramide[df_pyramide[\"sex\"]==\"male\"]\n",
        "F = df_pyramide[df_pyramide[\"sex\"]==\"female\"]\n",
        "\n",
        "X1 = M[\"age\"].dropna()\n",
        "X2 = F[\"age\"].dropna()\n",
        "L1=sns.kdeplot(X1, shade=True, label=\"male\", color=\"green\", alpha=0.1)\n",
        "L2=sns.kdeplot(X2, shade=True, label=\"female\",color='red', alpha=0.1)\n",
        "L2.legend()\n",
        "plt.show()"
      ],
      "metadata": {
        "colab": {
          "base_uri": "https://localhost:8080/",
          "height": 279
        },
        "id": "V2nLeamidqbu",
        "outputId": "555dceee-67ec-4c74-e033-680bc0c7ea79"
      },
      "execution_count": 113,
      "outputs": [
        {
          "output_type": "display_data",
          "data": {
            "text/plain": [
              "<Figure size 432x288 with 1 Axes>"
            ],
            "image/png": "[encoded data removed]"
          },
          "metadata": {
            "needs_background": "light"
          }
        }
      ]
    },
    {
      "cell_type": "code",
      "source": [
        "df_pyramide['age_cat'] = pd.cut(\n",
        "    x = df_pyramide['age'], \n",
        "    bins= [x for x in range(14, 65, 5)], \n",
        "    right='True')\n",
        "df_pyramide"
      ],
      "metadata": {
        "colab": {
          "base_uri": "https://localhost:8080/",
          "height": 562
        },
        "id": "EXIW2NxMQ6b_",
        "outputId": "583b7937-f39e-462f-f407-f83c3a8b7f8b"
      },
      "execution_count": 114,
      "outputs": [
        {
          "output_type": "stream",
          "name": "stderr",
          "text": [
            "<ipython-input-114-6c497e3eaf10>:1: SettingWithCopyWarning:\n",
            "\n",
            "\n",
            "A value is trying to be set on a copy of a slice from a DataFrame.\n",
            "Try using .loc[row_indexer,col_indexer] = value instead\n",
            "\n",
            "See the caveats in the documentation: https://pandas.pydata.org/pandas-docs/stable/user_guide/indexing.html#returning-a-view-versus-a-copy\n",
            "\n"
          ]
        },
        {
          "output_type": "execute_result",
          "data": {
            "text/plain": [
              "      age     sex   age_cat\n",
              "0      19  female  (14, 19]\n",
              "1      18    male  (14, 19]\n",
              "2      28    male  (24, 29]\n",
              "3      33    male  (29, 34]\n",
              "4      32    male  (29, 34]\n",
              "...   ...     ...       ...\n",
              "1333   50    male  (49, 54]\n",
              "1334   18  female  (14, 19]\n",
              "1335   18  female  (14, 19]\n",
              "1336   21  female  (19, 24]\n",
              "1337   61  female  (59, 64]\n",
              "\n",
              "[1338 rows x 3 columns]"
            ],
            "text/html": [
              "\n",
              "  <div id=\"df-af0d0c05-aaab-450f-ab5a-dddbc148ab7c\">\n",
              "    <div class=\"colab-df-container\">\n",
              "      <div>\n",
              "<style scoped>\n",
              "    .dataframe tbody tr th:only-of-type {\n",
              "        vertical-align: middle;\n",
              "    }\n",
              "\n",
              "    .dataframe tbody tr th {\n",
              "        vertical-align: top;\n",
              "    }\n",
              "\n",
              "    .dataframe thead th {\n",
              "        text-align: right;\n",
              "    }\n",
              "</style>\n",
              "<table border=\"1\" class=\"dataframe\">\n",
              "  <thead>\n",
              "    <tr style=\"text-align: right;\">\n",
              "      <th></th>\n",
              "      <th>age</th>\n",
              "      <th>sex</th>\n",
              "      <th>age_cat</th>\n",
              "    </tr>\n",
              "  </thead>\n",
              "  <tbody>\n",
              "    <tr>\n",
              "      <th>0</th>\n",
              "      <td>19</td>\n",
              "      <td>female</td>\n",
              "      <td>(14, 19]</td>\n",
              "    </tr>\n",
              "    <tr>\n",
              "      <th>1</th>\n",
              "      <td>18</td>\n",
              "      <td>male</td>\n",
              "      <td>(14, 19]</td>\n",
              "    </tr>\n",
              "    <tr>\n",
              "      <th>2</th>\n",
              "      <td>28</td>\n",
              "      <td>male</td>\n",
              "      <td>(24, 29]</td>\n",
              "    </tr>\n",
              "    <tr>\n",
              "      <th>3</th>\n",
              "      <td>33</td>\n",
              "      <td>male</td>\n",
              "      <td>(29, 34]</td>\n",
              "    </tr>\n",
              "    <tr>\n",
              "      <th>4</th>\n",
              "      <td>32</td>\n",
              "      <td>male</td>\n",
              "      <td>(29, 34]</td>\n",
              "    </tr>\n",
              "    <tr>\n",
              "      <th>...</th>\n",
              "      <td>...</td>\n",
              "      <td>...</td>\n",
              "      <td>...</td>\n",
              "    </tr>\n",
              "    <tr>\n",
              "      <th>1333</th>\n",
              "      <td>50</td>\n",
              "      <td>male</td>\n",
              "      <td>(49, 54]</td>\n",
              "    </tr>\n",
              "    <tr>\n",
              "      <th>1334</th>\n",
              "      <td>18</td>\n",
              "      <td>female</td>\n",
              "      <td>(14, 19]</td>\n",
              "    </tr>\n",
              "    <tr>\n",
              "      <th>1335</th>\n",
              "      <td>18</td>\n",
              "      <td>female</td>\n",
              "      <td>(14, 19]</td>\n",
              "    </tr>\n",
              "    <tr>\n",
              "      <th>1336</th>\n",
              "      <td>21</td>\n",
              "      <td>female</td>\n",
              "      <td>(19, 24]</td>\n",
              "    </tr>\n",
              "    <tr>\n",
              "      <th>1337</th>\n",
              "      <td>61</td>\n",
              "      <td>female</td>\n",
              "      <td>(59, 64]</td>\n",
              "    </tr>\n",
              "  </tbody>\n",
              "</table>\n",
              "<p>1338 rows × 3 columns</p>\n",
              "</div>\n",
              "      <button class=\"colab-df-convert\" onclick=\"convertToInteractive('df-af0d0c05-aaab-450f-ab5a-dddbc148ab7c')\"\n",
              "              title=\"Convert this dataframe to an interactive table.\"\n",
              "              style=\"display:none;\">\n",
              "        \n",
              "  <svg xmlns=\"http://www.w3.org/2000/svg\" height=\"24px\"viewBox=\"0 0 24 24\"\n",
              "       width=\"24px\">\n",
              "    <path d=\"M0 0h24v24H0V0z\" fill=\"none\"/>\n",
              "    <path d=\"M18.56 5.44l.94 2.06.94-2.06 2.06-.94-2.06-.94-.94-2.06-.94 2.06-2.06.94zm-11 1L8.5 8.5l.94-2.06 2.06-.94-2.06-.94L8.5 2.5l-.94 2.06-2.06.94zm10 10l.94 2.06.94-2.06 2.06-.94-2.06-.94-.94-2.06-.94 2.06-2.06.94z\"/><path d=\"M17.41 7.96l-1.37-1.37c-.4-.4-.92-.59-1.43-.59-.52 0-1.04.2-1.43.59L10.3 9.45l-7.72 7.72c-.78.78-.78 2.05 0 2.83L4 21.41c.39.39.9.59 1.41.59.51 0 1.02-.2 1.41-.59l7.78-7.78 2.81-2.81c.8-.78.8-2.07 0-2.86zM5.41 20L4 18.59l7.72-7.72 1.47 1.35L5.41 20z\"/>\n",
              "  </svg>\n",
              "      </button>\n",
              "      \n",
              "  <style>\n",
              "    .colab-df-container {\n",
              "      display:flex;\n",
              "      flex-wrap:wrap;\n",
              "      gap: 12px;\n",
              "    }\n",
              "\n",
              "    .colab-df-convert {\n",
              "      background-color: #E8F0FE;\n",
              "      border: none;\n",
              "      border-radius: 50%;\n",
              "      cursor: pointer;\n",
              "      display: none;\n",
              "      fill: #1967D2;\n",
              "      height: 32px;\n",
              "      padding: 0 0 0 0;\n",
              "      width: 32px;\n",
              "    }\n",
              "\n",
              "    .colab-df-convert:hover {\n",
              "      background-color: #E2EBFA;\n",
              "      box-shadow: 0px 1px 2px rgba(60, 64, 67, 0.3), 0px 1px 3px 1px rgba(60, 64, 67, 0.15);\n",
              "      fill: #174EA6;\n",
              "    }\n",
              "\n",
              "    [theme=dark] .colab-df-convert {\n",
              "      background-color: #3B4455;\n",
              "      fill: #D2E3FC;\n",
              "    }\n",
              "\n",
              "    [theme=dark] .colab-df-convert:hover {\n",
              "      background-color: #434B5C;\n",
              "      box-shadow: 0px 1px 3px 1px rgba(0, 0, 0, 0.15);\n",
              "      filter: drop-shadow(0px 1px 2px rgba(0, 0, 0, 0.3));\n",
              "      fill: #FFFFFF;\n",
              "    }\n",
              "  </style>\n",
              "\n",
              "      <script>\n",
              "        const buttonEl =\n",
              "          document.querySelector('#df-af0d0c05-aaab-450f-ab5a-dddbc148ab7c button.colab-df-convert');\n",
              "        buttonEl.style.display =\n",
              "          google.colab.kernel.accessAllowed ? 'block' : 'none';\n",
              "\n",
              "        async function convertToInteractive(key) {\n",
              "          const element = document.querySelector('#df-af0d0c05-aaab-450f-ab5a-dddbc148ab7c');\n",
              "          const dataTable =\n",
              "            await google.colab.kernel.invokeFunction('convertToInteractive',\n",
              "                                                     [key], {});\n",
              "          if (!dataTable) return;\n",
              "\n",
              "          const docLinkHtml = 'Like what you see? Visit the ' +\n",
              "            '<a target=\"_blank\" href=https://colab.research.google.com/notebooks/data_table.ipynb>data table notebook</a>'\n",
              "            + ' to learn more about interactive tables.';\n",
              "          element.innerHTML = '';\n",
              "          dataTable['output_type'] = 'display_data';\n",
              "          await google.colab.output.renderOutput(dataTable, element);\n",
              "          const docLink = document.createElement('div');\n",
              "          docLink.innerHTML = docLinkHtml;\n",
              "          element.appendChild(docLink);\n",
              "        }\n",
              "      </script>\n",
              "    </div>\n",
              "  </div>\n",
              "  "
            ]
          },
          "metadata": {},
          "execution_count": 114
        }
      ]
    },
    {
      "cell_type": "code",
      "source": [
        "catage = df_pyramide[['sex',\t'age_cat']]\n",
        "catage"
      ],
      "metadata": {
        "colab": {
          "base_uri": "https://localhost:8080/",
          "height": 423
        },
        "id": "D2dRO7RHaoEu",
        "outputId": "9f4575d7-2a26-481c-b803-8020a08cecfe"
      },
      "execution_count": 102,
      "outputs": [
        {
          "output_type": "execute_result",
          "data": {
            "text/plain": [
              "         sex   age_cat\n",
              "0     female  (14, 19]\n",
              "1       male  (14, 19]\n",
              "2       male  (24, 29]\n",
              "3       male  (29, 34]\n",
              "4       male  (29, 34]\n",
              "...      ...       ...\n",
              "1333    male  (49, 54]\n",
              "1334  female  (14, 19]\n",
              "1335  female  (14, 19]\n",
              "1336  female  (19, 24]\n",
              "1337  female  (59, 64]\n",
              "\n",
              "[1338 rows x 2 columns]"
            ],
            "text/html": [
              "\n",
              "  <div id=\"df-4d105717-44b8-4aac-8c89-06a081c8bda2\">\n",
              "    <div class=\"colab-df-container\">\n",
              "      <div>\n",
              "<style scoped>\n",
              "    .dataframe tbody tr th:only-of-type {\n",
              "        vertical-align: middle;\n",
              "    }\n",
              "\n",
              "    .dataframe tbody tr th {\n",
              "        vertical-align: top;\n",
              "    }\n",
              "\n",
              "    .dataframe thead th {\n",
              "        text-align: right;\n",
              "    }\n",
              "</style>\n",
              "<table border=\"1\" class=\"dataframe\">\n",
              "  <thead>\n",
              "    <tr style=\"text-align: right;\">\n",
              "      <th></th>\n",
              "      <th>sex</th>\n",
              "      <th>age_cat</th>\n",
              "    </tr>\n",
              "  </thead>\n",
              "  <tbody>\n",
              "    <tr>\n",
              "      <th>0</th>\n",
              "      <td>female</td>\n",
              "      <td>(14, 19]</td>\n",
              "    </tr>\n",
              "    <tr>\n",
              "      <th>1</th>\n",
              "      <td>male</td>\n",
              "      <td>(14, 19]</td>\n",
              "    </tr>\n",
              "    <tr>\n",
              "      <th>2</th>\n",
              "      <td>male</td>\n",
              "      <td>(24, 29]</td>\n",
              "    </tr>\n",
              "    <tr>\n",
              "      <th>3</th>\n",
              "      <td>male</td>\n",
              "      <td>(29, 34]</td>\n",
              "    </tr>\n",
              "    <tr>\n",
              "      <th>4</th>\n",
              "      <td>male</td>\n",
              "      <td>(29, 34]</td>\n",
              "    </tr>\n",
              "    <tr>\n",
              "      <th>...</th>\n",
              "      <td>...</td>\n",
              "      <td>...</td>\n",
              "    </tr>\n",
              "    <tr>\n",
              "      <th>1333</th>\n",
              "      <td>male</td>\n",
              "      <td>(49, 54]</td>\n",
              "    </tr>\n",
              "    <tr>\n",
              "      <th>1334</th>\n",
              "      <td>female</td>\n",
              "      <td>(14, 19]</td>\n",
              "    </tr>\n",
              "    <tr>\n",
              "      <th>1335</th>\n",
              "      <td>female</td>\n",
              "      <td>(14, 19]</td>\n",
              "    </tr>\n",
              "    <tr>\n",
              "      <th>1336</th>\n",
              "      <td>female</td>\n",
              "      <td>(19, 24]</td>\n",
              "    </tr>\n",
              "    <tr>\n",
              "      <th>1337</th>\n",
              "      <td>female</td>\n",
              "      <td>(59, 64]</td>\n",
              "    </tr>\n",
              "  </tbody>\n",
              "</table>\n",
              "<p>1338 rows × 2 columns</p>\n",
              "</div>\n",
              "      <button class=\"colab-df-convert\" onclick=\"convertToInteractive('df-4d105717-44b8-4aac-8c89-06a081c8bda2')\"\n",
              "              title=\"Convert this dataframe to an interactive table.\"\n",
              "              style=\"display:none;\">\n",
              "        \n",
              "  <svg xmlns=\"http://www.w3.org/2000/svg\" height=\"24px\"viewBox=\"0 0 24 24\"\n",
              "       width=\"24px\">\n",
              "    <path d=\"M0 0h24v24H0V0z\" fill=\"none\"/>\n",
              "    <path d=\"M18.56 5.44l.94 2.06.94-2.06 2.06-.94-2.06-.94-.94-2.06-.94 2.06-2.06.94zm-11 1L8.5 8.5l.94-2.06 2.06-.94-2.06-.94L8.5 2.5l-.94 2.06-2.06.94zm10 10l.94 2.06.94-2.06 2.06-.94-2.06-.94-.94-2.06-.94 2.06-2.06.94z\"/><path d=\"M17.41 7.96l-1.37-1.37c-.4-.4-.92-.59-1.43-.59-.52 0-1.04.2-1.43.59L10.3 9.45l-7.72 7.72c-.78.78-.78 2.05 0 2.83L4 21.41c.39.39.9.59 1.41.59.51 0 1.02-.2 1.41-.59l7.78-7.78 2.81-2.81c.8-.78.8-2.07 0-2.86zM5.41 20L4 18.59l7.72-7.72 1.47 1.35L5.41 20z\"/>\n",
              "  </svg>\n",
              "      </button>\n",
              "      \n",
              "  <style>\n",
              "    .colab-df-container {\n",
              "      display:flex;\n",
              "      flex-wrap:wrap;\n",
              "      gap: 12px;\n",
              "    }\n",
              "\n",
              "    .colab-df-convert {\n",
              "      background-color: #E8F0FE;\n",
              "      border: none;\n",
              "      border-radius: 50%;\n",
              "      cursor: pointer;\n",
              "      display: none;\n",
              "      fill: #1967D2;\n",
              "      height: 32px;\n",
              "      padding: 0 0 0 0;\n",
              "      width: 32px;\n",
              "    }\n",
              "\n",
              "    .colab-df-convert:hover {\n",
              "      background-color: #E2EBFA;\n",
              "      box-shadow: 0px 1px 2px rgba(60, 64, 67, 0.3), 0px 1px 3px 1px rgba(60, 64, 67, 0.15);\n",
              "      fill: #174EA6;\n",
              "    }\n",
              "\n",
              "    [theme=dark] .colab-df-convert {\n",
              "      background-color: #3B4455;\n",
              "      fill: #D2E3FC;\n",
              "    }\n",
              "\n",
              "    [theme=dark] .colab-df-convert:hover {\n",
              "      background-color: #434B5C;\n",
              "      box-shadow: 0px 1px 3px 1px rgba(0, 0, 0, 0.15);\n",
              "      filter: drop-shadow(0px 1px 2px rgba(0, 0, 0, 0.3));\n",
              "      fill: #FFFFFF;\n",
              "    }\n",
              "  </style>\n",
              "\n",
              "      <script>\n",
              "        const buttonEl =\n",
              "          document.querySelector('#df-4d105717-44b8-4aac-8c89-06a081c8bda2 button.colab-df-convert');\n",
              "        buttonEl.style.display =\n",
              "          google.colab.kernel.accessAllowed ? 'block' : 'none';\n",
              "\n",
              "        async function convertToInteractive(key) {\n",
              "          const element = document.querySelector('#df-4d105717-44b8-4aac-8c89-06a081c8bda2');\n",
              "          const dataTable =\n",
              "            await google.colab.kernel.invokeFunction('convertToInteractive',\n",
              "                                                     [key], {});\n",
              "          if (!dataTable) return;\n",
              "\n",
              "          const docLinkHtml = 'Like what you see? Visit the ' +\n",
              "            '<a target=\"_blank\" href=https://colab.research.google.com/notebooks/data_table.ipynb>data table notebook</a>'\n",
              "            + ' to learn more about interactive tables.';\n",
              "          element.innerHTML = '';\n",
              "          dataTable['output_type'] = 'display_data';\n",
              "          await google.colab.output.renderOutput(dataTable, element);\n",
              "          const docLink = document.createElement('div');\n",
              "          docLink.innerHTML = docLinkHtml;\n",
              "          element.appendChild(docLink);\n",
              "        }\n",
              "      </script>\n",
              "    </div>\n",
              "  </div>\n",
              "  "
            ]
          },
          "metadata": {},
          "execution_count": 102
        }
      ]
    },
    {
      "cell_type": "code",
      "source": [
        "plt.figure(figsize = (15, 6))\n",
        "sns.countplot(data=catage, y=\"age_cat\", hue=\"sex\");"
      ],
      "metadata": {
        "colab": {
          "base_uri": "https://localhost:8080/",
          "height": 388
        },
        "id": "A3A5qMLzhErN",
        "outputId": "faa1f179-cb9d-4b75-a9f4-0e3fb8985079"
      },
      "execution_count": 133,
      "outputs": [
        {
          "output_type": "display_data",
          "data": {
            "text/plain": [
              "<Figure size 1080x432 with 1 Axes>"
            ],
            "image/png": "[encoded data removed]"
          },
          "metadata": {
            "needs_background": "light"
          }
        }
      ]
    },
    {
      "cell_type": "code",
      "source": [
        "catage"
      ],
      "metadata": {
        "colab": {
          "base_uri": "https://localhost:8080/",
          "height": 423
        },
        "id": "j4JDrLfphmWf",
        "outputId": "23b35ae2-1b8d-4165-dc73-e63e3071dc83"
      },
      "execution_count": 260,
      "outputs": [
        {
          "output_type": "execute_result",
          "data": {
            "text/plain": [
              "         sex   age_cat\n",
              "0     female  (14, 19]\n",
              "1       male  (14, 19]\n",
              "2       male  (24, 29]\n",
              "3       male  (29, 34]\n",
              "4       male  (29, 34]\n",
              "...      ...       ...\n",
              "1333    male  (49, 54]\n",
              "1334  female  (14, 19]\n",
              "1335  female  (14, 19]\n",
              "1336  female  (19, 24]\n",
              "1337  female  (59, 64]\n",
              "\n",
              "[1338 rows x 2 columns]"
            ],
            "text/html": [
              "\n",
              "  <div id=\"df-0b0412c9-1691-4494-b93d-d091ef60cbf7\">\n",
              "    <div class=\"colab-df-container\">\n",
              "      <div>\n",
              "<style scoped>\n",
              "    .dataframe tbody tr th:only-of-type {\n",
              "        vertical-align: middle;\n",
              "    }\n",
              "\n",
              "    .dataframe tbody tr th {\n",
              "        vertical-align: top;\n",
              "    }\n",
              "\n",
              "    .dataframe thead th {\n",
              "        text-align: right;\n",
              "    }\n",
              "</style>\n",
              "<table border=\"1\" class=\"dataframe\">\n",
              "  <thead>\n",
              "    <tr style=\"text-align: right;\">\n",
              "      <th></th>\n",
              "      <th>sex</th>\n",
              "      <th>age_cat</th>\n",
              "    </tr>\n",
              "  </thead>\n",
              "  <tbody>\n",
              "    <tr>\n",
              "      <th>0</th>\n",
              "      <td>female</td>\n",
              "      <td>(14, 19]</td>\n",
              "    </tr>\n",
              "    <tr>\n",
              "      <th>1</th>\n",
              "      <td>male</td>\n",
              "      <td>(14, 19]</td>\n",
              "    </tr>\n",
              "    <tr>\n",
              "      <th>2</th>\n",
              "      <td>male</td>\n",
              "      <td>(24, 29]</td>\n",
              "    </tr>\n",
              "    <tr>\n",
              "      <th>3</th>\n",
              "      <td>male</td>\n",
              "      <td>(29, 34]</td>\n",
              "    </tr>\n",
              "    <tr>\n",
              "      <th>4</th>\n",
              "      <td>male</td>\n",
              "      <td>(29, 34]</td>\n",
              "    </tr>\n",
              "    <tr>\n",
              "      <th>...</th>\n",
              "      <td>...</td>\n",
              "      <td>...</td>\n",
              "    </tr>\n",
              "    <tr>\n",
              "      <th>1333</th>\n",
              "      <td>male</td>\n",
              "      <td>(49, 54]</td>\n",
              "    </tr>\n",
              "    <tr>\n",
              "      <th>1334</th>\n",
              "      <td>female</td>\n",
              "      <td>(14, 19]</td>\n",
              "    </tr>\n",
              "    <tr>\n",
              "      <th>1335</th>\n",
              "      <td>female</td>\n",
              "      <td>(14, 19]</td>\n",
              "    </tr>\n",
              "    <tr>\n",
              "      <th>1336</th>\n",
              "      <td>female</td>\n",
              "      <td>(19, 24]</td>\n",
              "    </tr>\n",
              "    <tr>\n",
              "      <th>1337</th>\n",
              "      <td>female</td>\n",
              "      <td>(59, 64]</td>\n",
              "    </tr>\n",
              "  </tbody>\n",
              "</table>\n",
              "<p>1338 rows × 2 columns</p>\n",
              "</div>\n",
              "      <button class=\"colab-df-convert\" onclick=\"convertToInteractive('df-0b0412c9-1691-4494-b93d-d091ef60cbf7')\"\n",
              "              title=\"Convert this dataframe to an interactive table.\"\n",
              "              style=\"display:none;\">\n",
              "        \n",
              "  <svg xmlns=\"http://www.w3.org/2000/svg\" height=\"24px\"viewBox=\"0 0 24 24\"\n",
              "       width=\"24px\">\n",
              "    <path d=\"M0 0h24v24H0V0z\" fill=\"none\"/>\n",
              "    <path d=\"M18.56 5.44l.94 2.06.94-2.06 2.06-.94-2.06-.94-.94-2.06-.94 2.06-2.06.94zm-11 1L8.5 8.5l.94-2.06 2.06-.94-2.06-.94L8.5 2.5l-.94 2.06-2.06.94zm10 10l.94 2.06.94-2.06 2.06-.94-2.06-.94-.94-2.06-.94 2.06-2.06.94z\"/><path d=\"M17.41 7.96l-1.37-1.37c-.4-.4-.92-.59-1.43-.59-.52 0-1.04.2-1.43.59L10.3 9.45l-7.72 7.72c-.78.78-.78 2.05 0 2.83L4 21.41c.39.39.9.59 1.41.59.51 0 1.02-.2 1.41-.59l7.78-7.78 2.81-2.81c.8-.78.8-2.07 0-2.86zM5.41 20L4 18.59l7.72-7.72 1.47 1.35L5.41 20z\"/>\n",
              "  </svg>\n",
              "      </button>\n",
              "      \n",
              "  <style>\n",
              "    .colab-df-container {\n",
              "      display:flex;\n",
              "      flex-wrap:wrap;\n",
              "      gap: 12px;\n",
              "    }\n",
              "\n",
              "    .colab-df-convert {\n",
              "      background-color: #E8F0FE;\n",
              "      border: none;\n",
              "      border-radius: 50%;\n",
              "      cursor: pointer;\n",
              "      display: none;\n",
              "      fill: #1967D2;\n",
              "      height: 32px;\n",
              "      padding: 0 0 0 0;\n",
              "      width: 32px;\n",
              "    }\n",
              "\n",
              "    .colab-df-convert:hover {\n",
              "      background-color: #E2EBFA;\n",
              "      box-shadow: 0px 1px 2px rgba(60, 64, 67, 0.3), 0px 1px 3px 1px rgba(60, 64, 67, 0.15);\n",
              "      fill: #174EA6;\n",
              "    }\n",
              "\n",
              "    [theme=dark] .colab-df-convert {\n",
              "      background-color: #3B4455;\n",
              "      fill: #D2E3FC;\n",
              "    }\n",
              "\n",
              "    [theme=dark] .colab-df-convert:hover {\n",
              "      background-color: #434B5C;\n",
              "      box-shadow: 0px 1px 3px 1px rgba(0, 0, 0, 0.15);\n",
              "      filter: drop-shadow(0px 1px 2px rgba(0, 0, 0, 0.3));\n",
              "      fill: #FFFFFF;\n",
              "    }\n",
              "  </style>\n",
              "\n",
              "      <script>\n",
              "        const buttonEl =\n",
              "          document.querySelector('#df-0b0412c9-1691-4494-b93d-d091ef60cbf7 button.colab-df-convert');\n",
              "        buttonEl.style.display =\n",
              "          google.colab.kernel.accessAllowed ? 'block' : 'none';\n",
              "\n",
              "        async function convertToInteractive(key) {\n",
              "          const element = document.querySelector('#df-0b0412c9-1691-4494-b93d-d091ef60cbf7');\n",
              "          const dataTable =\n",
              "            await google.colab.kernel.invokeFunction('convertToInteractive',\n",
              "                                                     [key], {});\n",
              "          if (!dataTable) return;\n",
              "\n",
              "          const docLinkHtml = 'Like what you see? Visit the ' +\n",
              "            '<a target=\"_blank\" href=https://colab.research.google.com/notebooks/data_table.ipynb>data table notebook</a>'\n",
              "            + ' to learn more about interactive tables.';\n",
              "          element.innerHTML = '';\n",
              "          dataTable['output_type'] = 'display_data';\n",
              "          await google.colab.output.renderOutput(dataTable, element);\n",
              "          const docLink = document.createElement('div');\n",
              "          docLink.innerHTML = docLinkHtml;\n",
              "          element.appendChild(docLink);\n",
              "        }\n",
              "      </script>\n",
              "    </div>\n",
              "  </div>\n",
              "  "
            ]
          },
          "metadata": {},
          "execution_count": 260
        }
      ]
    },
    {
      "cell_type": "code",
      "source": [
        "df_age = catage.groupby(['age_cat', 'sex'])['sex'].count()\n",
        "df_age"
      ],
      "metadata": {
        "colab": {
          "base_uri": "https://localhost:8080/"
        },
        "id": "TvxpFbo_kYzv",
        "outputId": "bf822c80-f078-430b-fb5a-81515238fb99"
      },
      "execution_count": 268,
      "outputs": [
        {
          "output_type": "execute_result",
          "data": {
            "text/plain": [
              "age_cat   sex   \n",
              "(14, 19]  female    66\n",
              "          male      71\n",
              "(19, 24]  female    68\n",
              "          male      73\n",
              "(24, 29]  female    67\n",
              "          male      72\n",
              "(29, 34]  female    65\n",
              "          male      67\n",
              "(34, 39]  female    62\n",
              "          male      63\n",
              "(39, 44]  female    67\n",
              "          male      68\n",
              "(44, 49]  female    72\n",
              "          male      72\n",
              "(49, 54]  female    72\n",
              "          male      71\n",
              "(54, 59]  female    65\n",
              "          male      63\n",
              "(59, 64]  female    58\n",
              "          male      56\n",
              "Name: sex, dtype: int64"
            ]
          },
          "metadata": {},
          "execution_count": 268
        }
      ]
    },
    {
      "cell_type": "code",
      "source": [
        "df_age = df_age.unstack(1).reset_index()"
      ],
      "metadata": {
        "id": "Q1yKnwK22ErA"
      },
      "execution_count": 275,
      "outputs": []
    },
    {
      "cell_type": "code",
      "source": [
        "data"
      ],
      "metadata": {
        "colab": {
          "base_uri": "https://localhost:8080/",
          "height": 363
        },
        "id": "bKhrWHmvtRch",
        "outputId": "b7fd3913-c8b3-4a95-eeea-fac4b814951a"
      },
      "execution_count": 287,
      "outputs": [
        {
          "output_type": "execute_result",
          "data": {
            "text/plain": [
              "sex   age_cat  female  male\n",
              "0    (14, 19]      66    71\n",
              "1    (19, 24]      68    73\n",
              "2    (24, 29]      67    72\n",
              "3    (29, 34]      65    67\n",
              "4    (34, 39]      62    63\n",
              "5    (39, 44]      67    68\n",
              "6    (44, 49]      72    72\n",
              "7    (49, 54]      72    71\n",
              "8    (54, 59]      65    63\n",
              "9    (59, 64]      58    56"
            ],
            "text/html": [
              "\n",
              "  <div id=\"df-eb22e013-d935-44bf-ba3e-6d7c7e3796a7\">\n",
              "    <div class=\"colab-df-container\">\n",
              "      <div>\n",
              "<style scoped>\n",
              "    .dataframe tbody tr th:only-of-type {\n",
              "        vertical-align: middle;\n",
              "    }\n",
              "\n",
              "    .dataframe tbody tr th {\n",
              "        vertical-align: top;\n",
              "    }\n",
              "\n",
              "    .dataframe thead th {\n",
              "        text-align: right;\n",
              "    }\n",
              "</style>\n",
              "<table border=\"1\" class=\"dataframe\">\n",
              "  <thead>\n",
              "    <tr style=\"text-align: right;\">\n",
              "      <th>sex</th>\n",
              "      <th>age_cat</th>\n",
              "      <th>female</th>\n",
              "      <th>male</th>\n",
              "    </tr>\n",
              "  </thead>\n",
              "  <tbody>\n",
              "    <tr>\n",
              "      <th>0</th>\n",
              "      <td>(14, 19]</td>\n",
              "      <td>66</td>\n",
              "      <td>71</td>\n",
              "    </tr>\n",
              "    <tr>\n",
              "      <th>1</th>\n",
              "      <td>(19, 24]</td>\n",
              "      <td>68</td>\n",
              "      <td>73</td>\n",
              "    </tr>\n",
              "    <tr>\n",
              "      <th>2</th>\n",
              "      <td>(24, 29]</td>\n",
              "      <td>67</td>\n",
              "      <td>72</td>\n",
              "    </tr>\n",
              "    <tr>\n",
              "      <th>3</th>\n",
              "      <td>(29, 34]</td>\n",
              "      <td>65</td>\n",
              "      <td>67</td>\n",
              "    </tr>\n",
              "    <tr>\n",
              "      <th>4</th>\n",
              "      <td>(34, 39]</td>\n",
              "      <td>62</td>\n",
              "      <td>63</td>\n",
              "    </tr>\n",
              "    <tr>\n",
              "      <th>5</th>\n",
              "      <td>(39, 44]</td>\n",
              "      <td>67</td>\n",
              "      <td>68</td>\n",
              "    </tr>\n",
              "    <tr>\n",
              "      <th>6</th>\n",
              "      <td>(44, 49]</td>\n",
              "      <td>72</td>\n",
              "      <td>72</td>\n",
              "    </tr>\n",
              "    <tr>\n",
              "      <th>7</th>\n",
              "      <td>(49, 54]</td>\n",
              "      <td>72</td>\n",
              "      <td>71</td>\n",
              "    </tr>\n",
              "    <tr>\n",
              "      <th>8</th>\n",
              "      <td>(54, 59]</td>\n",
              "      <td>65</td>\n",
              "      <td>63</td>\n",
              "    </tr>\n",
              "    <tr>\n",
              "      <th>9</th>\n",
              "      <td>(59, 64]</td>\n",
              "      <td>58</td>\n",
              "      <td>56</td>\n",
              "    </tr>\n",
              "  </tbody>\n",
              "</table>\n",
              "</div>\n",
              "      <button class=\"colab-df-convert\" onclick=\"convertToInteractive('df-eb22e013-d935-44bf-ba3e-6d7c7e3796a7')\"\n",
              "              title=\"Convert this dataframe to an interactive table.\"\n",
              "              style=\"display:none;\">\n",
              "        \n",
              "  <svg xmlns=\"http://www.w3.org/2000/svg\" height=\"24px\"viewBox=\"0 0 24 24\"\n",
              "       width=\"24px\">\n",
              "    <path d=\"M0 0h24v24H0V0z\" fill=\"none\"/>\n",
              "    <path d=\"M18.56 5.44l.94 2.06.94-2.06 2.06-.94-2.06-.94-.94-2.06-.94 2.06-2.06.94zm-11 1L8.5 8.5l.94-2.06 2.06-.94-2.06-.94L8.5 2.5l-.94 2.06-2.06.94zm10 10l.94 2.06.94-2.06 2.06-.94-2.06-.94-.94-2.06-.94 2.06-2.06.94z\"/><path d=\"M17.41 7.96l-1.37-1.37c-.4-.4-.92-.59-1.43-.59-.52 0-1.04.2-1.43.59L10.3 9.45l-7.72 7.72c-.78.78-.78 2.05 0 2.83L4 21.41c.39.39.9.59 1.41.59.51 0 1.02-.2 1.41-.59l7.78-7.78 2.81-2.81c.8-.78.8-2.07 0-2.86zM5.41 20L4 18.59l7.72-7.72 1.47 1.35L5.41 20z\"/>\n",
              "  </svg>\n",
              "      </button>\n",
              "      \n",
              "  <style>\n",
              "    .colab-df-container {\n",
              "      display:flex;\n",
              "      flex-wrap:wrap;\n",
              "      gap: 12px;\n",
              "    }\n",
              "\n",
              "    .colab-df-convert {\n",
              "      background-color: #E8F0FE;\n",
              "      border: none;\n",
              "      border-radius: 50%;\n",
              "      cursor: pointer;\n",
              "      display: none;\n",
              "      fill: #1967D2;\n",
              "      height: 32px;\n",
              "      padding: 0 0 0 0;\n",
              "      width: 32px;\n",
              "    }\n",
              "\n",
              "    .colab-df-convert:hover {\n",
              "      background-color: #E2EBFA;\n",
              "      box-shadow: 0px 1px 2px rgba(60, 64, 67, 0.3), 0px 1px 3px 1px rgba(60, 64, 67, 0.15);\n",
              "      fill: #174EA6;\n",
              "    }\n",
              "\n",
              "    [theme=dark] .colab-df-convert {\n",
              "      background-color: #3B4455;\n",
              "      fill: #D2E3FC;\n",
              "    }\n",
              "\n",
              "    [theme=dark] .colab-df-convert:hover {\n",
              "      background-color: #434B5C;\n",
              "      box-shadow: 0px 1px 3px 1px rgba(0, 0, 0, 0.15);\n",
              "      filter: drop-shadow(0px 1px 2px rgba(0, 0, 0, 0.3));\n",
              "      fill: #FFFFFF;\n",
              "    }\n",
              "  </style>\n",
              "\n",
              "      <script>\n",
              "        const buttonEl =\n",
              "          document.querySelector('#df-eb22e013-d935-44bf-ba3e-6d7c7e3796a7 button.colab-df-convert');\n",
              "        buttonEl.style.display =\n",
              "          google.colab.kernel.accessAllowed ? 'block' : 'none';\n",
              "\n",
              "        async function convertToInteractive(key) {\n",
              "          const element = document.querySelector('#df-eb22e013-d935-44bf-ba3e-6d7c7e3796a7');\n",
              "          const dataTable =\n",
              "            await google.colab.kernel.invokeFunction('convertToInteractive',\n",
              "                                                     [key], {});\n",
              "          if (!dataTable) return;\n",
              "\n",
              "          const docLinkHtml = 'Like what you see? Visit the ' +\n",
              "            '<a target=\"_blank\" href=https://colab.research.google.com/notebooks/data_table.ipynb>data table notebook</a>'\n",
              "            + ' to learn more about interactive tables.';\n",
              "          element.innerHTML = '';\n",
              "          dataTable['output_type'] = 'display_data';\n",
              "          await google.colab.output.renderOutput(dataTable, element);\n",
              "          const docLink = document.createElement('div');\n",
              "          docLink.innerHTML = docLinkHtml;\n",
              "          element.appendChild(docLink);\n",
              "        }\n",
              "      </script>\n",
              "    </div>\n",
              "  </div>\n",
              "  "
            ]
          },
          "metadata": {},
          "execution_count": 287
        }
      ]
    },
    {
      "cell_type": "code",
      "source": [
        "bar_plot = sns.barplot(x='male', y='age_cat', data=data, order=data.age_cat, lw=0)\n",
        "bar_plot = sns.barplot(x='female', y='age_cat', data=data, order= data.age_cat, lw=0)"
      ],
      "metadata": {
        "colab": {
          "base_uri": "https://localhost:8080/",
          "height": 279
        },
        "id": "89hMLx4U7B89",
        "outputId": "c9f36b7f-22ee-4838-88f7-7e1c291d69ab"
      },
      "execution_count": 290,
      "outputs": [
        {
          "output_type": "display_data",
          "data": {
            "text/plain": [
              "<Figure size 432x288 with 1 Axes>"
            ],
            "image/png": "[encoded data removed]"
          },
          "metadata": {
            "needs_background": "light"
          }
        }
      ]
    },
    {
      "cell_type": "code",
      "source": [
        "AgeClass = ['(59, 64]', '(54, 59]', '(49, 54]', '(44, 49]', '(39, 44]', '(34, 39]', '(29, 34]', '(24, 29]', '(19, 24]', '(14, 19]']\n",
        "\n",
        "bar_plot = sns.barplot(x='male', y='age_cat', data=data, order=AgeClass)\n",
        "\n",
        "bar_plot = sns.barplot(x='female', y='age_cat', data=data, order=AgeClass)\n",
        "\n",
        "bar_plot.set(xlabel=\"Population (hundreds of millions)\", ylabel=\"Age-Group\", title = \"Population Pyramid\")"
      ],
      "metadata": {
        "colab": {
          "base_uri": "https://localhost:8080/",
          "height": 347
        },
        "id": "fo-MEHmT8cha",
        "outputId": "15e461cb-6ee9-4ab3-a313-2d8af16fc6ba"
      },
      "execution_count": 299,
      "outputs": [
        {
          "output_type": "execute_result",
          "data": {
            "text/plain": [
              "[Text(0, 0.5, 'Age-Group'),\n",
              " Text(0.5, 0, 'Population (hundreds of millions)'),\n",
              " Text(0.5, 1.0, 'Population Pyramid')]"
            ]
          },
          "metadata": {},
          "execution_count": 299
        },
        {
          "output_type": "display_data",
          "data": {
            "text/plain": [
              "<Figure size 432x288 with 1 Axes>"
            ],
            "image/png": "[encoded data removed]"
          },
          "metadata": {
            "needs_background": "light"
          }
        }
      ]
    },
    {
      "cell_type": "code",
      "source": [
        "df = data\n",
        "df"
      ],
      "metadata": {
        "colab": {
          "base_uri": "https://localhost:8080/",
          "height": 363
        },
        "id": "Wdm8nsVQANP6",
        "outputId": "52415e9b-15c6-4d9f-9ca4-a0904268bad2"
      },
      "execution_count": 295,
      "outputs": [
        {
          "output_type": "execute_result",
          "data": {
            "text/plain": [
              "sex   age_cat  female  male\n",
              "0    (14, 19]      66    71\n",
              "1    (19, 24]      68    73\n",
              "2    (24, 29]      67    72\n",
              "3    (29, 34]      65    67\n",
              "4    (34, 39]      62    63\n",
              "5    (39, 44]      67    68\n",
              "6    (44, 49]      72    72\n",
              "7    (49, 54]      72    71\n",
              "8    (54, 59]      65    63\n",
              "9    (59, 64]      58    56"
            ],
            "text/html": [
              "\n",
              "  <div id=\"df-49347d26-7b83-40c0-ae90-4b55b3e9cdf9\">\n",
              "    <div class=\"colab-df-container\">\n",
              "      <div>\n",
              "<style scoped>\n",
              "    .dataframe tbody tr th:only-of-type {\n",
              "        vertical-align: middle;\n",
              "    }\n",
              "\n",
              "    .dataframe tbody tr th {\n",
              "        vertical-align: top;\n",
              "    }\n",
              "\n",
              "    .dataframe thead th {\n",
              "        text-align: right;\n",
              "    }\n",
              "</style>\n",
              "<table border=\"1\" class=\"dataframe\">\n",
              "  <thead>\n",
              "    <tr style=\"text-align: right;\">\n",
              "      <th>sex</th>\n",
              "      <th>age_cat</th>\n",
              "      <th>female</th>\n",
              "      <th>male</th>\n",
              "    </tr>\n",
              "  </thead>\n",
              "  <tbody>\n",
              "    <tr>\n",
              "      <th>0</th>\n",
              "      <td>(14, 19]</td>\n",
              "      <td>66</td>\n",
              "      <td>71</td>\n",
              "    </tr>\n",
              "    <tr>\n",
              "      <th>1</th>\n",
              "      <td>(19, 24]</td>\n",
              "      <td>68</td>\n",
              "      <td>73</td>\n",
              "    </tr>\n",
              "    <tr>\n",
              "      <th>2</th>\n",
              "      <td>(24, 29]</td>\n",
              "      <td>67</td>\n",
              "      <td>72</td>\n",
              "    </tr>\n",
              "    <tr>\n",
              "      <th>3</th>\n",
              "      <td>(29, 34]</td>\n",
              "      <td>65</td>\n",
              "      <td>67</td>\n",
              "    </tr>\n",
              "    <tr>\n",
              "      <th>4</th>\n",
              "      <td>(34, 39]</td>\n",
              "      <td>62</td>\n",
              "      <td>63</td>\n",
              "    </tr>\n",
              "    <tr>\n",
              "      <th>5</th>\n",
              "      <td>(39, 44]</td>\n",
              "      <td>67</td>\n",
              "      <td>68</td>\n",
              "    </tr>\n",
              "    <tr>\n",
              "      <th>6</th>\n",
              "      <td>(44, 49]</td>\n",
              "      <td>72</td>\n",
              "      <td>72</td>\n",
              "    </tr>\n",
              "    <tr>\n",
              "      <th>7</th>\n",
              "      <td>(49, 54]</td>\n",
              "      <td>72</td>\n",
              "      <td>71</td>\n",
              "    </tr>\n",
              "    <tr>\n",
              "      <th>8</th>\n",
              "      <td>(54, 59]</td>\n",
              "      <td>65</td>\n",
              "      <td>63</td>\n",
              "    </tr>\n",
              "    <tr>\n",
              "      <th>9</th>\n",
              "      <td>(59, 64]</td>\n",
              "      <td>58</td>\n",
              "      <td>56</td>\n",
              "    </tr>\n",
              "  </tbody>\n",
              "</table>\n",
              "</div>\n",
              "      <button class=\"colab-df-convert\" onclick=\"convertToInteractive('df-49347d26-7b83-40c0-ae90-4b55b3e9cdf9')\"\n",
              "              title=\"Convert this dataframe to an interactive table.\"\n",
              "              style=\"display:none;\">\n",
              "        \n",
              "  <svg xmlns=\"http://www.w3.org/2000/svg\" height=\"24px\"viewBox=\"0 0 24 24\"\n",
              "       width=\"24px\">\n",
              "    <path d=\"M0 0h24v24H0V0z\" fill=\"none\"/>\n",
              "    <path d=\"M18.56 5.44l.94 2.06.94-2.06 2.06-.94-2.06-.94-.94-2.06-.94 2.06-2.06.94zm-11 1L8.5 8.5l.94-2.06 2.06-.94-2.06-.94L8.5 2.5l-.94 2.06-2.06.94zm10 10l.94 2.06.94-2.06 2.06-.94-2.06-.94-.94-2.06-.94 2.06-2.06.94z\"/><path d=\"M17.41 7.96l-1.37-1.37c-.4-.4-.92-.59-1.43-.59-.52 0-1.04.2-1.43.59L10.3 9.45l-7.72 7.72c-.78.78-.78 2.05 0 2.83L4 21.41c.39.39.9.59 1.41.59.51 0 1.02-.2 1.41-.59l7.78-7.78 2.81-2.81c.8-.78.8-2.07 0-2.86zM5.41 20L4 18.59l7.72-7.72 1.47 1.35L5.41 20z\"/>\n",
              "  </svg>\n",
              "      </button>\n",
              "      \n",
              "  <style>\n",
              "    .colab-df-container {\n",
              "      display:flex;\n",
              "      flex-wrap:wrap;\n",
              "      gap: 12px;\n",
              "    }\n",
              "\n",
              "    .colab-df-convert {\n",
              "      background-color: #E8F0FE;\n",
              "      border: none;\n",
              "      border-radius: 50%;\n",
              "      cursor: pointer;\n",
              "      display: none;\n",
              "      fill: #1967D2;\n",
              "      height: 32px;\n",
              "      padding: 0 0 0 0;\n",
              "      width: 32px;\n",
              "    }\n",
              "\n",
              "    .colab-df-convert:hover {\n",
              "      background-color: #E2EBFA;\n",
              "      box-shadow: 0px 1px 2px rgba(60, 64, 67, 0.3), 0px 1px 3px 1px rgba(60, 64, 67, 0.15);\n",
              "      fill: #174EA6;\n",
              "    }\n",
              "\n",
              "    [theme=dark] .colab-df-convert {\n",
              "      background-color: #3B4455;\n",
              "      fill: #D2E3FC;\n",
              "    }\n",
              "\n",
              "    [theme=dark] .colab-df-convert:hover {\n",
              "      background-color: #434B5C;\n",
              "      box-shadow: 0px 1px 3px 1px rgba(0, 0, 0, 0.15);\n",
              "      filter: drop-shadow(0px 1px 2px rgba(0, 0, 0, 0.3));\n",
              "      fill: #FFFFFF;\n",
              "    }\n",
              "  </style>\n",
              "\n",
              "      <script>\n",
              "        const buttonEl =\n",
              "          document.querySelector('#df-49347d26-7b83-40c0-ae90-4b55b3e9cdf9 button.colab-df-convert');\n",
              "        buttonEl.style.display =\n",
              "          google.colab.kernel.accessAllowed ? 'block' : 'none';\n",
              "\n",
              "        async function convertToInteractive(key) {\n",
              "          const element = document.querySelector('#df-49347d26-7b83-40c0-ae90-4b55b3e9cdf9');\n",
              "          const dataTable =\n",
              "            await google.colab.kernel.invokeFunction('convertToInteractive',\n",
              "                                                     [key], {});\n",
              "          if (!dataTable) return;\n",
              "\n",
              "          const docLinkHtml = 'Like what you see? Visit the ' +\n",
              "            '<a target=\"_blank\" href=https://colab.research.google.com/notebooks/data_table.ipynb>data table notebook</a>'\n",
              "            + ' to learn more about interactive tables.';\n",
              "          element.innerHTML = '';\n",
              "          dataTable['output_type'] = 'display_data';\n",
              "          await google.colab.output.renderOutput(dataTable, element);\n",
              "          const docLink = document.createElement('div');\n",
              "          docLink.innerHTML = docLinkHtml;\n",
              "          element.appendChild(docLink);\n",
              "        }\n",
              "      </script>\n",
              "    </div>\n",
              "  </div>\n",
              "  "
            ]
          },
          "metadata": {},
          "execution_count": 295
        }
      ]
    },
    {
      "cell_type": "code",
      "source": [
        "df.info()"
      ],
      "metadata": {
        "colab": {
          "base_uri": "https://localhost:8080/"
        },
        "id": "X7tIgBHKAmyj",
        "outputId": "0f90bb3f-50f0-4767-8619-f8c70b9e2613"
      },
      "execution_count": 298,
      "outputs": [
        {
          "output_type": "stream",
          "name": "stdout",
          "text": [
            "<class 'pandas.core.frame.DataFrame'>\n",
            "RangeIndex: 10 entries, 0 to 9\n",
            "Data columns (total 3 columns):\n",
            " #   Column   Non-Null Count  Dtype \n",
            "---  ------   --------------  ----- \n",
            " 0   age_cat  10 non-null     object\n",
            " 1   female   10 non-null     int64 \n",
            " 2   male     10 non-null     int64 \n",
            "dtypes: int64(2), object(1)\n",
            "memory usage: 368.0+ bytes\n"
          ]
        }
      ]
    },
    {
      "cell_type": "code",
      "source": [
        "df['age_cat'] = df.age_cat.astype(str)"
      ],
      "metadata": {
        "id": "rl-81pkWAxSE"
      },
      "execution_count": 297,
      "outputs": []
    },
    {
      "cell_type": "code",
      "source": [
        "y_age = df['age_cat']\n",
        "x_M = data['male']\n",
        "x_F = data['female'] * -1"
      ],
      "metadata": {
        "id": "ReoHih6dCIzs"
      },
      "execution_count": 300,
      "outputs": []
    },
    {
      "cell_type": "code",
      "source": [
        "# Creating instance of the figure\n",
        "fig = gp.Figure()\n",
        "\n",
        "# Adding Male data to the figure\n",
        "fig.add_trace(gp.Bar(y= y_age, x = x_M,\n",
        "\t\t\t\t\tname = 'Male',\n",
        "\t\t\t\t\torientation = 'h'))\n",
        "\n",
        "# Adding Female data to the figure\n",
        "fig.add_trace(gp.Bar(y = y_age, x = x_F,\n",
        "\t\t\t\t\tname = 'Female', \n",
        "          orientation = 'h'))\n",
        "\n",
        "# Updating the layout for our graph\n",
        "fig.update_layout(title = 'Pyramide des ages',\n",
        "\t\t\t\ttitle_font_size = 22, barmode = 'relative',\n",
        "\t\t\t\tbargap = 0.01, bargroupgap = 0,\n",
        "        xaxis = dict(tickvals = [-60, -40, -20,\n",
        "                                          0, 20, 40, 60],\n",
        "                                \n",
        "                              ticktext = ['60', '40', '20', '0', \n",
        "                                          '20', '40', '60'],\n",
        "                                \n",
        "                              title = 'Effectif',\n",
        "                              title_font_size = 14)\n",
        "\t\t\t\t)\n",
        "\n",
        "fig.show()\n"
      ],
      "metadata": {
        "colab": {
          "base_uri": "https://localhost:8080/",
          "height": 542
        },
        "id": "GQMMpcadBfEL",
        "outputId": "99583f5b-feea-430e-fd5b-758b5eebf9dd"
      },
      "execution_count": 313,
      "outputs": [
        {
          "output_type": "display_data",
          "data": {
            "text/html": [
              "<html>\n",
              "<head><meta charset=\"utf-8\" /></head>\n",
              "<body>\n",
              "    <div>            <script src=\"https://cdnjs.cloudflare.com/ajax/libs/mathjax/2.7.5/MathJax.js?config=TeX-AMS-MML_SVG\"></script><script type=\"text/javascript\">if (window.MathJax) {MathJax.Hub.Config({SVG: {font: \"STIX-Web\"}});}</script>                <script type=\"text/javascript\">window.PlotlyConfig = {MathJaxConfig: 'local'};</script>\n",
              "        <script src=\"https://cdn.plot.ly/plotly-2.8.3.min.js\"></script>                <div id=\"8b9c812c-2d53-4f52-94b1-79b0a369b127\" class=\"plotly-graph-div\" style=\"height:525px; width:100%;\"></div>            <script type=\"text/javascript\">                                    window.PLOTLYENV=window.PLOTLYENV || {};                                    if (document.getElementById(\"8b9c812c-2d53-4f52-94b1-79b0a369b127\")) {                    Plotly.newPlot(                        \"8b9c812c-2d53-4f52-94b1-79b0a369b127\",                        [{\"name\":\"Male\",\"orientation\":\"h\",\"x\":[71,73,72,67,63,68,72,71,63,56],\"y\":[\"(14, 19]\",\"(19, 24]\",\"(24, 29]\",\"(29, 34]\",\"(34, 39]\",\"(39, 44]\",\"(44, 49]\",\"(49, 54]\",\"(54, 59]\",\"(59, 64]\"],\"type\":\"bar\"},{\"name\":\"Female\",\"orientation\":\"h\",\"x\":[-66,-68,-67,-65,-62,-67,-72,-72,-65,-58],\"y\":[\"(14, 19]\",\"(19, 24]\",\"(24, 29]\",\"(29, 34]\",\"(34, 39]\",\"(39, 44]\",\"(44, 49]\",\"(49, 54]\",\"(54, 59]\",\"(59, 64]\"],\"type\":\"bar\"}],                        {\"template\":{\"data\":{\"bar\":[{\"error_x\":{\"color\":\"#2a3f5f\"},\"error_y\":{\"color\":\"#2a3f5f\"},\"marker\":{\"line\":{\"color\":\"#E5ECF6\",\"width\":0.5},\"pattern\":{\"fillmode\":\"overlay\",\"size\":10,\"solidity\":0.2}},\"type\":\"bar\"}],\"barpolar\":[{\"marker\":{\"line\":{\"color\":\"#E5ECF6\",\"width\":0.5},\"pattern\":{\"fillmode\":\"overlay\",\"size\":10,\"solidity\":0.2}},\"type\":\"barpolar\"}],\"carpet\":[{\"aaxis\":{\"endlinecolor\":\"#2a3f5f\",\"gridcolor\":\"white\",\"linecolor\":\"white\",\"minorgridcolor\":\"white\",\"startlinecolor\":\"#2a3f5f\"},\"baxis\":{\"endlinecolor\":\"#2a3f5f\",\"gridcolor\":\"white\",\"linecolor\":\"white\",\"minorgridcolor\":\"white\",\"startlinecolor\":\"#2a3f5f\"},\"type\":\"carpet\"}],\"choropleth\":[{\"colorbar\":{\"outlinewidth\":0,\"ticks\":\"\"},\"type\":\"choropleth\"}],\"contour\":[{\"colorbar\":{\"outlinewidth\":0,\"ticks\":\"\"},\"colorscale\":[[0.0,\"#0d0887\"],[0.1111111111111111,\"#46039f\"],[0.2222222222222222,\"#7201a8\"],[0.3333333333333333,\"#9c179e\"],[0.4444444444444444,\"#bd3786\"],[0.5555555555555556,\"#d8576b\"],[0.6666666666666666,\"#ed7953\"],[0.7777777777777778,\"#fb9f3a\"],[0.8888888888888888,\"#fdca26\"],[1.0,\"#f0f921\"]],\"type\":\"contour\"}],\"contourcarpet\":[{\"colorbar\":{\"outlinewidth\":0,\"ticks\":\"\"},\"type\":\"contourcarpet\"}],\"heatmap\":[{\"colorbar\":{\"outlinewidth\":0,\"ticks\":\"\"},\"colorscale\":[[0.0,\"#0d0887\"],[0.1111111111111111,\"#46039f\"],[0.2222222222222222,\"#7201a8\"],[0.3333333333333333,\"#9c179e\"],[0.4444444444444444,\"#bd3786\"],[0.5555555555555556,\"#d8576b\"],[0.6666666666666666,\"#ed7953\"],[0.7777777777777778,\"#fb9f3a\"],[0.8888888888888888,\"#fdca26\"],[1.0,\"#f0f921\"]],\"type\":\"heatmap\"}],\"heatmapgl\":[{\"colorbar\":{\"outlinewidth\":0,\"ticks\":\"\"},\"colorscale\":[[0.0,\"#0d0887\"],[0.1111111111111111,\"#46039f\"],[0.2222222222222222,\"#7201a8\"],[0.3333333333333333,\"#9c179e\"],[0.4444444444444444,\"#bd3786\"],[0.5555555555555556,\"#d8576b\"],[0.6666666666666666,\"#ed7953\"],[0.7777777777777778,\"#fb9f3a\"],[0.8888888888888888,\"#fdca26\"],[1.0,\"#f0f921\"]],\"type\":\"heatmapgl\"}],\"histogram\":[{\"marker\":{\"pattern\":{\"fillmode\":\"overlay\",\"size\":10,\"solidity\":0.2}},\"type\":\"histogram\"}],\"histogram2d\":[{\"colorbar\":{\"outlinewidth\":0,\"ticks\":\"\"},\"colorscale\":[[0.0,\"#0d0887\"],[0.1111111111111111,\"#46039f\"],[0.2222222222222222,\"#7201a8\"],[0.3333333333333333,\"#9c179e\"],[0.4444444444444444,\"#bd3786\"],[0.5555555555555556,\"#d8576b\"],[0.6666666666666666,\"#ed7953\"],[0.7777777777777778,\"#fb9f3a\"],[0.8888888888888888,\"#fdca26\"],[1.0,\"#f0f921\"]],\"type\":\"histogram2d\"}],\"histogram2dcontour\":[{\"colorbar\":{\"outlinewidth\":0,\"ticks\":\"\"},\"colorscale\":[[0.0,\"#0d0887\"],[0.1111111111111111,\"#46039f\"],[0.2222222222222222,\"#7201a8\"],[0.3333333333333333,\"#9c179e\"],[0.4444444444444444,\"#bd3786\"],[0.5555555555555556,\"#d8576b\"],[0.6666666666666666,\"#ed7953\"],[0.7777777777777778,\"#fb9f3a\"],[0.8888888888888888,\"#fdca26\"],[1.0,\"#f0f921\"]],\"type\":\"histogram2dcontour\"}],\"mesh3d\":[{\"colorbar\":{\"outlinewidth\":0,\"ticks\":\"\"},\"type\":\"mesh3d\"}],\"parcoords\":[{\"line\":{\"colorbar\":{\"outlinewidth\":0,\"ticks\":\"\"}},\"type\":\"parcoords\"}],\"pie\":[{\"automargin\":true,\"type\":\"pie\"}],\"scatter\":[{\"marker\":{\"colorbar\":{\"outlinewidth\":0,\"ticks\":\"\"}},\"type\":\"scatter\"}],\"scatter3d\":[{\"line\":{\"colorbar\":{\"outlinewidth\":0,\"ticks\":\"\"}},\"marker\":{\"colorbar\":{\"outlinewidth\":0,\"ticks\":\"\"}},\"type\":\"scatter3d\"}],\"scattercarpet\":[{\"marker\":{\"colorbar\":{\"outlinewidth\":0,\"ticks\":\"\"}},\"type\":\"scattercarpet\"}],\"scattergeo\":[{\"marker\":{\"colorbar\":{\"outlinewidth\":0,\"ticks\":\"\"}},\"type\":\"scattergeo\"}],\"scattergl\":[{\"marker\":{\"colorbar\":{\"outlinewidth\":0,\"ticks\":\"\"}},\"type\":\"scattergl\"}],\"scattermapbox\":[{\"marker\":{\"colorbar\":{\"outlinewidth\":0,\"ticks\":\"\"}},\"type\":\"scattermapbox\"}],\"scatterpolar\":[{\"marker\":{\"colorbar\":{\"outlinewidth\":0,\"ticks\":\"\"}},\"type\":\"scatterpolar\"}],\"scatterpolargl\":[{\"marker\":{\"colorbar\":{\"outlinewidth\":0,\"ticks\":\"\"}},\"type\":\"scatterpolargl\"}],\"scatterternary\":[{\"marker\":{\"colorbar\":{\"outlinewidth\":0,\"ticks\":\"\"}},\"type\":\"scatterternary\"}],\"surface\":[{\"colorbar\":{\"outlinewidth\":0,\"ticks\":\"\"},\"colorscale\":[[0.0,\"#0d0887\"],[0.1111111111111111,\"#46039f\"],[0.2222222222222222,\"#7201a8\"],[0.3333333333333333,\"#9c179e\"],[0.4444444444444444,\"#bd3786\"],[0.5555555555555556,\"#d8576b\"],[0.6666666666666666,\"#ed7953\"],[0.7777777777777778,\"#fb9f3a\"],[0.8888888888888888,\"#fdca26\"],[1.0,\"#f0f921\"]],\"type\":\"surface\"}],\"table\":[{\"cells\":{\"fill\":{\"color\":\"#EBF0F8\"},\"line\":{\"color\":\"white\"}},\"header\":{\"fill\":{\"color\":\"#C8D4E3\"},\"line\":{\"color\":\"white\"}},\"type\":\"table\"}]},\"layout\":{\"annotationdefaults\":{\"arrowcolor\":\"#2a3f5f\",\"arrowhead\":0,\"arrowwidth\":1},\"autotypenumbers\":\"strict\",\"coloraxis\":{\"colorbar\":{\"outlinewidth\":0,\"ticks\":\"\"}},\"colorscale\":{\"diverging\":[[0,\"#8e0152\"],[0.1,\"#c51b7d\"],[0.2,\"#de77ae\"],[0.3,\"#f1b6da\"],[0.4,\"#fde0ef\"],[0.5,\"#f7f7f7\"],[0.6,\"#e6f5d0\"],[0.7,\"#b8e186\"],[0.8,\"#7fbc41\"],[0.9,\"#4d9221\"],[1,\"#276419\"]],\"sequential\":[[0.0,\"#0d0887\"],[0.1111111111111111,\"#46039f\"],[0.2222222222222222,\"#7201a8\"],[0.3333333333333333,\"#9c179e\"],[0.4444444444444444,\"#bd3786\"],[0.5555555555555556,\"#d8576b\"],[0.6666666666666666,\"#ed7953\"],[0.7777777777777778,\"#fb9f3a\"],[0.8888888888888888,\"#fdca26\"],[1.0,\"#f0f921\"]],\"sequentialminus\":[[0.0,\"#0d0887\"],[0.1111111111111111,\"#46039f\"],[0.2222222222222222,\"#7201a8\"],[0.3333333333333333,\"#9c179e\"],[0.4444444444444444,\"#bd3786\"],[0.5555555555555556,\"#d8576b\"],[0.6666666666666666,\"#ed7953\"],[0.7777777777777778,\"#fb9f3a\"],[0.8888888888888888,\"#fdca26\"],[1.0,\"#f0f921\"]]},\"colorway\":[\"#636efa\",\"#EF553B\",\"#00cc96\",\"#ab63fa\",\"#FFA15A\",\"#19d3f3\",\"#FF6692\",\"#B6E880\",\"#FF97FF\",\"#FECB52\"],\"font\":{\"color\":\"#2a3f5f\"},\"geo\":{\"bgcolor\":\"white\",\"lakecolor\":\"white\",\"landcolor\":\"#E5ECF6\",\"showlakes\":true,\"showland\":true,\"subunitcolor\":\"white\"},\"hoverlabel\":{\"align\":\"left\"},\"hovermode\":\"closest\",\"mapbox\":{\"style\":\"light\"},\"paper_bgcolor\":\"white\",\"plot_bgcolor\":\"#E5ECF6\",\"polar\":{\"angularaxis\":{\"gridcolor\":\"white\",\"linecolor\":\"white\",\"ticks\":\"\"},\"bgcolor\":\"#E5ECF6\",\"radialaxis\":{\"gridcolor\":\"white\",\"linecolor\":\"white\",\"ticks\":\"\"}},\"scene\":{\"xaxis\":{\"backgroundcolor\":\"#E5ECF6\",\"gridcolor\":\"white\",\"gridwidth\":2,\"linecolor\":\"white\",\"showbackground\":true,\"ticks\":\"\",\"zerolinecolor\":\"white\"},\"yaxis\":{\"backgroundcolor\":\"#E5ECF6\",\"gridcolor\":\"white\",\"gridwidth\":2,\"linecolor\":\"white\",\"showbackground\":true,\"ticks\":\"\",\"zerolinecolor\":\"white\"},\"zaxis\":{\"backgroundcolor\":\"#E5ECF6\",\"gridcolor\":\"white\",\"gridwidth\":2,\"linecolor\":\"white\",\"showbackground\":true,\"ticks\":\"\",\"zerolinecolor\":\"white\"}},\"shapedefaults\":{\"line\":{\"color\":\"#2a3f5f\"}},\"ternary\":{\"aaxis\":{\"gridcolor\":\"white\",\"linecolor\":\"white\",\"ticks\":\"\"},\"baxis\":{\"gridcolor\":\"white\",\"linecolor\":\"white\",\"ticks\":\"\"},\"bgcolor\":\"#E5ECF6\",\"caxis\":{\"gridcolor\":\"white\",\"linecolor\":\"white\",\"ticks\":\"\"}},\"title\":{\"x\":0.05},\"xaxis\":{\"automargin\":true,\"gridcolor\":\"white\",\"linecolor\":\"white\",\"ticks\":\"\",\"title\":{\"standoff\":15},\"zerolinecolor\":\"white\",\"zerolinewidth\":2},\"yaxis\":{\"automargin\":true,\"gridcolor\":\"white\",\"linecolor\":\"white\",\"ticks\":\"\",\"title\":{\"standoff\":15},\"zerolinecolor\":\"white\",\"zerolinewidth\":2}}},\"title\":{\"text\":\"Pyramide des ages\",\"font\":{\"size\":22}},\"xaxis\":{\"title\":{\"text\":\"Effectif\",\"font\":{\"size\":14}},\"tickvals\":[-60,-40,-20,0,20,40,60],\"ticktext\":[\"60\",\"40\",\"20\",\"0\",\"20\",\"40\",\"60\"]},\"barmode\":\"relative\",\"bargap\":0.01,\"bargroupgap\":0},                        {\"responsive\": true}                    ).then(function(){\n",
              "                            \n",
              "var gd = document.getElementById('8b9c812c-2d53-4f52-94b1-79b0a369b127');\n",
              "var x = new MutationObserver(function (mutations, observer) {{\n",
              "        var display = window.getComputedStyle(gd).display;\n",
              "        if (!display || display === 'none') {{\n",
              "            console.log([gd, 'removed!']);\n",
              "            Plotly.purge(gd);\n",
              "            observer.disconnect();\n",
              "        }}\n",
              "}});\n",
              "\n",
              "// Listen for the removal of the full notebook cells\n",
              "var notebookContainer = gd.closest('#notebook-container');\n",
              "if (notebookContainer) {{\n",
              "    x.observe(notebookContainer, {childList: true});\n",
              "}}\n",
              "\n",
              "// Listen for the clearing of the current output cell\n",
              "var outputEl = gd.closest('.output');\n",
              "if (outputEl) {{\n",
              "    x.observe(outputEl, {childList: true});\n",
              "}}\n",
              "\n",
              "                        })                };                            </script>        </div>\n",
              "</body>\n",
              "</html>"
            ]
          },
          "metadata": {}
        }
      ]
    },
    {
      "cell_type": "code",
      "source": [
        "medical_df"
      ],
      "metadata": {
        "colab": {
          "base_uri": "https://localhost:8080/",
          "height": 423
        },
        "id": "3Ujg-F2ZCXV1",
        "outputId": "f4b10b7c-485c-43f1-d249-d7a6fd1bd611"
      },
      "execution_count": 314,
      "outputs": [
        {
          "output_type": "execute_result",
          "data": {
            "text/plain": [
              "      age     sex     bmi  children smoker     region      charges\n",
              "0      19  female  27.900         0    yes  southwest  16884.92400\n",
              "1      18    male  33.770         1     no  southeast   1725.55230\n",
              "2      28    male  33.000         3     no  southeast   4449.46200\n",
              "3      33    male  22.705         0     no  northwest  21984.47061\n",
              "4      32    male  28.880         0     no  northwest   3866.85520\n",
              "...   ...     ...     ...       ...    ...        ...          ...\n",
              "1333   50    male  30.970         3     no  northwest  10600.54830\n",
              "1334   18  female  31.920         0     no  northeast   2205.98080\n",
              "1335   18  female  36.850         0     no  southeast   1629.83350\n",
              "1336   21  female  25.800         0     no  southwest   2007.94500\n",
              "1337   61  female  29.070         0    yes  northwest  29141.36030\n",
              "\n",
              "[1338 rows x 7 columns]"
            ],
            "text/html": [
              "\n",
              "  <div id=\"df-002e5f17-4876-448a-b560-196c6ce88b84\">\n",
              "    <div class=\"colab-df-container\">\n",
              "      <div>\n",
              "<style scoped>\n",
              "    .dataframe tbody tr th:only-of-type {\n",
              "        vertical-align: middle;\n",
              "    }\n",
              "\n",
              "    .dataframe tbody tr th {\n",
              "        vertical-align: top;\n",
              "    }\n",
              "\n",
              "    .dataframe thead th {\n",
              "        text-align: right;\n",
              "    }\n",
              "</style>\n",
              "<table border=\"1\" class=\"dataframe\">\n",
              "  <thead>\n",
              "    <tr style=\"text-align: right;\">\n",
              "      <th></th>\n",
              "      <th>age</th>\n",
              "      <th>sex</th>\n",
              "      <th>bmi</th>\n",
              "      <th>children</th>\n",
              "      <th>smoker</th>\n",
              "      <th>region</th>\n",
              "      <th>charges</th>\n",
              "    </tr>\n",
              "  </thead>\n",
              "  <tbody>\n",
              "    <tr>\n",
              "      <th>0</th>\n",
              "      <td>19</td>\n",
              "      <td>female</td>\n",
              "      <td>27.900</td>\n",
              "      <td>0</td>\n",
              "      <td>yes</td>\n",
              "      <td>southwest</td>\n",
              "      <td>16884.92400</td>\n",
              "    </tr>\n",
              "    <tr>\n",
              "      <th>1</th>\n",
              "      <td>18</td>\n",
              "      <td>male</td>\n",
              "      <td>33.770</td>\n",
              "      <td>1</td>\n",
              "      <td>no</td>\n",
              "      <td>southeast</td>\n",
              "      <td>1725.55230</td>\n",
              "    </tr>\n",
              "    <tr>\n",
              "      <th>2</th>\n",
              "      <td>28</td>\n",
              "      <td>male</td>\n",
              "      <td>33.000</td>\n",
              "      <td>3</td>\n",
              "      <td>no</td>\n",
              "      <td>southeast</td>\n",
              "      <td>4449.46200</td>\n",
              "    </tr>\n",
              "    <tr>\n",
              "      <th>3</th>\n",
              "      <td>33</td>\n",
              "      <td>male</td>\n",
              "      <td>22.705</td>\n",
              "      <td>0</td>\n",
              "      <td>no</td>\n",
              "      <td>northwest</td>\n",
              "      <td>21984.47061</td>\n",
              "    </tr>\n",
              "    <tr>\n",
              "      <th>4</th>\n",
              "      <td>32</td>\n",
              "      <td>male</td>\n",
              "      <td>28.880</td>\n",
              "      <td>0</td>\n",
              "      <td>no</td>\n",
              "      <td>northwest</td>\n",
              "      <td>3866.85520</td>\n",
              "    </tr>\n",
              "    <tr>\n",
              "      <th>...</th>\n",
              "      <td>...</td>\n",
              "      <td>...</td>\n",
              "      <td>...</td>\n",
              "      <td>...</td>\n",
              "      <td>...</td>\n",
              "      <td>...</td>\n",
              "      <td>...</td>\n",
              "    </tr>\n",
              "    <tr>\n",
              "      <th>1333</th>\n",
              "      <td>50</td>\n",
              "      <td>male</td>\n",
              "      <td>30.970</td>\n",
              "      <td>3</td>\n",
              "      <td>no</td>\n",
              "      <td>northwest</td>\n",
              "      <td>10600.54830</td>\n",
              "    </tr>\n",
              "    <tr>\n",
              "      <th>1334</th>\n",
              "      <td>18</td>\n",
              "      <td>female</td>\n",
              "      <td>31.920</td>\n",
              "      <td>0</td>\n",
              "      <td>no</td>\n",
              "      <td>northeast</td>\n",
              "      <td>2205.98080</td>\n",
              "    </tr>\n",
              "    <tr>\n",
              "      <th>1335</th>\n",
              "      <td>18</td>\n",
              "      <td>female</td>\n",
              "      <td>36.850</td>\n",
              "      <td>0</td>\n",
              "      <td>no</td>\n",
              "      <td>southeast</td>\n",
              "      <td>1629.83350</td>\n",
              "    </tr>\n",
              "    <tr>\n",
              "      <th>1336</th>\n",
              "      <td>21</td>\n",
              "      <td>female</td>\n",
              "      <td>25.800</td>\n",
              "      <td>0</td>\n",
              "      <td>no</td>\n",
              "      <td>southwest</td>\n",
              "      <td>2007.94500</td>\n",
              "    </tr>\n",
              "    <tr>\n",
              "      <th>1337</th>\n",
              "      <td>61</td>\n",
              "      <td>female</td>\n",
              "      <td>29.070</td>\n",
              "      <td>0</td>\n",
              "      <td>yes</td>\n",
              "      <td>northwest</td>\n",
              "      <td>29141.36030</td>\n",
              "    </tr>\n",
              "  </tbody>\n",
              "</table>\n",
              "<p>1338 rows × 7 columns</p>\n",
              "</div>\n",
              "      <button class=\"colab-df-convert\" onclick=\"convertToInteractive('df-002e5f17-4876-448a-b560-196c6ce88b84')\"\n",
              "              title=\"Convert this dataframe to an interactive table.\"\n",
              "              style=\"display:none;\">\n",
              "        \n",
              "  <svg xmlns=\"http://www.w3.org/2000/svg\" height=\"24px\"viewBox=\"0 0 24 24\"\n",
              "       width=\"24px\">\n",
              "    <path d=\"M0 0h24v24H0V0z\" fill=\"none\"/>\n",
              "    <path d=\"M18.56 5.44l.94 2.06.94-2.06 2.06-.94-2.06-.94-.94-2.06-.94 2.06-2.06.94zm-11 1L8.5 8.5l.94-2.06 2.06-.94-2.06-.94L8.5 2.5l-.94 2.06-2.06.94zm10 10l.94 2.06.94-2.06 2.06-.94-2.06-.94-.94-2.06-.94 2.06-2.06.94z\"/><path d=\"M17.41 7.96l-1.37-1.37c-.4-.4-.92-.59-1.43-.59-.52 0-1.04.2-1.43.59L10.3 9.45l-7.72 7.72c-.78.78-.78 2.05 0 2.83L4 21.41c.39.39.9.59 1.41.59.51 0 1.02-.2 1.41-.59l7.78-7.78 2.81-2.81c.8-.78.8-2.07 0-2.86zM5.41 20L4 18.59l7.72-7.72 1.47 1.35L5.41 20z\"/>\n",
              "  </svg>\n",
              "      </button>\n",
              "      \n",
              "  <style>\n",
              "    .colab-df-container {\n",
              "      display:flex;\n",
              "      flex-wrap:wrap;\n",
              "      gap: 12px;\n",
              "    }\n",
              "\n",
              "    .colab-df-convert {\n",
              "      background-color: #E8F0FE;\n",
              "      border: none;\n",
              "      border-radius: 50%;\n",
              "      cursor: pointer;\n",
              "      display: none;\n",
              "      fill: #1967D2;\n",
              "      height: 32px;\n",
              "      padding: 0 0 0 0;\n",
              "      width: 32px;\n",
              "    }\n",
              "\n",
              "    .colab-df-convert:hover {\n",
              "      background-color: #E2EBFA;\n",
              "      box-shadow: 0px 1px 2px rgba(60, 64, 67, 0.3), 0px 1px 3px 1px rgba(60, 64, 67, 0.15);\n",
              "      fill: #174EA6;\n",
              "    }\n",
              "\n",
              "    [theme=dark] .colab-df-convert {\n",
              "      background-color: #3B4455;\n",
              "      fill: #D2E3FC;\n",
              "    }\n",
              "\n",
              "    [theme=dark] .colab-df-convert:hover {\n",
              "      background-color: #434B5C;\n",
              "      box-shadow: 0px 1px 3px 1px rgba(0, 0, 0, 0.15);\n",
              "      filter: drop-shadow(0px 1px 2px rgba(0, 0, 0, 0.3));\n",
              "      fill: #FFFFFF;\n",
              "    }\n",
              "  </style>\n",
              "\n",
              "      <script>\n",
              "        const buttonEl =\n",
              "          document.querySelector('#df-002e5f17-4876-448a-b560-196c6ce88b84 button.colab-df-convert');\n",
              "        buttonEl.style.display =\n",
              "          google.colab.kernel.accessAllowed ? 'block' : 'none';\n",
              "\n",
              "        async function convertToInteractive(key) {\n",
              "          const element = document.querySelector('#df-002e5f17-4876-448a-b560-196c6ce88b84');\n",
              "          const dataTable =\n",
              "            await google.colab.kernel.invokeFunction('convertToInteractive',\n",
              "                                                     [key], {});\n",
              "          if (!dataTable) return;\n",
              "\n",
              "          const docLinkHtml = 'Like what you see? Visit the ' +\n",
              "            '<a target=\"_blank\" href=https://colab.research.google.com/notebooks/data_table.ipynb>data table notebook</a>'\n",
              "            + ' to learn more about interactive tables.';\n",
              "          element.innerHTML = '';\n",
              "          dataTable['output_type'] = 'display_data';\n",
              "          await google.colab.output.renderOutput(dataTable, element);\n",
              "          const docLink = document.createElement('div');\n",
              "          docLink.innerHTML = docLinkHtml;\n",
              "          element.appendChild(docLink);\n",
              "        }\n",
              "      </script>\n",
              "    </div>\n",
              "  </div>\n",
              "  "
            ]
          },
          "metadata": {},
          "execution_count": 314
        }
      ]
    },
    {
      "cell_type": "code",
      "source": [
        "fig = px.histogram(medical_df,\n",
        "                   x = 'bmi',\n",
        "                   marginal = 'box',\n",
        "                   color_discrete_sequence = ['green'],\n",
        "                   title = 'Distributionof BMI (Body Mass Index)')\n",
        "fig.update_layout(bargap = 0.1)\n",
        "fig.show()"
      ],
      "metadata": {
        "colab": {
          "base_uri": "https://localhost:8080/",
          "height": 542
        },
        "id": "hI19e5s7N7k2",
        "outputId": "dec945ac-1a5b-4a65-b02c-536d12a4cf55"
      },
      "execution_count": 318,
      "outputs": [
        {
          "output_type": "display_data",
          "data": {
            "text/html": [
              "<html>\n",
              "<head><meta charset=\"utf-8\" /></head>\n",
              "<body>\n",
              "    <div>            <script src=\"https://cdnjs.cloudflare.com/ajax/libs/mathjax/2.7.5/MathJax.js?config=TeX-AMS-MML_SVG\"></script><script type=\"text/javascript\">if (window.MathJax) {MathJax.Hub.Config({SVG: {font: \"STIX-Web\"}});}</script>                <script type=\"text/javascript\">window.PlotlyConfig = {MathJaxConfig: 'local'};</script>\n",
              "        <script src=\"https://cdn.plot.ly/plotly-2.8.3.min.js\"></script>                <div id=\"d38c721e-19f8-4079-94ee-272761a2c358\" class=\"plotly-graph-div\" style=\"height:525px; width:100%;\"></div>            <script type=\"text/javascript\">                                    window.PLOTLYENV=window.PLOTLYENV || {};                                    if (document.getElementById(\"d38c721e-19f8-4079-94ee-272761a2c358\")) {                    Plotly.newPlot(                        \"d38c721e-19f8-4079-94ee-272761a2c358\",                        [{\"alignmentgroup\":\"True\",\"bingroup\":\"x\",\"hovertemplate\":\"bmi=%{x}<br>count=%{y}<extra></extra>\",\"legendgroup\":\"\",\"marker\":{\"color\":\"green\",\"pattern\":{\"shape\":\"\"}},\"name\":\"\",\"offsetgroup\":\"\",\"orientation\":\"v\",\"showlegend\":false,\"x\":[27.9,33.77,33.0,22.705,28.88,25.74,33.44,27.74,29.83,25.84,26.22,26.29,34.4,39.82,42.13,24.6,30.78,23.845,40.3,35.3,36.005,32.4,34.1,31.92,28.025,27.72,23.085,32.775,17.385,36.3,35.6,26.315,28.6,28.31,36.4,20.425,32.965,20.8,36.67,39.9,26.6,36.63,21.78,30.8,37.05,37.3,38.665,34.77,24.53,35.2,35.625,33.63,28.0,34.43,28.69,36.955,31.825,31.68,22.88,37.335,27.36,33.66,24.7,25.935,22.42,28.9,39.1,26.315,36.19,23.98,24.75,28.5,28.1,32.01,27.4,34.01,29.59,35.53,39.805,32.965,26.885,38.285,37.62,41.23,34.8,22.895,31.16,27.2,27.74,26.98,39.49,24.795,29.83,34.77,31.3,37.62,30.8,38.28,19.95,19.3,31.6,25.46,30.115,29.92,27.5,28.025,28.4,30.875,27.94,35.09,33.63,29.7,30.8,35.72,32.205,28.595,49.06,27.94,27.17,23.37,37.1,23.75,28.975,31.35,33.915,28.785,28.3,37.4,17.765,34.7,26.505,22.04,35.9,25.555,28.785,28.05,34.1,25.175,31.9,36.0,22.42,32.49,25.3,29.735,28.69,38.83,30.495,37.73,37.43,28.4,24.13,29.7,37.145,23.37,25.46,39.52,24.42,25.175,35.53,27.83,26.6,36.85,39.6,29.8,29.64,28.215,37.0,33.155,31.825,18.905,41.47,30.3,15.96,34.8,33.345,37.7,27.835,29.2,28.9,33.155,28.595,38.28,19.95,26.41,30.69,41.895,29.92,30.9,32.2,32.11,31.57,26.2,25.74,26.6,34.43,30.59,32.8,28.6,18.05,39.33,32.11,32.23,24.035,36.08,22.3,28.88,26.4,27.74,31.8,41.23,33.0,30.875,28.5,26.73,30.9,37.1,26.6,23.1,29.92,23.21,33.7,33.25,30.8,34.8,24.64,33.88,38.06,41.91,31.635,25.46,36.195,27.83,17.8,27.5,24.51,22.22,26.73,38.39,29.07,38.06,36.67,22.135,26.8,35.3,27.74,30.02,38.06,35.86,20.9,28.975,17.29,32.2,34.21,30.3,31.825,25.365,33.63,40.15,24.415,31.92,25.2,26.84,24.32,36.955,38.06,42.35,19.8,32.395,30.2,25.84,29.37,34.2,37.05,27.455,27.55,26.6,20.615,24.3,31.79,21.56,28.12,40.565,27.645,32.395,31.2,26.62,48.07,26.22,36.765,26.4,33.4,29.64,45.54,28.82,26.8,22.99,27.7,25.41,34.39,28.88,27.55,22.61,37.51,33.0,38.0,33.345,27.5,33.33,34.865,33.06,26.6,24.7,35.97,35.86,31.4,33.25,32.205,32.775,27.645,37.335,25.27,29.64,30.8,40.945,27.2,34.105,23.21,36.48,33.8,36.7,36.385,27.36,31.16,28.785,35.72,34.5,25.74,27.55,32.3,27.72,27.6,30.02,27.55,36.765,41.47,29.26,35.75,33.345,29.92,27.835,23.18,25.6,27.7,35.245,38.28,27.6,43.89,29.83,41.91,20.79,32.3,30.5,21.7,26.4,21.89,30.78,32.3,24.985,32.015,30.4,21.09,22.23,33.155,32.9,33.33,28.31,24.89,40.15,30.115,31.46,17.955,30.685,33.0,43.34,22.135,34.4,39.05,25.365,22.61,30.21,35.625,37.43,31.445,31.35,32.3,19.855,34.4,31.02,25.6,38.17,20.6,47.52,32.965,32.3,20.4,38.38,24.31,23.6,21.12,30.03,17.48,20.235,17.195,23.9,35.15,35.64,34.1,22.6,39.16,26.98,33.88,35.86,32.775,30.59,30.2,24.31,27.265,29.165,16.815,30.4,33.1,20.235,26.9,30.5,28.595,33.11,31.73,28.9,46.75,29.45,32.68,33.5,43.01,36.52,26.695,33.1,29.64,25.65,29.6,38.6,29.6,24.13,23.4,29.735,46.53,37.4,30.14,30.495,39.6,33.0,36.63,30.0,38.095,25.935,25.175,28.38,28.7,33.82,24.32,24.09,32.67,30.115,29.8,33.345,25.1,28.31,28.5,35.625,36.85,32.56,41.325,37.51,31.35,39.5,34.3,31.065,21.47,28.7,38.06,31.16,32.9,25.08,25.08,43.4,25.7,27.93,23.6,28.7,23.98,39.2,34.4,26.03,23.21,30.25,28.93,30.875,31.35,23.75,25.27,28.7,32.11,33.66,22.42,30.4,28.3,35.7,35.31,30.495,31.0,30.875,27.36,44.22,33.915,37.73,26.07,33.88,30.59,25.8,39.425,25.46,42.13,31.73,29.7,36.19,40.48,28.025,38.9,30.2,28.05,31.35,38.0,31.79,36.3,47.41,30.21,25.84,35.435,46.7,28.595,46.2,30.8,28.93,21.4,31.73,41.325,23.8,33.44,34.21,34.105,35.53,19.95,32.68,30.5,44.77,32.12,30.495,40.565,30.59,31.9,40.565,29.1,37.29,43.12,36.86,34.295,27.17,26.84,38.095,30.2,23.465,25.46,30.59,45.43,23.65,20.7,28.27,20.235,30.21,35.91,30.69,29.0,19.57,31.13,21.85,40.26,33.725,29.48,33.25,32.6,37.525,39.16,31.635,25.3,39.05,28.31,34.1,25.175,23.655,26.98,37.8,29.37,34.8,33.155,19.0,33.0,36.63,28.595,25.6,33.11,37.1,31.4,34.1,21.3,33.535,28.785,26.03,28.88,42.46,38.0,38.95,36.1,29.3,35.53,22.705,39.7,38.19,24.51,38.095,26.41,33.66,42.4,28.31,33.915,34.96,35.31,30.78,26.22,23.37,28.5,32.965,42.68,39.6,31.13,36.3,35.2,25.3,42.4,33.155,35.91,28.785,46.53,23.98,31.54,33.66,22.99,38.06,28.7,32.775,32.015,29.81,31.57,31.16,29.7,31.02,43.89,21.375,40.81,31.35,36.1,23.18,17.4,20.3,35.3,24.32,18.5,26.41,26.125,41.69,24.1,31.13,27.36,36.2,32.395,23.655,34.8,40.185,32.3,35.75,33.725,39.27,34.87,44.745,41.47,26.41,29.545,32.9,38.06,28.69,30.495,27.74,35.2,23.54,30.685,40.47,22.6,28.9,22.61,24.32,36.67,33.44,40.66,36.6,37.4,35.4,27.075,39.05,28.405,21.755,40.28,36.08,24.42,21.4,30.1,27.265,32.1,34.77,38.39,23.7,31.73,35.5,24.035,29.15,34.105,26.62,26.41,30.115,27.0,21.755,36.0,30.875,26.4,28.975,37.905,22.77,33.63,27.645,22.8,27.83,37.43,38.17,34.58,35.2,27.1,26.03,25.175,31.825,32.3,29.0,39.7,19.475,36.1,26.7,36.48,28.88,34.2,33.33,32.3,39.805,34.32,28.88,24.4,41.14,35.97,27.6,29.26,27.7,36.955,36.86,22.515,29.92,41.8,27.6,23.18,20.9,31.92,28.5,44.22,22.895,33.1,24.795,26.18,35.97,22.3,42.24,26.51,35.815,41.42,36.575,30.14,25.84,30.8,42.94,21.01,22.515,34.43,31.46,24.225,37.1,26.125,35.53,33.7,17.67,31.13,29.81,24.32,31.825,31.79,28.025,30.78,21.85,33.1,25.84,23.845,34.39,33.82,35.97,31.5,28.31,23.465,31.35,31.1,24.7,32.78,29.81,30.495,32.45,34.2,50.38,24.1,32.775,30.78,32.3,35.53,23.75,23.845,29.6,33.11,24.13,32.23,28.1,47.6,28.0,33.535,19.855,25.4,29.9,37.29,43.7,23.655,24.3,36.2,29.48,24.86,30.1,21.85,28.12,27.1,33.44,28.8,29.5,34.8,27.36,22.135,37.05,26.695,28.93,28.975,30.02,39.5,33.63,26.885,29.04,24.035,38.94,32.11,44.0,20.045,25.555,40.26,22.515,22.515,40.92,27.265,36.85,35.1,29.355,32.585,32.34,39.8,24.6,28.31,31.73,26.695,27.5,24.605,33.99,26.885,22.895,28.2,34.21,25.0,33.2,31.0,35.815,23.2,32.11,23.4,20.1,39.16,34.21,46.53,32.5,25.8,35.3,37.18,27.5,29.735,24.225,26.18,29.48,23.21,46.09,40.185,22.61,39.93,35.8,35.8,34.2,31.255,29.7,18.335,42.9,28.405,30.2,27.835,39.49,30.8,26.79,34.96,36.67,39.615,25.9,35.2,24.795,36.765,27.1,24.795,25.365,25.745,34.32,28.16,23.56,20.235,40.5,35.42,22.895,40.15,29.15,39.995,29.92,25.46,21.375,25.9,30.59,30.115,25.8,30.115,27.645,34.675,20.52,19.8,27.835,31.6,28.27,20.045,23.275,34.1,36.85,36.29,26.885,22.99,32.7,25.8,29.6,19.19,31.73,29.26,28.215,24.985,27.74,22.8,20.13,33.33,32.3,27.6,25.46,24.605,34.2,35.815,32.68,37.0,31.02,36.08,23.32,45.32,34.6,26.03,18.715,31.6,17.29,23.655,35.2,27.93,21.565,38.38,23.0,37.07,30.495,28.88,27.265,28.025,23.085,30.685,25.8,35.245,24.7,25.08,52.58,22.515,30.9,36.955,26.41,29.83,29.8,21.47,27.645,28.9,31.79,39.49,33.82,32.01,27.94,41.14,28.595,25.6,25.3,37.29,42.655,21.66,31.9,37.07,31.445,31.255,28.88,18.335,29.59,32.0,26.03,31.68,33.66,21.78,27.835,19.95,31.5,30.495,18.3,28.975,31.54,47.74,22.1,36.19,29.83,32.7,30.4,33.7,31.35,34.96,33.77,30.875,33.99,19.095,28.6,38.94,36.08,29.8,31.24,29.925,26.22,30.0,20.35,32.3,38.39,25.85,26.315,24.51,32.67,29.64,33.33,35.75,19.95,31.4,38.17,36.86,32.395,42.75,25.08,29.9,35.86,32.8,18.6,23.87,45.9,40.28,18.335,33.82,28.12,25.0,22.23,30.25,32.49,37.07,32.6,24.86,32.34,32.3,32.775,32.8,31.92,21.5,34.1,30.305,36.48,32.56,35.815,27.93,22.135,44.88,23.18,30.59,41.1,34.58,42.13,38.83,28.215,28.31,26.125,40.37,24.6,35.2,34.105,27.36,26.7,41.91,29.26,32.11,27.1,24.13,27.4,34.865,29.81,41.325,29.925,30.3,27.36,28.49,23.56,35.625,32.68,25.27,28.0,32.775,21.755,32.395,36.575,21.755,27.93,30.02,33.55,29.355,25.8,24.32,40.375,32.11,32.3,27.28,17.86,34.8,33.4,25.555,37.1,30.875,34.1,21.47,33.3,31.255,39.14,25.08,37.29,34.6,30.21,21.945,24.97,25.3,24.42,23.94,39.82,16.815,37.18,34.43,30.305,34.485,21.8,24.605,23.3,27.83,31.065,21.66,28.215,22.705,42.13,41.8,36.96,21.28,33.11,33.33,24.3,25.7,29.4,39.82,33.63,29.83,19.8,27.3,29.3,27.72,37.9,36.385,27.645,37.715,23.18,20.52,37.1,28.05,29.9,33.345,23.76,30.5,31.065,33.3,27.5,33.915,34.485,25.52,27.61,27.06,23.7,30.4,29.735,29.925,26.79,33.33,27.645,21.66,30.03,36.3,24.32,17.29,25.9,39.4,34.32,19.95,34.9,23.21,25.745,25.175,22.0,26.125,26.51,27.455,25.745,30.36,30.875,20.8,27.8,24.605,27.72,21.85,28.12,30.2,32.2,26.315,26.695,42.9,34.7,23.655,28.31,20.6,53.13,39.71,26.315,31.065,26.695,38.83,40.37,25.935,33.535,32.87,30.03,24.225,38.6,25.74,33.4,44.7,30.97,31.92,36.85,25.8,29.07],\"xaxis\":\"x\",\"yaxis\":\"y\",\"type\":\"histogram\"},{\"alignmentgroup\":\"True\",\"hovertemplate\":\"bmi=%{x}<extra></extra>\",\"legendgroup\":\"\",\"marker\":{\"color\":\"green\"},\"name\":\"\",\"notched\":true,\"offsetgroup\":\"\",\"showlegend\":false,\"x\":[27.9,33.77,33.0,22.705,28.88,25.74,33.44,27.74,29.83,25.84,26.22,26.29,34.4,39.82,42.13,24.6,30.78,23.845,40.3,35.3,36.005,32.4,34.1,31.92,28.025,27.72,23.085,32.775,17.385,36.3,35.6,26.315,28.6,28.31,36.4,20.425,32.965,20.8,36.67,39.9,26.6,36.63,21.78,30.8,37.05,37.3,38.665,34.77,24.53,35.2,35.625,33.63,28.0,34.43,28.69,36.955,31.825,31.68,22.88,37.335,27.36,33.66,24.7,25.935,22.42,28.9,39.1,26.315,36.19,23.98,24.75,28.5,28.1,32.01,27.4,34.01,29.59,35.53,39.805,32.965,26.885,38.285,37.62,41.23,34.8,22.895,31.16,27.2,27.74,26.98,39.49,24.795,29.83,34.77,31.3,37.62,30.8,38.28,19.95,19.3,31.6,25.46,30.115,29.92,27.5,28.025,28.4,30.875,27.94,35.09,33.63,29.7,30.8,35.72,32.205,28.595,49.06,27.94,27.17,23.37,37.1,23.75,28.975,31.35,33.915,28.785,28.3,37.4,17.765,34.7,26.505,22.04,35.9,25.555,28.785,28.05,34.1,25.175,31.9,36.0,22.42,32.49,25.3,29.735,28.69,38.83,30.495,37.73,37.43,28.4,24.13,29.7,37.145,23.37,25.46,39.52,24.42,25.175,35.53,27.83,26.6,36.85,39.6,29.8,29.64,28.215,37.0,33.155,31.825,18.905,41.47,30.3,15.96,34.8,33.345,37.7,27.835,29.2,28.9,33.155,28.595,38.28,19.95,26.41,30.69,41.895,29.92,30.9,32.2,32.11,31.57,26.2,25.74,26.6,34.43,30.59,32.8,28.6,18.05,39.33,32.11,32.23,24.035,36.08,22.3,28.88,26.4,27.74,31.8,41.23,33.0,30.875,28.5,26.73,30.9,37.1,26.6,23.1,29.92,23.21,33.7,33.25,30.8,34.8,24.64,33.88,38.06,41.91,31.635,25.46,36.195,27.83,17.8,27.5,24.51,22.22,26.73,38.39,29.07,38.06,36.67,22.135,26.8,35.3,27.74,30.02,38.06,35.86,20.9,28.975,17.29,32.2,34.21,30.3,31.825,25.365,33.63,40.15,24.415,31.92,25.2,26.84,24.32,36.955,38.06,42.35,19.8,32.395,30.2,25.84,29.37,34.2,37.05,27.455,27.55,26.6,20.615,24.3,31.79,21.56,28.12,40.565,27.645,32.395,31.2,26.62,48.07,26.22,36.765,26.4,33.4,29.64,45.54,28.82,26.8,22.99,27.7,25.41,34.39,28.88,27.55,22.61,37.51,33.0,38.0,33.345,27.5,33.33,34.865,33.06,26.6,24.7,35.97,35.86,31.4,33.25,32.205,32.775,27.645,37.335,25.27,29.64,30.8,40.945,27.2,34.105,23.21,36.48,33.8,36.7,36.385,27.36,31.16,28.785,35.72,34.5,25.74,27.55,32.3,27.72,27.6,30.02,27.55,36.765,41.47,29.26,35.75,33.345,29.92,27.835,23.18,25.6,27.7,35.245,38.28,27.6,43.89,29.83,41.91,20.79,32.3,30.5,21.7,26.4,21.89,30.78,32.3,24.985,32.015,30.4,21.09,22.23,33.155,32.9,33.33,28.31,24.89,40.15,30.115,31.46,17.955,30.685,33.0,43.34,22.135,34.4,39.05,25.365,22.61,30.21,35.625,37.43,31.445,31.35,32.3,19.855,34.4,31.02,25.6,38.17,20.6,47.52,32.965,32.3,20.4,38.38,24.31,23.6,21.12,30.03,17.48,20.235,17.195,23.9,35.15,35.64,34.1,22.6,39.16,26.98,33.88,35.86,32.775,30.59,30.2,24.31,27.265,29.165,16.815,30.4,33.1,20.235,26.9,30.5,28.595,33.11,31.73,28.9,46.75,29.45,32.68,33.5,43.01,36.52,26.695,33.1,29.64,25.65,29.6,38.6,29.6,24.13,23.4,29.735,46.53,37.4,30.14,30.495,39.6,33.0,36.63,30.0,38.095,25.935,25.175,28.38,28.7,33.82,24.32,24.09,32.67,30.115,29.8,33.345,25.1,28.31,28.5,35.625,36.85,32.56,41.325,37.51,31.35,39.5,34.3,31.065,21.47,28.7,38.06,31.16,32.9,25.08,25.08,43.4,25.7,27.93,23.6,28.7,23.98,39.2,34.4,26.03,23.21,30.25,28.93,30.875,31.35,23.75,25.27,28.7,32.11,33.66,22.42,30.4,28.3,35.7,35.31,30.495,31.0,30.875,27.36,44.22,33.915,37.73,26.07,33.88,30.59,25.8,39.425,25.46,42.13,31.73,29.7,36.19,40.48,28.025,38.9,30.2,28.05,31.35,38.0,31.79,36.3,47.41,30.21,25.84,35.435,46.7,28.595,46.2,30.8,28.93,21.4,31.73,41.325,23.8,33.44,34.21,34.105,35.53,19.95,32.68,30.5,44.77,32.12,30.495,40.565,30.59,31.9,40.565,29.1,37.29,43.12,36.86,34.295,27.17,26.84,38.095,30.2,23.465,25.46,30.59,45.43,23.65,20.7,28.27,20.235,30.21,35.91,30.69,29.0,19.57,31.13,21.85,40.26,33.725,29.48,33.25,32.6,37.525,39.16,31.635,25.3,39.05,28.31,34.1,25.175,23.655,26.98,37.8,29.37,34.8,33.155,19.0,33.0,36.63,28.595,25.6,33.11,37.1,31.4,34.1,21.3,33.535,28.785,26.03,28.88,42.46,38.0,38.95,36.1,29.3,35.53,22.705,39.7,38.19,24.51,38.095,26.41,33.66,42.4,28.31,33.915,34.96,35.31,30.78,26.22,23.37,28.5,32.965,42.68,39.6,31.13,36.3,35.2,25.3,42.4,33.155,35.91,28.785,46.53,23.98,31.54,33.66,22.99,38.06,28.7,32.775,32.015,29.81,31.57,31.16,29.7,31.02,43.89,21.375,40.81,31.35,36.1,23.18,17.4,20.3,35.3,24.32,18.5,26.41,26.125,41.69,24.1,31.13,27.36,36.2,32.395,23.655,34.8,40.185,32.3,35.75,33.725,39.27,34.87,44.745,41.47,26.41,29.545,32.9,38.06,28.69,30.495,27.74,35.2,23.54,30.685,40.47,22.6,28.9,22.61,24.32,36.67,33.44,40.66,36.6,37.4,35.4,27.075,39.05,28.405,21.755,40.28,36.08,24.42,21.4,30.1,27.265,32.1,34.77,38.39,23.7,31.73,35.5,24.035,29.15,34.105,26.62,26.41,30.115,27.0,21.755,36.0,30.875,26.4,28.975,37.905,22.77,33.63,27.645,22.8,27.83,37.43,38.17,34.58,35.2,27.1,26.03,25.175,31.825,32.3,29.0,39.7,19.475,36.1,26.7,36.48,28.88,34.2,33.33,32.3,39.805,34.32,28.88,24.4,41.14,35.97,27.6,29.26,27.7,36.955,36.86,22.515,29.92,41.8,27.6,23.18,20.9,31.92,28.5,44.22,22.895,33.1,24.795,26.18,35.97,22.3,42.24,26.51,35.815,41.42,36.575,30.14,25.84,30.8,42.94,21.01,22.515,34.43,31.46,24.225,37.1,26.125,35.53,33.7,17.67,31.13,29.81,24.32,31.825,31.79,28.025,30.78,21.85,33.1,25.84,23.845,34.39,33.82,35.97,31.5,28.31,23.465,31.35,31.1,24.7,32.78,29.81,30.495,32.45,34.2,50.38,24.1,32.775,30.78,32.3,35.53,23.75,23.845,29.6,33.11,24.13,32.23,28.1,47.6,28.0,33.535,19.855,25.4,29.9,37.29,43.7,23.655,24.3,36.2,29.48,24.86,30.1,21.85,28.12,27.1,33.44,28.8,29.5,34.8,27.36,22.135,37.05,26.695,28.93,28.975,30.02,39.5,33.63,26.885,29.04,24.035,38.94,32.11,44.0,20.045,25.555,40.26,22.515,22.515,40.92,27.265,36.85,35.1,29.355,32.585,32.34,39.8,24.6,28.31,31.73,26.695,27.5,24.605,33.99,26.885,22.895,28.2,34.21,25.0,33.2,31.0,35.815,23.2,32.11,23.4,20.1,39.16,34.21,46.53,32.5,25.8,35.3,37.18,27.5,29.735,24.225,26.18,29.48,23.21,46.09,40.185,22.61,39.93,35.8,35.8,34.2,31.255,29.7,18.335,42.9,28.405,30.2,27.835,39.49,30.8,26.79,34.96,36.67,39.615,25.9,35.2,24.795,36.765,27.1,24.795,25.365,25.745,34.32,28.16,23.56,20.235,40.5,35.42,22.895,40.15,29.15,39.995,29.92,25.46,21.375,25.9,30.59,30.115,25.8,30.115,27.645,34.675,20.52,19.8,27.835,31.6,28.27,20.045,23.275,34.1,36.85,36.29,26.885,22.99,32.7,25.8,29.6,19.19,31.73,29.26,28.215,24.985,27.74,22.8,20.13,33.33,32.3,27.6,25.46,24.605,34.2,35.815,32.68,37.0,31.02,36.08,23.32,45.32,34.6,26.03,18.715,31.6,17.29,23.655,35.2,27.93,21.565,38.38,23.0,37.07,30.495,28.88,27.265,28.025,23.085,30.685,25.8,35.245,24.7,25.08,52.58,22.515,30.9,36.955,26.41,29.83,29.8,21.47,27.645,28.9,31.79,39.49,33.82,32.01,27.94,41.14,28.595,25.6,25.3,37.29,42.655,21.66,31.9,37.07,31.445,31.255,28.88,18.335,29.59,32.0,26.03,31.68,33.66,21.78,27.835,19.95,31.5,30.495,18.3,28.975,31.54,47.74,22.1,36.19,29.83,32.7,30.4,33.7,31.35,34.96,33.77,30.875,33.99,19.095,28.6,38.94,36.08,29.8,31.24,29.925,26.22,30.0,20.35,32.3,38.39,25.85,26.315,24.51,32.67,29.64,33.33,35.75,19.95,31.4,38.17,36.86,32.395,42.75,25.08,29.9,35.86,32.8,18.6,23.87,45.9,40.28,18.335,33.82,28.12,25.0,22.23,30.25,32.49,37.07,32.6,24.86,32.34,32.3,32.775,32.8,31.92,21.5,34.1,30.305,36.48,32.56,35.815,27.93,22.135,44.88,23.18,30.59,41.1,34.58,42.13,38.83,28.215,28.31,26.125,40.37,24.6,35.2,34.105,27.36,26.7,41.91,29.26,32.11,27.1,24.13,27.4,34.865,29.81,41.325,29.925,30.3,27.36,28.49,23.56,35.625,32.68,25.27,28.0,32.775,21.755,32.395,36.575,21.755,27.93,30.02,33.55,29.355,25.8,24.32,40.375,32.11,32.3,27.28,17.86,34.8,33.4,25.555,37.1,30.875,34.1,21.47,33.3,31.255,39.14,25.08,37.29,34.6,30.21,21.945,24.97,25.3,24.42,23.94,39.82,16.815,37.18,34.43,30.305,34.485,21.8,24.605,23.3,27.83,31.065,21.66,28.215,22.705,42.13,41.8,36.96,21.28,33.11,33.33,24.3,25.7,29.4,39.82,33.63,29.83,19.8,27.3,29.3,27.72,37.9,36.385,27.645,37.715,23.18,20.52,37.1,28.05,29.9,33.345,23.76,30.5,31.065,33.3,27.5,33.915,34.485,25.52,27.61,27.06,23.7,30.4,29.735,29.925,26.79,33.33,27.645,21.66,30.03,36.3,24.32,17.29,25.9,39.4,34.32,19.95,34.9,23.21,25.745,25.175,22.0,26.125,26.51,27.455,25.745,30.36,30.875,20.8,27.8,24.605,27.72,21.85,28.12,30.2,32.2,26.315,26.695,42.9,34.7,23.655,28.31,20.6,53.13,39.71,26.315,31.065,26.695,38.83,40.37,25.935,33.535,32.87,30.03,24.225,38.6,25.74,33.4,44.7,30.97,31.92,36.85,25.8,29.07],\"xaxis\":\"x2\",\"yaxis\":\"y2\",\"type\":\"box\"}],                        {\"template\":{\"data\":{\"bar\":[{\"error_x\":{\"color\":\"#2a3f5f\"},\"error_y\":{\"color\":\"#2a3f5f\"},\"marker\":{\"line\":{\"color\":\"#E5ECF6\",\"width\":0.5},\"pattern\":{\"fillmode\":\"overlay\",\"size\":10,\"solidity\":0.2}},\"type\":\"bar\"}],\"barpolar\":[{\"marker\":{\"line\":{\"color\":\"#E5ECF6\",\"width\":0.5},\"pattern\":{\"fillmode\":\"overlay\",\"size\":10,\"solidity\":0.2}},\"type\":\"barpolar\"}],\"carpet\":[{\"aaxis\":{\"endlinecolor\":\"#2a3f5f\",\"gridcolor\":\"white\",\"linecolor\":\"white\",\"minorgridcolor\":\"white\",\"startlinecolor\":\"#2a3f5f\"},\"baxis\":{\"endlinecolor\":\"#2a3f5f\",\"gridcolor\":\"white\",\"linecolor\":\"white\",\"minorgridcolor\":\"white\",\"startlinecolor\":\"#2a3f5f\"},\"type\":\"carpet\"}],\"choropleth\":[{\"colorbar\":{\"outlinewidth\":0,\"ticks\":\"\"},\"type\":\"choropleth\"}],\"contour\":[{\"colorbar\":{\"outlinewidth\":0,\"ticks\":\"\"},\"colorscale\":[[0.0,\"#0d0887\"],[0.1111111111111111,\"#46039f\"],[0.2222222222222222,\"#7201a8\"],[0.3333333333333333,\"#9c179e\"],[0.4444444444444444,\"#bd3786\"],[0.5555555555555556,\"#d8576b\"],[0.6666666666666666,\"#ed7953\"],[0.7777777777777778,\"#fb9f3a\"],[0.8888888888888888,\"#fdca26\"],[1.0,\"#f0f921\"]],\"type\":\"contour\"}],\"contourcarpet\":[{\"colorbar\":{\"outlinewidth\":0,\"ticks\":\"\"},\"type\":\"contourcarpet\"}],\"heatmap\":[{\"colorbar\":{\"outlinewidth\":0,\"ticks\":\"\"},\"colorscale\":[[0.0,\"#0d0887\"],[0.1111111111111111,\"#46039f\"],[0.2222222222222222,\"#7201a8\"],[0.3333333333333333,\"#9c179e\"],[0.4444444444444444,\"#bd3786\"],[0.5555555555555556,\"#d8576b\"],[0.6666666666666666,\"#ed7953\"],[0.7777777777777778,\"#fb9f3a\"],[0.8888888888888888,\"#fdca26\"],[1.0,\"#f0f921\"]],\"type\":\"heatmap\"}],\"heatmapgl\":[{\"colorbar\":{\"outlinewidth\":0,\"ticks\":\"\"},\"colorscale\":[[0.0,\"#0d0887\"],[0.1111111111111111,\"#46039f\"],[0.2222222222222222,\"#7201a8\"],[0.3333333333333333,\"#9c179e\"],[0.4444444444444444,\"#bd3786\"],[0.5555555555555556,\"#d8576b\"],[0.6666666666666666,\"#ed7953\"],[0.7777777777777778,\"#fb9f3a\"],[0.8888888888888888,\"#fdca26\"],[1.0,\"#f0f921\"]],\"type\":\"heatmapgl\"}],\"histogram\":[{\"marker\":{\"pattern\":{\"fillmode\":\"overlay\",\"size\":10,\"solidity\":0.2}},\"type\":\"histogram\"}],\"histogram2d\":[{\"colorbar\":{\"outlinewidth\":0,\"ticks\":\"\"},\"colorscale\":[[0.0,\"#0d0887\"],[0.1111111111111111,\"#46039f\"],[0.2222222222222222,\"#7201a8\"],[0.3333333333333333,\"#9c179e\"],[0.4444444444444444,\"#bd3786\"],[0.5555555555555556,\"#d8576b\"],[0.6666666666666666,\"#ed7953\"],[0.7777777777777778,\"#fb9f3a\"],[0.8888888888888888,\"#fdca26\"],[1.0,\"#f0f921\"]],\"type\":\"histogram2d\"}],\"histogram2dcontour\":[{\"colorbar\":{\"outlinewidth\":0,\"ticks\":\"\"},\"colorscale\":[[0.0,\"#0d0887\"],[0.1111111111111111,\"#46039f\"],[0.2222222222222222,\"#7201a8\"],[0.3333333333333333,\"#9c179e\"],[0.4444444444444444,\"#bd3786\"],[0.5555555555555556,\"#d8576b\"],[0.6666666666666666,\"#ed7953\"],[0.7777777777777778,\"#fb9f3a\"],[0.8888888888888888,\"#fdca26\"],[1.0,\"#f0f921\"]],\"type\":\"histogram2dcontour\"}],\"mesh3d\":[{\"colorbar\":{\"outlinewidth\":0,\"ticks\":\"\"},\"type\":\"mesh3d\"}],\"parcoords\":[{\"line\":{\"colorbar\":{\"outlinewidth\":0,\"ticks\":\"\"}},\"type\":\"parcoords\"}],\"pie\":[{\"automargin\":true,\"type\":\"pie\"}],\"scatter\":[{\"marker\":{\"colorbar\":{\"outlinewidth\":0,\"ticks\":\"\"}},\"type\":\"scatter\"}],\"scatter3d\":[{\"line\":{\"colorbar\":{\"outlinewidth\":0,\"ticks\":\"\"}},\"marker\":{\"colorbar\":{\"outlinewidth\":0,\"ticks\":\"\"}},\"type\":\"scatter3d\"}],\"scattercarpet\":[{\"marker\":{\"colorbar\":{\"outlinewidth\":0,\"ticks\":\"\"}},\"type\":\"scattercarpet\"}],\"scattergeo\":[{\"marker\":{\"colorbar\":{\"outlinewidth\":0,\"ticks\":\"\"}},\"type\":\"scattergeo\"}],\"scattergl\":[{\"marker\":{\"colorbar\":{\"outlinewidth\":0,\"ticks\":\"\"}},\"type\":\"scattergl\"}],\"scattermapbox\":[{\"marker\":{\"colorbar\":{\"outlinewidth\":0,\"ticks\":\"\"}},\"type\":\"scattermapbox\"}],\"scatterpolar\":[{\"marker\":{\"colorbar\":{\"outlinewidth\":0,\"ticks\":\"\"}},\"type\":\"scatterpolar\"}],\"scatterpolargl\":[{\"marker\":{\"colorbar\":{\"outlinewidth\":0,\"ticks\":\"\"}},\"type\":\"scatterpolargl\"}],\"scatterternary\":[{\"marker\":{\"colorbar\":{\"outlinewidth\":0,\"ticks\":\"\"}},\"type\":\"scatterternary\"}],\"surface\":[{\"colorbar\":{\"outlinewidth\":0,\"ticks\":\"\"},\"colorscale\":[[0.0,\"#0d0887\"],[0.1111111111111111,\"#46039f\"],[0.2222222222222222,\"#7201a8\"],[0.3333333333333333,\"#9c179e\"],[0.4444444444444444,\"#bd3786\"],[0.5555555555555556,\"#d8576b\"],[0.6666666666666666,\"#ed7953\"],[0.7777777777777778,\"#fb9f3a\"],[0.8888888888888888,\"#fdca26\"],[1.0,\"#f0f921\"]],\"type\":\"surface\"}],\"table\":[{\"cells\":{\"fill\":{\"color\":\"#EBF0F8\"},\"line\":{\"color\":\"white\"}},\"header\":{\"fill\":{\"color\":\"#C8D4E3\"},\"line\":{\"color\":\"white\"}},\"type\":\"table\"}]},\"layout\":{\"annotationdefaults\":{\"arrowcolor\":\"#2a3f5f\",\"arrowhead\":0,\"arrowwidth\":1},\"autotypenumbers\":\"strict\",\"coloraxis\":{\"colorbar\":{\"outlinewidth\":0,\"ticks\":\"\"}},\"colorscale\":{\"diverging\":[[0,\"#8e0152\"],[0.1,\"#c51b7d\"],[0.2,\"#de77ae\"],[0.3,\"#f1b6da\"],[0.4,\"#fde0ef\"],[0.5,\"#f7f7f7\"],[0.6,\"#e6f5d0\"],[0.7,\"#b8e186\"],[0.8,\"#7fbc41\"],[0.9,\"#4d9221\"],[1,\"#276419\"]],\"sequential\":[[0.0,\"#0d0887\"],[0.1111111111111111,\"#46039f\"],[0.2222222222222222,\"#7201a8\"],[0.3333333333333333,\"#9c179e\"],[0.4444444444444444,\"#bd3786\"],[0.5555555555555556,\"#d8576b\"],[0.6666666666666666,\"#ed7953\"],[0.7777777777777778,\"#fb9f3a\"],[0.8888888888888888,\"#fdca26\"],[1.0,\"#f0f921\"]],\"sequentialminus\":[[0.0,\"#0d0887\"],[0.1111111111111111,\"#46039f\"],[0.2222222222222222,\"#7201a8\"],[0.3333333333333333,\"#9c179e\"],[0.4444444444444444,\"#bd3786\"],[0.5555555555555556,\"#d8576b\"],[0.6666666666666666,\"#ed7953\"],[0.7777777777777778,\"#fb9f3a\"],[0.8888888888888888,\"#fdca26\"],[1.0,\"#f0f921\"]]},\"colorway\":[\"#636efa\",\"#EF553B\",\"#00cc96\",\"#ab63fa\",\"#FFA15A\",\"#19d3f3\",\"#FF6692\",\"#B6E880\",\"#FF97FF\",\"#FECB52\"],\"font\":{\"color\":\"#2a3f5f\"},\"geo\":{\"bgcolor\":\"white\",\"lakecolor\":\"white\",\"landcolor\":\"#E5ECF6\",\"showlakes\":true,\"showland\":true,\"subunitcolor\":\"white\"},\"hoverlabel\":{\"align\":\"left\"},\"hovermode\":\"closest\",\"mapbox\":{\"style\":\"light\"},\"paper_bgcolor\":\"white\",\"plot_bgcolor\":\"#E5ECF6\",\"polar\":{\"angularaxis\":{\"gridcolor\":\"white\",\"linecolor\":\"white\",\"ticks\":\"\"},\"bgcolor\":\"#E5ECF6\",\"radialaxis\":{\"gridcolor\":\"white\",\"linecolor\":\"white\",\"ticks\":\"\"}},\"scene\":{\"xaxis\":{\"backgroundcolor\":\"#E5ECF6\",\"gridcolor\":\"white\",\"gridwidth\":2,\"linecolor\":\"white\",\"showbackground\":true,\"ticks\":\"\",\"zerolinecolor\":\"white\"},\"yaxis\":{\"backgroundcolor\":\"#E5ECF6\",\"gridcolor\":\"white\",\"gridwidth\":2,\"linecolor\":\"white\",\"showbackground\":true,\"ticks\":\"\",\"zerolinecolor\":\"white\"},\"zaxis\":{\"backgroundcolor\":\"#E5ECF6\",\"gridcolor\":\"white\",\"gridwidth\":2,\"linecolor\":\"white\",\"showbackground\":true,\"ticks\":\"\",\"zerolinecolor\":\"white\"}},\"shapedefaults\":{\"line\":{\"color\":\"#2a3f5f\"}},\"ternary\":{\"aaxis\":{\"gridcolor\":\"white\",\"linecolor\":\"white\",\"ticks\":\"\"},\"baxis\":{\"gridcolor\":\"white\",\"linecolor\":\"white\",\"ticks\":\"\"},\"bgcolor\":\"#E5ECF6\",\"caxis\":{\"gridcolor\":\"white\",\"linecolor\":\"white\",\"ticks\":\"\"}},\"title\":{\"x\":0.05},\"xaxis\":{\"automargin\":true,\"gridcolor\":\"white\",\"linecolor\":\"white\",\"ticks\":\"\",\"title\":{\"standoff\":15},\"zerolinecolor\":\"white\",\"zerolinewidth\":2},\"yaxis\":{\"automargin\":true,\"gridcolor\":\"white\",\"linecolor\":\"white\",\"ticks\":\"\",\"title\":{\"standoff\":15},\"zerolinecolor\":\"white\",\"zerolinewidth\":2}}},\"xaxis\":{\"anchor\":\"y\",\"domain\":[0.0,1.0],\"title\":{\"text\":\"bmi\"}},\"yaxis\":{\"anchor\":\"x\",\"domain\":[0.0,0.8316],\"title\":{\"text\":\"count\"}},\"xaxis2\":{\"anchor\":\"y2\",\"domain\":[0.0,1.0],\"matches\":\"x\",\"showticklabels\":false,\"showgrid\":true},\"yaxis2\":{\"anchor\":\"x2\",\"domain\":[0.8416,1.0],\"matches\":\"y2\",\"showticklabels\":false,\"showline\":false,\"ticks\":\"\",\"showgrid\":false},\"legend\":{\"tracegroupgap\":0},\"title\":{\"text\":\"Distributionof BMI (Body Mass Index)\"},\"barmode\":\"relative\",\"bargap\":0.1},                        {\"responsive\": true}                    ).then(function(){\n",
              "                            \n",
              "var gd = document.getElementById('d38c721e-19f8-4079-94ee-272761a2c358');\n",
              "var x = new MutationObserver(function (mutations, observer) {{\n",
              "        var display = window.getComputedStyle(gd).display;\n",
              "        if (!display || display === 'none') {{\n",
              "            console.log([gd, 'removed!']);\n",
              "            Plotly.purge(gd);\n",
              "            observer.disconnect();\n",
              "        }}\n",
              "}});\n",
              "\n",
              "// Listen for the removal of the full notebook cells\n",
              "var notebookContainer = gd.closest('#notebook-container');\n",
              "if (notebookContainer) {{\n",
              "    x.observe(notebookContainer, {childList: true});\n",
              "}}\n",
              "\n",
              "// Listen for the clearing of the current output cell\n",
              "var outputEl = gd.closest('.output');\n",
              "if (outputEl) {{\n",
              "    x.observe(outputEl, {childList: true});\n",
              "}}\n",
              "\n",
              "                        })                };                            </script>        </div>\n",
              "</body>\n",
              "</html>"
            ]
          },
          "metadata": {}
        }
      ]
    },
    {
      "cell_type": "code",
      "source": [
        "fig = px.histogram(medical_df,\n",
        "                   x = 'charges',\n",
        "                   marginal = 'box',\n",
        "                   color = 'smoker',\n",
        "                   color_discrete_sequence = ['green', 'red'],\n",
        "                   title = 'Annual')\n",
        "fig.update_layout(bargap = 0.1)\n",
        "fig.show()"
      ],
      "metadata": {
        "colab": {
          "base_uri": "https://localhost:8080/",
          "height": 542
        },
        "id": "UyW1U4ejOhZ2",
        "outputId": "d9fd9147-b2cf-4e61-82d2-1b932eefe622"
      },
      "execution_count": 320,
      "outputs": [
        {
          "output_type": "display_data",
          "data": {
            "text/html": [
              "<html>\n",
              "<head><meta charset=\"utf-8\" /></head>\n",
              "<body>\n",
              "    <div>            <script src=\"https://cdnjs.cloudflare.com/ajax/libs/mathjax/2.7.5/MathJax.js?config=TeX-AMS-MML_SVG\"></script><script type=\"text/javascript\">if (window.MathJax) {MathJax.Hub.Config({SVG: {font: \"STIX-Web\"}});}</script>                <script type=\"text/javascript\">window.PlotlyConfig = {MathJaxConfig: 'local'};</script>\n",
              "        <script src=\"https://cdn.plot.ly/plotly-2.8.3.min.js\"></script>                <div id=\"ad5696fc-4f72-43d0-86ce-8666cdea35ce\" class=\"plotly-graph-div\" style=\"height:525px; width:100%;\"></div>            <script type=\"text/javascript\">                                    window.PLOTLYENV=window.PLOTLYENV || {};                                    if (document.getElementById(\"ad5696fc-4f72-43d0-86ce-8666cdea35ce\")) {                    Plotly.newPlot(                        \"ad5696fc-4f72-43d0-86ce-8666cdea35ce\",                        [{\"alignmentgroup\":\"True\",\"bingroup\":\"x\",\"hovertemplate\":\"smoker=yes<br>charges=%{x}<br>count=%{y}<extra></extra>\",\"legendgroup\":\"yes\",\"marker\":{\"color\":\"green\",\"pattern\":{\"shape\":\"\"}},\"name\":\"yes\",\"offsetgroup\":\"yes\",\"orientation\":\"v\",\"showlegend\":true,\"x\":[16884.924,27808.7251,39611.7577,36837.467,37701.8768,38711.0,35585.576,51194.55914,39774.2763,48173.361,38709.176,23568.272,37742.5757,47496.49445,34303.1672,23244.7902,14711.7438,17663.1442,16577.7795,37165.1638,39836.519,21098.55405,43578.9394,30184.9367,47291.055,22412.6485,15820.699,30942.1918,17560.37975,47055.5321,19107.7796,39556.4945,17081.08,32734.1863,18972.495,20745.9891,40720.55105,19964.7463,21223.6758,15518.18025,36950.2567,21348.706,36149.4835,48824.45,43753.33705,37133.8982,20984.0936,34779.615,19515.5416,19444.2658,17352.6803,38511.6283,29523.1656,12829.4551,47305.305,44260.7499,41097.16175,43921.1837,33750.2918,17085.2676,24869.8368,36219.40545,46151.1245,17179.522,42856.838,22331.5668,48549.17835,47896.79135,42112.2356,16297.846,21978.6769,38746.3551,24873.3849,42124.5153,34838.873,35491.64,42760.5022,47928.03,48517.56315,24393.6224,41919.097,13844.506,36085.219,18033.9679,21659.9301,38126.2465,15006.57945,42303.69215,19594.80965,14455.64405,18608.262,28950.4692,46889.2612,46599.1084,39125.33225,37079.372,26109.32905,22144.032,19521.9682,25382.297,28868.6639,35147.52848,48885.13561,17942.106,36197.699,22218.1149,32548.3405,21082.16,38245.59327,48675.5177,63770.42801,23807.2406,45863.205,39983.42595,45702.02235,58571.07448,43943.8761,15359.1045,17468.9839,25678.77845,39241.442,42969.8527,23306.547,34439.8559,40182.246,34617.84065,42983.4585,20149.3229,32787.45859,24667.419,27037.9141,42560.4304,40003.33225,45710.20785,46200.9851,46130.5265,40103.89,34806.4677,40273.6455,44400.4064,40932.4295,16657.71745,19361.9988,40419.0191,36189.1017,44585.45587,18246.4955,43254.41795,19539.243,23065.4207,36307.7983,19040.876,17748.5062,18259.216,24520.264,21195.818,18310.742,17904.52705,38792.6856,23401.30575,55135.40209,43813.8661,20773.62775,39597.4072,36021.0112,27533.9129,45008.9555,37270.1512,42111.6647,24106.91255,40974.1649,15817.9857,46113.511,46255.1125,19719.6947,27218.43725,29330.98315,44202.6536,19798.05455,48673.5588,17496.306,33732.6867,21774.32215,35069.37452,39047.285,19933.458,47462.894,38998.546,20009.63365,41999.52,41034.2214,23967.38305,16138.76205,19199.944,14571.8908,16420.49455,17361.7661,34472.841,24915.22085,18767.7377,35595.5898,42211.1382,16450.8947,21677.28345,44423.803,13747.87235,37484.4493,39725.51805,20234.85475,33475.81715,21880.82,44501.3982,39727.614,25309.489,48970.2476,39871.7043,34672.1472,19023.26,41676.0811,33907.548,44641.1974,16776.30405,41949.2441,24180.9335,36124.5737,38282.7495,34166.273,46661.4424,40904.1995,36898.73308,52590.82939,40941.2854,39722.7462,17178.6824,22478.6,23887.6627,19350.3689,18328.2381,37465.34375,21771.3423,33307.5508,18223.4512,38415.474,20296.86345,41661.602,26125.67477,60021.39897,20167.33603,47269.854,49577.6624,37607.5277,18648.4217,16232.847,26926.5144,34254.05335,17043.3414,22462.04375,24535.69855,14283.4594,47403.88,38344.566,34828.654,62592.87309,46718.16325,37829.7242,21259.37795,16115.3045,21472.4788,33900.653,36397.576,18765.87545,28101.33305,43896.3763,29141.3603],\"xaxis\":\"x\",\"yaxis\":\"y\",\"type\":\"histogram\"},{\"alignmentgroup\":\"True\",\"hovertemplate\":\"smoker=yes<br>charges=%{x}<extra></extra>\",\"legendgroup\":\"yes\",\"marker\":{\"color\":\"green\"},\"name\":\"yes\",\"notched\":true,\"offsetgroup\":\"yes\",\"showlegend\":false,\"x\":[16884.924,27808.7251,39611.7577,36837.467,37701.8768,38711.0,35585.576,51194.55914,39774.2763,48173.361,38709.176,23568.272,37742.5757,47496.49445,34303.1672,23244.7902,14711.7438,17663.1442,16577.7795,37165.1638,39836.519,21098.55405,43578.9394,30184.9367,47291.055,22412.6485,15820.699,30942.1918,17560.37975,47055.5321,19107.7796,39556.4945,17081.08,32734.1863,18972.495,20745.9891,40720.55105,19964.7463,21223.6758,15518.18025,36950.2567,21348.706,36149.4835,48824.45,43753.33705,37133.8982,20984.0936,34779.615,19515.5416,19444.2658,17352.6803,38511.6283,29523.1656,12829.4551,47305.305,44260.7499,41097.16175,43921.1837,33750.2918,17085.2676,24869.8368,36219.40545,46151.1245,17179.522,42856.838,22331.5668,48549.17835,47896.79135,42112.2356,16297.846,21978.6769,38746.3551,24873.3849,42124.5153,34838.873,35491.64,42760.5022,47928.03,48517.56315,24393.6224,41919.097,13844.506,36085.219,18033.9679,21659.9301,38126.2465,15006.57945,42303.69215,19594.80965,14455.64405,18608.262,28950.4692,46889.2612,46599.1084,39125.33225,37079.372,26109.32905,22144.032,19521.9682,25382.297,28868.6639,35147.52848,48885.13561,17942.106,36197.699,22218.1149,32548.3405,21082.16,38245.59327,48675.5177,63770.42801,23807.2406,45863.205,39983.42595,45702.02235,58571.07448,43943.8761,15359.1045,17468.9839,25678.77845,39241.442,42969.8527,23306.547,34439.8559,40182.246,34617.84065,42983.4585,20149.3229,32787.45859,24667.419,27037.9141,42560.4304,40003.33225,45710.20785,46200.9851,46130.5265,40103.89,34806.4677,40273.6455,44400.4064,40932.4295,16657.71745,19361.9988,40419.0191,36189.1017,44585.45587,18246.4955,43254.41795,19539.243,23065.4207,36307.7983,19040.876,17748.5062,18259.216,24520.264,21195.818,18310.742,17904.52705,38792.6856,23401.30575,55135.40209,43813.8661,20773.62775,39597.4072,36021.0112,27533.9129,45008.9555,37270.1512,42111.6647,24106.91255,40974.1649,15817.9857,46113.511,46255.1125,19719.6947,27218.43725,29330.98315,44202.6536,19798.05455,48673.5588,17496.306,33732.6867,21774.32215,35069.37452,39047.285,19933.458,47462.894,38998.546,20009.63365,41999.52,41034.2214,23967.38305,16138.76205,19199.944,14571.8908,16420.49455,17361.7661,34472.841,24915.22085,18767.7377,35595.5898,42211.1382,16450.8947,21677.28345,44423.803,13747.87235,37484.4493,39725.51805,20234.85475,33475.81715,21880.82,44501.3982,39727.614,25309.489,48970.2476,39871.7043,34672.1472,19023.26,41676.0811,33907.548,44641.1974,16776.30405,41949.2441,24180.9335,36124.5737,38282.7495,34166.273,46661.4424,40904.1995,36898.73308,52590.82939,40941.2854,39722.7462,17178.6824,22478.6,23887.6627,19350.3689,18328.2381,37465.34375,21771.3423,33307.5508,18223.4512,38415.474,20296.86345,41661.602,26125.67477,60021.39897,20167.33603,47269.854,49577.6624,37607.5277,18648.4217,16232.847,26926.5144,34254.05335,17043.3414,22462.04375,24535.69855,14283.4594,47403.88,38344.566,34828.654,62592.87309,46718.16325,37829.7242,21259.37795,16115.3045,21472.4788,33900.653,36397.576,18765.87545,28101.33305,43896.3763,29141.3603],\"xaxis\":\"x2\",\"yaxis\":\"y2\",\"type\":\"box\"},{\"alignmentgroup\":\"True\",\"bingroup\":\"x\",\"hovertemplate\":\"smoker=no<br>charges=%{x}<br>count=%{y}<extra></extra>\",\"legendgroup\":\"no\",\"marker\":{\"color\":\"red\",\"pattern\":{\"shape\":\"\"}},\"name\":\"no\",\"offsetgroup\":\"no\",\"orientation\":\"v\",\"showlegend\":true,\"x\":[1725.5523,4449.462,21984.47061,3866.8552,3756.6216,8240.5896,7281.5056,6406.4107,28923.13692,2721.3208,1826.843,11090.7178,1837.237,10797.3362,2395.17155,10602.385,13228.84695,4149.736,1137.011,6203.90175,14001.1338,14451.83515,12268.63225,2775.19215,2198.18985,4687.797,13770.0979,1625.43375,15612.19335,2302.3,3046.062,4949.7587,6272.4772,6313.759,6079.6715,20630.28351,3393.35635,3556.9223,12629.8967,2211.13075,3579.8287,8059.6791,13607.36875,5989.52365,8606.2174,4504.6624,30166.61817,4133.64165,1743.214,14235.072,6389.37785,5920.1041,6799.458,11741.726,11946.6259,7726.854,11356.6609,3947.4131,1532.4697,2755.02095,6571.02435,4441.21315,7935.29115,11033.6617,11073.176,8026.6666,11082.5772,2026.9741,10942.13205,5729.0053,3766.8838,12105.32,10226.2842,6186.127,3645.0894,21344.8467,5003.853,2331.519,3877.30425,2867.1196,10825.2537,11881.358,4646.759,2404.7338,11488.31695,30259.99556,11381.3254,8601.3293,6686.4313,7740.337,1705.6245,2257.47525,10115.00885,3385.39915,9634.538,6082.405,12815.44495,13616.3586,11163.568,1632.56445,2457.21115,2155.6815,1261.442,2045.68525,27322.73386,2166.732,27375.90478,3490.5491,18157.876,5138.2567,9877.6077,10959.6947,1842.519,5125.2157,7789.635,6334.34355,7077.1894,6948.7008,19749.38338,10450.552,5152.134,5028.1466,10407.08585,4830.63,6128.79745,2719.27975,4827.90495,13405.3903,8116.68,1694.7964,5246.047,2855.43755,6455.86265,10436.096,8823.279,8538.28845,11735.87905,1631.8212,4005.4225,7419.4779,7731.4271,3981.9768,5325.651,6775.961,4922.9159,12557.6053,4883.866,2137.6536,12044.342,1137.4697,1639.5631,5649.715,8516.829,9644.2525,14901.5167,2130.6759,8871.1517,13012.20865,7147.105,4337.7352,11743.299,13880.949,6610.1097,1980.07,8162.71625,3537.703,5002.7827,8520.026,7371.772,10355.641,2483.736,3392.9768,25081.76784,5012.471,10564.8845,5253.524,11987.1682,2689.4954,24227.33724,7358.17565,9225.2564,7443.64305,14001.2867,1727.785,12333.828,6710.1919,1615.7667,4463.2051,7152.6714,5354.07465,35160.13457,7196.867,24476.47851,12648.7034,1986.9334,1832.094,4040.55825,4260.744,13047.33235,5400.9805,11520.09985,11837.16,20462.99766,14590.63205,7441.053,9282.4806,1719.4363,7265.7025,9617.66245,2523.1695,9715.841,2803.69785,2150.469,12928.7911,9855.1314,4237.12655,11879.10405,9625.92,7742.1098,9432.9253,14256.1928,25992.82104,3172.018,20277.80751,2156.7518,3906.127,1704.5681,9249.4952,6746.7425,12265.5069,4349.462,12646.207,19442.3535,20177.67113,4151.0287,11944.59435,7749.1564,8444.474,1737.376,8124.4084,9722.7695,8835.26495,10435.06525,7421.19455,4667.60765,4894.7533,24671.66334,11566.30055,2866.091,6600.20595,3561.8889,9144.565,13429.0354,11658.37915,19144.57652,13822.803,12142.5786,13937.6665,8232.6388,18955.22017,13352.0998,13217.0945,13981.85035,10977.2063,6184.2994,4889.9995,8334.45755,5478.0368,1635.73365,11830.6072,8932.084,3554.203,12404.8791,14133.03775,24603.04837,8944.1151,9620.3307,1837.2819,1607.5101,10043.249,4751.07,2597.779,3180.5101,9778.3472,13430.265,8017.06115,8116.26885,3481.868,13415.0381,12029.2867,7639.41745,1391.5287,16455.70785,27000.98473,20781.48892,5846.9176,8302.53565,1261.859,11856.4115,30284.64294,3176.8159,4618.0799,10736.87075,2138.0707,8964.06055,9290.1395,9411.005,7526.70645,8522.003,16586.49771,14988.432,1631.6683,9264.797,8083.9198,14692.66935,10269.46,3260.199,11396.9002,4185.0979,8539.671,6652.5288,4074.4537,1621.3402,5080.096,2134.9015,7345.7266,9140.951,14418.2804,2727.3951,8968.33,9788.8659,6555.07035,7323.734819,3167.45585,18804.7524,23082.95533,4906.40965,5969.723,12638.195,4243.59005,13919.8229,2254.7967,5926.846,12592.5345,2897.3235,4738.2682,1149.3959,28287.89766,7345.084,12730.9996,11454.0215,5910.944,4762.329,7512.267,4032.2407,1969.614,1769.53165,4686.3887,21797.0004,11881.9696,11840.77505,10601.412,7682.67,10381.4787,15230.32405,11165.41765,1632.03625,13224.693,12643.3778,23288.9284,2201.0971,2497.0383,2203.47185,1744.465,20878.78443,2534.39375,1534.3045,1824.2854,15555.18875,9304.7019,1622.1885,9880.068,9563.029,4347.02335,12475.3513,1253.936,10461.9794,1748.774,24513.09126,2196.4732,12574.049,1967.0227,4931.647,8027.968,8211.1002,13470.86,6837.3687,5974.3847,6796.86325,2643.2685,3077.0955,3044.2133,11455.28,11763.0009,2498.4144,9361.3268,1256.299,11362.755,27724.28875,8413.46305,5240.765,3857.75925,25656.57526,3994.1778,9866.30485,5397.6167,11482.63485,24059.68019,9861.025,8342.90875,1708.0014,14043.4767,12925.886,19214.70553,13831.1152,6067.12675,5972.378,8825.086,8233.0975,27346.04207,6196.448,3056.3881,13887.204,10231.4999,3268.84665,11538.421,3213.62205,13390.559,3972.9247,12957.118,11187.6567,17878.90068,3847.674,8334.5896,3935.1799,1646.4297,9193.8385,10923.9332,2494.022,9058.7303,2801.2588,2128.43105,6373.55735,7256.7231,11552.904,3761.292,2219.4451,4753.6368,31620.00106,13224.05705,12222.8983,1664.9996,9724.53,3206.49135,12913.9924,1639.5631,6356.2707,17626.23951,1242.816,4779.6023,3861.20965,13635.6379,5976.8311,11842.442,8428.0693,2566.4707,5709.1644,8823.98575,7640.3092,5594.8455,7441.501,33471.97189,1633.0444,9174.13565,11070.535,16085.1275,9283.562,3558.62025,4435.0942,8547.6913,6571.544,2207.69745,6753.038,1880.07,11658.11505,10713.644,3659.346,9182.17,12129.61415,3736.4647,6748.5912,11326.71487,11365.952,10085.846,1977.815,3366.6697,7173.35995,9391.346,14410.9321,2709.1119,24915.04626,12949.1554,6666.243,13143.86485,4466.6214,18806.14547,10141.1362,6123.5688,8252.2843,1712.227,12430.95335,9800.8882,10579.711,8280.6227,8527.532,12244.531,3410.324,4058.71245,26392.26029,14394.39815,6435.6237,22192.43711,5148.5526,1136.3994,8703.456,6500.2359,4837.5823,3943.5954,4399.731,6185.3208,7222.78625,12485.8009,12363.547,10156.7832,2585.269,1242.26,9863.4718,4766.022,11244.3769,7729.64575,5438.7491,26236.57997,2104.1134,8068.185,2362.22905,2352.96845,3577.999,3201.24515,29186.48236,10976.24575,3500.6123,2020.5523,9541.69555,9504.3103,5385.3379,8930.93455,5375.038,10264.4421,6113.23105,5469.0066,1727.54,10107.2206,8310.83915,1984.4533,2457.502,12146.971,9566.9909,13112.6048,10848.1343,12231.6136,9875.6804,11264.541,12979.358,1263.249,10106.13425,6664.68595,2217.6012,6781.3542,10065.413,4234.927,9447.25035,14007.222,9583.8933,3484.331,8604.48365,3757.8448,8827.2099,9910.35985,11737.84884,1627.28245,8556.907,3062.50825,1906.35825,14210.53595,11833.7823,17128.42608,5031.26955,7985.815,5428.7277,3925.7582,2416.955,3070.8087,9095.06825,11842.62375,8062.764,7050.642,14319.031,6933.24225,27941.28758,11150.78,12797.20962,7261.741,10560.4917,6986.697,7448.40395,5934.3798,9869.8102,1146.7966,9386.1613,4350.5144,6414.178,12741.16745,1917.3184,5209.57885,13457.9608,5662.225,1252.407,2731.9122,7209.4918,4266.1658,4719.52405,11848.141,7046.7222,14313.8463,2103.08,1815.8759,7731.85785,28476.73499,2136.88225,1131.5066,3309.7926,9414.92,6360.9936,11013.7119,4428.88785,5584.3057,1877.9294,2842.76075,3597.596,7445.918,2680.9493,1621.8827,8219.2039,12523.6048,16069.08475,6117.4945,13393.756,5266.3656,4719.73655,11743.9341,5377.4578,7160.3303,4402.233,11657.7189,6402.29135,12622.1795,1526.312,12323.936,10072.05505,9872.701,2438.0552,2974.126,10601.63225,14119.62,11729.6795,1875.344,18218.16139,10965.446,7151.092,12269.68865,5458.04645,8782.469,6600.361,1141.4451,11576.13,13129.60345,4391.652,8457.818,3392.3652,5966.8874,6849.026,8891.1395,2690.1138,26140.3603,6653.7886,6282.235,6311.952,3443.064,2789.0574,2585.85065,4877.98105,5272.1758,1682.597,11945.1327,7243.8136,10422.91665,13555.0049,13063.883,2221.56445,1634.5734,2117.33885,8688.85885,4661.28635,8125.7845,12644.589,4564.19145,4846.92015,7633.7206,15170.069,2639.0429,14382.70905,7626.993,5257.50795,2473.3341,13041.921,5245.2269,13451.122,13462.52,5488.262,4320.41085,6250.435,25333.33284,2913.569,12032.326,13470.8044,6289.7549,2927.0647,6238.298,10096.97,7348.142,4673.3922,12233.828,32108.66282,8965.79575,2304.0022,9487.6442,1121.8739,9549.5651,2217.46915,1628.4709,12982.8747,11674.13,7160.094,6358.77645,11534.87265,4527.18295,3875.7341,12609.88702,28468.91901,2730.10785,3353.284,14474.675,9500.57305,26467.09737,4746.344,7518.02535,3279.86855,8596.8278,10702.6424,4992.3764,2527.81865,1759.338,2322.6218,7804.1605,2902.9065,9704.66805,4889.0368,25517.11363,4500.33925,16796.41194,4915.05985,7624.63,8410.04685,28340.18885,4518.82625,3378.91,7144.86265,10118.424,5484.4673,7986.47525,7418.522,13887.9685,6551.7501,5267.81815,1972.95,21232.18226,8627.5411,4433.3877,4438.2634,23241.47453,9957.7216,8269.044,36580.28216,8765.249,5383.536,12124.9924,2709.24395,3987.926,12495.29085,26018.95052,8798.593,1711.0268,8569.8618,2020.177,21595.38229,9850.432,6877.9801,4137.5227,12950.0712,12094.478,2250.8352,22493.65964,1704.70015,3161.454,11394.06555,7325.0482,3594.17085,8023.13545,14394.5579,9288.0267,3353.4703,10594.50155,8277.523,17929.30337,2480.9791,4462.7218,1981.5819,11554.2236,6548.19505,5708.867,7045.499,8978.1851,5757.41345,14349.8544,10928.849,13974.45555,1909.52745,12096.6512,13204.28565,4562.8421,8551.347,2102.2647,15161.5344,11884.04858,4454.40265,5855.9025,4076.497,15019.76005,10796.35025,11353.2276,9748.9106,10577.087,11286.5387,3591.48,11299.343,4561.1885,1674.6323,23045.56616,3227.1211,11253.421,3471.4096,11363.2832,20420.60465,10338.9316,8988.15875,10493.9458,2904.088,8605.3615,11512.405,5312.16985,2396.0959,10807.4863,9222.4026,5693.4305,8347.1643,18903.49141,14254.6082,10214.636,5836.5204,14358.36437,1728.897,8582.3023,3693.428,20709.02034,9991.03765,19673.33573,11085.5868,7623.518,3176.2877,3704.3545,9048.0273,7954.517,27117.99378,6338.0756,9630.397,11289.10925,2261.5688,10791.96,5979.731,2203.73595,12235.8392,5630.45785,11015.1747,7228.21565,14426.07385,2459.7201,3989.841,7727.2532,5124.1887,18963.17192,2200.83085,7153.5539,5227.98875,10982.5013,4529.477,4670.64,6112.35295,11093.6229,6457.8434,4433.9159,2154.361,6496.886,2899.48935,7650.77375,2850.68375,2632.992,9447.3824,8603.8234,13844.7972,13126.67745,5327.40025,13725.47184,13019.16105,8671.19125,4134.08245,18838.70366,5699.8375,6393.60345,4934.705,6198.7518,8733.22925,2055.3249,9964.06,5116.5004,36910.60803,12347.172,5373.36425,23563.01618,1702.4553,10806.839,3956.07145,12890.05765,5415.6612,4058.1161,7537.1639,4718.20355,6593.5083,8442.667,6858.4796,4795.6568,6640.54485,7162.0122,10594.2257,11938.25595,12479.70895,11345.519,8515.7587,2699.56835,14449.8544,12224.35085,6985.50695,3238.4357,4296.2712,3171.6149,1135.9407,5615.369,9101.798,6059.173,1633.9618,1241.565,15828.82173,4415.1588,6474.013,11436.73815,11305.93455,30063.58055,10197.7722,4544.2348,3277.161,6770.1925,7337.748,10370.91255,10704.47,1880.487,8615.3,3292.52985,3021.80915,14478.33015,4747.0529,10959.33,2741.948,4357.04365,4189.1131,8283.6807,1720.3537,8534.6718,3732.6251,5472.449,7147.4728,7133.9025,1515.3449,9301.89355,11931.12525,1964.78,1708.92575,4340.4409,5261.46945,2710.82855,3208.787,2464.6188,6875.961,6940.90985,4571.41305,4536.259,11272.33139,1731.677,1163.4627,19496.71917,7201.70085,5425.02335,12981.3457,4239.89265,13143.33665,7050.0213,9377.9047,22395.74424,10325.206,12629.1656,10795.93733,11411.685,10600.5483,2205.9808,1629.8335,2007.945],\"xaxis\":\"x\",\"yaxis\":\"y\",\"type\":\"histogram\"},{\"alignmentgroup\":\"True\",\"hovertemplate\":\"smoker=no<br>charges=%{x}<extra></extra>\",\"legendgroup\":\"no\",\"marker\":{\"color\":\"red\"},\"name\":\"no\",\"notched\":true,\"offsetgroup\":\"no\",\"showlegend\":false,\"x\":[1725.5523,4449.462,21984.47061,3866.8552,3756.6216,8240.5896,7281.5056,6406.4107,28923.13692,2721.3208,1826.843,11090.7178,1837.237,10797.3362,2395.17155,10602.385,13228.84695,4149.736,1137.011,6203.90175,14001.1338,14451.83515,12268.63225,2775.19215,2198.18985,4687.797,13770.0979,1625.43375,15612.19335,2302.3,3046.062,4949.7587,6272.4772,6313.759,6079.6715,20630.28351,3393.35635,3556.9223,12629.8967,2211.13075,3579.8287,8059.6791,13607.36875,5989.52365,8606.2174,4504.6624,30166.61817,4133.64165,1743.214,14235.072,6389.37785,5920.1041,6799.458,11741.726,11946.6259,7726.854,11356.6609,3947.4131,1532.4697,2755.02095,6571.02435,4441.21315,7935.29115,11033.6617,11073.176,8026.6666,11082.5772,2026.9741,10942.13205,5729.0053,3766.8838,12105.32,10226.2842,6186.127,3645.0894,21344.8467,5003.853,2331.519,3877.30425,2867.1196,10825.2537,11881.358,4646.759,2404.7338,11488.31695,30259.99556,11381.3254,8601.3293,6686.4313,7740.337,1705.6245,2257.47525,10115.00885,3385.39915,9634.538,6082.405,12815.44495,13616.3586,11163.568,1632.56445,2457.21115,2155.6815,1261.442,2045.68525,27322.73386,2166.732,27375.90478,3490.5491,18157.876,5138.2567,9877.6077,10959.6947,1842.519,5125.2157,7789.635,6334.34355,7077.1894,6948.7008,19749.38338,10450.552,5152.134,5028.1466,10407.08585,4830.63,6128.79745,2719.27975,4827.90495,13405.3903,8116.68,1694.7964,5246.047,2855.43755,6455.86265,10436.096,8823.279,8538.28845,11735.87905,1631.8212,4005.4225,7419.4779,7731.4271,3981.9768,5325.651,6775.961,4922.9159,12557.6053,4883.866,2137.6536,12044.342,1137.4697,1639.5631,5649.715,8516.829,9644.2525,14901.5167,2130.6759,8871.1517,13012.20865,7147.105,4337.7352,11743.299,13880.949,6610.1097,1980.07,8162.71625,3537.703,5002.7827,8520.026,7371.772,10355.641,2483.736,3392.9768,25081.76784,5012.471,10564.8845,5253.524,11987.1682,2689.4954,24227.33724,7358.17565,9225.2564,7443.64305,14001.2867,1727.785,12333.828,6710.1919,1615.7667,4463.2051,7152.6714,5354.07465,35160.13457,7196.867,24476.47851,12648.7034,1986.9334,1832.094,4040.55825,4260.744,13047.33235,5400.9805,11520.09985,11837.16,20462.99766,14590.63205,7441.053,9282.4806,1719.4363,7265.7025,9617.66245,2523.1695,9715.841,2803.69785,2150.469,12928.7911,9855.1314,4237.12655,11879.10405,9625.92,7742.1098,9432.9253,14256.1928,25992.82104,3172.018,20277.80751,2156.7518,3906.127,1704.5681,9249.4952,6746.7425,12265.5069,4349.462,12646.207,19442.3535,20177.67113,4151.0287,11944.59435,7749.1564,8444.474,1737.376,8124.4084,9722.7695,8835.26495,10435.06525,7421.19455,4667.60765,4894.7533,24671.66334,11566.30055,2866.091,6600.20595,3561.8889,9144.565,13429.0354,11658.37915,19144.57652,13822.803,12142.5786,13937.6665,8232.6388,18955.22017,13352.0998,13217.0945,13981.85035,10977.2063,6184.2994,4889.9995,8334.45755,5478.0368,1635.73365,11830.6072,8932.084,3554.203,12404.8791,14133.03775,24603.04837,8944.1151,9620.3307,1837.2819,1607.5101,10043.249,4751.07,2597.779,3180.5101,9778.3472,13430.265,8017.06115,8116.26885,3481.868,13415.0381,12029.2867,7639.41745,1391.5287,16455.70785,27000.98473,20781.48892,5846.9176,8302.53565,1261.859,11856.4115,30284.64294,3176.8159,4618.0799,10736.87075,2138.0707,8964.06055,9290.1395,9411.005,7526.70645,8522.003,16586.49771,14988.432,1631.6683,9264.797,8083.9198,14692.66935,10269.46,3260.199,11396.9002,4185.0979,8539.671,6652.5288,4074.4537,1621.3402,5080.096,2134.9015,7345.7266,9140.951,14418.2804,2727.3951,8968.33,9788.8659,6555.07035,7323.734819,3167.45585,18804.7524,23082.95533,4906.40965,5969.723,12638.195,4243.59005,13919.8229,2254.7967,5926.846,12592.5345,2897.3235,4738.2682,1149.3959,28287.89766,7345.084,12730.9996,11454.0215,5910.944,4762.329,7512.267,4032.2407,1969.614,1769.53165,4686.3887,21797.0004,11881.9696,11840.77505,10601.412,7682.67,10381.4787,15230.32405,11165.41765,1632.03625,13224.693,12643.3778,23288.9284,2201.0971,2497.0383,2203.47185,1744.465,20878.78443,2534.39375,1534.3045,1824.2854,15555.18875,9304.7019,1622.1885,9880.068,9563.029,4347.02335,12475.3513,1253.936,10461.9794,1748.774,24513.09126,2196.4732,12574.049,1967.0227,4931.647,8027.968,8211.1002,13470.86,6837.3687,5974.3847,6796.86325,2643.2685,3077.0955,3044.2133,11455.28,11763.0009,2498.4144,9361.3268,1256.299,11362.755,27724.28875,8413.46305,5240.765,3857.75925,25656.57526,3994.1778,9866.30485,5397.6167,11482.63485,24059.68019,9861.025,8342.90875,1708.0014,14043.4767,12925.886,19214.70553,13831.1152,6067.12675,5972.378,8825.086,8233.0975,27346.04207,6196.448,3056.3881,13887.204,10231.4999,3268.84665,11538.421,3213.62205,13390.559,3972.9247,12957.118,11187.6567,17878.90068,3847.674,8334.5896,3935.1799,1646.4297,9193.8385,10923.9332,2494.022,9058.7303,2801.2588,2128.43105,6373.55735,7256.7231,11552.904,3761.292,2219.4451,4753.6368,31620.00106,13224.05705,12222.8983,1664.9996,9724.53,3206.49135,12913.9924,1639.5631,6356.2707,17626.23951,1242.816,4779.6023,3861.20965,13635.6379,5976.8311,11842.442,8428.0693,2566.4707,5709.1644,8823.98575,7640.3092,5594.8455,7441.501,33471.97189,1633.0444,9174.13565,11070.535,16085.1275,9283.562,3558.62025,4435.0942,8547.6913,6571.544,2207.69745,6753.038,1880.07,11658.11505,10713.644,3659.346,9182.17,12129.61415,3736.4647,6748.5912,11326.71487,11365.952,10085.846,1977.815,3366.6697,7173.35995,9391.346,14410.9321,2709.1119,24915.04626,12949.1554,6666.243,13143.86485,4466.6214,18806.14547,10141.1362,6123.5688,8252.2843,1712.227,12430.95335,9800.8882,10579.711,8280.6227,8527.532,12244.531,3410.324,4058.71245,26392.26029,14394.39815,6435.6237,22192.43711,5148.5526,1136.3994,8703.456,6500.2359,4837.5823,3943.5954,4399.731,6185.3208,7222.78625,12485.8009,12363.547,10156.7832,2585.269,1242.26,9863.4718,4766.022,11244.3769,7729.64575,5438.7491,26236.57997,2104.1134,8068.185,2362.22905,2352.96845,3577.999,3201.24515,29186.48236,10976.24575,3500.6123,2020.5523,9541.69555,9504.3103,5385.3379,8930.93455,5375.038,10264.4421,6113.23105,5469.0066,1727.54,10107.2206,8310.83915,1984.4533,2457.502,12146.971,9566.9909,13112.6048,10848.1343,12231.6136,9875.6804,11264.541,12979.358,1263.249,10106.13425,6664.68595,2217.6012,6781.3542,10065.413,4234.927,9447.25035,14007.222,9583.8933,3484.331,8604.48365,3757.8448,8827.2099,9910.35985,11737.84884,1627.28245,8556.907,3062.50825,1906.35825,14210.53595,11833.7823,17128.42608,5031.26955,7985.815,5428.7277,3925.7582,2416.955,3070.8087,9095.06825,11842.62375,8062.764,7050.642,14319.031,6933.24225,27941.28758,11150.78,12797.20962,7261.741,10560.4917,6986.697,7448.40395,5934.3798,9869.8102,1146.7966,9386.1613,4350.5144,6414.178,12741.16745,1917.3184,5209.57885,13457.9608,5662.225,1252.407,2731.9122,7209.4918,4266.1658,4719.52405,11848.141,7046.7222,14313.8463,2103.08,1815.8759,7731.85785,28476.73499,2136.88225,1131.5066,3309.7926,9414.92,6360.9936,11013.7119,4428.88785,5584.3057,1877.9294,2842.76075,3597.596,7445.918,2680.9493,1621.8827,8219.2039,12523.6048,16069.08475,6117.4945,13393.756,5266.3656,4719.73655,11743.9341,5377.4578,7160.3303,4402.233,11657.7189,6402.29135,12622.1795,1526.312,12323.936,10072.05505,9872.701,2438.0552,2974.126,10601.63225,14119.62,11729.6795,1875.344,18218.16139,10965.446,7151.092,12269.68865,5458.04645,8782.469,6600.361,1141.4451,11576.13,13129.60345,4391.652,8457.818,3392.3652,5966.8874,6849.026,8891.1395,2690.1138,26140.3603,6653.7886,6282.235,6311.952,3443.064,2789.0574,2585.85065,4877.98105,5272.1758,1682.597,11945.1327,7243.8136,10422.91665,13555.0049,13063.883,2221.56445,1634.5734,2117.33885,8688.85885,4661.28635,8125.7845,12644.589,4564.19145,4846.92015,7633.7206,15170.069,2639.0429,14382.70905,7626.993,5257.50795,2473.3341,13041.921,5245.2269,13451.122,13462.52,5488.262,4320.41085,6250.435,25333.33284,2913.569,12032.326,13470.8044,6289.7549,2927.0647,6238.298,10096.97,7348.142,4673.3922,12233.828,32108.66282,8965.79575,2304.0022,9487.6442,1121.8739,9549.5651,2217.46915,1628.4709,12982.8747,11674.13,7160.094,6358.77645,11534.87265,4527.18295,3875.7341,12609.88702,28468.91901,2730.10785,3353.284,14474.675,9500.57305,26467.09737,4746.344,7518.02535,3279.86855,8596.8278,10702.6424,4992.3764,2527.81865,1759.338,2322.6218,7804.1605,2902.9065,9704.66805,4889.0368,25517.11363,4500.33925,16796.41194,4915.05985,7624.63,8410.04685,28340.18885,4518.82625,3378.91,7144.86265,10118.424,5484.4673,7986.47525,7418.522,13887.9685,6551.7501,5267.81815,1972.95,21232.18226,8627.5411,4433.3877,4438.2634,23241.47453,9957.7216,8269.044,36580.28216,8765.249,5383.536,12124.9924,2709.24395,3987.926,12495.29085,26018.95052,8798.593,1711.0268,8569.8618,2020.177,21595.38229,9850.432,6877.9801,4137.5227,12950.0712,12094.478,2250.8352,22493.65964,1704.70015,3161.454,11394.06555,7325.0482,3594.17085,8023.13545,14394.5579,9288.0267,3353.4703,10594.50155,8277.523,17929.30337,2480.9791,4462.7218,1981.5819,11554.2236,6548.19505,5708.867,7045.499,8978.1851,5757.41345,14349.8544,10928.849,13974.45555,1909.52745,12096.6512,13204.28565,4562.8421,8551.347,2102.2647,15161.5344,11884.04858,4454.40265,5855.9025,4076.497,15019.76005,10796.35025,11353.2276,9748.9106,10577.087,11286.5387,3591.48,11299.343,4561.1885,1674.6323,23045.56616,3227.1211,11253.421,3471.4096,11363.2832,20420.60465,10338.9316,8988.15875,10493.9458,2904.088,8605.3615,11512.405,5312.16985,2396.0959,10807.4863,9222.4026,5693.4305,8347.1643,18903.49141,14254.6082,10214.636,5836.5204,14358.36437,1728.897,8582.3023,3693.428,20709.02034,9991.03765,19673.33573,11085.5868,7623.518,3176.2877,3704.3545,9048.0273,7954.517,27117.99378,6338.0756,9630.397,11289.10925,2261.5688,10791.96,5979.731,2203.73595,12235.8392,5630.45785,11015.1747,7228.21565,14426.07385,2459.7201,3989.841,7727.2532,5124.1887,18963.17192,2200.83085,7153.5539,5227.98875,10982.5013,4529.477,4670.64,6112.35295,11093.6229,6457.8434,4433.9159,2154.361,6496.886,2899.48935,7650.77375,2850.68375,2632.992,9447.3824,8603.8234,13844.7972,13126.67745,5327.40025,13725.47184,13019.16105,8671.19125,4134.08245,18838.70366,5699.8375,6393.60345,4934.705,6198.7518,8733.22925,2055.3249,9964.06,5116.5004,36910.60803,12347.172,5373.36425,23563.01618,1702.4553,10806.839,3956.07145,12890.05765,5415.6612,4058.1161,7537.1639,4718.20355,6593.5083,8442.667,6858.4796,4795.6568,6640.54485,7162.0122,10594.2257,11938.25595,12479.70895,11345.519,8515.7587,2699.56835,14449.8544,12224.35085,6985.50695,3238.4357,4296.2712,3171.6149,1135.9407,5615.369,9101.798,6059.173,1633.9618,1241.565,15828.82173,4415.1588,6474.013,11436.73815,11305.93455,30063.58055,10197.7722,4544.2348,3277.161,6770.1925,7337.748,10370.91255,10704.47,1880.487,8615.3,3292.52985,3021.80915,14478.33015,4747.0529,10959.33,2741.948,4357.04365,4189.1131,8283.6807,1720.3537,8534.6718,3732.6251,5472.449,7147.4728,7133.9025,1515.3449,9301.89355,11931.12525,1964.78,1708.92575,4340.4409,5261.46945,2710.82855,3208.787,2464.6188,6875.961,6940.90985,4571.41305,4536.259,11272.33139,1731.677,1163.4627,19496.71917,7201.70085,5425.02335,12981.3457,4239.89265,13143.33665,7050.0213,9377.9047,22395.74424,10325.206,12629.1656,10795.93733,11411.685,10600.5483,2205.9808,1629.8335,2007.945],\"xaxis\":\"x2\",\"yaxis\":\"y2\",\"type\":\"box\"}],                        {\"template\":{\"data\":{\"bar\":[{\"error_x\":{\"color\":\"#2a3f5f\"},\"error_y\":{\"color\":\"#2a3f5f\"},\"marker\":{\"line\":{\"color\":\"#E5ECF6\",\"width\":0.5},\"pattern\":{\"fillmode\":\"overlay\",\"size\":10,\"solidity\":0.2}},\"type\":\"bar\"}],\"barpolar\":[{\"marker\":{\"line\":{\"color\":\"#E5ECF6\",\"width\":0.5},\"pattern\":{\"fillmode\":\"overlay\",\"size\":10,\"solidity\":0.2}},\"type\":\"barpolar\"}],\"carpet\":[{\"aaxis\":{\"endlinecolor\":\"#2a3f5f\",\"gridcolor\":\"white\",\"linecolor\":\"white\",\"minorgridcolor\":\"white\",\"startlinecolor\":\"#2a3f5f\"},\"baxis\":{\"endlinecolor\":\"#2a3f5f\",\"gridcolor\":\"white\",\"linecolor\":\"white\",\"minorgridcolor\":\"white\",\"startlinecolor\":\"#2a3f5f\"},\"type\":\"carpet\"}],\"choropleth\":[{\"colorbar\":{\"outlinewidth\":0,\"ticks\":\"\"},\"type\":\"choropleth\"}],\"contour\":[{\"colorbar\":{\"outlinewidth\":0,\"ticks\":\"\"},\"colorscale\":[[0.0,\"#0d0887\"],[0.1111111111111111,\"#46039f\"],[0.2222222222222222,\"#7201a8\"],[0.3333333333333333,\"#9c179e\"],[0.4444444444444444,\"#bd3786\"],[0.5555555555555556,\"#d8576b\"],[0.6666666666666666,\"#ed7953\"],[0.7777777777777778,\"#fb9f3a\"],[0.8888888888888888,\"#fdca26\"],[1.0,\"#f0f921\"]],\"type\":\"contour\"}],\"contourcarpet\":[{\"colorbar\":{\"outlinewidth\":0,\"ticks\":\"\"},\"type\":\"contourcarpet\"}],\"heatmap\":[{\"colorbar\":{\"outlinewidth\":0,\"ticks\":\"\"},\"colorscale\":[[0.0,\"#0d0887\"],[0.1111111111111111,\"#46039f\"],[0.2222222222222222,\"#7201a8\"],[0.3333333333333333,\"#9c179e\"],[0.4444444444444444,\"#bd3786\"],[0.5555555555555556,\"#d8576b\"],[0.6666666666666666,\"#ed7953\"],[0.7777777777777778,\"#fb9f3a\"],[0.8888888888888888,\"#fdca26\"],[1.0,\"#f0f921\"]],\"type\":\"heatmap\"}],\"heatmapgl\":[{\"colorbar\":{\"outlinewidth\":0,\"ticks\":\"\"},\"colorscale\":[[0.0,\"#0d0887\"],[0.1111111111111111,\"#46039f\"],[0.2222222222222222,\"#7201a8\"],[0.3333333333333333,\"#9c179e\"],[0.4444444444444444,\"#bd3786\"],[0.5555555555555556,\"#d8576b\"],[0.6666666666666666,\"#ed7953\"],[0.7777777777777778,\"#fb9f3a\"],[0.8888888888888888,\"#fdca26\"],[1.0,\"#f0f921\"]],\"type\":\"heatmapgl\"}],\"histogram\":[{\"marker\":{\"pattern\":{\"fillmode\":\"overlay\",\"size\":10,\"solidity\":0.2}},\"type\":\"histogram\"}],\"histogram2d\":[{\"colorbar\":{\"outlinewidth\":0,\"ticks\":\"\"},\"colorscale\":[[0.0,\"#0d0887\"],[0.1111111111111111,\"#46039f\"],[0.2222222222222222,\"#7201a8\"],[0.3333333333333333,\"#9c179e\"],[0.4444444444444444,\"#bd3786\"],[0.5555555555555556,\"#d8576b\"],[0.6666666666666666,\"#ed7953\"],[0.7777777777777778,\"#fb9f3a\"],[0.8888888888888888,\"#fdca26\"],[1.0,\"#f0f921\"]],\"type\":\"histogram2d\"}],\"histogram2dcontour\":[{\"colorbar\":{\"outlinewidth\":0,\"ticks\":\"\"},\"colorscale\":[[0.0,\"#0d0887\"],[0.1111111111111111,\"#46039f\"],[0.2222222222222222,\"#7201a8\"],[0.3333333333333333,\"#9c179e\"],[0.4444444444444444,\"#bd3786\"],[0.5555555555555556,\"#d8576b\"],[0.6666666666666666,\"#ed7953\"],[0.7777777777777778,\"#fb9f3a\"],[0.8888888888888888,\"#fdca26\"],[1.0,\"#f0f921\"]],\"type\":\"histogram2dcontour\"}],\"mesh3d\":[{\"colorbar\":{\"outlinewidth\":0,\"ticks\":\"\"},\"type\":\"mesh3d\"}],\"parcoords\":[{\"line\":{\"colorbar\":{\"outlinewidth\":0,\"ticks\":\"\"}},\"type\":\"parcoords\"}],\"pie\":[{\"automargin\":true,\"type\":\"pie\"}],\"scatter\":[{\"marker\":{\"colorbar\":{\"outlinewidth\":0,\"ticks\":\"\"}},\"type\":\"scatter\"}],\"scatter3d\":[{\"line\":{\"colorbar\":{\"outlinewidth\":0,\"ticks\":\"\"}},\"marker\":{\"colorbar\":{\"outlinewidth\":0,\"ticks\":\"\"}},\"type\":\"scatter3d\"}],\"scattercarpet\":[{\"marker\":{\"colorbar\":{\"outlinewidth\":0,\"ticks\":\"\"}},\"type\":\"scattercarpet\"}],\"scattergeo\":[{\"marker\":{\"colorbar\":{\"outlinewidth\":0,\"ticks\":\"\"}},\"type\":\"scattergeo\"}],\"scattergl\":[{\"marker\":{\"colorbar\":{\"outlinewidth\":0,\"ticks\":\"\"}},\"type\":\"scattergl\"}],\"scattermapbox\":[{\"marker\":{\"colorbar\":{\"outlinewidth\":0,\"ticks\":\"\"}},\"type\":\"scattermapbox\"}],\"scatterpolar\":[{\"marker\":{\"colorbar\":{\"outlinewidth\":0,\"ticks\":\"\"}},\"type\":\"scatterpolar\"}],\"scatterpolargl\":[{\"marker\":{\"colorbar\":{\"outlinewidth\":0,\"ticks\":\"\"}},\"type\":\"scatterpolargl\"}],\"scatterternary\":[{\"marker\":{\"colorbar\":{\"outlinewidth\":0,\"ticks\":\"\"}},\"type\":\"scatterternary\"}],\"surface\":[{\"colorbar\":{\"outlinewidth\":0,\"ticks\":\"\"},\"colorscale\":[[0.0,\"#0d0887\"],[0.1111111111111111,\"#46039f\"],[0.2222222222222222,\"#7201a8\"],[0.3333333333333333,\"#9c179e\"],[0.4444444444444444,\"#bd3786\"],[0.5555555555555556,\"#d8576b\"],[0.6666666666666666,\"#ed7953\"],[0.7777777777777778,\"#fb9f3a\"],[0.8888888888888888,\"#fdca26\"],[1.0,\"#f0f921\"]],\"type\":\"surface\"}],\"table\":[{\"cells\":{\"fill\":{\"color\":\"#EBF0F8\"},\"line\":{\"color\":\"white\"}},\"header\":{\"fill\":{\"color\":\"#C8D4E3\"},\"line\":{\"color\":\"white\"}},\"type\":\"table\"}]},\"layout\":{\"annotationdefaults\":{\"arrowcolor\":\"#2a3f5f\",\"arrowhead\":0,\"arrowwidth\":1},\"autotypenumbers\":\"strict\",\"coloraxis\":{\"colorbar\":{\"outlinewidth\":0,\"ticks\":\"\"}},\"colorscale\":{\"diverging\":[[0,\"#8e0152\"],[0.1,\"#c51b7d\"],[0.2,\"#de77ae\"],[0.3,\"#f1b6da\"],[0.4,\"#fde0ef\"],[0.5,\"#f7f7f7\"],[0.6,\"#e6f5d0\"],[0.7,\"#b8e186\"],[0.8,\"#7fbc41\"],[0.9,\"#4d9221\"],[1,\"#276419\"]],\"sequential\":[[0.0,\"#0d0887\"],[0.1111111111111111,\"#46039f\"],[0.2222222222222222,\"#7201a8\"],[0.3333333333333333,\"#9c179e\"],[0.4444444444444444,\"#bd3786\"],[0.5555555555555556,\"#d8576b\"],[0.6666666666666666,\"#ed7953\"],[0.7777777777777778,\"#fb9f3a\"],[0.8888888888888888,\"#fdca26\"],[1.0,\"#f0f921\"]],\"sequentialminus\":[[0.0,\"#0d0887\"],[0.1111111111111111,\"#46039f\"],[0.2222222222222222,\"#7201a8\"],[0.3333333333333333,\"#9c179e\"],[0.4444444444444444,\"#bd3786\"],[0.5555555555555556,\"#d8576b\"],[0.6666666666666666,\"#ed7953\"],[0.7777777777777778,\"#fb9f3a\"],[0.8888888888888888,\"#fdca26\"],[1.0,\"#f0f921\"]]},\"colorway\":[\"#636efa\",\"#EF553B\",\"#00cc96\",\"#ab63fa\",\"#FFA15A\",\"#19d3f3\",\"#FF6692\",\"#B6E880\",\"#FF97FF\",\"#FECB52\"],\"font\":{\"color\":\"#2a3f5f\"},\"geo\":{\"bgcolor\":\"white\",\"lakecolor\":\"white\",\"landcolor\":\"#E5ECF6\",\"showlakes\":true,\"showland\":true,\"subunitcolor\":\"white\"},\"hoverlabel\":{\"align\":\"left\"},\"hovermode\":\"closest\",\"mapbox\":{\"style\":\"light\"},\"paper_bgcolor\":\"white\",\"plot_bgcolor\":\"#E5ECF6\",\"polar\":{\"angularaxis\":{\"gridcolor\":\"white\",\"linecolor\":\"white\",\"ticks\":\"\"},\"bgcolor\":\"#E5ECF6\",\"radialaxis\":{\"gridcolor\":\"white\",\"linecolor\":\"white\",\"ticks\":\"\"}},\"scene\":{\"xaxis\":{\"backgroundcolor\":\"#E5ECF6\",\"gridcolor\":\"white\",\"gridwidth\":2,\"linecolor\":\"white\",\"showbackground\":true,\"ticks\":\"\",\"zerolinecolor\":\"white\"},\"yaxis\":{\"backgroundcolor\":\"#E5ECF6\",\"gridcolor\":\"white\",\"gridwidth\":2,\"linecolor\":\"white\",\"showbackground\":true,\"ticks\":\"\",\"zerolinecolor\":\"white\"},\"zaxis\":{\"backgroundcolor\":\"#E5ECF6\",\"gridcolor\":\"white\",\"gridwidth\":2,\"linecolor\":\"white\",\"showbackground\":true,\"ticks\":\"\",\"zerolinecolor\":\"white\"}},\"shapedefaults\":{\"line\":{\"color\":\"#2a3f5f\"}},\"ternary\":{\"aaxis\":{\"gridcolor\":\"white\",\"linecolor\":\"white\",\"ticks\":\"\"},\"baxis\":{\"gridcolor\":\"white\",\"linecolor\":\"white\",\"ticks\":\"\"},\"bgcolor\":\"#E5ECF6\",\"caxis\":{\"gridcolor\":\"white\",\"linecolor\":\"white\",\"ticks\":\"\"}},\"title\":{\"x\":0.05},\"xaxis\":{\"automargin\":true,\"gridcolor\":\"white\",\"linecolor\":\"white\",\"ticks\":\"\",\"title\":{\"standoff\":15},\"zerolinecolor\":\"white\",\"zerolinewidth\":2},\"yaxis\":{\"automargin\":true,\"gridcolor\":\"white\",\"linecolor\":\"white\",\"ticks\":\"\",\"title\":{\"standoff\":15},\"zerolinecolor\":\"white\",\"zerolinewidth\":2}}},\"xaxis\":{\"anchor\":\"y\",\"domain\":[0.0,1.0],\"title\":{\"text\":\"charges\"}},\"yaxis\":{\"anchor\":\"x\",\"domain\":[0.0,0.7326],\"title\":{\"text\":\"count\"}},\"xaxis2\":{\"anchor\":\"y2\",\"domain\":[0.0,1.0],\"matches\":\"x\",\"showticklabels\":false,\"showgrid\":true},\"yaxis2\":{\"anchor\":\"x2\",\"domain\":[0.7426,1.0],\"matches\":\"y2\",\"showticklabels\":false,\"showline\":false,\"ticks\":\"\",\"showgrid\":false},\"legend\":{\"title\":{\"text\":\"smoker\"},\"tracegroupgap\":0},\"title\":{\"text\":\"Annual\"},\"barmode\":\"relative\",\"bargap\":0.1},                        {\"responsive\": true}                    ).then(function(){\n",
              "                            \n",
              "var gd = document.getElementById('ad5696fc-4f72-43d0-86ce-8666cdea35ce');\n",
              "var x = new MutationObserver(function (mutations, observer) {{\n",
              "        var display = window.getComputedStyle(gd).display;\n",
              "        if (!display || display === 'none') {{\n",
              "            console.log([gd, 'removed!']);\n",
              "            Plotly.purge(gd);\n",
              "            observer.disconnect();\n",
              "        }}\n",
              "}});\n",
              "\n",
              "// Listen for the removal of the full notebook cells\n",
              "var notebookContainer = gd.closest('#notebook-container');\n",
              "if (notebookContainer) {{\n",
              "    x.observe(notebookContainer, {childList: true});\n",
              "}}\n",
              "\n",
              "// Listen for the clearing of the current output cell\n",
              "var outputEl = gd.closest('.output');\n",
              "if (outputEl) {{\n",
              "    x.observe(outputEl, {childList: true});\n",
              "}}\n",
              "\n",
              "                        })                };                            </script>        </div>\n",
              "</body>\n",
              "</html>"
            ]
          },
          "metadata": {}
        }
      ]
    },
    {
      "cell_type": "code",
      "source": [
        "medical_df.smoker.value_counts()"
      ],
      "metadata": {
        "colab": {
          "base_uri": "https://localhost:8080/"
        },
        "id": "8UCSd-0UP48l",
        "outputId": "9c980369-7278-45d4-b7c1-aa4ff252fe0d"
      },
      "execution_count": 327,
      "outputs": [
        {
          "output_type": "execute_result",
          "data": {
            "text/plain": [
              "no     1064\n",
              "yes     274\n",
              "Name: smoker, dtype: int64"
            ]
          },
          "metadata": {},
          "execution_count": 327
        }
      ]
    },
    {
      "cell_type": "code",
      "source": [
        "px.histogram(medical_df, x = 'smoker', color ='sex', title = 'smoker by sex')"
      ],
      "metadata": {
        "colab": {
          "base_uri": "https://localhost:8080/",
          "height": 542
        },
        "id": "iLCytfAQQiwm",
        "outputId": "c1caeaff-d4ba-4f67-bb52-fe5572e839d4"
      },
      "execution_count": 333,
      "outputs": [
        {
          "output_type": "display_data",
          "data": {
            "text/html": [
              "<html>\n",
              "<head><meta charset=\"utf-8\" /></head>\n",
              "<body>\n",
              "    <div>            <script src=\"https://cdnjs.cloudflare.com/ajax/libs/mathjax/2.7.5/MathJax.js?config=TeX-AMS-MML_SVG\"></script><script type=\"text/javascript\">if (window.MathJax) {MathJax.Hub.Config({SVG: {font: \"STIX-Web\"}});}</script>                <script type=\"text/javascript\">window.PlotlyConfig = {MathJaxConfig: 'local'};</script>\n",
              "        <script src=\"https://cdn.plot.ly/plotly-2.8.3.min.js\"></script>                <div id=\"22695e5e-4e3c-4e34-bfa0-b25cdc734b2b\" class=\"plotly-graph-div\" style=\"height:525px; width:100%;\"></div>            <script type=\"text/javascript\">                                    window.PLOTLYENV=window.PLOTLYENV || {};                                    if (document.getElementById(\"22695e5e-4e3c-4e34-bfa0-b25cdc734b2b\")) {                    Plotly.newPlot(                        \"22695e5e-4e3c-4e34-bfa0-b25cdc734b2b\",                        [{\"alignmentgroup\":\"True\",\"bingroup\":\"x\",\"hovertemplate\":\"sex=female<br>smoker=%{x}<br>count=%{y}<extra></extra>\",\"legendgroup\":\"female\",\"marker\":{\"color\":\"#636efa\",\"pattern\":{\"shape\":\"\"}},\"name\":\"female\",\"offsetgroup\":\"female\",\"orientation\":\"v\",\"showlegend\":true,\"x\":[\"yes\",\"no\",\"no\",\"no\",\"no\",\"yes\",\"no\",\"no\",\"no\",\"no\",\"yes\",\"no\",\"no\",\"no\",\"no\",\"no\",\"no\",\"no\",\"no\",\"no\",\"no\",\"no\",\"no\",\"no\",\"no\",\"no\",\"no\",\"yes\",\"no\",\"no\",\"yes\",\"no\",\"no\",\"no\",\"yes\",\"no\",\"no\",\"no\",\"no\",\"no\",\"no\",\"yes\",\"yes\",\"no\",\"no\",\"no\",\"no\",\"no\",\"yes\",\"no\",\"no\",\"no\",\"no\",\"yes\",\"no\",\"no\",\"no\",\"no\",\"yes\",\"no\",\"no\",\"no\",\"no\",\"no\",\"yes\",\"no\",\"yes\",\"no\",\"no\",\"no\",\"no\",\"no\",\"no\",\"no\",\"no\",\"no\",\"no\",\"no\",\"yes\",\"no\",\"no\",\"yes\",\"yes\",\"no\",\"no\",\"no\",\"no\",\"no\",\"no\",\"yes\",\"no\",\"no\",\"no\",\"no\",\"no\",\"no\",\"no\",\"no\",\"no\",\"no\",\"no\",\"no\",\"no\",\"no\",\"no\",\"no\",\"no\",\"yes\",\"no\",\"no\",\"no\",\"no\",\"no\",\"no\",\"no\",\"no\",\"no\",\"no\",\"no\",\"no\",\"no\",\"no\",\"no\",\"yes\",\"no\",\"yes\",\"no\",\"no\",\"yes\",\"no\",\"yes\",\"no\",\"no\",\"no\",\"yes\",\"no\",\"no\",\"no\",\"no\",\"no\",\"yes\",\"no\",\"no\",\"no\",\"no\",\"yes\",\"no\",\"no\",\"no\",\"yes\",\"no\",\"no\",\"no\",\"no\",\"no\",\"no\",\"no\",\"yes\",\"no\",\"no\",\"no\",\"yes\",\"yes\",\"no\",\"no\",\"no\",\"no\",\"no\",\"no\",\"no\",\"no\",\"no\",\"no\",\"no\",\"no\",\"no\",\"no\",\"no\",\"yes\",\"no\",\"no\",\"no\",\"no\",\"no\",\"no\",\"no\",\"no\",\"yes\",\"yes\",\"no\",\"yes\",\"no\",\"no\",\"no\",\"no\",\"no\",\"no\",\"no\",\"no\",\"no\",\"no\",\"no\",\"no\",\"no\",\"yes\",\"yes\",\"no\",\"no\",\"yes\",\"yes\",\"no\",\"no\",\"no\",\"no\",\"no\",\"no\",\"no\",\"no\",\"yes\",\"no\",\"no\",\"no\",\"no\",\"no\",\"no\",\"no\",\"no\",\"no\",\"yes\",\"no\",\"no\",\"no\",\"no\",\"no\",\"no\",\"no\",\"no\",\"no\",\"no\",\"no\",\"yes\",\"no\",\"no\",\"no\",\"no\",\"no\",\"no\",\"no\",\"no\",\"no\",\"no\",\"no\",\"no\",\"no\",\"no\",\"no\",\"no\",\"no\",\"no\",\"no\",\"no\",\"no\",\"no\",\"no\",\"no\",\"yes\",\"no\",\"no\",\"yes\",\"no\",\"no\",\"no\",\"yes\",\"no\",\"no\",\"no\",\"no\",\"no\",\"no\",\"no\",\"no\",\"no\",\"no\",\"no\",\"no\",\"yes\",\"no\",\"no\",\"no\",\"yes\",\"no\",\"no\",\"no\",\"yes\",\"no\",\"no\",\"no\",\"no\",\"no\",\"no\",\"no\",\"yes\",\"no\",\"no\",\"yes\",\"no\",\"no\",\"no\",\"no\",\"no\",\"yes\",\"no\",\"yes\",\"no\",\"no\",\"no\",\"yes\",\"no\",\"no\",\"no\",\"no\",\"no\",\"no\",\"no\",\"no\",\"no\",\"no\",\"no\",\"yes\",\"no\",\"no\",\"no\",\"no\",\"no\",\"yes\",\"yes\",\"no\",\"no\",\"no\",\"yes\",\"no\",\"no\",\"no\",\"no\",\"no\",\"no\",\"no\",\"no\",\"no\",\"no\",\"no\",\"no\",\"no\",\"no\",\"yes\",\"no\",\"no\",\"no\",\"no\",\"no\",\"no\",\"no\",\"no\",\"no\",\"no\",\"yes\",\"yes\",\"no\",\"no\",\"no\",\"no\",\"no\",\"no\",\"yes\",\"no\",\"no\",\"no\",\"yes\",\"no\",\"no\",\"yes\",\"no\",\"no\",\"no\",\"no\",\"no\",\"no\",\"no\",\"no\",\"yes\",\"yes\",\"no\",\"no\",\"no\",\"no\",\"no\",\"no\",\"no\",\"no\",\"no\",\"no\",\"yes\",\"no\",\"no\",\"no\",\"no\",\"no\",\"no\",\"no\",\"yes\",\"yes\",\"no\",\"no\",\"no\",\"no\",\"no\",\"no\",\"no\",\"no\",\"yes\",\"yes\",\"yes\",\"no\",\"no\",\"yes\",\"yes\",\"no\",\"yes\",\"no\",\"yes\",\"no\",\"yes\",\"no\",\"no\",\"no\",\"no\",\"no\",\"no\",\"no\",\"no\",\"no\",\"yes\",\"no\",\"yes\",\"no\",\"no\",\"yes\",\"no\",\"no\",\"no\",\"no\",\"no\",\"yes\",\"no\",\"no\",\"no\",\"yes\",\"no\",\"no\",\"no\",\"no\",\"no\",\"no\",\"no\",\"no\",\"no\",\"no\",\"no\",\"no\",\"no\",\"no\",\"no\",\"no\",\"no\",\"no\",\"no\",\"no\",\"no\",\"no\",\"no\",\"no\",\"no\",\"no\",\"no\",\"no\",\"yes\",\"no\",\"no\",\"no\",\"yes\",\"no\",\"no\",\"no\",\"no\",\"no\",\"no\",\"no\",\"no\",\"no\",\"no\",\"no\",\"no\",\"yes\",\"no\",\"no\",\"no\",\"yes\",\"yes\",\"no\",\"no\",\"yes\",\"yes\",\"no\",\"yes\",\"no\",\"no\",\"no\",\"no\",\"no\",\"no\",\"no\",\"no\",\"no\",\"no\",\"no\",\"no\",\"no\",\"no\",\"no\",\"yes\",\"no\",\"yes\",\"no\",\"no\",\"yes\",\"no\",\"no\",\"yes\",\"no\",\"no\",\"no\",\"no\",\"yes\",\"no\",\"no\",\"yes\",\"yes\",\"no\",\"yes\",\"no\",\"no\",\"no\",\"no\",\"no\",\"no\",\"no\",\"no\",\"yes\",\"no\",\"no\",\"no\",\"no\",\"no\",\"yes\",\"no\",\"no\",\"no\",\"no\",\"no\",\"no\",\"no\",\"no\",\"no\",\"no\",\"no\",\"no\",\"yes\",\"no\",\"no\",\"yes\",\"no\",\"no\",\"no\",\"no\",\"no\",\"no\",\"yes\",\"no\",\"yes\",\"no\",\"no\",\"no\",\"no\",\"no\",\"no\",\"no\",\"yes\",\"no\",\"yes\",\"no\",\"yes\",\"no\",\"no\",\"yes\",\"no\",\"no\",\"yes\",\"no\",\"yes\",\"no\",\"no\",\"no\",\"no\",\"no\",\"no\",\"no\",\"no\",\"no\",\"no\",\"no\",\"no\",\"no\",\"no\",\"no\",\"no\",\"no\",\"no\",\"no\",\"no\",\"no\",\"no\",\"no\",\"no\",\"no\",\"no\",\"yes\",\"yes\",\"no\",\"no\",\"no\",\"no\",\"no\",\"no\",\"no\",\"no\",\"yes\",\"yes\",\"no\",\"yes\",\"yes\",\"no\",\"no\",\"yes\",\"no\",\"no\",\"no\",\"no\",\"no\",\"no\",\"no\",\"no\",\"yes\"],\"xaxis\":\"x\",\"yaxis\":\"y\",\"type\":\"histogram\"},{\"alignmentgroup\":\"True\",\"bingroup\":\"x\",\"hovertemplate\":\"sex=male<br>smoker=%{x}<br>count=%{y}<extra></extra>\",\"legendgroup\":\"male\",\"marker\":{\"color\":\"#EF553B\",\"pattern\":{\"shape\":\"\"}},\"name\":\"male\",\"offsetgroup\":\"male\",\"orientation\":\"v\",\"showlegend\":true,\"x\":[\"no\",\"no\",\"no\",\"no\",\"no\",\"no\",\"no\",\"yes\",\"no\",\"no\",\"no\",\"yes\",\"no\",\"no\",\"no\",\"yes\",\"yes\",\"no\",\"yes\",\"no\",\"no\",\"yes\",\"yes\",\"no\",\"no\",\"no\",\"yes\",\"yes\",\"yes\",\"yes\",\"yes\",\"no\",\"no\",\"no\",\"no\",\"yes\",\"no\",\"no\",\"no\",\"no\",\"no\",\"no\",\"yes\",\"yes\",\"yes\",\"no\",\"no\",\"yes\",\"yes\",\"no\",\"yes\",\"no\",\"no\",\"yes\",\"no\",\"no\",\"no\",\"no\",\"no\",\"no\",\"no\",\"yes\",\"no\",\"no\",\"no\",\"no\",\"no\",\"no\",\"yes\",\"no\",\"yes\",\"yes\",\"no\",\"no\",\"no\",\"no\",\"yes\",\"yes\",\"yes\",\"no\",\"no\",\"no\",\"no\",\"no\",\"no\",\"no\",\"no\",\"no\",\"no\",\"no\",\"no\",\"yes\",\"no\",\"no\",\"no\",\"no\",\"no\",\"no\",\"yes\",\"no\",\"no\",\"no\",\"no\",\"no\",\"no\",\"yes\",\"yes\",\"no\",\"no\",\"no\",\"no\",\"no\",\"no\",\"yes\",\"no\",\"no\",\"no\",\"no\",\"no\",\"no\",\"yes\",\"yes\",\"no\",\"yes\",\"yes\",\"no\",\"yes\",\"yes\",\"yes\",\"yes\",\"yes\",\"no\",\"no\",\"no\",\"yes\",\"no\",\"no\",\"no\",\"no\",\"no\",\"yes\",\"no\",\"no\",\"no\",\"no\",\"yes\",\"no\",\"no\",\"yes\",\"yes\",\"yes\",\"no\",\"no\",\"no\",\"no\",\"yes\",\"no\",\"no\",\"no\",\"no\",\"no\",\"no\",\"yes\",\"no\",\"no\",\"no\",\"yes\",\"no\",\"yes\",\"no\",\"no\",\"no\",\"yes\",\"no\",\"no\",\"no\",\"no\",\"no\",\"no\",\"no\",\"no\",\"no\",\"no\",\"no\",\"no\",\"no\",\"yes\",\"no\",\"yes\",\"no\",\"yes\",\"no\",\"no\",\"no\",\"no\",\"no\",\"no\",\"no\",\"no\",\"no\",\"no\",\"no\",\"no\",\"no\",\"no\",\"no\",\"no\",\"no\",\"no\",\"no\",\"yes\",\"yes\",\"yes\",\"no\",\"no\",\"no\",\"no\",\"no\",\"no\",\"no\",\"no\",\"no\",\"no\",\"no\",\"yes\",\"no\",\"no\",\"no\",\"no\",\"no\",\"no\",\"no\",\"no\",\"no\",\"yes\",\"no\",\"no\",\"no\",\"yes\",\"yes\",\"yes\",\"no\",\"no\",\"no\",\"no\",\"no\",\"no\",\"no\",\"no\",\"no\",\"yes\",\"no\",\"no\",\"yes\",\"no\",\"yes\",\"yes\",\"no\",\"no\",\"no\",\"no\",\"no\",\"no\",\"no\",\"yes\",\"no\",\"no\",\"no\",\"no\",\"yes\",\"no\",\"no\",\"yes\",\"no\",\"no\",\"no\",\"no\",\"no\",\"no\",\"yes\",\"no\",\"no\",\"no\",\"no\",\"no\",\"no\",\"no\",\"no\",\"no\",\"no\",\"yes\",\"no\",\"no\",\"no\",\"no\",\"no\",\"no\",\"no\",\"no\",\"no\",\"no\",\"no\",\"no\",\"no\",\"yes\",\"yes\",\"no\",\"yes\",\"yes\",\"no\",\"no\",\"no\",\"no\",\"no\",\"no\",\"no\",\"no\",\"no\",\"yes\",\"no\",\"no\",\"yes\",\"no\",\"no\",\"no\",\"no\",\"no\",\"no\",\"no\",\"no\",\"yes\",\"no\",\"yes\",\"no\",\"no\",\"no\",\"yes\",\"no\",\"no\",\"yes\",\"no\",\"no\",\"no\",\"no\",\"yes\",\"no\",\"no\",\"no\",\"no\",\"yes\",\"no\",\"no\",\"no\",\"no\",\"no\",\"no\",\"no\",\"no\",\"no\",\"no\",\"no\",\"yes\",\"no\",\"no\",\"yes\",\"yes\",\"no\",\"yes\",\"yes\",\"no\",\"no\",\"no\",\"no\",\"no\",\"no\",\"no\",\"no\",\"no\",\"yes\",\"no\",\"yes\",\"no\",\"no\",\"no\",\"no\",\"no\",\"no\",\"no\",\"no\",\"no\",\"yes\",\"no\",\"no\",\"no\",\"no\",\"no\",\"no\",\"yes\",\"yes\",\"no\",\"yes\",\"no\",\"no\",\"no\",\"no\",\"no\",\"no\",\"no\",\"no\",\"no\",\"no\",\"no\",\"yes\",\"yes\",\"yes\",\"no\",\"no\",\"no\",\"no\",\"no\",\"no\",\"no\",\"no\",\"no\",\"no\",\"no\",\"no\",\"yes\",\"no\",\"no\",\"no\",\"no\",\"no\",\"no\",\"no\",\"no\",\"no\",\"no\",\"no\",\"no\",\"no\",\"no\",\"no\",\"yes\",\"yes\",\"no\",\"no\",\"no\",\"yes\",\"no\",\"no\",\"no\",\"yes\",\"no\",\"no\",\"no\",\"no\",\"no\",\"yes\",\"no\",\"yes\",\"no\",\"no\",\"no\",\"no\",\"no\",\"no\",\"no\",\"no\",\"no\",\"no\",\"no\",\"no\",\"no\",\"no\",\"no\",\"yes\",\"no\",\"yes\",\"no\",\"yes\",\"yes\",\"yes\",\"no\",\"yes\",\"no\",\"yes\",\"no\",\"no\",\"no\",\"no\",\"yes\",\"no\",\"no\",\"no\",\"yes\",\"no\",\"no\",\"no\",\"no\",\"yes\",\"no\",\"no\",\"no\",\"no\",\"yes\",\"yes\",\"no\",\"no\",\"no\",\"no\",\"no\",\"yes\",\"no\",\"no\",\"yes\",\"no\",\"no\",\"no\",\"yes\",\"no\",\"yes\",\"no\",\"no\",\"yes\",\"no\",\"yes\",\"no\",\"no\",\"no\",\"yes\",\"no\",\"yes\",\"yes\",\"no\",\"no\",\"yes\",\"no\",\"no\",\"no\",\"no\",\"yes\",\"no\",\"no\",\"no\",\"no\",\"yes\",\"no\",\"no\",\"no\",\"yes\",\"no\",\"no\",\"no\",\"no\",\"no\",\"no\",\"no\",\"no\",\"no\",\"yes\",\"no\",\"no\",\"no\",\"no\",\"no\",\"no\",\"no\",\"no\",\"yes\",\"no\",\"no\",\"no\",\"yes\",\"yes\",\"no\",\"no\",\"no\",\"no\",\"no\",\"no\",\"no\",\"no\",\"no\",\"no\",\"no\",\"yes\",\"no\",\"no\",\"yes\",\"no\",\"no\",\"no\",\"no\",\"yes\",\"no\",\"no\",\"yes\",\"no\",\"yes\",\"no\",\"no\",\"no\",\"no\",\"no\",\"no\",\"no\",\"yes\",\"no\",\"no\",\"no\",\"no\",\"no\",\"no\",\"no\",\"no\",\"no\",\"no\",\"no\",\"no\",\"no\",\"no\",\"yes\",\"no\",\"no\",\"no\",\"yes\",\"yes\",\"no\",\"no\",\"no\",\"yes\",\"yes\",\"no\",\"yes\",\"no\",\"no\",\"yes\",\"yes\",\"no\",\"no\",\"no\",\"no\",\"yes\",\"no\",\"yes\",\"no\",\"yes\",\"yes\",\"no\",\"yes\",\"no\",\"no\",\"no\",\"no\",\"no\",\"no\",\"yes\",\"yes\",\"yes\",\"yes\",\"yes\",\"no\",\"no\",\"no\",\"no\",\"no\",\"no\",\"no\",\"yes\",\"no\",\"no\",\"no\",\"no\",\"no\",\"no\"],\"xaxis\":\"x\",\"yaxis\":\"y\",\"type\":\"histogram\"}],                        {\"template\":{\"data\":{\"bar\":[{\"error_x\":{\"color\":\"#2a3f5f\"},\"error_y\":{\"color\":\"#2a3f5f\"},\"marker\":{\"line\":{\"color\":\"#E5ECF6\",\"width\":0.5},\"pattern\":{\"fillmode\":\"overlay\",\"size\":10,\"solidity\":0.2}},\"type\":\"bar\"}],\"barpolar\":[{\"marker\":{\"line\":{\"color\":\"#E5ECF6\",\"width\":0.5},\"pattern\":{\"fillmode\":\"overlay\",\"size\":10,\"solidity\":0.2}},\"type\":\"barpolar\"}],\"carpet\":[{\"aaxis\":{\"endlinecolor\":\"#2a3f5f\",\"gridcolor\":\"white\",\"linecolor\":\"white\",\"minorgridcolor\":\"white\",\"startlinecolor\":\"#2a3f5f\"},\"baxis\":{\"endlinecolor\":\"#2a3f5f\",\"gridcolor\":\"white\",\"linecolor\":\"white\",\"minorgridcolor\":\"white\",\"startlinecolor\":\"#2a3f5f\"},\"type\":\"carpet\"}],\"choropleth\":[{\"colorbar\":{\"outlinewidth\":0,\"ticks\":\"\"},\"type\":\"choropleth\"}],\"contour\":[{\"colorbar\":{\"outlinewidth\":0,\"ticks\":\"\"},\"colorscale\":[[0.0,\"#0d0887\"],[0.1111111111111111,\"#46039f\"],[0.2222222222222222,\"#7201a8\"],[0.3333333333333333,\"#9c179e\"],[0.4444444444444444,\"#bd3786\"],[0.5555555555555556,\"#d8576b\"],[0.6666666666666666,\"#ed7953\"],[0.7777777777777778,\"#fb9f3a\"],[0.8888888888888888,\"#fdca26\"],[1.0,\"#f0f921\"]],\"type\":\"contour\"}],\"contourcarpet\":[{\"colorbar\":{\"outlinewidth\":0,\"ticks\":\"\"},\"type\":\"contourcarpet\"}],\"heatmap\":[{\"colorbar\":{\"outlinewidth\":0,\"ticks\":\"\"},\"colorscale\":[[0.0,\"#0d0887\"],[0.1111111111111111,\"#46039f\"],[0.2222222222222222,\"#7201a8\"],[0.3333333333333333,\"#9c179e\"],[0.4444444444444444,\"#bd3786\"],[0.5555555555555556,\"#d8576b\"],[0.6666666666666666,\"#ed7953\"],[0.7777777777777778,\"#fb9f3a\"],[0.8888888888888888,\"#fdca26\"],[1.0,\"#f0f921\"]],\"type\":\"heatmap\"}],\"heatmapgl\":[{\"colorbar\":{\"outlinewidth\":0,\"ticks\":\"\"},\"colorscale\":[[0.0,\"#0d0887\"],[0.1111111111111111,\"#46039f\"],[0.2222222222222222,\"#7201a8\"],[0.3333333333333333,\"#9c179e\"],[0.4444444444444444,\"#bd3786\"],[0.5555555555555556,\"#d8576b\"],[0.6666666666666666,\"#ed7953\"],[0.7777777777777778,\"#fb9f3a\"],[0.8888888888888888,\"#fdca26\"],[1.0,\"#f0f921\"]],\"type\":\"heatmapgl\"}],\"histogram\":[{\"marker\":{\"pattern\":{\"fillmode\":\"overlay\",\"size\":10,\"solidity\":0.2}},\"type\":\"histogram\"}],\"histogram2d\":[{\"colorbar\":{\"outlinewidth\":0,\"ticks\":\"\"},\"colorscale\":[[0.0,\"#0d0887\"],[0.1111111111111111,\"#46039f\"],[0.2222222222222222,\"#7201a8\"],[0.3333333333333333,\"#9c179e\"],[0.4444444444444444,\"#bd3786\"],[0.5555555555555556,\"#d8576b\"],[0.6666666666666666,\"#ed7953\"],[0.7777777777777778,\"#fb9f3a\"],[0.8888888888888888,\"#fdca26\"],[1.0,\"#f0f921\"]],\"type\":\"histogram2d\"}],\"histogram2dcontour\":[{\"colorbar\":{\"outlinewidth\":0,\"ticks\":\"\"},\"colorscale\":[[0.0,\"#0d0887\"],[0.1111111111111111,\"#46039f\"],[0.2222222222222222,\"#7201a8\"],[0.3333333333333333,\"#9c179e\"],[0.4444444444444444,\"#bd3786\"],[0.5555555555555556,\"#d8576b\"],[0.6666666666666666,\"#ed7953\"],[0.7777777777777778,\"#fb9f3a\"],[0.8888888888888888,\"#fdca26\"],[1.0,\"#f0f921\"]],\"type\":\"histogram2dcontour\"}],\"mesh3d\":[{\"colorbar\":{\"outlinewidth\":0,\"ticks\":\"\"},\"type\":\"mesh3d\"}],\"parcoords\":[{\"line\":{\"colorbar\":{\"outlinewidth\":0,\"ticks\":\"\"}},\"type\":\"parcoords\"}],\"pie\":[{\"automargin\":true,\"type\":\"pie\"}],\"scatter\":[{\"marker\":{\"colorbar\":{\"outlinewidth\":0,\"ticks\":\"\"}},\"type\":\"scatter\"}],\"scatter3d\":[{\"line\":{\"colorbar\":{\"outlinewidth\":0,\"ticks\":\"\"}},\"marker\":{\"colorbar\":{\"outlinewidth\":0,\"ticks\":\"\"}},\"type\":\"scatter3d\"}],\"scattercarpet\":[{\"marker\":{\"colorbar\":{\"outlinewidth\":0,\"ticks\":\"\"}},\"type\":\"scattercarpet\"}],\"scattergeo\":[{\"marker\":{\"colorbar\":{\"outlinewidth\":0,\"ticks\":\"\"}},\"type\":\"scattergeo\"}],\"scattergl\":[{\"marker\":{\"colorbar\":{\"outlinewidth\":0,\"ticks\":\"\"}},\"type\":\"scattergl\"}],\"scattermapbox\":[{\"marker\":{\"colorbar\":{\"outlinewidth\":0,\"ticks\":\"\"}},\"type\":\"scattermapbox\"}],\"scatterpolar\":[{\"marker\":{\"colorbar\":{\"outlinewidth\":0,\"ticks\":\"\"}},\"type\":\"scatterpolar\"}],\"scatterpolargl\":[{\"marker\":{\"colorbar\":{\"outlinewidth\":0,\"ticks\":\"\"}},\"type\":\"scatterpolargl\"}],\"scatterternary\":[{\"marker\":{\"colorbar\":{\"outlinewidth\":0,\"ticks\":\"\"}},\"type\":\"scatterternary\"}],\"surface\":[{\"colorbar\":{\"outlinewidth\":0,\"ticks\":\"\"},\"colorscale\":[[0.0,\"#0d0887\"],[0.1111111111111111,\"#46039f\"],[0.2222222222222222,\"#7201a8\"],[0.3333333333333333,\"#9c179e\"],[0.4444444444444444,\"#bd3786\"],[0.5555555555555556,\"#d8576b\"],[0.6666666666666666,\"#ed7953\"],[0.7777777777777778,\"#fb9f3a\"],[0.8888888888888888,\"#fdca26\"],[1.0,\"#f0f921\"]],\"type\":\"surface\"}],\"table\":[{\"cells\":{\"fill\":{\"color\":\"#EBF0F8\"},\"line\":{\"color\":\"white\"}},\"header\":{\"fill\":{\"color\":\"#C8D4E3\"},\"line\":{\"color\":\"white\"}},\"type\":\"table\"}]},\"layout\":{\"annotationdefaults\":{\"arrowcolor\":\"#2a3f5f\",\"arrowhead\":0,\"arrowwidth\":1},\"autotypenumbers\":\"strict\",\"coloraxis\":{\"colorbar\":{\"outlinewidth\":0,\"ticks\":\"\"}},\"colorscale\":{\"diverging\":[[0,\"#8e0152\"],[0.1,\"#c51b7d\"],[0.2,\"#de77ae\"],[0.3,\"#f1b6da\"],[0.4,\"#fde0ef\"],[0.5,\"#f7f7f7\"],[0.6,\"#e6f5d0\"],[0.7,\"#b8e186\"],[0.8,\"#7fbc41\"],[0.9,\"#4d9221\"],[1,\"#276419\"]],\"sequential\":[[0.0,\"#0d0887\"],[0.1111111111111111,\"#46039f\"],[0.2222222222222222,\"#7201a8\"],[0.3333333333333333,\"#9c179e\"],[0.4444444444444444,\"#bd3786\"],[0.5555555555555556,\"#d8576b\"],[0.6666666666666666,\"#ed7953\"],[0.7777777777777778,\"#fb9f3a\"],[0.8888888888888888,\"#fdca26\"],[1.0,\"#f0f921\"]],\"sequentialminus\":[[0.0,\"#0d0887\"],[0.1111111111111111,\"#46039f\"],[0.2222222222222222,\"#7201a8\"],[0.3333333333333333,\"#9c179e\"],[0.4444444444444444,\"#bd3786\"],[0.5555555555555556,\"#d8576b\"],[0.6666666666666666,\"#ed7953\"],[0.7777777777777778,\"#fb9f3a\"],[0.8888888888888888,\"#fdca26\"],[1.0,\"#f0f921\"]]},\"colorway\":[\"#636efa\",\"#EF553B\",\"#00cc96\",\"#ab63fa\",\"#FFA15A\",\"#19d3f3\",\"#FF6692\",\"#B6E880\",\"#FF97FF\",\"#FECB52\"],\"font\":{\"color\":\"#2a3f5f\"},\"geo\":{\"bgcolor\":\"white\",\"lakecolor\":\"white\",\"landcolor\":\"#E5ECF6\",\"showlakes\":true,\"showland\":true,\"subunitcolor\":\"white\"},\"hoverlabel\":{\"align\":\"left\"},\"hovermode\":\"closest\",\"mapbox\":{\"style\":\"light\"},\"paper_bgcolor\":\"white\",\"plot_bgcolor\":\"#E5ECF6\",\"polar\":{\"angularaxis\":{\"gridcolor\":\"white\",\"linecolor\":\"white\",\"ticks\":\"\"},\"bgcolor\":\"#E5ECF6\",\"radialaxis\":{\"gridcolor\":\"white\",\"linecolor\":\"white\",\"ticks\":\"\"}},\"scene\":{\"xaxis\":{\"backgroundcolor\":\"#E5ECF6\",\"gridcolor\":\"white\",\"gridwidth\":2,\"linecolor\":\"white\",\"showbackground\":true,\"ticks\":\"\",\"zerolinecolor\":\"white\"},\"yaxis\":{\"backgroundcolor\":\"#E5ECF6\",\"gridcolor\":\"white\",\"gridwidth\":2,\"linecolor\":\"white\",\"showbackground\":true,\"ticks\":\"\",\"zerolinecolor\":\"white\"},\"zaxis\":{\"backgroundcolor\":\"#E5ECF6\",\"gridcolor\":\"white\",\"gridwidth\":2,\"linecolor\":\"white\",\"showbackground\":true,\"ticks\":\"\",\"zerolinecolor\":\"white\"}},\"shapedefaults\":{\"line\":{\"color\":\"#2a3f5f\"}},\"ternary\":{\"aaxis\":{\"gridcolor\":\"white\",\"linecolor\":\"white\",\"ticks\":\"\"},\"baxis\":{\"gridcolor\":\"white\",\"linecolor\":\"white\",\"ticks\":\"\"},\"bgcolor\":\"#E5ECF6\",\"caxis\":{\"gridcolor\":\"white\",\"linecolor\":\"white\",\"ticks\":\"\"}},\"title\":{\"x\":0.05},\"xaxis\":{\"automargin\":true,\"gridcolor\":\"white\",\"linecolor\":\"white\",\"ticks\":\"\",\"title\":{\"standoff\":15},\"zerolinecolor\":\"white\",\"zerolinewidth\":2},\"yaxis\":{\"automargin\":true,\"gridcolor\":\"white\",\"linecolor\":\"white\",\"ticks\":\"\",\"title\":{\"standoff\":15},\"zerolinecolor\":\"white\",\"zerolinewidth\":2}}},\"xaxis\":{\"anchor\":\"y\",\"domain\":[0.0,1.0],\"title\":{\"text\":\"smoker\"}},\"yaxis\":{\"anchor\":\"x\",\"domain\":[0.0,1.0],\"title\":{\"text\":\"count\"}},\"legend\":{\"title\":{\"text\":\"sex\"},\"tracegroupgap\":0},\"title\":{\"text\":\"smoker by sex\"},\"barmode\":\"relative\"},                        {\"responsive\": true}                    ).then(function(){\n",
              "                            \n",
              "var gd = document.getElementById('22695e5e-4e3c-4e34-bfa0-b25cdc734b2b');\n",
              "var x = new MutationObserver(function (mutations, observer) {{\n",
              "        var display = window.getComputedStyle(gd).display;\n",
              "        if (!display || display === 'none') {{\n",
              "            console.log([gd, 'removed!']);\n",
              "            Plotly.purge(gd);\n",
              "            observer.disconnect();\n",
              "        }}\n",
              "}});\n",
              "\n",
              "// Listen for the removal of the full notebook cells\n",
              "var notebookContainer = gd.closest('#notebook-container');\n",
              "if (notebookContainer) {{\n",
              "    x.observe(notebookContainer, {childList: true});\n",
              "}}\n",
              "\n",
              "// Listen for the clearing of the current output cell\n",
              "var outputEl = gd.closest('.output');\n",
              "if (outputEl) {{\n",
              "    x.observe(outputEl, {childList: true});\n",
              "}}\n",
              "\n",
              "                        })                };                            </script>        </div>\n",
              "</body>\n",
              "</html>"
            ]
          },
          "metadata": {}
        }
      ]
    },
    {
      "cell_type": "code",
      "source": [
        "fig = px.histogram(medical_df,\n",
        "                   x = 'charges',\n",
        "                   marginal = 'box',\n",
        "                   color = 'sex',\n",
        "                   color_discrete_sequence = ['green', 'red'],\n",
        "                   title = 'Annual')\n",
        "fig.update_layout(bargap = 0.1)\n",
        "fig.show()"
      ],
      "metadata": {
        "colab": {
          "base_uri": "https://localhost:8080/",
          "height": 542
        },
        "id": "3MHhXbCeQ2bX",
        "outputId": "16e0277f-54c3-4c7d-9bb4-01bc9c27a3db"
      },
      "execution_count": 334,
      "outputs": [
        {
          "output_type": "display_data",
          "data": {
            "text/html": [
              "<html>\n",
              "<head><meta charset=\"utf-8\" /></head>\n",
              "<body>\n",
              "    <div>            <script src=\"https://cdnjs.cloudflare.com/ajax/libs/mathjax/2.7.5/MathJax.js?config=TeX-AMS-MML_SVG\"></script><script type=\"text/javascript\">if (window.MathJax) {MathJax.Hub.Config({SVG: {font: \"STIX-Web\"}});}</script>                <script type=\"text/javascript\">window.PlotlyConfig = {MathJaxConfig: 'local'};</script>\n",
              "        <script src=\"https://cdn.plot.ly/plotly-2.8.3.min.js\"></script>                <div id=\"f9a6195c-8272-408e-927b-1f355045cbcd\" class=\"plotly-graph-div\" style=\"height:525px; width:100%;\"></div>            <script type=\"text/javascript\">                                    window.PLOTLYENV=window.PLOTLYENV || {};                                    if (document.getElementById(\"f9a6195c-8272-408e-927b-1f355045cbcd\")) {                    Plotly.newPlot(                        \"f9a6195c-8272-408e-927b-1f355045cbcd\",                        [{\"alignmentgroup\":\"True\",\"bingroup\":\"x\",\"hovertemplate\":\"sex=female<br>charges=%{x}<br>count=%{y}<extra></extra>\",\"legendgroup\":\"female\",\"marker\":{\"color\":\"green\",\"pattern\":{\"shape\":\"\"}},\"name\":\"female\",\"offsetgroup\":\"female\",\"orientation\":\"v\",\"showlegend\":true,\"x\":[16884.924,3756.6216,8240.5896,7281.5056,28923.13692,27808.7251,11090.7178,10797.3362,13228.84695,4149.736,37701.8768,14001.1338,14451.83515,12268.63225,2198.18985,4687.797,15612.19335,3046.062,4949.7587,6313.759,3393.35635,3556.9223,12629.8967,2211.13075,3579.8287,8059.6791,13607.36875,23244.7902,5989.52365,4133.64165,14711.7438,1743.214,14235.072,5920.1041,16577.7795,11741.726,3947.4131,2755.02095,6571.02435,7935.29115,11033.6617,39836.519,43578.9394,11073.176,8026.6666,11082.5772,2026.9741,10942.13205,47291.055,3766.8838,12105.32,6186.127,21344.8467,30942.1918,5003.853,2331.519,11881.358,2404.7338,19107.7796,8601.3293,6686.4313,2257.47525,10115.00885,3385.39915,17081.08,9634.538,32734.1863,12815.44495,13616.3586,11163.568,2457.21115,2155.6815,27322.73386,2166.732,5138.2567,9877.6077,10959.6947,6334.34355,19964.7463,7077.1894,19749.38338,21348.706,36149.4835,5152.134,4830.63,6128.79745,2719.27975,5246.047,2855.43755,48824.45,8823.279,8538.28845,1631.8212,7419.4779,3981.9768,5325.651,6775.961,4922.9159,4883.866,12044.342,5649.715,8516.829,9644.2525,14901.5167,2130.6759,8871.1517,13012.20865,37133.8982,4337.7352,13880.949,5002.7827,8520.026,7371.772,10355.641,3392.9768,25081.76784,5012.471,10564.8845,24227.33724,7358.17565,7443.64305,14001.2867,1727.785,19444.2658,1615.7667,38511.6283,5354.07465,35160.13457,29523.1656,12648.7034,47305.305,13047.33235,5400.9805,11837.16,17085.2676,20462.99766,14590.63205,9715.841,2150.469,9855.1314,22331.5668,11879.10405,9625.92,9432.9253,14256.1928,47896.79135,3172.018,2156.7518,9249.4952,24873.3849,12265.5069,4349.462,12646.207,20177.67113,4151.0287,7749.1564,1737.376,34838.873,7421.19455,24671.66334,3561.8889,47928.03,48517.56315,13429.0354,11658.37915,19144.57652,8232.6388,18955.22017,13217.0945,10977.2063,6184.2994,5478.0368,11830.6072,8932.084,3554.203,14133.03775,1607.5101,10043.249,13844.506,2597.779,3180.5101,9778.3472,13430.265,8017.06115,13415.0381,12029.2867,7639.41745,18033.9679,21659.9301,16455.70785,15006.57945,5846.9176,11856.4115,3176.8159,4618.0799,2138.0707,9411.005,8522.003,1631.6683,9264.797,14692.66935,11396.9002,4185.0979,8539.671,19594.80965,14455.64405,2134.9015,7345.7266,18608.262,28950.4692,6555.07035,7323.734819,3167.45585,18804.7524,4906.40965,12638.195,12592.5345,4738.2682,37079.372,28287.89766,7345.084,11454.0215,5910.944,11881.9696,11840.77505,7682.67,10381.4787,15230.32405,19521.9682,13224.693,12643.3778,23288.9284,2201.0971,2203.47185,1744.465,20878.78443,1622.1885,9880.068,4347.02335,12475.3513,48885.13561,1748.774,24513.09126,2196.4732,4931.647,8211.1002,13470.86,5974.3847,3044.2133,11455.28,5240.765,25656.57526,3994.1778,9866.30485,5397.6167,11482.63485,24059.68019,9861.025,14043.4767,5972.378,8825.086,8233.0975,6196.448,3056.3881,13887.204,63770.42801,11538.421,3213.62205,45863.205,3972.9247,11187.6567,17878.90068,39983.42595,9193.8385,10923.9332,2801.2588,2128.43105,6373.55735,11552.904,3761.292,2219.4451,4753.6368,31620.00106,13224.05705,12222.8983,58571.07448,3206.49135,17626.23951,4779.6023,43943.8761,13635.6379,5976.8311,11842.442,15359.1045,8823.98575,7640.3092,5594.8455,33471.97189,1633.0444,11070.535,16085.1275,17468.9839,9283.562,3558.62025,25678.77845,8547.6913,6571.544,2207.69745,6753.038,1880.07,42969.8527,11658.11505,34439.8559,10713.644,9182.17,3736.4647,42983.4585,3366.6697,2709.1119,24915.04626,4466.6214,8252.2843,12430.95335,9800.8882,10579.711,8280.6227,8527.532,12244.531,24667.419,3410.324,26392.26029,14394.39815,22192.43711,5148.5526,27037.9141,40003.33225,6500.2359,3943.5954,6185.3208,46200.9851,12485.8009,10156.7832,2585.269,4766.022,26236.57997,3577.999,3201.24515,29186.48236,3500.6123,2020.5523,9541.69555,5385.3379,8930.93455,5375.038,44400.4064,6113.23105,5469.0066,10107.2206,8310.83915,2457.502,9566.9909,10848.1343,12231.6136,9875.6804,10106.13425,40932.4295,16657.71745,2217.6012,6781.3542,4234.927,9447.25035,14007.222,9583.8933,40419.0191,3757.8448,9910.35985,8556.907,19539.243,11833.7823,7985.815,23065.4207,3925.7582,9095.06825,11842.62375,7050.642,14319.031,6933.24225,11150.78,12797.20962,17748.5062,24520.264,4350.5144,6414.178,13457.9608,5662.225,2731.9122,7209.4918,4719.52405,11848.141,7046.7222,14313.8463,38792.6856,7731.85785,28476.73499,2136.88225,9414.92,6360.9936,1877.9294,2842.76075,23401.30575,55135.40209,1621.8827,8219.2039,16069.08475,5266.3656,4719.73655,11657.7189,6402.29135,12622.1795,36021.0112,27533.9129,45008.9555,9872.701,2974.126,37270.1512,42111.6647,11729.6795,24106.91255,1875.344,40974.1649,18218.16139,46113.511,7151.092,12269.68865,5458.04645,4391.652,3392.3652,2690.1138,26140.3603,6311.952,2585.85065,46255.1125,5272.1758,29330.98315,7243.8136,13063.883,19798.05455,1634.5734,2117.33885,12644.589,4564.19145,7633.7206,17496.306,14382.70905,7626.993,2473.3341,21774.32215,13041.921,5245.2269,13451.122,13462.52,2913.569,12032.326,13470.8044,6238.298,7348.142,12233.828,8965.79575,9549.5651,2217.46915,11674.13,4527.18295,2730.10785,3353.284,14474.675,8596.8278,10702.6424,4992.3764,2527.81865,1759.338,9704.66805,4889.0368,16796.41194,7624.63,28340.18885,14571.8908,3378.91,7144.86265,10118.424,16420.49455,7986.47525,7418.522,13887.9685,6551.7501,5267.81815,8269.044,36580.28216,5383.536,2709.24395,3987.926,12495.29085,26018.95052,35595.5898,8569.8618,2020.177,6877.9801,21677.28345,44423.803,4137.5227,12094.478,39725.51805,20234.85475,3161.454,21880.82,7325.0482,3594.17085,8023.13545,3353.4703,8277.523,17929.30337,2480.9791,5708.867,7045.499,10928.849,12096.6512,13204.28565,4562.8421,8551.347,15019.76005,19023.26,11286.5387,33907.548,11299.343,4561.1885,44641.1974,23045.56616,3227.1211,16776.30405,10338.9316,8988.15875,10493.9458,11512.405,24180.9335,5312.16985,5693.4305,34166.273,46661.4424,18903.49141,40904.1995,14254.6082,5836.5204,1728.897,8582.3023,9991.03765,11085.5868,7623.518,3176.2877,36898.73308,7954.517,27117.99378,2261.5688,2203.73595,12235.8392,40941.2854,5630.45785,11015.1747,7228.21565,14426.07385,2459.7201,3989.841,7727.2532,2200.83085,7153.5539,5227.98875,4529.477,6112.35295,22478.6,11093.6229,2154.361,23887.6627,6496.886,2899.48935,7650.77375,2850.68375,2632.992,9447.3824,18328.2381,13844.7972,21771.3423,13126.67745,5327.40025,13725.47184,13019.16105,8671.19125,4134.08245,18838.70366,33307.5508,4934.705,18223.4512,36910.60803,20296.86345,10806.839,3956.07145,41661.602,7537.1639,4718.20355,26125.67477,4795.6568,20167.33603,12479.70895,8515.7587,14449.8544,12224.35085,3238.4357,4296.2712,3171.6149,9101.798,1633.9618,15828.82173,4415.1588,6474.013,11436.73815,11305.93455,10197.7722,4544.2348,6770.1925,7337.748,10370.91255,10704.47,1880.487,3021.80915,2741.948,4357.04365,4189.1131,8283.6807,24535.69855,14283.4594,8534.6718,3732.6251,5472.449,7133.9025,4340.4409,2710.82855,3208.787,2464.6188,16115.3045,33900.653,4571.41305,36397.576,18765.87545,1731.677,7201.70085,43896.3763,7050.0213,22395.74424,12629.1656,10795.93733,11411.685,2205.9808,1629.8335,2007.945,29141.3603],\"xaxis\":\"x\",\"yaxis\":\"y\",\"type\":\"histogram\"},{\"alignmentgroup\":\"True\",\"hovertemplate\":\"sex=female<br>charges=%{x}<extra></extra>\",\"legendgroup\":\"female\",\"marker\":{\"color\":\"green\"},\"name\":\"female\",\"notched\":true,\"offsetgroup\":\"female\",\"showlegend\":false,\"x\":[16884.924,3756.6216,8240.5896,7281.5056,28923.13692,27808.7251,11090.7178,10797.3362,13228.84695,4149.736,37701.8768,14001.1338,14451.83515,12268.63225,2198.18985,4687.797,15612.19335,3046.062,4949.7587,6313.759,3393.35635,3556.9223,12629.8967,2211.13075,3579.8287,8059.6791,13607.36875,23244.7902,5989.52365,4133.64165,14711.7438,1743.214,14235.072,5920.1041,16577.7795,11741.726,3947.4131,2755.02095,6571.02435,7935.29115,11033.6617,39836.519,43578.9394,11073.176,8026.6666,11082.5772,2026.9741,10942.13205,47291.055,3766.8838,12105.32,6186.127,21344.8467,30942.1918,5003.853,2331.519,11881.358,2404.7338,19107.7796,8601.3293,6686.4313,2257.47525,10115.00885,3385.39915,17081.08,9634.538,32734.1863,12815.44495,13616.3586,11163.568,2457.21115,2155.6815,27322.73386,2166.732,5138.2567,9877.6077,10959.6947,6334.34355,19964.7463,7077.1894,19749.38338,21348.706,36149.4835,5152.134,4830.63,6128.79745,2719.27975,5246.047,2855.43755,48824.45,8823.279,8538.28845,1631.8212,7419.4779,3981.9768,5325.651,6775.961,4922.9159,4883.866,12044.342,5649.715,8516.829,9644.2525,14901.5167,2130.6759,8871.1517,13012.20865,37133.8982,4337.7352,13880.949,5002.7827,8520.026,7371.772,10355.641,3392.9768,25081.76784,5012.471,10564.8845,24227.33724,7358.17565,7443.64305,14001.2867,1727.785,19444.2658,1615.7667,38511.6283,5354.07465,35160.13457,29523.1656,12648.7034,47305.305,13047.33235,5400.9805,11837.16,17085.2676,20462.99766,14590.63205,9715.841,2150.469,9855.1314,22331.5668,11879.10405,9625.92,9432.9253,14256.1928,47896.79135,3172.018,2156.7518,9249.4952,24873.3849,12265.5069,4349.462,12646.207,20177.67113,4151.0287,7749.1564,1737.376,34838.873,7421.19455,24671.66334,3561.8889,47928.03,48517.56315,13429.0354,11658.37915,19144.57652,8232.6388,18955.22017,13217.0945,10977.2063,6184.2994,5478.0368,11830.6072,8932.084,3554.203,14133.03775,1607.5101,10043.249,13844.506,2597.779,3180.5101,9778.3472,13430.265,8017.06115,13415.0381,12029.2867,7639.41745,18033.9679,21659.9301,16455.70785,15006.57945,5846.9176,11856.4115,3176.8159,4618.0799,2138.0707,9411.005,8522.003,1631.6683,9264.797,14692.66935,11396.9002,4185.0979,8539.671,19594.80965,14455.64405,2134.9015,7345.7266,18608.262,28950.4692,6555.07035,7323.734819,3167.45585,18804.7524,4906.40965,12638.195,12592.5345,4738.2682,37079.372,28287.89766,7345.084,11454.0215,5910.944,11881.9696,11840.77505,7682.67,10381.4787,15230.32405,19521.9682,13224.693,12643.3778,23288.9284,2201.0971,2203.47185,1744.465,20878.78443,1622.1885,9880.068,4347.02335,12475.3513,48885.13561,1748.774,24513.09126,2196.4732,4931.647,8211.1002,13470.86,5974.3847,3044.2133,11455.28,5240.765,25656.57526,3994.1778,9866.30485,5397.6167,11482.63485,24059.68019,9861.025,14043.4767,5972.378,8825.086,8233.0975,6196.448,3056.3881,13887.204,63770.42801,11538.421,3213.62205,45863.205,3972.9247,11187.6567,17878.90068,39983.42595,9193.8385,10923.9332,2801.2588,2128.43105,6373.55735,11552.904,3761.292,2219.4451,4753.6368,31620.00106,13224.05705,12222.8983,58571.07448,3206.49135,17626.23951,4779.6023,43943.8761,13635.6379,5976.8311,11842.442,15359.1045,8823.98575,7640.3092,5594.8455,33471.97189,1633.0444,11070.535,16085.1275,17468.9839,9283.562,3558.62025,25678.77845,8547.6913,6571.544,2207.69745,6753.038,1880.07,42969.8527,11658.11505,34439.8559,10713.644,9182.17,3736.4647,42983.4585,3366.6697,2709.1119,24915.04626,4466.6214,8252.2843,12430.95335,9800.8882,10579.711,8280.6227,8527.532,12244.531,24667.419,3410.324,26392.26029,14394.39815,22192.43711,5148.5526,27037.9141,40003.33225,6500.2359,3943.5954,6185.3208,46200.9851,12485.8009,10156.7832,2585.269,4766.022,26236.57997,3577.999,3201.24515,29186.48236,3500.6123,2020.5523,9541.69555,5385.3379,8930.93455,5375.038,44400.4064,6113.23105,5469.0066,10107.2206,8310.83915,2457.502,9566.9909,10848.1343,12231.6136,9875.6804,10106.13425,40932.4295,16657.71745,2217.6012,6781.3542,4234.927,9447.25035,14007.222,9583.8933,40419.0191,3757.8448,9910.35985,8556.907,19539.243,11833.7823,7985.815,23065.4207,3925.7582,9095.06825,11842.62375,7050.642,14319.031,6933.24225,11150.78,12797.20962,17748.5062,24520.264,4350.5144,6414.178,13457.9608,5662.225,2731.9122,7209.4918,4719.52405,11848.141,7046.7222,14313.8463,38792.6856,7731.85785,28476.73499,2136.88225,9414.92,6360.9936,1877.9294,2842.76075,23401.30575,55135.40209,1621.8827,8219.2039,16069.08475,5266.3656,4719.73655,11657.7189,6402.29135,12622.1795,36021.0112,27533.9129,45008.9555,9872.701,2974.126,37270.1512,42111.6647,11729.6795,24106.91255,1875.344,40974.1649,18218.16139,46113.511,7151.092,12269.68865,5458.04645,4391.652,3392.3652,2690.1138,26140.3603,6311.952,2585.85065,46255.1125,5272.1758,29330.98315,7243.8136,13063.883,19798.05455,1634.5734,2117.33885,12644.589,4564.19145,7633.7206,17496.306,14382.70905,7626.993,2473.3341,21774.32215,13041.921,5245.2269,13451.122,13462.52,2913.569,12032.326,13470.8044,6238.298,7348.142,12233.828,8965.79575,9549.5651,2217.46915,11674.13,4527.18295,2730.10785,3353.284,14474.675,8596.8278,10702.6424,4992.3764,2527.81865,1759.338,9704.66805,4889.0368,16796.41194,7624.63,28340.18885,14571.8908,3378.91,7144.86265,10118.424,16420.49455,7986.47525,7418.522,13887.9685,6551.7501,5267.81815,8269.044,36580.28216,5383.536,2709.24395,3987.926,12495.29085,26018.95052,35595.5898,8569.8618,2020.177,6877.9801,21677.28345,44423.803,4137.5227,12094.478,39725.51805,20234.85475,3161.454,21880.82,7325.0482,3594.17085,8023.13545,3353.4703,8277.523,17929.30337,2480.9791,5708.867,7045.499,10928.849,12096.6512,13204.28565,4562.8421,8551.347,15019.76005,19023.26,11286.5387,33907.548,11299.343,4561.1885,44641.1974,23045.56616,3227.1211,16776.30405,10338.9316,8988.15875,10493.9458,11512.405,24180.9335,5312.16985,5693.4305,34166.273,46661.4424,18903.49141,40904.1995,14254.6082,5836.5204,1728.897,8582.3023,9991.03765,11085.5868,7623.518,3176.2877,36898.73308,7954.517,27117.99378,2261.5688,2203.73595,12235.8392,40941.2854,5630.45785,11015.1747,7228.21565,14426.07385,2459.7201,3989.841,7727.2532,2200.83085,7153.5539,5227.98875,4529.477,6112.35295,22478.6,11093.6229,2154.361,23887.6627,6496.886,2899.48935,7650.77375,2850.68375,2632.992,9447.3824,18328.2381,13844.7972,21771.3423,13126.67745,5327.40025,13725.47184,13019.16105,8671.19125,4134.08245,18838.70366,33307.5508,4934.705,18223.4512,36910.60803,20296.86345,10806.839,3956.07145,41661.602,7537.1639,4718.20355,26125.67477,4795.6568,20167.33603,12479.70895,8515.7587,14449.8544,12224.35085,3238.4357,4296.2712,3171.6149,9101.798,1633.9618,15828.82173,4415.1588,6474.013,11436.73815,11305.93455,10197.7722,4544.2348,6770.1925,7337.748,10370.91255,10704.47,1880.487,3021.80915,2741.948,4357.04365,4189.1131,8283.6807,24535.69855,14283.4594,8534.6718,3732.6251,5472.449,7133.9025,4340.4409,2710.82855,3208.787,2464.6188,16115.3045,33900.653,4571.41305,36397.576,18765.87545,1731.677,7201.70085,43896.3763,7050.0213,22395.74424,12629.1656,10795.93733,11411.685,2205.9808,1629.8335,2007.945,29141.3603],\"xaxis\":\"x2\",\"yaxis\":\"y2\",\"type\":\"box\"},{\"alignmentgroup\":\"True\",\"bingroup\":\"x\",\"hovertemplate\":\"sex=male<br>charges=%{x}<br>count=%{y}<extra></extra>\",\"legendgroup\":\"male\",\"marker\":{\"color\":\"red\",\"pattern\":{\"shape\":\"\"}},\"name\":\"male\",\"offsetgroup\":\"male\",\"orientation\":\"v\",\"showlegend\":true,\"x\":[1725.5523,4449.462,21984.47061,3866.8552,6406.4107,2721.3208,1826.843,39611.7577,1837.237,2395.17155,10602.385,36837.467,1137.011,6203.90175,2775.19215,38711.0,35585.576,13770.0979,51194.55914,1625.43375,2302.3,39774.2763,48173.361,6272.4772,6079.6715,20630.28351,38709.176,23568.272,37742.5757,47496.49445,34303.1672,8606.2174,4504.6624,30166.61817,6389.37785,17663.1442,6799.458,11946.6259,7726.854,11356.6609,1532.4697,4441.21315,37165.1638,21098.55405,30184.9367,5729.0053,10226.2842,22412.6485,15820.699,3645.0894,17560.37975,3877.30425,2867.1196,47055.5321,10825.2537,4646.759,11488.31695,30259.99556,11381.3254,7740.337,1705.6245,39556.4945,6082.405,1632.56445,1261.442,2045.68525,27375.90478,3490.5491,18972.495,18157.876,20745.9891,40720.55105,1842.519,5125.2157,7789.635,6948.7008,21223.6758,15518.18025,36950.2567,10450.552,5028.1466,10407.08585,4827.90495,13405.3903,8116.68,1694.7964,6455.86265,10436.096,11735.87905,4005.4225,7731.4271,43753.33705,12557.6053,2137.6536,1137.4697,1639.5631,7147.105,11743.299,20984.0936,6610.1097,1980.07,8162.71625,3537.703,2483.736,5253.524,34779.615,19515.5416,11987.1682,2689.4954,9225.2564,12333.828,6710.1919,4463.2051,17352.6803,7152.6714,7196.867,24476.47851,1986.9334,1832.094,4040.55825,12829.4551,44260.7499,4260.744,41097.16175,43921.1837,11520.09985,33750.2918,24869.8368,36219.40545,46151.1245,17179.522,7441.053,9282.4806,1719.4363,42856.838,7265.7025,9617.66245,2523.1695,2803.69785,12928.7911,48549.17835,4237.12655,7742.1098,25992.82104,20277.80751,42112.2356,3906.127,1704.5681,16297.846,21978.6769,38746.3551,6746.7425,19442.3535,11944.59435,8444.474,42124.5153,8124.4084,9722.7695,8835.26495,10435.06525,4667.60765,4894.7533,35491.64,11566.30055,2866.091,6600.20595,42760.5022,9144.565,24393.6224,13822.803,12142.5786,13937.6665,41919.097,13352.0998,13981.85035,4889.9995,8334.45755,1635.73365,12404.8791,24603.04837,8944.1151,9620.3307,1837.2819,4751.07,8116.26885,3481.868,36085.219,1391.5287,38126.2465,27000.98473,42303.69215,20781.48892,8302.53565,1261.859,30284.64294,10736.87075,8964.06055,9290.1395,7526.70645,16586.49771,14988.432,8083.9198,10269.46,3260.199,6652.5288,4074.4537,1621.3402,5080.096,9140.951,14418.2804,46889.2612,46599.1084,39125.33225,2727.3951,8968.33,9788.8659,23082.95533,5969.723,4243.59005,13919.8229,2254.7967,5926.846,2897.3235,1149.3959,26109.32905,12730.9996,4762.329,7512.267,4032.2407,1969.614,1769.53165,4686.3887,21797.0004,10601.412,22144.032,11165.41765,1632.03625,2497.0383,25382.297,28868.6639,35147.52848,2534.39375,1534.3045,1824.2854,15555.18875,9304.7019,9563.029,1253.936,10461.9794,12574.049,17942.106,1967.0227,8027.968,36197.699,6837.3687,22218.1149,32548.3405,6796.86325,2643.2685,3077.0955,11763.0009,2498.4144,9361.3268,1256.299,21082.16,11362.755,27724.28875,8413.46305,3857.75925,38245.59327,8342.90875,1708.0014,48675.5177,12925.886,19214.70553,13831.1152,6067.12675,27346.04207,10231.4999,23807.2406,3268.84665,13390.559,12957.118,3847.674,8334.5896,3935.1799,1646.4297,2494.022,9058.7303,7256.7231,45702.02235,1664.9996,9724.53,12913.9924,1639.5631,6356.2707,1242.816,3861.20965,8428.0693,2566.4707,5709.1644,7441.501,9174.13565,4435.0942,39241.442,23306.547,3659.346,40182.246,34617.84065,12129.61415,6748.5912,11326.71487,11365.952,10085.846,1977.815,7173.35995,9391.346,14410.9321,20149.3229,12949.1554,6666.243,32787.45859,13143.86485,18806.14547,10141.1362,6123.5688,1712.227,4058.71245,6435.6237,1136.3994,42560.4304,8703.456,45710.20785,4837.5823,4399.731,7222.78625,46130.5265,12363.547,1242.26,40103.89,9863.4718,11244.3769,7729.64575,5438.7491,34806.4677,2104.1134,8068.185,2362.22905,2352.96845,40273.6455,10976.24575,9504.3103,10264.4421,1727.54,1984.4533,12146.971,13112.6048,11264.541,12979.358,1263.249,6664.68595,19361.9988,10065.413,3484.331,36189.1017,44585.45587,8604.48365,18246.4955,43254.41795,8827.2099,11737.84884,1627.28245,3062.50825,1906.35825,14210.53595,17128.42608,5031.26955,5428.7277,36307.7983,2416.955,19040.876,3070.8087,8062.764,27941.28758,7261.741,10560.4917,6986.697,7448.40395,5934.3798,9869.8102,18259.216,1146.7966,9386.1613,12741.16745,1917.3184,5209.57885,1252.407,21195.818,18310.742,4266.1658,17904.52705,2103.08,1815.8759,1131.5066,3309.7926,11013.7119,4428.88785,5584.3057,3597.596,7445.918,2680.9493,12523.6048,43813.8661,20773.62775,39597.4072,6117.4945,13393.756,11743.9341,5377.4578,7160.3303,4402.233,1526.312,12323.936,10072.05505,2438.0552,10601.63225,14119.62,15817.9857,10965.446,8782.469,6600.361,1141.4451,11576.13,13129.60345,8457.818,5966.8874,6849.026,8891.1395,6653.7886,6282.235,3443.064,2789.0574,4877.98105,19719.6947,27218.43725,1682.597,11945.1327,10422.91665,44202.6536,13555.0049,2221.56445,8688.85885,48673.5588,4661.28635,8125.7845,4846.92015,15170.069,2639.0429,33732.6867,5257.50795,35069.37452,5488.262,4320.41085,6250.435,25333.33284,6289.7549,2927.0647,10096.97,4673.3922,32108.66282,2304.0022,9487.6442,1121.8739,1628.4709,12982.8747,7160.094,39047.285,6358.77645,19933.458,11534.87265,47462.894,38998.546,20009.63365,3875.7341,41999.52,12609.88702,41034.2214,28468.91901,9500.57305,26467.09737,4746.344,23967.38305,7518.02535,3279.86855,2322.6218,16138.76205,7804.1605,2902.9065,25517.11363,4500.33925,19199.944,4915.05985,8410.04685,4518.82625,5484.4673,17361.7661,34472.841,1972.95,21232.18226,8627.5411,4433.3877,4438.2634,24915.22085,23241.47453,9957.7216,18767.7377,8765.249,12124.9924,8798.593,42211.1382,1711.0268,16450.8947,21595.38229,9850.432,13747.87235,12950.0712,37484.4493,2250.8352,22493.65964,1704.70015,33475.81715,11394.06555,44501.3982,39727.614,14394.5579,9288.0267,25309.489,10594.50155,4462.7218,1981.5819,11554.2236,48970.2476,6548.19505,8978.1851,5757.41345,14349.8544,39871.7043,13974.45555,1909.52745,2102.2647,34672.1472,15161.5344,11884.04858,4454.40265,5855.9025,4076.497,10796.35025,11353.2276,9748.9106,10577.087,41676.0811,3591.48,1674.6323,11253.421,3471.4096,11363.2832,20420.60465,2904.088,8605.3615,41949.2441,2396.0959,10807.4863,9222.4026,36124.5737,38282.7495,8347.1643,10214.636,14358.36437,3693.428,20709.02034,19673.33573,3704.3545,9048.0273,6338.0756,9630.397,11289.10925,52590.82939,10791.96,5979.731,39722.7462,5124.1887,18963.17192,10982.5013,4670.64,17178.6824,6457.8434,4433.9159,19350.3689,8603.8234,37465.34375,5699.8375,6393.60345,6198.7518,8733.22925,2055.3249,9964.06,5116.5004,38415.474,12347.172,5373.36425,23563.01618,1702.4553,12890.05765,5415.6612,4058.1161,6593.5083,8442.667,6858.4796,6640.54485,7162.0122,10594.2257,11938.25595,60021.39897,11345.519,2699.56835,6985.50695,47269.854,49577.6624,1135.9407,5615.369,6059.173,37607.5277,18648.4217,1241.565,16232.847,30063.58055,3277.161,26926.5144,34254.05335,8615.3,3292.52985,14478.33015,4747.0529,17043.3414,10959.33,22462.04375,1720.3537,47403.88,38344.566,7147.4728,34828.654,1515.3449,9301.89355,11931.12525,1964.78,1708.92575,5261.46945,62592.87309,46718.16325,37829.7242,21259.37795,21472.4788,6875.961,6940.90985,4536.259,11272.33139,1163.4627,19496.71917,5425.02335,28101.33305,12981.3457,4239.89265,13143.33665,9377.9047,10325.206,10600.5483],\"xaxis\":\"x\",\"yaxis\":\"y\",\"type\":\"histogram\"},{\"alignmentgroup\":\"True\",\"hovertemplate\":\"sex=male<br>charges=%{x}<extra></extra>\",\"legendgroup\":\"male\",\"marker\":{\"color\":\"red\"},\"name\":\"male\",\"notched\":true,\"offsetgroup\":\"male\",\"showlegend\":false,\"x\":[1725.5523,4449.462,21984.47061,3866.8552,6406.4107,2721.3208,1826.843,39611.7577,1837.237,2395.17155,10602.385,36837.467,1137.011,6203.90175,2775.19215,38711.0,35585.576,13770.0979,51194.55914,1625.43375,2302.3,39774.2763,48173.361,6272.4772,6079.6715,20630.28351,38709.176,23568.272,37742.5757,47496.49445,34303.1672,8606.2174,4504.6624,30166.61817,6389.37785,17663.1442,6799.458,11946.6259,7726.854,11356.6609,1532.4697,4441.21315,37165.1638,21098.55405,30184.9367,5729.0053,10226.2842,22412.6485,15820.699,3645.0894,17560.37975,3877.30425,2867.1196,47055.5321,10825.2537,4646.759,11488.31695,30259.99556,11381.3254,7740.337,1705.6245,39556.4945,6082.405,1632.56445,1261.442,2045.68525,27375.90478,3490.5491,18972.495,18157.876,20745.9891,40720.55105,1842.519,5125.2157,7789.635,6948.7008,21223.6758,15518.18025,36950.2567,10450.552,5028.1466,10407.08585,4827.90495,13405.3903,8116.68,1694.7964,6455.86265,10436.096,11735.87905,4005.4225,7731.4271,43753.33705,12557.6053,2137.6536,1137.4697,1639.5631,7147.105,11743.299,20984.0936,6610.1097,1980.07,8162.71625,3537.703,2483.736,5253.524,34779.615,19515.5416,11987.1682,2689.4954,9225.2564,12333.828,6710.1919,4463.2051,17352.6803,7152.6714,7196.867,24476.47851,1986.9334,1832.094,4040.55825,12829.4551,44260.7499,4260.744,41097.16175,43921.1837,11520.09985,33750.2918,24869.8368,36219.40545,46151.1245,17179.522,7441.053,9282.4806,1719.4363,42856.838,7265.7025,9617.66245,2523.1695,2803.69785,12928.7911,48549.17835,4237.12655,7742.1098,25992.82104,20277.80751,42112.2356,3906.127,1704.5681,16297.846,21978.6769,38746.3551,6746.7425,19442.3535,11944.59435,8444.474,42124.5153,8124.4084,9722.7695,8835.26495,10435.06525,4667.60765,4894.7533,35491.64,11566.30055,2866.091,6600.20595,42760.5022,9144.565,24393.6224,13822.803,12142.5786,13937.6665,41919.097,13352.0998,13981.85035,4889.9995,8334.45755,1635.73365,12404.8791,24603.04837,8944.1151,9620.3307,1837.2819,4751.07,8116.26885,3481.868,36085.219,1391.5287,38126.2465,27000.98473,42303.69215,20781.48892,8302.53565,1261.859,30284.64294,10736.87075,8964.06055,9290.1395,7526.70645,16586.49771,14988.432,8083.9198,10269.46,3260.199,6652.5288,4074.4537,1621.3402,5080.096,9140.951,14418.2804,46889.2612,46599.1084,39125.33225,2727.3951,8968.33,9788.8659,23082.95533,5969.723,4243.59005,13919.8229,2254.7967,5926.846,2897.3235,1149.3959,26109.32905,12730.9996,4762.329,7512.267,4032.2407,1969.614,1769.53165,4686.3887,21797.0004,10601.412,22144.032,11165.41765,1632.03625,2497.0383,25382.297,28868.6639,35147.52848,2534.39375,1534.3045,1824.2854,15555.18875,9304.7019,9563.029,1253.936,10461.9794,12574.049,17942.106,1967.0227,8027.968,36197.699,6837.3687,22218.1149,32548.3405,6796.86325,2643.2685,3077.0955,11763.0009,2498.4144,9361.3268,1256.299,21082.16,11362.755,27724.28875,8413.46305,3857.75925,38245.59327,8342.90875,1708.0014,48675.5177,12925.886,19214.70553,13831.1152,6067.12675,27346.04207,10231.4999,23807.2406,3268.84665,13390.559,12957.118,3847.674,8334.5896,3935.1799,1646.4297,2494.022,9058.7303,7256.7231,45702.02235,1664.9996,9724.53,12913.9924,1639.5631,6356.2707,1242.816,3861.20965,8428.0693,2566.4707,5709.1644,7441.501,9174.13565,4435.0942,39241.442,23306.547,3659.346,40182.246,34617.84065,12129.61415,6748.5912,11326.71487,11365.952,10085.846,1977.815,7173.35995,9391.346,14410.9321,20149.3229,12949.1554,6666.243,32787.45859,13143.86485,18806.14547,10141.1362,6123.5688,1712.227,4058.71245,6435.6237,1136.3994,42560.4304,8703.456,45710.20785,4837.5823,4399.731,7222.78625,46130.5265,12363.547,1242.26,40103.89,9863.4718,11244.3769,7729.64575,5438.7491,34806.4677,2104.1134,8068.185,2362.22905,2352.96845,40273.6455,10976.24575,9504.3103,10264.4421,1727.54,1984.4533,12146.971,13112.6048,11264.541,12979.358,1263.249,6664.68595,19361.9988,10065.413,3484.331,36189.1017,44585.45587,8604.48365,18246.4955,43254.41795,8827.2099,11737.84884,1627.28245,3062.50825,1906.35825,14210.53595,17128.42608,5031.26955,5428.7277,36307.7983,2416.955,19040.876,3070.8087,8062.764,27941.28758,7261.741,10560.4917,6986.697,7448.40395,5934.3798,9869.8102,18259.216,1146.7966,9386.1613,12741.16745,1917.3184,5209.57885,1252.407,21195.818,18310.742,4266.1658,17904.52705,2103.08,1815.8759,1131.5066,3309.7926,11013.7119,4428.88785,5584.3057,3597.596,7445.918,2680.9493,12523.6048,43813.8661,20773.62775,39597.4072,6117.4945,13393.756,11743.9341,5377.4578,7160.3303,4402.233,1526.312,12323.936,10072.05505,2438.0552,10601.63225,14119.62,15817.9857,10965.446,8782.469,6600.361,1141.4451,11576.13,13129.60345,8457.818,5966.8874,6849.026,8891.1395,6653.7886,6282.235,3443.064,2789.0574,4877.98105,19719.6947,27218.43725,1682.597,11945.1327,10422.91665,44202.6536,13555.0049,2221.56445,8688.85885,48673.5588,4661.28635,8125.7845,4846.92015,15170.069,2639.0429,33732.6867,5257.50795,35069.37452,5488.262,4320.41085,6250.435,25333.33284,6289.7549,2927.0647,10096.97,4673.3922,32108.66282,2304.0022,9487.6442,1121.8739,1628.4709,12982.8747,7160.094,39047.285,6358.77645,19933.458,11534.87265,47462.894,38998.546,20009.63365,3875.7341,41999.52,12609.88702,41034.2214,28468.91901,9500.57305,26467.09737,4746.344,23967.38305,7518.02535,3279.86855,2322.6218,16138.76205,7804.1605,2902.9065,25517.11363,4500.33925,19199.944,4915.05985,8410.04685,4518.82625,5484.4673,17361.7661,34472.841,1972.95,21232.18226,8627.5411,4433.3877,4438.2634,24915.22085,23241.47453,9957.7216,18767.7377,8765.249,12124.9924,8798.593,42211.1382,1711.0268,16450.8947,21595.38229,9850.432,13747.87235,12950.0712,37484.4493,2250.8352,22493.65964,1704.70015,33475.81715,11394.06555,44501.3982,39727.614,14394.5579,9288.0267,25309.489,10594.50155,4462.7218,1981.5819,11554.2236,48970.2476,6548.19505,8978.1851,5757.41345,14349.8544,39871.7043,13974.45555,1909.52745,2102.2647,34672.1472,15161.5344,11884.04858,4454.40265,5855.9025,4076.497,10796.35025,11353.2276,9748.9106,10577.087,41676.0811,3591.48,1674.6323,11253.421,3471.4096,11363.2832,20420.60465,2904.088,8605.3615,41949.2441,2396.0959,10807.4863,9222.4026,36124.5737,38282.7495,8347.1643,10214.636,14358.36437,3693.428,20709.02034,19673.33573,3704.3545,9048.0273,6338.0756,9630.397,11289.10925,52590.82939,10791.96,5979.731,39722.7462,5124.1887,18963.17192,10982.5013,4670.64,17178.6824,6457.8434,4433.9159,19350.3689,8603.8234,37465.34375,5699.8375,6393.60345,6198.7518,8733.22925,2055.3249,9964.06,5116.5004,38415.474,12347.172,5373.36425,23563.01618,1702.4553,12890.05765,5415.6612,4058.1161,6593.5083,8442.667,6858.4796,6640.54485,7162.0122,10594.2257,11938.25595,60021.39897,11345.519,2699.56835,6985.50695,47269.854,49577.6624,1135.9407,5615.369,6059.173,37607.5277,18648.4217,1241.565,16232.847,30063.58055,3277.161,26926.5144,34254.05335,8615.3,3292.52985,14478.33015,4747.0529,17043.3414,10959.33,22462.04375,1720.3537,47403.88,38344.566,7147.4728,34828.654,1515.3449,9301.89355,11931.12525,1964.78,1708.92575,5261.46945,62592.87309,46718.16325,37829.7242,21259.37795,21472.4788,6875.961,6940.90985,4536.259,11272.33139,1163.4627,19496.71917,5425.02335,28101.33305,12981.3457,4239.89265,13143.33665,9377.9047,10325.206,10600.5483],\"xaxis\":\"x2\",\"yaxis\":\"y2\",\"type\":\"box\"}],                        {\"template\":{\"data\":{\"bar\":[{\"error_x\":{\"color\":\"#2a3f5f\"},\"error_y\":{\"color\":\"#2a3f5f\"},\"marker\":{\"line\":{\"color\":\"#E5ECF6\",\"width\":0.5},\"pattern\":{\"fillmode\":\"overlay\",\"size\":10,\"solidity\":0.2}},\"type\":\"bar\"}],\"barpolar\":[{\"marker\":{\"line\":{\"color\":\"#E5ECF6\",\"width\":0.5},\"pattern\":{\"fillmode\":\"overlay\",\"size\":10,\"solidity\":0.2}},\"type\":\"barpolar\"}],\"carpet\":[{\"aaxis\":{\"endlinecolor\":\"#2a3f5f\",\"gridcolor\":\"white\",\"linecolor\":\"white\",\"minorgridcolor\":\"white\",\"startlinecolor\":\"#2a3f5f\"},\"baxis\":{\"endlinecolor\":\"#2a3f5f\",\"gridcolor\":\"white\",\"linecolor\":\"white\",\"minorgridcolor\":\"white\",\"startlinecolor\":\"#2a3f5f\"},\"type\":\"carpet\"}],\"choropleth\":[{\"colorbar\":{\"outlinewidth\":0,\"ticks\":\"\"},\"type\":\"choropleth\"}],\"contour\":[{\"colorbar\":{\"outlinewidth\":0,\"ticks\":\"\"},\"colorscale\":[[0.0,\"#0d0887\"],[0.1111111111111111,\"#46039f\"],[0.2222222222222222,\"#7201a8\"],[0.3333333333333333,\"#9c179e\"],[0.4444444444444444,\"#bd3786\"],[0.5555555555555556,\"#d8576b\"],[0.6666666666666666,\"#ed7953\"],[0.7777777777777778,\"#fb9f3a\"],[0.8888888888888888,\"#fdca26\"],[1.0,\"#f0f921\"]],\"type\":\"contour\"}],\"contourcarpet\":[{\"colorbar\":{\"outlinewidth\":0,\"ticks\":\"\"},\"type\":\"contourcarpet\"}],\"heatmap\":[{\"colorbar\":{\"outlinewidth\":0,\"ticks\":\"\"},\"colorscale\":[[0.0,\"#0d0887\"],[0.1111111111111111,\"#46039f\"],[0.2222222222222222,\"#7201a8\"],[0.3333333333333333,\"#9c179e\"],[0.4444444444444444,\"#bd3786\"],[0.5555555555555556,\"#d8576b\"],[0.6666666666666666,\"#ed7953\"],[0.7777777777777778,\"#fb9f3a\"],[0.8888888888888888,\"#fdca26\"],[1.0,\"#f0f921\"]],\"type\":\"heatmap\"}],\"heatmapgl\":[{\"colorbar\":{\"outlinewidth\":0,\"ticks\":\"\"},\"colorscale\":[[0.0,\"#0d0887\"],[0.1111111111111111,\"#46039f\"],[0.2222222222222222,\"#7201a8\"],[0.3333333333333333,\"#9c179e\"],[0.4444444444444444,\"#bd3786\"],[0.5555555555555556,\"#d8576b\"],[0.6666666666666666,\"#ed7953\"],[0.7777777777777778,\"#fb9f3a\"],[0.8888888888888888,\"#fdca26\"],[1.0,\"#f0f921\"]],\"type\":\"heatmapgl\"}],\"histogram\":[{\"marker\":{\"pattern\":{\"fillmode\":\"overlay\",\"size\":10,\"solidity\":0.2}},\"type\":\"histogram\"}],\"histogram2d\":[{\"colorbar\":{\"outlinewidth\":0,\"ticks\":\"\"},\"colorscale\":[[0.0,\"#0d0887\"],[0.1111111111111111,\"#46039f\"],[0.2222222222222222,\"#7201a8\"],[0.3333333333333333,\"#9c179e\"],[0.4444444444444444,\"#bd3786\"],[0.5555555555555556,\"#d8576b\"],[0.6666666666666666,\"#ed7953\"],[0.7777777777777778,\"#fb9f3a\"],[0.8888888888888888,\"#fdca26\"],[1.0,\"#f0f921\"]],\"type\":\"histogram2d\"}],\"histogram2dcontour\":[{\"colorbar\":{\"outlinewidth\":0,\"ticks\":\"\"},\"colorscale\":[[0.0,\"#0d0887\"],[0.1111111111111111,\"#46039f\"],[0.2222222222222222,\"#7201a8\"],[0.3333333333333333,\"#9c179e\"],[0.4444444444444444,\"#bd3786\"],[0.5555555555555556,\"#d8576b\"],[0.6666666666666666,\"#ed7953\"],[0.7777777777777778,\"#fb9f3a\"],[0.8888888888888888,\"#fdca26\"],[1.0,\"#f0f921\"]],\"type\":\"histogram2dcontour\"}],\"mesh3d\":[{\"colorbar\":{\"outlinewidth\":0,\"ticks\":\"\"},\"type\":\"mesh3d\"}],\"parcoords\":[{\"line\":{\"colorbar\":{\"outlinewidth\":0,\"ticks\":\"\"}},\"type\":\"parcoords\"}],\"pie\":[{\"automargin\":true,\"type\":\"pie\"}],\"scatter\":[{\"marker\":{\"colorbar\":{\"outlinewidth\":0,\"ticks\":\"\"}},\"type\":\"scatter\"}],\"scatter3d\":[{\"line\":{\"colorbar\":{\"outlinewidth\":0,\"ticks\":\"\"}},\"marker\":{\"colorbar\":{\"outlinewidth\":0,\"ticks\":\"\"}},\"type\":\"scatter3d\"}],\"scattercarpet\":[{\"marker\":{\"colorbar\":{\"outlinewidth\":0,\"ticks\":\"\"}},\"type\":\"scattercarpet\"}],\"scattergeo\":[{\"marker\":{\"colorbar\":{\"outlinewidth\":0,\"ticks\":\"\"}},\"type\":\"scattergeo\"}],\"scattergl\":[{\"marker\":{\"colorbar\":{\"outlinewidth\":0,\"ticks\":\"\"}},\"type\":\"scattergl\"}],\"scattermapbox\":[{\"marker\":{\"colorbar\":{\"outlinewidth\":0,\"ticks\":\"\"}},\"type\":\"scattermapbox\"}],\"scatterpolar\":[{\"marker\":{\"colorbar\":{\"outlinewidth\":0,\"ticks\":\"\"}},\"type\":\"scatterpolar\"}],\"scatterpolargl\":[{\"marker\":{\"colorbar\":{\"outlinewidth\":0,\"ticks\":\"\"}},\"type\":\"scatterpolargl\"}],\"scatterternary\":[{\"marker\":{\"colorbar\":{\"outlinewidth\":0,\"ticks\":\"\"}},\"type\":\"scatterternary\"}],\"surface\":[{\"colorbar\":{\"outlinewidth\":0,\"ticks\":\"\"},\"colorscale\":[[0.0,\"#0d0887\"],[0.1111111111111111,\"#46039f\"],[0.2222222222222222,\"#7201a8\"],[0.3333333333333333,\"#9c179e\"],[0.4444444444444444,\"#bd3786\"],[0.5555555555555556,\"#d8576b\"],[0.6666666666666666,\"#ed7953\"],[0.7777777777777778,\"#fb9f3a\"],[0.8888888888888888,\"#fdca26\"],[1.0,\"#f0f921\"]],\"type\":\"surface\"}],\"table\":[{\"cells\":{\"fill\":{\"color\":\"#EBF0F8\"},\"line\":{\"color\":\"white\"}},\"header\":{\"fill\":{\"color\":\"#C8D4E3\"},\"line\":{\"color\":\"white\"}},\"type\":\"table\"}]},\"layout\":{\"annotationdefaults\":{\"arrowcolor\":\"#2a3f5f\",\"arrowhead\":0,\"arrowwidth\":1},\"autotypenumbers\":\"strict\",\"coloraxis\":{\"colorbar\":{\"outlinewidth\":0,\"ticks\":\"\"}},\"colorscale\":{\"diverging\":[[0,\"#8e0152\"],[0.1,\"#c51b7d\"],[0.2,\"#de77ae\"],[0.3,\"#f1b6da\"],[0.4,\"#fde0ef\"],[0.5,\"#f7f7f7\"],[0.6,\"#e6f5d0\"],[0.7,\"#b8e186\"],[0.8,\"#7fbc41\"],[0.9,\"#4d9221\"],[1,\"#276419\"]],\"sequential\":[[0.0,\"#0d0887\"],[0.1111111111111111,\"#46039f\"],[0.2222222222222222,\"#7201a8\"],[0.3333333333333333,\"#9c179e\"],[0.4444444444444444,\"#bd3786\"],[0.5555555555555556,\"#d8576b\"],[0.6666666666666666,\"#ed7953\"],[0.7777777777777778,\"#fb9f3a\"],[0.8888888888888888,\"#fdca26\"],[1.0,\"#f0f921\"]],\"sequentialminus\":[[0.0,\"#0d0887\"],[0.1111111111111111,\"#46039f\"],[0.2222222222222222,\"#7201a8\"],[0.3333333333333333,\"#9c179e\"],[0.4444444444444444,\"#bd3786\"],[0.5555555555555556,\"#d8576b\"],[0.6666666666666666,\"#ed7953\"],[0.7777777777777778,\"#fb9f3a\"],[0.8888888888888888,\"#fdca26\"],[1.0,\"#f0f921\"]]},\"colorway\":[\"#636efa\",\"#EF553B\",\"#00cc96\",\"#ab63fa\",\"#FFA15A\",\"#19d3f3\",\"#FF6692\",\"#B6E880\",\"#FF97FF\",\"#FECB52\"],\"font\":{\"color\":\"#2a3f5f\"},\"geo\":{\"bgcolor\":\"white\",\"lakecolor\":\"white\",\"landcolor\":\"#E5ECF6\",\"showlakes\":true,\"showland\":true,\"subunitcolor\":\"white\"},\"hoverlabel\":{\"align\":\"left\"},\"hovermode\":\"closest\",\"mapbox\":{\"style\":\"light\"},\"paper_bgcolor\":\"white\",\"plot_bgcolor\":\"#E5ECF6\",\"polar\":{\"angularaxis\":{\"gridcolor\":\"white\",\"linecolor\":\"white\",\"ticks\":\"\"},\"bgcolor\":\"#E5ECF6\",\"radialaxis\":{\"gridcolor\":\"white\",\"linecolor\":\"white\",\"ticks\":\"\"}},\"scene\":{\"xaxis\":{\"backgroundcolor\":\"#E5ECF6\",\"gridcolor\":\"white\",\"gridwidth\":2,\"linecolor\":\"white\",\"showbackground\":true,\"ticks\":\"\",\"zerolinecolor\":\"white\"},\"yaxis\":{\"backgroundcolor\":\"#E5ECF6\",\"gridcolor\":\"white\",\"gridwidth\":2,\"linecolor\":\"white\",\"showbackground\":true,\"ticks\":\"\",\"zerolinecolor\":\"white\"},\"zaxis\":{\"backgroundcolor\":\"#E5ECF6\",\"gridcolor\":\"white\",\"gridwidth\":2,\"linecolor\":\"white\",\"showbackground\":true,\"ticks\":\"\",\"zerolinecolor\":\"white\"}},\"shapedefaults\":{\"line\":{\"color\":\"#2a3f5f\"}},\"ternary\":{\"aaxis\":{\"gridcolor\":\"white\",\"linecolor\":\"white\",\"ticks\":\"\"},\"baxis\":{\"gridcolor\":\"white\",\"linecolor\":\"white\",\"ticks\":\"\"},\"bgcolor\":\"#E5ECF6\",\"caxis\":{\"gridcolor\":\"white\",\"linecolor\":\"white\",\"ticks\":\"\"}},\"title\":{\"x\":0.05},\"xaxis\":{\"automargin\":true,\"gridcolor\":\"white\",\"linecolor\":\"white\",\"ticks\":\"\",\"title\":{\"standoff\":15},\"zerolinecolor\":\"white\",\"zerolinewidth\":2},\"yaxis\":{\"automargin\":true,\"gridcolor\":\"white\",\"linecolor\":\"white\",\"ticks\":\"\",\"title\":{\"standoff\":15},\"zerolinecolor\":\"white\",\"zerolinewidth\":2}}},\"xaxis\":{\"anchor\":\"y\",\"domain\":[0.0,1.0],\"title\":{\"text\":\"charges\"}},\"yaxis\":{\"anchor\":\"x\",\"domain\":[0.0,0.7326],\"title\":{\"text\":\"count\"}},\"xaxis2\":{\"anchor\":\"y2\",\"domain\":[0.0,1.0],\"matches\":\"x\",\"showticklabels\":false,\"showgrid\":true},\"yaxis2\":{\"anchor\":\"x2\",\"domain\":[0.7426,1.0],\"matches\":\"y2\",\"showticklabels\":false,\"showline\":false,\"ticks\":\"\",\"showgrid\":false},\"legend\":{\"title\":{\"text\":\"sex\"},\"tracegroupgap\":0},\"title\":{\"text\":\"Annual\"},\"barmode\":\"relative\",\"bargap\":0.1},                        {\"responsive\": true}                    ).then(function(){\n",
              "                            \n",
              "var gd = document.getElementById('f9a6195c-8272-408e-927b-1f355045cbcd');\n",
              "var x = new MutationObserver(function (mutations, observer) {{\n",
              "        var display = window.getComputedStyle(gd).display;\n",
              "        if (!display || display === 'none') {{\n",
              "            console.log([gd, 'removed!']);\n",
              "            Plotly.purge(gd);\n",
              "            observer.disconnect();\n",
              "        }}\n",
              "}});\n",
              "\n",
              "// Listen for the removal of the full notebook cells\n",
              "var notebookContainer = gd.closest('#notebook-container');\n",
              "if (notebookContainer) {{\n",
              "    x.observe(notebookContainer, {childList: true});\n",
              "}}\n",
              "\n",
              "// Listen for the clearing of the current output cell\n",
              "var outputEl = gd.closest('.output');\n",
              "if (outputEl) {{\n",
              "    x.observe(outputEl, {childList: true});\n",
              "}}\n",
              "\n",
              "                        })                };                            </script>        </div>\n",
              "</body>\n",
              "</html>"
            ]
          },
          "metadata": {}
        }
      ]
    },
    {
      "cell_type": "code",
      "source": [
        "fig = px.histogram(medical_df,\n",
        "                   x = 'charges',\n",
        "                   marginal = 'box',\n",
        "                   color = 'region',\n",
        "                   color_discrete_sequence = ['green', 'red', 'yellow', 'black'],\n",
        "                   title = 'Annual')\n",
        "fig.update_layout(bargap = 0.1)\n",
        "fig.show()"
      ],
      "metadata": {
        "colab": {
          "base_uri": "https://localhost:8080/",
          "height": 542
        },
        "id": "cnenshIfSb2J",
        "outputId": "86cbe6f0-78ce-495f-e25e-901b844f6bea"
      },
      "execution_count": 338,
      "outputs": [
        {
          "output_type": "display_data",
          "data": {
            "text/html": [
              "<html>\n",
              "<head><meta charset=\"utf-8\" /></head>\n",
              "<body>\n",
              "    <div>            <script src=\"https://cdnjs.cloudflare.com/ajax/libs/mathjax/2.7.5/MathJax.js?config=TeX-AMS-MML_SVG\"></script><script type=\"text/javascript\">if (window.MathJax) {MathJax.Hub.Config({SVG: {font: \"STIX-Web\"}});}</script>                <script type=\"text/javascript\">window.PlotlyConfig = {MathJaxConfig: 'local'};</script>\n",
              "        <script src=\"https://cdn.plot.ly/plotly-2.8.3.min.js\"></script>                <div id=\"1ad5dcb7-6f61-4d28-8544-ecd0b32ab312\" class=\"plotly-graph-div\" style=\"height:525px; width:100%;\"></div>            <script type=\"text/javascript\">                                    window.PLOTLYENV=window.PLOTLYENV || {};                                    if (document.getElementById(\"1ad5dcb7-6f61-4d28-8544-ecd0b32ab312\")) {                    Plotly.newPlot(                        \"1ad5dcb7-6f61-4d28-8544-ecd0b32ab312\",                        [{\"alignmentgroup\":\"True\",\"bingroup\":\"x\",\"hovertemplate\":\"region=southwest<br>charges=%{x}<br>count=%{y}<extra></extra>\",\"legendgroup\":\"southwest\",\"marker\":{\"color\":\"green\",\"pattern\":{\"shape\":\"\"}},\"name\":\"southwest\",\"offsetgroup\":\"southwest\",\"orientation\":\"v\",\"showlegend\":true,\"x\":[16884.924,1826.843,1837.237,10602.385,36837.467,4149.736,38711.0,35585.576,4687.797,51194.55914,2302.3,48173.361,20630.28351,23568.272,1743.214,14235.072,11741.726,7726.854,39836.519,11073.176,47291.055,12105.32,15820.699,6186.127,5003.853,2331.519,11881.358,4646.759,7740.337,17081.08,9634.538,6082.405,11163.568,1261.442,2166.732,1842.519,10450.552,5152.134,4830.63,8116.68,5246.047,48824.45,10436.096,8823.279,5325.651,6775.961,4883.866,5649.715,7147.105,13880.949,1980.07,8520.026,7371.772,5012.471,5253.524,34779.615,1727.785,12333.828,35160.13457,7196.867,1832.094,47305.305,4260.744,11837.16,7441.053,42856.838,2150.469,9625.92,3172.018,3906.127,16297.846,12646.207,20177.67113,8444.474,1737.376,34838.873,35491.64,2866.091,47928.03,9144.565,13822.803,18955.22017,8932.084,3554.203,24603.04837,4751.07,13844.506,2597.779,36085.219,1261.859,8522.003,14988.432,9264.797,3260.199,8539.671,5080.096,18608.262,8968.33,23082.95533,5969.723,12638.195,5926.846,37079.372,7345.084,5910.944,4762.329,7512.267,1969.614,21797.0004,10601.412,22144.032,13224.693,1744.465,25382.297,9880.068,9563.029,1253.936,1748.774,12574.049,17942.106,4931.647,8027.968,13470.86,36197.699,11455.28,1256.299,21082.16,11362.755,5240.765,9861.025,5972.378,8825.086,6196.448,11538.421,13390.559,12957.118,3847.674,2494.022,11552.904,3761.292,9724.53,1242.816,11842.442,7441.501,11070.535,39241.442,6571.544,23306.547,10713.644,3659.346,40182.246,9182.17,11365.952,10085.846,1977.815,9391.346,6666.243,3410.324,8703.456,12363.547,2585.269,1242.26,40103.89,4766.022,26236.57997,8068.185,3577.999,5375.038,2457.502,12146.971,11264.541,12979.358,1263.249,10065.413,4234.927,14007.222,3484.331,44585.45587,11737.84884,8556.907,2416.955,19040.876,8062.764,7050.642,14319.031,27941.28758,11150.78,18259.216,24520.264,6414.178,1252.407,11848.141,2103.08,9414.92,3597.596,7445.918,13393.756,4402.233,1526.312,9872.701,2974.126,1875.344,10965.446,46113.511,7151.092,8782.469,6600.361,11576.13,4391.652,8457.818,6849.026,26140.3603,6282.235,6311.952,3443.064,1682.597,13063.883,12644.589,15170.069,17496.306,7626.993,13041.921,13451.122,13462.52,5488.262,6250.435,2913.569,12032.326,6238.298,10096.97,7348.142,12233.828,11674.13,7160.094,19933.458,38998.546,3353.284,4746.344,1759.338,19199.944,7624.63,3378.91,10118.424,7418.522,34472.841,1972.95,21232.18226,8269.044,5383.536,3987.926,8798.593,2020.177,9850.432,12094.478,3161.454,39727.614,25309.489,8277.523,5708.867,7045.499,8551.347,4076.497,19023.26,10577.087,3591.48,11299.343,11253.421,20420.60465,2904.088,34166.273,10214.636,14358.36437,1728.897,3693.428,7623.518,7954.517,9630.397,52590.82939,10791.96,5979.731,3989.841,4529.477,4670.64,22478.6,2154.361,6496.886,2632.992,13126.67745,4934.705,36910.60803,38415.474,12347.172,10806.839,41661.602,20167.33603,11345.519,5615.369,9101.798,6059.173,1241.565,16232.847,15828.82173,6474.013,3277.161,7337.748,10704.47,1880.487,8615.3,10959.33,47403.88,5472.449,38344.566,34828.654,1964.78,3208.787,37829.7242,33900.653,6875.961,4536.259,36397.576,1731.677,10325.206,10795.93733,11411.685,2007.945],\"xaxis\":\"x\",\"yaxis\":\"y\",\"type\":\"histogram\"},{\"alignmentgroup\":\"True\",\"hovertemplate\":\"region=southwest<br>charges=%{x}<extra></extra>\",\"legendgroup\":\"southwest\",\"marker\":{\"color\":\"green\"},\"name\":\"southwest\",\"notched\":true,\"offsetgroup\":\"southwest\",\"showlegend\":false,\"x\":[16884.924,1826.843,1837.237,10602.385,36837.467,4149.736,38711.0,35585.576,4687.797,51194.55914,2302.3,48173.361,20630.28351,23568.272,1743.214,14235.072,11741.726,7726.854,39836.519,11073.176,47291.055,12105.32,15820.699,6186.127,5003.853,2331.519,11881.358,4646.759,7740.337,17081.08,9634.538,6082.405,11163.568,1261.442,2166.732,1842.519,10450.552,5152.134,4830.63,8116.68,5246.047,48824.45,10436.096,8823.279,5325.651,6775.961,4883.866,5649.715,7147.105,13880.949,1980.07,8520.026,7371.772,5012.471,5253.524,34779.615,1727.785,12333.828,35160.13457,7196.867,1832.094,47305.305,4260.744,11837.16,7441.053,42856.838,2150.469,9625.92,3172.018,3906.127,16297.846,12646.207,20177.67113,8444.474,1737.376,34838.873,35491.64,2866.091,47928.03,9144.565,13822.803,18955.22017,8932.084,3554.203,24603.04837,4751.07,13844.506,2597.779,36085.219,1261.859,8522.003,14988.432,9264.797,3260.199,8539.671,5080.096,18608.262,8968.33,23082.95533,5969.723,12638.195,5926.846,37079.372,7345.084,5910.944,4762.329,7512.267,1969.614,21797.0004,10601.412,22144.032,13224.693,1744.465,25382.297,9880.068,9563.029,1253.936,1748.774,12574.049,17942.106,4931.647,8027.968,13470.86,36197.699,11455.28,1256.299,21082.16,11362.755,5240.765,9861.025,5972.378,8825.086,6196.448,11538.421,13390.559,12957.118,3847.674,2494.022,11552.904,3761.292,9724.53,1242.816,11842.442,7441.501,11070.535,39241.442,6571.544,23306.547,10713.644,3659.346,40182.246,9182.17,11365.952,10085.846,1977.815,9391.346,6666.243,3410.324,8703.456,12363.547,2585.269,1242.26,40103.89,4766.022,26236.57997,8068.185,3577.999,5375.038,2457.502,12146.971,11264.541,12979.358,1263.249,10065.413,4234.927,14007.222,3484.331,44585.45587,11737.84884,8556.907,2416.955,19040.876,8062.764,7050.642,14319.031,27941.28758,11150.78,18259.216,24520.264,6414.178,1252.407,11848.141,2103.08,9414.92,3597.596,7445.918,13393.756,4402.233,1526.312,9872.701,2974.126,1875.344,10965.446,46113.511,7151.092,8782.469,6600.361,11576.13,4391.652,8457.818,6849.026,26140.3603,6282.235,6311.952,3443.064,1682.597,13063.883,12644.589,15170.069,17496.306,7626.993,13041.921,13451.122,13462.52,5488.262,6250.435,2913.569,12032.326,6238.298,10096.97,7348.142,12233.828,11674.13,7160.094,19933.458,38998.546,3353.284,4746.344,1759.338,19199.944,7624.63,3378.91,10118.424,7418.522,34472.841,1972.95,21232.18226,8269.044,5383.536,3987.926,8798.593,2020.177,9850.432,12094.478,3161.454,39727.614,25309.489,8277.523,5708.867,7045.499,8551.347,4076.497,19023.26,10577.087,3591.48,11299.343,11253.421,20420.60465,2904.088,34166.273,10214.636,14358.36437,1728.897,3693.428,7623.518,7954.517,9630.397,52590.82939,10791.96,5979.731,3989.841,4529.477,4670.64,22478.6,2154.361,6496.886,2632.992,13126.67745,4934.705,36910.60803,38415.474,12347.172,10806.839,41661.602,20167.33603,11345.519,5615.369,9101.798,6059.173,1241.565,16232.847,15828.82173,6474.013,3277.161,7337.748,10704.47,1880.487,8615.3,10959.33,47403.88,5472.449,38344.566,34828.654,1964.78,3208.787,37829.7242,33900.653,6875.961,4536.259,36397.576,1731.677,10325.206,10795.93733,11411.685,2007.945],\"xaxis\":\"x2\",\"yaxis\":\"y2\",\"type\":\"box\"},{\"alignmentgroup\":\"True\",\"bingroup\":\"x\",\"hovertemplate\":\"region=southeast<br>charges=%{x}<br>count=%{y}<extra></extra>\",\"legendgroup\":\"southeast\",\"marker\":{\"color\":\"red\",\"pattern\":{\"shape\":\"\"}},\"name\":\"southeast\",\"offsetgroup\":\"southeast\",\"orientation\":\"v\",\"showlegend\":true,\"x\":[1725.5523,4449.462,3756.6216,8240.5896,27808.7251,11090.7178,39611.7577,1137.011,14001.1338,4949.7587,6272.4772,6313.759,12629.8967,38709.176,37742.5757,34303.1672,23244.7902,4504.6624,5920.1041,17663.1442,16577.7795,11946.6259,3947.4131,1532.4697,37165.1638,2026.9741,3766.8838,10226.2842,30942.1918,2867.1196,47055.5321,11381.3254,19107.7796,8601.3293,2155.6815,27322.73386,18972.495,5138.2567,9877.6077,7789.635,21223.6758,36950.2567,19749.38338,36149.4835,13405.3903,1631.8212,7731.4271,3981.9768,12557.6053,2137.6536,1137.4697,8516.829,8871.1517,37133.8982,11743.299,5002.7827,2483.736,3392.9768,25081.76784,19515.5416,11987.1682,2689.4954,24227.33724,14001.2867,19444.2658,1615.7667,4463.2051,7152.6714,12648.7034,1986.9334,44260.7499,5400.9805,17085.2676,20462.99766,46151.1245,17179.522,1719.4363,12928.7911,9855.1314,7742.1098,25992.82104,42112.2356,2156.7518,21978.6769,12265.5069,4349.462,4151.0287,42124.5153,8124.4084,3561.8889,12142.5786,8232.6388,10977.2063,6184.2994,4889.9995,5478.0368,14133.03775,8944.1151,1837.2819,1607.5101,3180.5101,1391.5287,38126.2465,27000.98473,20781.48892,5846.9176,11856.4115,16586.49771,1631.6683,8083.9198,4185.0979,6652.5288,4074.4537,7345.7266,9140.951,14418.2804,46889.2612,46599.1084,9788.8659,13919.8229,12592.5345,1149.3959,28287.89766,4686.3887,11881.9696,7682.67,10381.4787,19521.9682,2201.0971,2497.0383,1534.3045,1824.2854,9304.7019,1622.1885,48885.13561,24513.09126,8211.1002,22218.1149,32548.3405,5974.3847,2498.4144,27724.28875,3994.1778,5397.6167,38245.59327,11482.63485,48675.5177,12925.886,19214.70553,13831.1152,8233.0975,27346.04207,3056.3881,13887.204,63770.42801,45863.205,3972.9247,3935.1799,9058.7303,2801.2588,2219.4451,4753.6368,1664.9996,6356.2707,17626.23951,4779.6023,5976.8311,2566.4707,5709.1644,7640.3092,1633.0444,16085.1275,9283.562,8547.6913,1880.07,42969.8527,34439.8559,11326.71487,3366.6697,12949.1554,18806.14547,9800.8882,10579.711,8280.6227,8527.532,12244.531,24667.419,6435.6237,22192.43711,1136.3994,27037.9141,42560.4304,6500.2359,4837.5823,4399.731,6185.3208,46200.9851,12485.8009,5438.7491,34806.4677,40273.6455,3500.6123,2020.5523,9504.3103,44400.4064,1727.54,10107.2206,40932.4295,6781.3542,19361.9988,40419.0191,18246.4955,3757.8448,19539.243,11833.7823,23065.4207,36307.7983,10560.4917,5934.3798,1146.7966,9386.1613,4350.5144,13457.9608,5662.225,21195.818,4266.1658,7046.7222,14313.8463,38792.6856,1815.8759,1131.5066,11013.7119,5584.3057,1877.9294,1621.8827,8219.2039,43813.8661,7160.3303,36021.0112,27533.9129,45008.9555,2438.0552,40974.1649,18218.16139,1141.4451,3392.3652,5966.8874,6653.7886,19719.6947,7243.8136,44202.6536,1634.5734,48673.5588,8125.7845,7633.7206,2473.3341,5245.2269,13470.8044,6289.7549,2927.0647,4673.3922,2304.0022,9487.6442,1121.8739,9549.5651,12982.8747,47462.894,3875.7341,41999.52,14474.675,8596.8278,10702.6424,2322.6218,7804.1605,2902.9065,4889.0368,5484.4673,13887.9685,18767.7377,36580.28216,35595.5898,42211.1382,1711.0268,8569.8618,44423.803,37484.4493,44501.3982,17929.30337,2480.9791,1981.5819,11554.2236,48970.2476,8978.1851,10928.849,39871.7043,4562.8421,34672.1472,15161.5344,11884.04858,9748.9106,41676.0811,1674.6323,3227.1211,3471.4096,11363.2832,10338.9316,8605.3615,41949.2441,24180.9335,10807.4863,36124.5737,38282.7495,8347.1643,5836.5204,8582.3023,3704.3545,9048.0273,27117.99378,6338.0756,40941.2854,39722.7462,5124.1887,18963.17192,10982.5013,11093.6229,19350.3689,18328.2381,5699.8375,18223.4512,23563.01618,5415.6612,4058.1161,6593.5083,8442.667,26125.67477,4795.6568,7162.0122,10594.2257,8515.7587,3238.4357,47269.854,49577.6624,3171.6149,1135.9407,1633.9618,4415.1588,6770.1925,26926.5144,14478.33015,4747.0529,17043.3414,8283.6807,1720.3537,7147.4728,1515.3449,4340.4409,62592.87309,2464.6188,1163.4627,12981.3457,43896.3763,9377.9047,12629.1656,1629.8335],\"xaxis\":\"x\",\"yaxis\":\"y\",\"type\":\"histogram\"},{\"alignmentgroup\":\"True\",\"hovertemplate\":\"region=southeast<br>charges=%{x}<extra></extra>\",\"legendgroup\":\"southeast\",\"marker\":{\"color\":\"red\"},\"name\":\"southeast\",\"notched\":true,\"offsetgroup\":\"southeast\",\"showlegend\":false,\"x\":[1725.5523,4449.462,3756.6216,8240.5896,27808.7251,11090.7178,39611.7577,1137.011,14001.1338,4949.7587,6272.4772,6313.759,12629.8967,38709.176,37742.5757,34303.1672,23244.7902,4504.6624,5920.1041,17663.1442,16577.7795,11946.6259,3947.4131,1532.4697,37165.1638,2026.9741,3766.8838,10226.2842,30942.1918,2867.1196,47055.5321,11381.3254,19107.7796,8601.3293,2155.6815,27322.73386,18972.495,5138.2567,9877.6077,7789.635,21223.6758,36950.2567,19749.38338,36149.4835,13405.3903,1631.8212,7731.4271,3981.9768,12557.6053,2137.6536,1137.4697,8516.829,8871.1517,37133.8982,11743.299,5002.7827,2483.736,3392.9768,25081.76784,19515.5416,11987.1682,2689.4954,24227.33724,14001.2867,19444.2658,1615.7667,4463.2051,7152.6714,12648.7034,1986.9334,44260.7499,5400.9805,17085.2676,20462.99766,46151.1245,17179.522,1719.4363,12928.7911,9855.1314,7742.1098,25992.82104,42112.2356,2156.7518,21978.6769,12265.5069,4349.462,4151.0287,42124.5153,8124.4084,3561.8889,12142.5786,8232.6388,10977.2063,6184.2994,4889.9995,5478.0368,14133.03775,8944.1151,1837.2819,1607.5101,3180.5101,1391.5287,38126.2465,27000.98473,20781.48892,5846.9176,11856.4115,16586.49771,1631.6683,8083.9198,4185.0979,6652.5288,4074.4537,7345.7266,9140.951,14418.2804,46889.2612,46599.1084,9788.8659,13919.8229,12592.5345,1149.3959,28287.89766,4686.3887,11881.9696,7682.67,10381.4787,19521.9682,2201.0971,2497.0383,1534.3045,1824.2854,9304.7019,1622.1885,48885.13561,24513.09126,8211.1002,22218.1149,32548.3405,5974.3847,2498.4144,27724.28875,3994.1778,5397.6167,38245.59327,11482.63485,48675.5177,12925.886,19214.70553,13831.1152,8233.0975,27346.04207,3056.3881,13887.204,63770.42801,45863.205,3972.9247,3935.1799,9058.7303,2801.2588,2219.4451,4753.6368,1664.9996,6356.2707,17626.23951,4779.6023,5976.8311,2566.4707,5709.1644,7640.3092,1633.0444,16085.1275,9283.562,8547.6913,1880.07,42969.8527,34439.8559,11326.71487,3366.6697,12949.1554,18806.14547,9800.8882,10579.711,8280.6227,8527.532,12244.531,24667.419,6435.6237,22192.43711,1136.3994,27037.9141,42560.4304,6500.2359,4837.5823,4399.731,6185.3208,46200.9851,12485.8009,5438.7491,34806.4677,40273.6455,3500.6123,2020.5523,9504.3103,44400.4064,1727.54,10107.2206,40932.4295,6781.3542,19361.9988,40419.0191,18246.4955,3757.8448,19539.243,11833.7823,23065.4207,36307.7983,10560.4917,5934.3798,1146.7966,9386.1613,4350.5144,13457.9608,5662.225,21195.818,4266.1658,7046.7222,14313.8463,38792.6856,1815.8759,1131.5066,11013.7119,5584.3057,1877.9294,1621.8827,8219.2039,43813.8661,7160.3303,36021.0112,27533.9129,45008.9555,2438.0552,40974.1649,18218.16139,1141.4451,3392.3652,5966.8874,6653.7886,19719.6947,7243.8136,44202.6536,1634.5734,48673.5588,8125.7845,7633.7206,2473.3341,5245.2269,13470.8044,6289.7549,2927.0647,4673.3922,2304.0022,9487.6442,1121.8739,9549.5651,12982.8747,47462.894,3875.7341,41999.52,14474.675,8596.8278,10702.6424,2322.6218,7804.1605,2902.9065,4889.0368,5484.4673,13887.9685,18767.7377,36580.28216,35595.5898,42211.1382,1711.0268,8569.8618,44423.803,37484.4493,44501.3982,17929.30337,2480.9791,1981.5819,11554.2236,48970.2476,8978.1851,10928.849,39871.7043,4562.8421,34672.1472,15161.5344,11884.04858,9748.9106,41676.0811,1674.6323,3227.1211,3471.4096,11363.2832,10338.9316,8605.3615,41949.2441,24180.9335,10807.4863,36124.5737,38282.7495,8347.1643,5836.5204,8582.3023,3704.3545,9048.0273,27117.99378,6338.0756,40941.2854,39722.7462,5124.1887,18963.17192,10982.5013,11093.6229,19350.3689,18328.2381,5699.8375,18223.4512,23563.01618,5415.6612,4058.1161,6593.5083,8442.667,26125.67477,4795.6568,7162.0122,10594.2257,8515.7587,3238.4357,47269.854,49577.6624,3171.6149,1135.9407,1633.9618,4415.1588,6770.1925,26926.5144,14478.33015,4747.0529,17043.3414,8283.6807,1720.3537,7147.4728,1515.3449,4340.4409,62592.87309,2464.6188,1163.4627,12981.3457,43896.3763,9377.9047,12629.1656,1629.8335],\"xaxis\":\"x2\",\"yaxis\":\"y2\",\"type\":\"box\"},{\"alignmentgroup\":\"True\",\"bingroup\":\"x\",\"hovertemplate\":\"region=northwest<br>charges=%{x}<br>count=%{y}<extra></extra>\",\"legendgroup\":\"northwest\",\"marker\":{\"color\":\"yellow\",\"pattern\":{\"shape\":\"\"}},\"name\":\"northwest\",\"offsetgroup\":\"northwest\",\"orientation\":\"v\",\"showlegend\":true,\"x\":[21984.47061,3866.8552,7281.5056,28923.13692,6203.90175,12268.63225,2775.19215,13770.0979,1625.43375,15612.19335,3556.9223,3579.8287,8059.6791,47496.49445,5989.52365,30166.61817,4133.64165,14711.7438,6389.37785,11356.6609,6571.02435,11033.6617,21098.55405,43578.9394,8026.6666,11082.5772,10942.13205,5729.0053,17560.37975,3877.30425,10825.2537,2404.7338,6686.4313,2257.47525,10115.00885,32734.1863,1632.56445,2045.68525,18157.876,20745.9891,40720.55105,10959.6947,5125.2157,6948.7008,21348.706,5028.1466,6128.79745,2719.27975,2855.43755,6455.86265,11735.87905,7419.4779,4922.9159,12044.342,1639.5631,9644.2525,2130.6759,13012.20865,8162.71625,3537.703,10355.641,7443.64305,6710.1919,17352.6803,24476.47851,43921.1837,11520.09985,33750.2918,36219.40545,7265.7025,2523.1695,2803.69785,14256.1928,38746.3551,9249.4952,19442.3535,7749.1564,8835.26495,7421.19455,4894.7533,42760.5022,24393.6224,13429.0354,13937.6665,13352.0998,1635.73365,11830.6072,9620.3307,8017.06115,8116.26885,13415.0381,18033.9679,16455.70785,30284.64294,3176.8159,4618.0799,2138.0707,7526.70645,14692.66935,10269.46,1621.3402,2134.9015,28950.4692,18804.7524,4906.40965,4243.59005,4738.2682,26109.32905,11454.0215,4032.2407,1769.53165,11840.77505,1632.03625,12643.3778,28868.6639,2534.39375,15555.18875,12475.3513,10461.9794,6796.86325,2643.2685,3077.0955,8413.46305,24059.68019,10231.4999,23807.2406,11187.6567,39983.42595,1646.4297,9193.8385,2128.43105,6373.55735,7256.7231,45702.02235,12222.8983,1639.5631,43943.8761,8428.0693,33471.97189,9174.13565,17468.9839,25678.77845,12129.61415,3736.4647,42983.4585,2709.1119,32787.45859,4466.6214,6123.5688,4058.71245,40003.33225,7222.78625,46130.5265,10156.7832,9863.4718,2362.22905,2352.96845,3201.24515,10976.24575,5385.3379,8930.93455,10264.4421,8310.83915,9566.9909,13112.6048,10848.1343,12231.6136,6664.68595,9583.8933,8827.2099,9910.35985,1627.28245,3062.50825,1906.35825,14210.53595,11842.62375,6933.24225,17748.5062,7261.741,6986.697,9869.8102,1917.3184,7209.4918,18310.742,7731.85785,28476.73499,2136.88225,6360.9936,2842.76075,55135.40209,2680.9493,12523.6048,6117.4945,5266.3656,4719.73655,11743.9341,5377.4578,12622.1795,10601.63225,14119.62,15817.9857,12269.68865,2690.1138,2789.0574,4877.98105,5272.1758,11945.1327,29330.98315,2221.56445,2117.33885,2639.0429,14382.70905,5257.50795,21774.32215,4320.41085,8965.79575,1628.4709,6358.77645,4527.18295,20009.63365,12609.88702,28468.91901,2730.10785,26467.09737,23967.38305,7518.02535,2527.81865,8410.04685,28340.18885,16420.49455,5267.81815,17361.7661,4433.3877,24915.22085,8765.249,12124.9924,2709.24395,12495.29085,26018.95052,16450.8947,21595.38229,21677.28345,12950.0712,39725.51805,22493.65964,20234.85475,21880.82,3594.17085,8023.13545,3353.4703,10594.50155,4462.7218,6548.19505,14349.8544,1909.52745,4454.40265,5855.9025,15019.76005,11353.2276,33907.548,8988.15875,10493.9458,5312.16985,5693.4305,46661.4424,14254.6082,9991.03765,19673.33573,11085.5868,3176.2877,36898.73308,11289.10925,2261.5688,12235.8392,5630.45785,11015.1747,14426.07385,7727.2532,7153.5539,6112.35295,6457.8434,4433.9159,23887.6627,2850.68375,37465.34375,13844.7972,5327.40025,8671.19125,4134.08245,18838.70366,33307.5508,6393.60345,6198.7518,8733.22925,2055.3249,5116.5004,5373.36425,3956.07145,7537.1639,60021.39897,12479.70895,2699.56835,12224.35085,4296.2712,11436.73815,11305.93455,30063.58055,3292.52985,3021.80915,4357.04365,4189.1131,24535.69855,9301.89355,5261.46945,2710.82855,46718.16325,21472.4788,6940.90985,4571.41305,18765.87545,7201.70085,5425.02335,4239.89265,10600.5483,29141.3603],\"xaxis\":\"x\",\"yaxis\":\"y\",\"type\":\"histogram\"},{\"alignmentgroup\":\"True\",\"hovertemplate\":\"region=northwest<br>charges=%{x}<extra></extra>\",\"legendgroup\":\"northwest\",\"marker\":{\"color\":\"yellow\"},\"name\":\"northwest\",\"notched\":true,\"offsetgroup\":\"northwest\",\"showlegend\":false,\"x\":[21984.47061,3866.8552,7281.5056,28923.13692,6203.90175,12268.63225,2775.19215,13770.0979,1625.43375,15612.19335,3556.9223,3579.8287,8059.6791,47496.49445,5989.52365,30166.61817,4133.64165,14711.7438,6389.37785,11356.6609,6571.02435,11033.6617,21098.55405,43578.9394,8026.6666,11082.5772,10942.13205,5729.0053,17560.37975,3877.30425,10825.2537,2404.7338,6686.4313,2257.47525,10115.00885,32734.1863,1632.56445,2045.68525,18157.876,20745.9891,40720.55105,10959.6947,5125.2157,6948.7008,21348.706,5028.1466,6128.79745,2719.27975,2855.43755,6455.86265,11735.87905,7419.4779,4922.9159,12044.342,1639.5631,9644.2525,2130.6759,13012.20865,8162.71625,3537.703,10355.641,7443.64305,6710.1919,17352.6803,24476.47851,43921.1837,11520.09985,33750.2918,36219.40545,7265.7025,2523.1695,2803.69785,14256.1928,38746.3551,9249.4952,19442.3535,7749.1564,8835.26495,7421.19455,4894.7533,42760.5022,24393.6224,13429.0354,13937.6665,13352.0998,1635.73365,11830.6072,9620.3307,8017.06115,8116.26885,13415.0381,18033.9679,16455.70785,30284.64294,3176.8159,4618.0799,2138.0707,7526.70645,14692.66935,10269.46,1621.3402,2134.9015,28950.4692,18804.7524,4906.40965,4243.59005,4738.2682,26109.32905,11454.0215,4032.2407,1769.53165,11840.77505,1632.03625,12643.3778,28868.6639,2534.39375,15555.18875,12475.3513,10461.9794,6796.86325,2643.2685,3077.0955,8413.46305,24059.68019,10231.4999,23807.2406,11187.6567,39983.42595,1646.4297,9193.8385,2128.43105,6373.55735,7256.7231,45702.02235,12222.8983,1639.5631,43943.8761,8428.0693,33471.97189,9174.13565,17468.9839,25678.77845,12129.61415,3736.4647,42983.4585,2709.1119,32787.45859,4466.6214,6123.5688,4058.71245,40003.33225,7222.78625,46130.5265,10156.7832,9863.4718,2362.22905,2352.96845,3201.24515,10976.24575,5385.3379,8930.93455,10264.4421,8310.83915,9566.9909,13112.6048,10848.1343,12231.6136,6664.68595,9583.8933,8827.2099,9910.35985,1627.28245,3062.50825,1906.35825,14210.53595,11842.62375,6933.24225,17748.5062,7261.741,6986.697,9869.8102,1917.3184,7209.4918,18310.742,7731.85785,28476.73499,2136.88225,6360.9936,2842.76075,55135.40209,2680.9493,12523.6048,6117.4945,5266.3656,4719.73655,11743.9341,5377.4578,12622.1795,10601.63225,14119.62,15817.9857,12269.68865,2690.1138,2789.0574,4877.98105,5272.1758,11945.1327,29330.98315,2221.56445,2117.33885,2639.0429,14382.70905,5257.50795,21774.32215,4320.41085,8965.79575,1628.4709,6358.77645,4527.18295,20009.63365,12609.88702,28468.91901,2730.10785,26467.09737,23967.38305,7518.02535,2527.81865,8410.04685,28340.18885,16420.49455,5267.81815,17361.7661,4433.3877,24915.22085,8765.249,12124.9924,2709.24395,12495.29085,26018.95052,16450.8947,21595.38229,21677.28345,12950.0712,39725.51805,22493.65964,20234.85475,21880.82,3594.17085,8023.13545,3353.4703,10594.50155,4462.7218,6548.19505,14349.8544,1909.52745,4454.40265,5855.9025,15019.76005,11353.2276,33907.548,8988.15875,10493.9458,5312.16985,5693.4305,46661.4424,14254.6082,9991.03765,19673.33573,11085.5868,3176.2877,36898.73308,11289.10925,2261.5688,12235.8392,5630.45785,11015.1747,14426.07385,7727.2532,7153.5539,6112.35295,6457.8434,4433.9159,23887.6627,2850.68375,37465.34375,13844.7972,5327.40025,8671.19125,4134.08245,18838.70366,33307.5508,6393.60345,6198.7518,8733.22925,2055.3249,5116.5004,5373.36425,3956.07145,7537.1639,60021.39897,12479.70895,2699.56835,12224.35085,4296.2712,11436.73815,11305.93455,30063.58055,3292.52985,3021.80915,4357.04365,4189.1131,24535.69855,9301.89355,5261.46945,2710.82855,46718.16325,21472.4788,6940.90985,4571.41305,18765.87545,7201.70085,5425.02335,4239.89265,10600.5483,29141.3603],\"xaxis\":\"x2\",\"yaxis\":\"y2\",\"type\":\"box\"},{\"alignmentgroup\":\"True\",\"bingroup\":\"x\",\"hovertemplate\":\"region=northeast<br>charges=%{x}<br>count=%{y}<extra></extra>\",\"legendgroup\":\"northeast\",\"marker\":{\"color\":\"black\",\"pattern\":{\"shape\":\"\"}},\"name\":\"northeast\",\"offsetgroup\":\"northeast\",\"orientation\":\"v\",\"showlegend\":true,\"x\":[6406.4107,2721.3208,10797.3362,2395.17155,13228.84695,37701.8768,14451.83515,2198.18985,39774.2763,3046.062,6079.6715,3393.35635,2211.13075,13607.36875,8606.2174,6799.458,2755.02095,4441.21315,7935.29115,30184.9367,22412.6485,3645.0894,21344.8467,11488.31695,30259.99556,1705.6245,39556.4945,3385.39915,12815.44495,13616.3586,2457.21115,27375.90478,3490.5491,6334.34355,19964.7463,7077.1894,15518.18025,10407.08585,4827.90495,1694.7964,8538.28845,4005.4225,43753.33705,14901.5167,4337.7352,20984.0936,6610.1097,10564.8845,7358.17565,9225.2564,38511.6283,5354.07465,29523.1656,4040.55825,12829.4551,41097.16175,13047.33235,24869.8368,14590.63205,9282.4806,9617.66245,9715.841,22331.5668,48549.17835,4237.12655,11879.10405,9432.9253,47896.79135,20277.80751,1704.5681,6746.7425,24873.3849,11944.59435,9722.7695,10435.06525,4667.60765,24671.66334,11566.30055,6600.20595,48517.56315,11658.37915,19144.57652,41919.097,13217.0945,13981.85035,8334.45755,12404.8791,10043.249,9778.3472,13430.265,3481.868,12029.2867,7639.41745,21659.9301,15006.57945,42303.69215,8302.53565,10736.87075,8964.06055,9290.1395,9411.005,11396.9002,19594.80965,14455.64405,39125.33225,2727.3951,6555.07035,7323.734819,3167.45585,2254.7967,2897.3235,12730.9996,15230.32405,11165.41765,23288.9284,2203.47185,20878.78443,35147.52848,4347.02335,2196.4732,1967.0227,6837.3687,3044.2133,11763.0009,9361.3268,3857.75925,25656.57526,9866.30485,8342.90875,1708.0014,14043.4767,6067.12675,3268.84665,3213.62205,17878.90068,8334.5896,10923.9332,31620.00106,13224.05705,58571.07448,3206.49135,12913.9924,3861.20965,13635.6379,15359.1045,8823.98575,5594.8455,3558.62025,4435.0942,2207.69745,6753.038,11658.11505,34617.84065,6748.5912,7173.35995,14410.9321,24915.04626,20149.3229,13143.86485,10141.1362,8252.2843,1712.227,12430.95335,26392.26029,14394.39815,5148.5526,45710.20785,3943.5954,11244.3769,7729.64575,2104.1134,29186.48236,9541.69555,6113.23105,5469.0066,1984.4533,9875.6804,10106.13425,16657.71745,2217.6012,9447.25035,36189.1017,8604.48365,43254.41795,17128.42608,5031.26955,7985.815,5428.7277,3925.7582,3070.8087,9095.06825,12797.20962,7448.40395,12741.16745,5209.57885,2731.9122,4719.52405,17904.52705,3309.7926,4428.88785,23401.30575,16069.08475,20773.62775,39597.4072,11657.7189,6402.29135,12323.936,10072.05505,37270.1512,42111.6647,11729.6795,24106.91255,5458.04645,13129.60345,8891.1395,2585.85065,46255.1125,27218.43725,10422.91665,13555.0049,19798.05455,8688.85885,4661.28635,4564.19145,4846.92015,33732.6867,35069.37452,25333.33284,32108.66282,2217.46915,39047.285,11534.87265,41034.2214,9500.57305,3279.86855,4992.3764,16138.76205,9704.66805,25517.11363,4500.33925,16796.41194,4915.05985,4518.82625,14571.8908,7144.86265,7986.47525,6551.7501,8627.5411,4438.2634,23241.47453,9957.7216,6877.9801,4137.5227,13747.87235,2250.8352,1704.70015,33475.81715,11394.06555,7325.0482,14394.5579,9288.0267,5757.41345,13974.45555,12096.6512,13204.28565,2102.2647,10796.35025,11286.5387,4561.1885,44641.1974,23045.56616,16776.30405,11512.405,2396.0959,9222.4026,18903.49141,40904.1995,20709.02034,2203.73595,7228.21565,2459.7201,2200.83085,5227.98875,17178.6824,2899.48935,7650.77375,9447.3824,8603.8234,21771.3423,13725.47184,13019.16105,9964.06,20296.86345,1702.4553,12890.05765,4718.20355,6858.4796,6640.54485,11938.25595,14449.8544,6985.50695,37607.5277,18648.4217,10197.7722,4544.2348,10370.91255,34254.05335,2741.948,22462.04375,14283.4594,8534.6718,3732.6251,7133.9025,11931.12525,1708.92575,21259.37795,16115.3045,11272.33139,19496.71917,28101.33305,13143.33665,7050.0213,22395.74424,2205.9808],\"xaxis\":\"x\",\"yaxis\":\"y\",\"type\":\"histogram\"},{\"alignmentgroup\":\"True\",\"hovertemplate\":\"region=northeast<br>charges=%{x}<extra></extra>\",\"legendgroup\":\"northeast\",\"marker\":{\"color\":\"black\"},\"name\":\"northeast\",\"notched\":true,\"offsetgroup\":\"northeast\",\"showlegend\":false,\"x\":[6406.4107,2721.3208,10797.3362,2395.17155,13228.84695,37701.8768,14451.83515,2198.18985,39774.2763,3046.062,6079.6715,3393.35635,2211.13075,13607.36875,8606.2174,6799.458,2755.02095,4441.21315,7935.29115,30184.9367,22412.6485,3645.0894,21344.8467,11488.31695,30259.99556,1705.6245,39556.4945,3385.39915,12815.44495,13616.3586,2457.21115,27375.90478,3490.5491,6334.34355,19964.7463,7077.1894,15518.18025,10407.08585,4827.90495,1694.7964,8538.28845,4005.4225,43753.33705,14901.5167,4337.7352,20984.0936,6610.1097,10564.8845,7358.17565,9225.2564,38511.6283,5354.07465,29523.1656,4040.55825,12829.4551,41097.16175,13047.33235,24869.8368,14590.63205,9282.4806,9617.66245,9715.841,22331.5668,48549.17835,4237.12655,11879.10405,9432.9253,47896.79135,20277.80751,1704.5681,6746.7425,24873.3849,11944.59435,9722.7695,10435.06525,4667.60765,24671.66334,11566.30055,6600.20595,48517.56315,11658.37915,19144.57652,41919.097,13217.0945,13981.85035,8334.45755,12404.8791,10043.249,9778.3472,13430.265,3481.868,12029.2867,7639.41745,21659.9301,15006.57945,42303.69215,8302.53565,10736.87075,8964.06055,9290.1395,9411.005,11396.9002,19594.80965,14455.64405,39125.33225,2727.3951,6555.07035,7323.734819,3167.45585,2254.7967,2897.3235,12730.9996,15230.32405,11165.41765,23288.9284,2203.47185,20878.78443,35147.52848,4347.02335,2196.4732,1967.0227,6837.3687,3044.2133,11763.0009,9361.3268,3857.75925,25656.57526,9866.30485,8342.90875,1708.0014,14043.4767,6067.12675,3268.84665,3213.62205,17878.90068,8334.5896,10923.9332,31620.00106,13224.05705,58571.07448,3206.49135,12913.9924,3861.20965,13635.6379,15359.1045,8823.98575,5594.8455,3558.62025,4435.0942,2207.69745,6753.038,11658.11505,34617.84065,6748.5912,7173.35995,14410.9321,24915.04626,20149.3229,13143.86485,10141.1362,8252.2843,1712.227,12430.95335,26392.26029,14394.39815,5148.5526,45710.20785,3943.5954,11244.3769,7729.64575,2104.1134,29186.48236,9541.69555,6113.23105,5469.0066,1984.4533,9875.6804,10106.13425,16657.71745,2217.6012,9447.25035,36189.1017,8604.48365,43254.41795,17128.42608,5031.26955,7985.815,5428.7277,3925.7582,3070.8087,9095.06825,12797.20962,7448.40395,12741.16745,5209.57885,2731.9122,4719.52405,17904.52705,3309.7926,4428.88785,23401.30575,16069.08475,20773.62775,39597.4072,11657.7189,6402.29135,12323.936,10072.05505,37270.1512,42111.6647,11729.6795,24106.91255,5458.04645,13129.60345,8891.1395,2585.85065,46255.1125,27218.43725,10422.91665,13555.0049,19798.05455,8688.85885,4661.28635,4564.19145,4846.92015,33732.6867,35069.37452,25333.33284,32108.66282,2217.46915,39047.285,11534.87265,41034.2214,9500.57305,3279.86855,4992.3764,16138.76205,9704.66805,25517.11363,4500.33925,16796.41194,4915.05985,4518.82625,14571.8908,7144.86265,7986.47525,6551.7501,8627.5411,4438.2634,23241.47453,9957.7216,6877.9801,4137.5227,13747.87235,2250.8352,1704.70015,33475.81715,11394.06555,7325.0482,14394.5579,9288.0267,5757.41345,13974.45555,12096.6512,13204.28565,2102.2647,10796.35025,11286.5387,4561.1885,44641.1974,23045.56616,16776.30405,11512.405,2396.0959,9222.4026,18903.49141,40904.1995,20709.02034,2203.73595,7228.21565,2459.7201,2200.83085,5227.98875,17178.6824,2899.48935,7650.77375,9447.3824,8603.8234,21771.3423,13725.47184,13019.16105,9964.06,20296.86345,1702.4553,12890.05765,4718.20355,6858.4796,6640.54485,11938.25595,14449.8544,6985.50695,37607.5277,18648.4217,10197.7722,4544.2348,10370.91255,34254.05335,2741.948,22462.04375,14283.4594,8534.6718,3732.6251,7133.9025,11931.12525,1708.92575,21259.37795,16115.3045,11272.33139,19496.71917,28101.33305,13143.33665,7050.0213,22395.74424,2205.9808],\"xaxis\":\"x2\",\"yaxis\":\"y2\",\"type\":\"box\"}],                        {\"template\":{\"data\":{\"bar\":[{\"error_x\":{\"color\":\"#2a3f5f\"},\"error_y\":{\"color\":\"#2a3f5f\"},\"marker\":{\"line\":{\"color\":\"#E5ECF6\",\"width\":0.5},\"pattern\":{\"fillmode\":\"overlay\",\"size\":10,\"solidity\":0.2}},\"type\":\"bar\"}],\"barpolar\":[{\"marker\":{\"line\":{\"color\":\"#E5ECF6\",\"width\":0.5},\"pattern\":{\"fillmode\":\"overlay\",\"size\":10,\"solidity\":0.2}},\"type\":\"barpolar\"}],\"carpet\":[{\"aaxis\":{\"endlinecolor\":\"#2a3f5f\",\"gridcolor\":\"white\",\"linecolor\":\"white\",\"minorgridcolor\":\"white\",\"startlinecolor\":\"#2a3f5f\"},\"baxis\":{\"endlinecolor\":\"#2a3f5f\",\"gridcolor\":\"white\",\"linecolor\":\"white\",\"minorgridcolor\":\"white\",\"startlinecolor\":\"#2a3f5f\"},\"type\":\"carpet\"}],\"choropleth\":[{\"colorbar\":{\"outlinewidth\":0,\"ticks\":\"\"},\"type\":\"choropleth\"}],\"contour\":[{\"colorbar\":{\"outlinewidth\":0,\"ticks\":\"\"},\"colorscale\":[[0.0,\"#0d0887\"],[0.1111111111111111,\"#46039f\"],[0.2222222222222222,\"#7201a8\"],[0.3333333333333333,\"#9c179e\"],[0.4444444444444444,\"#bd3786\"],[0.5555555555555556,\"#d8576b\"],[0.6666666666666666,\"#ed7953\"],[0.7777777777777778,\"#fb9f3a\"],[0.8888888888888888,\"#fdca26\"],[1.0,\"#f0f921\"]],\"type\":\"contour\"}],\"contourcarpet\":[{\"colorbar\":{\"outlinewidth\":0,\"ticks\":\"\"},\"type\":\"contourcarpet\"}],\"heatmap\":[{\"colorbar\":{\"outlinewidth\":0,\"ticks\":\"\"},\"colorscale\":[[0.0,\"#0d0887\"],[0.1111111111111111,\"#46039f\"],[0.2222222222222222,\"#7201a8\"],[0.3333333333333333,\"#9c179e\"],[0.4444444444444444,\"#bd3786\"],[0.5555555555555556,\"#d8576b\"],[0.6666666666666666,\"#ed7953\"],[0.7777777777777778,\"#fb9f3a\"],[0.8888888888888888,\"#fdca26\"],[1.0,\"#f0f921\"]],\"type\":\"heatmap\"}],\"heatmapgl\":[{\"colorbar\":{\"outlinewidth\":0,\"ticks\":\"\"},\"colorscale\":[[0.0,\"#0d0887\"],[0.1111111111111111,\"#46039f\"],[0.2222222222222222,\"#7201a8\"],[0.3333333333333333,\"#9c179e\"],[0.4444444444444444,\"#bd3786\"],[0.5555555555555556,\"#d8576b\"],[0.6666666666666666,\"#ed7953\"],[0.7777777777777778,\"#fb9f3a\"],[0.8888888888888888,\"#fdca26\"],[1.0,\"#f0f921\"]],\"type\":\"heatmapgl\"}],\"histogram\":[{\"marker\":{\"pattern\":{\"fillmode\":\"overlay\",\"size\":10,\"solidity\":0.2}},\"type\":\"histogram\"}],\"histogram2d\":[{\"colorbar\":{\"outlinewidth\":0,\"ticks\":\"\"},\"colorscale\":[[0.0,\"#0d0887\"],[0.1111111111111111,\"#46039f\"],[0.2222222222222222,\"#7201a8\"],[0.3333333333333333,\"#9c179e\"],[0.4444444444444444,\"#bd3786\"],[0.5555555555555556,\"#d8576b\"],[0.6666666666666666,\"#ed7953\"],[0.7777777777777778,\"#fb9f3a\"],[0.8888888888888888,\"#fdca26\"],[1.0,\"#f0f921\"]],\"type\":\"histogram2d\"}],\"histogram2dcontour\":[{\"colorbar\":{\"outlinewidth\":0,\"ticks\":\"\"},\"colorscale\":[[0.0,\"#0d0887\"],[0.1111111111111111,\"#46039f\"],[0.2222222222222222,\"#7201a8\"],[0.3333333333333333,\"#9c179e\"],[0.4444444444444444,\"#bd3786\"],[0.5555555555555556,\"#d8576b\"],[0.6666666666666666,\"#ed7953\"],[0.7777777777777778,\"#fb9f3a\"],[0.8888888888888888,\"#fdca26\"],[1.0,\"#f0f921\"]],\"type\":\"histogram2dcontour\"}],\"mesh3d\":[{\"colorbar\":{\"outlinewidth\":0,\"ticks\":\"\"},\"type\":\"mesh3d\"}],\"parcoords\":[{\"line\":{\"colorbar\":{\"outlinewidth\":0,\"ticks\":\"\"}},\"type\":\"parcoords\"}],\"pie\":[{\"automargin\":true,\"type\":\"pie\"}],\"scatter\":[{\"marker\":{\"colorbar\":{\"outlinewidth\":0,\"ticks\":\"\"}},\"type\":\"scatter\"}],\"scatter3d\":[{\"line\":{\"colorbar\":{\"outlinewidth\":0,\"ticks\":\"\"}},\"marker\":{\"colorbar\":{\"outlinewidth\":0,\"ticks\":\"\"}},\"type\":\"scatter3d\"}],\"scattercarpet\":[{\"marker\":{\"colorbar\":{\"outlinewidth\":0,\"ticks\":\"\"}},\"type\":\"scattercarpet\"}],\"scattergeo\":[{\"marker\":{\"colorbar\":{\"outlinewidth\":0,\"ticks\":\"\"}},\"type\":\"scattergeo\"}],\"scattergl\":[{\"marker\":{\"colorbar\":{\"outlinewidth\":0,\"ticks\":\"\"}},\"type\":\"scattergl\"}],\"scattermapbox\":[{\"marker\":{\"colorbar\":{\"outlinewidth\":0,\"ticks\":\"\"}},\"type\":\"scattermapbox\"}],\"scatterpolar\":[{\"marker\":{\"colorbar\":{\"outlinewidth\":0,\"ticks\":\"\"}},\"type\":\"scatterpolar\"}],\"scatterpolargl\":[{\"marker\":{\"colorbar\":{\"outlinewidth\":0,\"ticks\":\"\"}},\"type\":\"scatterpolargl\"}],\"scatterternary\":[{\"marker\":{\"colorbar\":{\"outlinewidth\":0,\"ticks\":\"\"}},\"type\":\"scatterternary\"}],\"surface\":[{\"colorbar\":{\"outlinewidth\":0,\"ticks\":\"\"},\"colorscale\":[[0.0,\"#0d0887\"],[0.1111111111111111,\"#46039f\"],[0.2222222222222222,\"#7201a8\"],[0.3333333333333333,\"#9c179e\"],[0.4444444444444444,\"#bd3786\"],[0.5555555555555556,\"#d8576b\"],[0.6666666666666666,\"#ed7953\"],[0.7777777777777778,\"#fb9f3a\"],[0.8888888888888888,\"#fdca26\"],[1.0,\"#f0f921\"]],\"type\":\"surface\"}],\"table\":[{\"cells\":{\"fill\":{\"color\":\"#EBF0F8\"},\"line\":{\"color\":\"white\"}},\"header\":{\"fill\":{\"color\":\"#C8D4E3\"},\"line\":{\"color\":\"white\"}},\"type\":\"table\"}]},\"layout\":{\"annotationdefaults\":{\"arrowcolor\":\"#2a3f5f\",\"arrowhead\":0,\"arrowwidth\":1},\"autotypenumbers\":\"strict\",\"coloraxis\":{\"colorbar\":{\"outlinewidth\":0,\"ticks\":\"\"}},\"colorscale\":{\"diverging\":[[0,\"#8e0152\"],[0.1,\"#c51b7d\"],[0.2,\"#de77ae\"],[0.3,\"#f1b6da\"],[0.4,\"#fde0ef\"],[0.5,\"#f7f7f7\"],[0.6,\"#e6f5d0\"],[0.7,\"#b8e186\"],[0.8,\"#7fbc41\"],[0.9,\"#4d9221\"],[1,\"#276419\"]],\"sequential\":[[0.0,\"#0d0887\"],[0.1111111111111111,\"#46039f\"],[0.2222222222222222,\"#7201a8\"],[0.3333333333333333,\"#9c179e\"],[0.4444444444444444,\"#bd3786\"],[0.5555555555555556,\"#d8576b\"],[0.6666666666666666,\"#ed7953\"],[0.7777777777777778,\"#fb9f3a\"],[0.8888888888888888,\"#fdca26\"],[1.0,\"#f0f921\"]],\"sequentialminus\":[[0.0,\"#0d0887\"],[0.1111111111111111,\"#46039f\"],[0.2222222222222222,\"#7201a8\"],[0.3333333333333333,\"#9c179e\"],[0.4444444444444444,\"#bd3786\"],[0.5555555555555556,\"#d8576b\"],[0.6666666666666666,\"#ed7953\"],[0.7777777777777778,\"#fb9f3a\"],[0.8888888888888888,\"#fdca26\"],[1.0,\"#f0f921\"]]},\"colorway\":[\"#636efa\",\"#EF553B\",\"#00cc96\",\"#ab63fa\",\"#FFA15A\",\"#19d3f3\",\"#FF6692\",\"#B6E880\",\"#FF97FF\",\"#FECB52\"],\"font\":{\"color\":\"#2a3f5f\"},\"geo\":{\"bgcolor\":\"white\",\"lakecolor\":\"white\",\"landcolor\":\"#E5ECF6\",\"showlakes\":true,\"showland\":true,\"subunitcolor\":\"white\"},\"hoverlabel\":{\"align\":\"left\"},\"hovermode\":\"closest\",\"mapbox\":{\"style\":\"light\"},\"paper_bgcolor\":\"white\",\"plot_bgcolor\":\"#E5ECF6\",\"polar\":{\"angularaxis\":{\"gridcolor\":\"white\",\"linecolor\":\"white\",\"ticks\":\"\"},\"bgcolor\":\"#E5ECF6\",\"radialaxis\":{\"gridcolor\":\"white\",\"linecolor\":\"white\",\"ticks\":\"\"}},\"scene\":{\"xaxis\":{\"backgroundcolor\":\"#E5ECF6\",\"gridcolor\":\"white\",\"gridwidth\":2,\"linecolor\":\"white\",\"showbackground\":true,\"ticks\":\"\",\"zerolinecolor\":\"white\"},\"yaxis\":{\"backgroundcolor\":\"#E5ECF6\",\"gridcolor\":\"white\",\"gridwidth\":2,\"linecolor\":\"white\",\"showbackground\":true,\"ticks\":\"\",\"zerolinecolor\":\"white\"},\"zaxis\":{\"backgroundcolor\":\"#E5ECF6\",\"gridcolor\":\"white\",\"gridwidth\":2,\"linecolor\":\"white\",\"showbackground\":true,\"ticks\":\"\",\"zerolinecolor\":\"white\"}},\"shapedefaults\":{\"line\":{\"color\":\"#2a3f5f\"}},\"ternary\":{\"aaxis\":{\"gridcolor\":\"white\",\"linecolor\":\"white\",\"ticks\":\"\"},\"baxis\":{\"gridcolor\":\"white\",\"linecolor\":\"white\",\"ticks\":\"\"},\"bgcolor\":\"#E5ECF6\",\"caxis\":{\"gridcolor\":\"white\",\"linecolor\":\"white\",\"ticks\":\"\"}},\"title\":{\"x\":0.05},\"xaxis\":{\"automargin\":true,\"gridcolor\":\"white\",\"linecolor\":\"white\",\"ticks\":\"\",\"title\":{\"standoff\":15},\"zerolinecolor\":\"white\",\"zerolinewidth\":2},\"yaxis\":{\"automargin\":true,\"gridcolor\":\"white\",\"linecolor\":\"white\",\"ticks\":\"\",\"title\":{\"standoff\":15},\"zerolinecolor\":\"white\",\"zerolinewidth\":2}}},\"xaxis\":{\"anchor\":\"y\",\"domain\":[0.0,1.0],\"title\":{\"text\":\"charges\"}},\"yaxis\":{\"anchor\":\"x\",\"domain\":[0.0,0.7326],\"title\":{\"text\":\"count\"}},\"xaxis2\":{\"anchor\":\"y2\",\"domain\":[0.0,1.0],\"matches\":\"x\",\"showticklabels\":false,\"showgrid\":true},\"yaxis2\":{\"anchor\":\"x2\",\"domain\":[0.7426,1.0],\"matches\":\"y2\",\"showticklabels\":false,\"showline\":false,\"ticks\":\"\",\"showgrid\":false},\"legend\":{\"title\":{\"text\":\"region\"},\"tracegroupgap\":0},\"title\":{\"text\":\"Annual\"},\"barmode\":\"relative\",\"bargap\":0.1},                        {\"responsive\": true}                    ).then(function(){\n",
              "                            \n",
              "var gd = document.getElementById('1ad5dcb7-6f61-4d28-8544-ecd0b32ab312');\n",
              "var x = new MutationObserver(function (mutations, observer) {{\n",
              "        var display = window.getComputedStyle(gd).display;\n",
              "        if (!display || display === 'none') {{\n",
              "            console.log([gd, 'removed!']);\n",
              "            Plotly.purge(gd);\n",
              "            observer.disconnect();\n",
              "        }}\n",
              "}});\n",
              "\n",
              "// Listen for the removal of the full notebook cells\n",
              "var notebookContainer = gd.closest('#notebook-container');\n",
              "if (notebookContainer) {{\n",
              "    x.observe(notebookContainer, {childList: true});\n",
              "}}\n",
              "\n",
              "// Listen for the clearing of the current output cell\n",
              "var outputEl = gd.closest('.output');\n",
              "if (outputEl) {{\n",
              "    x.observe(outputEl, {childList: true});\n",
              "}}\n",
              "\n",
              "                        })                };                            </script>        </div>\n",
              "</body>\n",
              "</html>"
            ]
          },
          "metadata": {}
        }
      ]
    },
    {
      "cell_type": "code",
      "source": [
        "fig = px.scatter(medical_df, \n",
        "                 x=\"age\", \n",
        "                 y=\"charges\", \n",
        "                 color=\"smoker\",\n",
        "                 hover_data=['sex'],\n",
        "                 title = 'Age vs Charges',\n",
        "                 opacity=1)\n",
        "fig.update_traces(marker_size = 5)\n",
        "fig.show()"
      ],
      "metadata": {
        "colab": {
          "base_uri": "https://localhost:8080/",
          "height": 542
        },
        "id": "UoHebQY8Sgkh",
        "outputId": "cbef4c19-c3f9-4e33-9274-3c171ff1f701"
      },
      "execution_count": 350,
      "outputs": [
        {
          "output_type": "display_data",
          "data": {
            "text/html": [
              "<html>\n",
              "<head><meta charset=\"utf-8\" /></head>\n",
              "<body>\n",
              "    <div>            <script src=\"https://cdnjs.cloudflare.com/ajax/libs/mathjax/2.7.5/MathJax.js?config=TeX-AMS-MML_SVG\"></script><script type=\"text/javascript\">if (window.MathJax) {MathJax.Hub.Config({SVG: {font: \"STIX-Web\"}});}</script>                <script type=\"text/javascript\">window.PlotlyConfig = {MathJaxConfig: 'local'};</script>\n",
              "        <script src=\"https://cdn.plot.ly/plotly-2.8.3.min.js\"></script>                <div id=\"cd6d65d1-1517-4b19-ae3f-c6c2aabb2f74\" class=\"plotly-graph-div\" style=\"height:525px; width:100%;\"></div>            <script type=\"text/javascript\">                                    window.PLOTLYENV=window.PLOTLYENV || {};                                    if (document.getElementById(\"cd6d65d1-1517-4b19-ae3f-c6c2aabb2f74\")) {                    Plotly.newPlot(                        \"cd6d65d1-1517-4b19-ae3f-c6c2aabb2f74\",                        [{\"customdata\":[[\"female\"],[\"female\"],[\"male\"],[\"male\"],[\"female\"],[\"male\"],[\"male\"],[\"male\"],[\"male\"],[\"male\"],[\"male\"],[\"male\"],[\"male\"],[\"male\"],[\"male\"],[\"female\"],[\"female\"],[\"male\"],[\"female\"],[\"male\"],[\"female\"],[\"male\"],[\"female\"],[\"male\"],[\"female\"],[\"male\"],[\"male\"],[\"female\"],[\"male\"],[\"male\"],[\"female\"],[\"male\"],[\"female\"],[\"female\"],[\"male\"],[\"male\"],[\"male\"],[\"female\"],[\"male\"],[\"male\"],[\"male\"],[\"female\"],[\"female\"],[\"female\"],[\"male\"],[\"female\"],[\"male\"],[\"male\"],[\"male\"],[\"female\"],[\"male\"],[\"female\"],[\"female\"],[\"male\"],[\"female\"],[\"male\"],[\"male\"],[\"male\"],[\"male\"],[\"female\"],[\"male\"],[\"male\"],[\"male\"],[\"male\"],[\"male\"],[\"female\"],[\"male\"],[\"female\"],[\"male\"],[\"male\"],[\"male\"],[\"male\"],[\"female\"],[\"male\"],[\"female\"],[\"male\"],[\"male\"],[\"female\"],[\"female\"],[\"male\"],[\"male\"],[\"female\"],[\"male\"],[\"female\"],[\"female\"],[\"male\"],[\"female\"],[\"male\"],[\"female\"],[\"female\"],[\"female\"],[\"female\"],[\"male\"],[\"male\"],[\"male\"],[\"female\"],[\"male\"],[\"male\"],[\"female\"],[\"male\"],[\"male\"],[\"male\"],[\"female\"],[\"male\"],[\"male\"],[\"male\"],[\"male\"],[\"male\"],[\"male\"],[\"male\"],[\"female\"],[\"male\"],[\"female\"],[\"female\"],[\"male\"],[\"female\"],[\"female\"],[\"female\"],[\"female\"],[\"female\"],[\"male\"],[\"female\"],[\"male\"],[\"female\"],[\"male\"],[\"male\"],[\"female\"],[\"male\"],[\"male\"],[\"female\"],[\"female\"],[\"male\"],[\"female\"],[\"male\"],[\"female\"],[\"male\"],[\"male\"],[\"male\"],[\"male\"],[\"female\"],[\"female\"],[\"female\"],[\"male\"],[\"female\"],[\"male\"],[\"male\"],[\"male\"],[\"male\"],[\"female\"],[\"female\"],[\"male\"],[\"male\"],[\"female\"],[\"male\"],[\"female\"],[\"male\"],[\"male\"],[\"male\"],[\"female\"],[\"female\"],[\"female\"],[\"male\"],[\"male\"],[\"male\"],[\"female\"],[\"female\"],[\"female\"],[\"female\"],[\"female\"],[\"female\"],[\"female\"],[\"male\"],[\"female\"],[\"female\"],[\"male\"],[\"male\"],[\"female\"],[\"male\"],[\"female\"],[\"male\"],[\"female\"],[\"male\"],[\"female\"],[\"male\"],[\"male\"],[\"male\"],[\"male\"],[\"male\"],[\"male\"],[\"male\"],[\"male\"],[\"male\"],[\"male\"],[\"male\"],[\"female\"],[\"female\"],[\"male\"],[\"male\"],[\"male\"],[\"male\"],[\"female\"],[\"male\"],[\"male\"],[\"female\"],[\"female\"],[\"male\"],[\"male\"],[\"female\"],[\"female\"],[\"male\"],[\"female\"],[\"male\"],[\"male\"],[\"male\"],[\"male\"],[\"male\"],[\"male\"],[\"female\"],[\"male\"],[\"female\"],[\"female\"],[\"female\"],[\"male\"],[\"female\"],[\"male\"],[\"male\"],[\"female\"],[\"female\"],[\"female\"],[\"female\"],[\"male\"],[\"female\"],[\"male\"],[\"male\"],[\"female\"],[\"female\"],[\"male\"],[\"female\"],[\"male\"],[\"female\"],[\"female\"],[\"female\"],[\"male\"],[\"female\"],[\"female\"],[\"female\"],[\"male\"],[\"female\"],[\"male\"],[\"male\"],[\"male\"],[\"male\"],[\"male\"],[\"male\"],[\"male\"],[\"male\"],[\"male\"],[\"female\"],[\"female\"],[\"male\"],[\"male\"],[\"male\"],[\"male\"],[\"male\"],[\"male\"],[\"male\"],[\"female\"],[\"male\"],[\"female\"],[\"female\"],[\"female\"],[\"male\"],[\"female\"],[\"female\"]],\"hovertemplate\":\"smoker=yes<br>age=%{x}<br>charges=%{y}<br>sex=%{customdata[0]}<extra></extra>\",\"legendgroup\":\"yes\",\"marker\":{\"color\":\"#636efa\",\"opacity\":1,\"symbol\":\"circle\",\"size\":5},\"mode\":\"markers\",\"name\":\"yes\",\"showlegend\":true,\"x\":[19,62,27,30,34,31,22,28,35,60,36,48,36,58,18,53,20,28,27,22,37,45,57,59,64,56,38,61,20,63,29,44,19,32,34,30,46,42,48,18,30,42,18,63,36,27,35,19,42,40,19,23,63,18,63,54,50,56,19,20,52,19,46,40,50,40,54,59,25,19,47,31,53,43,27,34,45,64,61,52,50,19,26,23,39,24,27,55,44,26,36,63,64,61,40,33,56,42,30,54,61,24,44,21,29,51,19,39,42,57,54,49,43,35,48,31,34,21,19,59,30,47,49,19,37,18,44,39,42,52,64,43,40,62,44,60,39,27,41,51,30,29,35,37,23,29,27,53,37,47,18,33,19,30,50,53,27,33,18,47,33,56,36,41,23,57,60,37,46,49,48,25,37,51,32,57,64,47,43,60,32,18,43,45,37,25,51,44,34,54,43,51,29,31,24,27,30,24,47,43,22,47,19,46,55,18,22,45,35,20,43,22,49,47,59,37,28,39,47,22,51,33,38,48,25,33,23,53,23,19,60,43,19,18,43,52,31,23,20,43,19,18,36,37,46,20,52,20,52,64,32,24,20,64,24,26,39,47,18,61,20,19,45,62,43,42,29,32,25,19,30,62,42,61],\"xaxis\":\"x\",\"y\":[16884.924,27808.7251,39611.7577,36837.467,37701.8768,38711.0,35585.576,51194.55914,39774.2763,48173.361,38709.176,23568.272,37742.5757,47496.49445,34303.1672,23244.7902,14711.7438,17663.1442,16577.7795,37165.1638,39836.519,21098.55405,43578.9394,30184.9367,47291.055,22412.6485,15820.699,30942.1918,17560.37975,47055.5321,19107.7796,39556.4945,17081.08,32734.1863,18972.495,20745.9891,40720.55105,19964.7463,21223.6758,15518.18025,36950.2567,21348.706,36149.4835,48824.45,43753.33705,37133.8982,20984.0936,34779.615,19515.5416,19444.2658,17352.6803,38511.6283,29523.1656,12829.4551,47305.305,44260.7499,41097.16175,43921.1837,33750.2918,17085.2676,24869.8368,36219.40545,46151.1245,17179.522,42856.838,22331.5668,48549.17835,47896.79135,42112.2356,16297.846,21978.6769,38746.3551,24873.3849,42124.5153,34838.873,35491.64,42760.5022,47928.03,48517.56315,24393.6224,41919.097,13844.506,36085.219,18033.9679,21659.9301,38126.2465,15006.57945,42303.69215,19594.80965,14455.64405,18608.262,28950.4692,46889.2612,46599.1084,39125.33225,37079.372,26109.32905,22144.032,19521.9682,25382.297,28868.6639,35147.52848,48885.13561,17942.106,36197.699,22218.1149,32548.3405,21082.16,38245.59327,48675.5177,63770.42801,23807.2406,45863.205,39983.42595,45702.02235,58571.07448,43943.8761,15359.1045,17468.9839,25678.77845,39241.442,42969.8527,23306.547,34439.8559,40182.246,34617.84065,42983.4585,20149.3229,32787.45859,24667.419,27037.9141,42560.4304,40003.33225,45710.20785,46200.9851,46130.5265,40103.89,34806.4677,40273.6455,44400.4064,40932.4295,16657.71745,19361.9988,40419.0191,36189.1017,44585.45587,18246.4955,43254.41795,19539.243,23065.4207,36307.7983,19040.876,17748.5062,18259.216,24520.264,21195.818,18310.742,17904.52705,38792.6856,23401.30575,55135.40209,43813.8661,20773.62775,39597.4072,36021.0112,27533.9129,45008.9555,37270.1512,42111.6647,24106.91255,40974.1649,15817.9857,46113.511,46255.1125,19719.6947,27218.43725,29330.98315,44202.6536,19798.05455,48673.5588,17496.306,33732.6867,21774.32215,35069.37452,39047.285,19933.458,47462.894,38998.546,20009.63365,41999.52,41034.2214,23967.38305,16138.76205,19199.944,14571.8908,16420.49455,17361.7661,34472.841,24915.22085,18767.7377,35595.5898,42211.1382,16450.8947,21677.28345,44423.803,13747.87235,37484.4493,39725.51805,20234.85475,33475.81715,21880.82,44501.3982,39727.614,25309.489,48970.2476,39871.7043,34672.1472,19023.26,41676.0811,33907.548,44641.1974,16776.30405,41949.2441,24180.9335,36124.5737,38282.7495,34166.273,46661.4424,40904.1995,36898.73308,52590.82939,40941.2854,39722.7462,17178.6824,22478.6,23887.6627,19350.3689,18328.2381,37465.34375,21771.3423,33307.5508,18223.4512,38415.474,20296.86345,41661.602,26125.67477,60021.39897,20167.33603,47269.854,49577.6624,37607.5277,18648.4217,16232.847,26926.5144,34254.05335,17043.3414,22462.04375,24535.69855,14283.4594,47403.88,38344.566,34828.654,62592.87309,46718.16325,37829.7242,21259.37795,16115.3045,21472.4788,33900.653,36397.576,18765.87545,28101.33305,43896.3763,29141.3603],\"yaxis\":\"y\",\"type\":\"scattergl\"},{\"customdata\":[[\"male\"],[\"male\"],[\"male\"],[\"male\"],[\"female\"],[\"female\"],[\"female\"],[\"male\"],[\"female\"],[\"male\"],[\"male\"],[\"female\"],[\"male\"],[\"female\"],[\"male\"],[\"male\"],[\"female\"],[\"female\"],[\"male\"],[\"male\"],[\"female\"],[\"female\"],[\"female\"],[\"male\"],[\"female\"],[\"female\"],[\"male\"],[\"male\"],[\"female\"],[\"male\"],[\"female\"],[\"female\"],[\"male\"],[\"female\"],[\"male\"],[\"male\"],[\"female\"],[\"female\"],[\"female\"],[\"female\"],[\"female\"],[\"female\"],[\"female\"],[\"female\"],[\"male\"],[\"male\"],[\"male\"],[\"female\"],[\"female\"],[\"female\"],[\"male\"],[\"female\"],[\"male\"],[\"female\"],[\"male\"],[\"male\"],[\"male\"],[\"female\"],[\"male\"],[\"female\"],[\"female\"],[\"male\"],[\"female\"],[\"female\"],[\"female\"],[\"female\"],[\"female\"],[\"female\"],[\"female\"],[\"male\"],[\"female\"],[\"female\"],[\"male\"],[\"female\"],[\"male\"],[\"female\"],[\"female\"],[\"female\"],[\"male\"],[\"male\"],[\"male\"],[\"female\"],[\"male\"],[\"female\"],[\"male\"],[\"male\"],[\"male\"],[\"female\"],[\"female\"],[\"male\"],[\"male\"],[\"female\"],[\"female\"],[\"female\"],[\"female\"],[\"male\"],[\"female\"],[\"female\"],[\"female\"],[\"male\"],[\"female\"],[\"female\"],[\"male\"],[\"male\"],[\"female\"],[\"female\"],[\"male\"],[\"male\"],[\"male\"],[\"female\"],[\"female\"],[\"female\"],[\"male\"],[\"male\"],[\"male\"],[\"female\"],[\"female\"],[\"male\"],[\"female\"],[\"male\"],[\"female\"],[\"male\"],[\"male\"],[\"female\"],[\"female\"],[\"female\"],[\"male\"],[\"male\"],[\"male\"],[\"male\"],[\"female\"],[\"female\"],[\"male\"],[\"male\"],[\"female\"],[\"female\"],[\"male\"],[\"female\"],[\"male\"],[\"female\"],[\"male\"],[\"female\"],[\"female\"],[\"female\"],[\"female\"],[\"male\"],[\"female\"],[\"male\"],[\"female\"],[\"male\"],[\"male\"],[\"female\"],[\"female\"],[\"female\"],[\"female\"],[\"female\"],[\"female\"],[\"female\"],[\"male\"],[\"female\"],[\"male\"],[\"female\"],[\"male\"],[\"male\"],[\"male\"],[\"male\"],[\"female\"],[\"female\"],[\"female\"],[\"female\"],[\"male\"],[\"female\"],[\"female\"],[\"female\"],[\"female\"],[\"male\"],[\"male\"],[\"male\"],[\"female\"],[\"female\"],[\"male\"],[\"female\"],[\"female\"],[\"female\"],[\"male\"],[\"male\"],[\"female\"],[\"male\"],[\"male\"],[\"female\"],[\"female\"],[\"male\"],[\"male\"],[\"female\"],[\"male\"],[\"male\"],[\"male\"],[\"male\"],[\"female\"],[\"female\"],[\"male\"],[\"female\"],[\"female\"],[\"female\"],[\"male\"],[\"male\"],[\"male\"],[\"male\"],[\"male\"],[\"male\"],[\"female\"],[\"male\"],[\"female\"],[\"male\"],[\"female\"],[\"male\"],[\"female\"],[\"female\"],[\"male\"],[\"female\"],[\"female\"],[\"male\"],[\"female\"],[\"male\"],[\"female\"],[\"male\"],[\"male\"],[\"female\"],[\"male\"],[\"female\"],[\"female\"],[\"female\"],[\"male\"],[\"female\"],[\"female\"],[\"male\"],[\"female\"],[\"male\"],[\"female\"],[\"male\"],[\"male\"],[\"male\"],[\"male\"],[\"female\"],[\"male\"],[\"male\"],[\"female\"],[\"male\"],[\"male\"],[\"male\"],[\"female\"],[\"male\"],[\"female\"],[\"female\"],[\"female\"],[\"male\"],[\"male\"],[\"male\"],[\"female\"],[\"female\"],[\"male\"],[\"female\"],[\"male\"],[\"female\"],[\"female\"],[\"male\"],[\"male\"],[\"female\"],[\"male\"],[\"female\"],[\"female\"],[\"female\"],[\"male\"],[\"female\"],[\"male\"],[\"male\"],[\"male\"],[\"male\"],[\"female\"],[\"female\"],[\"male\"],[\"female\"],[\"female\"],[\"female\"],[\"female\"],[\"female\"],[\"male\"],[\"male\"],[\"female\"],[\"female\"],[\"female\"],[\"male\"],[\"female\"],[\"male\"],[\"male\"],[\"female\"],[\"male\"],[\"male\"],[\"female\"],[\"male\"],[\"female\"],[\"female\"],[\"male\"],[\"female\"],[\"male\"],[\"male\"],[\"female\"],[\"male\"],[\"female\"],[\"male\"],[\"male\"],[\"female\"],[\"female\"],[\"male\"],[\"female\"],[\"male\"],[\"male\"],[\"female\"],[\"female\"],[\"female\"],[\"male\"],[\"male\"],[\"male\"],[\"male\"],[\"female\"],[\"female\"],[\"male\"],[\"male\"],[\"male\"],[\"male\"],[\"male\"],[\"female\"],[\"female\"],[\"female\"],[\"female\"],[\"male\"],[\"female\"],[\"male\"],[\"female\"],[\"male\"],[\"male\"],[\"male\"],[\"male\"],[\"female\"],[\"male\"],[\"female\"],[\"male\"],[\"female\"],[\"female\"],[\"male\"],[\"female\"],[\"female\"],[\"male\"],[\"male\"],[\"male\"],[\"male\"],[\"male\"],[\"male\"],[\"male\"],[\"female\"],[\"female\"],[\"male\"],[\"female\"],[\"female\"],[\"female\"],[\"male\"],[\"male\"],[\"female\"],[\"female\"],[\"female\"],[\"female\"],[\"male\"],[\"female\"],[\"female\"],[\"female\"],[\"male\"],[\"male\"],[\"male\"],[\"male\"],[\"male\"],[\"female\"],[\"female\"],[\"male\"],[\"female\"],[\"female\"],[\"male\"],[\"male\"],[\"female\"],[\"female\"],[\"female\"],[\"male\"],[\"male\"],[\"female\"],[\"male\"],[\"female\"],[\"female\"],[\"male\"],[\"female\"],[\"male\"],[\"male\"],[\"male\"],[\"female\"],[\"female\"],[\"male\"],[\"male\"],[\"male\"],[\"male\"],[\"male\"],[\"male\"],[\"male\"],[\"female\"],[\"male\"],[\"female\"],[\"female\"],[\"female\"],[\"female\"],[\"female\"],[\"female\"],[\"female\"],[\"male\"],[\"male\"],[\"female\"],[\"male\"],[\"male\"],[\"male\"],[\"male\"],[\"female\"],[\"female\"],[\"female\"],[\"male\"],[\"female\"],[\"female\"],[\"female\"],[\"male\"],[\"male\"],[\"female\"],[\"female\"],[\"male\"],[\"female\"],[\"male\"],[\"female\"],[\"female\"],[\"male\"],[\"male\"],[\"male\"],[\"male\"],[\"female\"],[\"female\"],[\"male\"],[\"male\"],[\"female\"],[\"female\"],[\"female\"],[\"male\"],[\"female\"],[\"female\"],[\"female\"],[\"female\"],[\"female\"],[\"female\"],[\"female\"],[\"male\"],[\"male\"],[\"female\"],[\"male\"],[\"male\"],[\"male\"],[\"female\"],[\"male\"],[\"female\"],[\"male\"],[\"female\"],[\"female\"],[\"female\"],[\"male\"],[\"male\"],[\"male\"],[\"female\"],[\"female\"],[\"female\"],[\"male\"],[\"female\"],[\"female\"],[\"male\"],[\"female\"],[\"female\"],[\"female\"],[\"female\"],[\"male\"],[\"female\"],[\"female\"],[\"female\"],[\"female\"],[\"female\"],[\"female\"],[\"female\"],[\"male\"],[\"female\"],[\"male\"],[\"female\"],[\"male\"],[\"male\"],[\"male\"],[\"male\"],[\"male\"],[\"female\"],[\"male\"],[\"male\"],[\"male\"],[\"female\"],[\"female\"],[\"male\"],[\"male\"],[\"male\"],[\"female\"],[\"male\"],[\"male\"],[\"male\"],[\"female\"],[\"male\"],[\"female\"],[\"female\"],[\"female\"],[\"female\"],[\"female\"],[\"female\"],[\"female\"],[\"male\"],[\"female\"],[\"female\"],[\"male\"],[\"female\"],[\"female\"],[\"male\"],[\"male\"],[\"female\"],[\"male\"],[\"female\"],[\"male\"],[\"female\"],[\"male\"],[\"female\"],[\"male\"],[\"female\"],[\"female\"],[\"male\"],[\"male\"],[\"female\"],[\"male\"],[\"male\"],[\"male\"],[\"female\"],[\"male\"],[\"male\"],[\"male\"],[\"male\"],[\"female\"],[\"female\"],[\"female\"],[\"male\"],[\"female\"],[\"female\"],[\"female\"],[\"male\"],[\"female\"],[\"female\"],[\"female\"],[\"male\"],[\"female\"],[\"female\"],[\"male\"],[\"female\"],[\"female\"],[\"male\"],[\"female\"],[\"male\"],[\"female\"],[\"male\"],[\"female\"],[\"female\"],[\"female\"],[\"male\"],[\"male\"],[\"male\"],[\"female\"],[\"male\"],[\"female\"],[\"female\"],[\"male\"],[\"female\"],[\"female\"],[\"female\"],[\"female\"],[\"male\"],[\"male\"],[\"female\"],[\"male\"],[\"female\"],[\"male\"],[\"male\"],[\"female\"],[\"male\"],[\"male\"],[\"male\"],[\"female\"],[\"male\"],[\"male\"],[\"female\"],[\"male\"],[\"female\"],[\"male\"],[\"male\"],[\"female\"],[\"female\"],[\"male\"],[\"female\"],[\"female\"],[\"female\"],[\"male\"],[\"female\"],[\"female\"],[\"male\"],[\"male\"],[\"male\"],[\"male\"],[\"male\"],[\"male\"],[\"male\"],[\"male\"],[\"female\"],[\"female\"],[\"male\"],[\"male\"],[\"male\"],[\"female\"],[\"female\"],[\"male\"],[\"female\"],[\"female\"],[\"male\"],[\"female\"],[\"female\"],[\"female\"],[\"female\"],[\"male\"],[\"male\"],[\"female\"],[\"female\"],[\"female\"],[\"male\"],[\"male\"],[\"female\"],[\"female\"],[\"male\"],[\"male\"],[\"male\"],[\"female\"],[\"female\"],[\"male\"],[\"male\"],[\"male\"],[\"female\"],[\"female\"],[\"male\"],[\"female\"],[\"male\"],[\"male\"],[\"female\"],[\"female\"],[\"male\"],[\"male\"],[\"male\"],[\"male\"],[\"female\"],[\"female\"],[\"female\"],[\"male\"],[\"male\"],[\"male\"],[\"female\"],[\"male\"],[\"female\"],[\"male\"],[\"male\"],[\"female\"],[\"female\"],[\"female\"],[\"male\"],[\"female\"],[\"female\"],[\"female\"],[\"male\"],[\"male\"],[\"male\"],[\"male\"],[\"male\"],[\"female\"],[\"male\"],[\"female\"],[\"male\"],[\"male\"],[\"male\"],[\"female\"],[\"female\"],[\"male\"],[\"male\"],[\"female\"],[\"male\"],[\"male\"],[\"female\"],[\"male\"],[\"female\"],[\"male\"],[\"male\"],[\"female\"],[\"male\"],[\"male\"],[\"female\"],[\"male\"],[\"female\"],[\"female\"],[\"male\"],[\"male\"],[\"male\"],[\"female\"],[\"female\"],[\"male\"],[\"female\"],[\"male\"],[\"male\"],[\"female\"],[\"female\"],[\"male\"],[\"female\"],[\"female\"],[\"female\"],[\"female\"],[\"female\"],[\"male\"],[\"male\"],[\"male\"],[\"male\"],[\"female\"],[\"female\"],[\"female\"],[\"male\"],[\"male\"],[\"female\"],[\"male\"],[\"female\"],[\"male\"],[\"female\"],[\"male\"],[\"female\"],[\"male\"],[\"male\"],[\"male\"],[\"female\"],[\"female\"],[\"male\"],[\"male\"],[\"female\"],[\"male\"],[\"male\"],[\"male\"],[\"female\"],[\"male\"],[\"male\"],[\"male\"],[\"female\"],[\"female\"],[\"female\"],[\"male\"],[\"male\"],[\"male\"],[\"male\"],[\"male\"],[\"female\"],[\"female\"],[\"female\"],[\"female\"],[\"female\"],[\"male\"],[\"male\"],[\"male\"],[\"female\"],[\"female\"],[\"male\"],[\"male\"],[\"female\"],[\"male\"],[\"female\"],[\"male\"],[\"female\"],[\"male\"],[\"female\"],[\"female\"],[\"female\"],[\"male\"],[\"female\"],[\"female\"],[\"female\"],[\"female\"],[\"female\"],[\"male\"],[\"male\"],[\"male\"],[\"male\"],[\"male\"],[\"male\"],[\"male\"],[\"female\"],[\"female\"],[\"male\"],[\"female\"],[\"male\"],[\"female\"],[\"female\"],[\"female\"],[\"female\"],[\"male\"],[\"male\"],[\"female\"],[\"female\"],[\"male\"],[\"male\"],[\"female\"],[\"female\"],[\"male\"],[\"female\"],[\"male\"],[\"male\"],[\"male\"],[\"female\"],[\"male\"],[\"female\"],[\"female\"],[\"female\"],[\"male\"],[\"male\"],[\"female\"],[\"male\"],[\"female\"],[\"female\"],[\"female\"],[\"male\"],[\"male\"],[\"male\"],[\"male\"],[\"female\"],[\"female\"],[\"male\"],[\"male\"],[\"male\"],[\"female\"],[\"male\"],[\"male\"],[\"female\"],[\"female\"],[\"female\"],[\"female\"],[\"male\"],[\"male\"],[\"male\"],[\"male\"],[\"male\"],[\"male\"],[\"female\"],[\"male\"],[\"male\"],[\"male\"],[\"male\"],[\"female\"],[\"male\"],[\"female\"],[\"female\"],[\"male\"],[\"female\"],[\"female\"],[\"male\"],[\"male\"],[\"male\"],[\"male\"],[\"female\"],[\"female\"],[\"female\"],[\"male\"],[\"male\"],[\"female\"],[\"female\"],[\"male\"],[\"male\"],[\"male\"],[\"female\"],[\"male\"],[\"female\"],[\"female\"],[\"male\"],[\"female\"],[\"male\"],[\"female\"],[\"female\"],[\"male\"],[\"male\"],[\"female\"],[\"male\"],[\"female\"],[\"female\"],[\"female\"],[\"male\"],[\"male\"],[\"female\"],[\"female\"],[\"male\"],[\"male\"],[\"male\"],[\"female\"],[\"male\"],[\"male\"],[\"female\"],[\"female\"],[\"female\"],[\"female\"],[\"female\"],[\"female\"],[\"female\"],[\"female\"],[\"female\"],[\"male\"],[\"male\"],[\"female\"],[\"female\"],[\"female\"],[\"male\"],[\"female\"],[\"male\"],[\"female\"],[\"female\"],[\"male\"],[\"male\"],[\"female\"],[\"female\"],[\"female\"],[\"female\"],[\"female\"],[\"female\"],[\"female\"],[\"male\"],[\"female\"],[\"female\"],[\"female\"],[\"female\"],[\"female\"],[\"female\"],[\"female\"],[\"female\"],[\"male\"],[\"male\"],[\"female\"],[\"male\"],[\"male\"],[\"male\"],[\"male\"],[\"male\"],[\"female\"],[\"male\"],[\"male\"],[\"male\"],[\"male\"],[\"female\"],[\"female\"],[\"male\"],[\"male\"],[\"male\"],[\"female\"],[\"female\"],[\"male\"],[\"male\"],[\"male\"],[\"female\"],[\"male\"],[\"male\"],[\"male\"],[\"male\"],[\"female\"],[\"male\"],[\"female\"],[\"male\"],[\"female\"],[\"female\"],[\"male\"],[\"female\"],[\"female\"],[\"female\"],[\"male\"],[\"male\"],[\"female\"],[\"male\"],[\"female\"],[\"male\"],[\"female\"],[\"female\"],[\"female\"],[\"female\"],[\"female\"],[\"male\"],[\"female\"],[\"female\"],[\"male\"],[\"female\"],[\"female\"],[\"female\"],[\"female\"],[\"female\"],[\"male\"],[\"male\"],[\"female\"],[\"male\"],[\"male\"],[\"male\"],[\"female\"],[\"female\"],[\"female\"],[\"female\"],[\"male\"],[\"female\"],[\"female\"],[\"female\"],[\"male\"],[\"female\"],[\"male\"],[\"male\"],[\"male\"],[\"male\"],[\"male\"],[\"female\"],[\"male\"],[\"female\"],[\"female\"],[\"female\"],[\"male\"],[\"male\"],[\"female\"],[\"male\"],[\"male\"],[\"female\"],[\"male\"],[\"male\"],[\"female\"],[\"male\"],[\"male\"],[\"male\"],[\"male\"],[\"female\"],[\"male\"],[\"female\"],[\"male\"],[\"female\"],[\"female\"],[\"female\"],[\"male\"],[\"female\"],[\"female\"],[\"female\"]],\"hovertemplate\":\"smoker=no<br>age=%{x}<br>charges=%{y}<br>sex=%{customdata[0]}<extra></extra>\",\"legendgroup\":\"no\",\"marker\":{\"color\":\"#EF553B\",\"opacity\":1,\"symbol\":\"circle\",\"size\":5},\"mode\":\"markers\",\"name\":\"no\",\"showlegend\":true,\"x\":[18,28,33,32,31,46,37,37,60,25,23,56,19,52,23,56,60,30,18,37,59,63,55,23,18,19,63,19,62,26,24,31,41,37,38,55,18,28,60,18,21,40,58,34,43,25,64,28,19,61,40,40,31,53,58,44,57,29,21,22,41,31,45,48,56,46,55,21,53,35,28,54,55,41,30,18,34,19,26,29,54,55,37,21,52,60,58,49,37,44,18,20,47,26,52,38,59,61,53,19,20,22,19,22,54,22,34,26,29,29,51,53,19,35,48,32,40,44,50,54,32,37,47,20,32,19,27,63,49,18,35,24,38,54,46,41,58,18,22,44,44,26,30,41,29,61,36,25,56,18,19,39,45,51,64,19,48,60,46,28,59,63,40,20,40,24,34,45,41,53,27,26,24,34,53,32,55,28,58,41,47,42,59,19,59,39,18,31,44,33,55,40,54,60,24,19,29,27,55,38,51,58,53,59,45,49,18,41,50,25,47,19,22,59,51,30,55,52,46,46,63,52,28,29,22,25,18,48,36,56,28,57,29,28,30,58,41,50,19,49,52,50,54,44,32,34,26,57,29,40,27,52,61,56,43,64,60,62,46,24,62,60,63,49,34,33,46,36,19,57,50,30,33,18,46,46,47,23,18,48,35,21,21,49,56,42,44,18,61,57,42,20,64,62,55,35,44,19,58,50,26,24,48,19,48,49,46,46,43,21,64,18,51,47,64,49,31,52,33,47,38,32,19,25,19,43,52,64,25,48,45,38,18,21,27,19,29,42,60,31,60,22,35,52,26,31,18,59,45,60,56,40,35,39,30,24,20,32,59,55,57,56,40,49,62,56,19,60,56,28,18,27,18,19,47,25,21,23,63,49,18,51,48,31,54,19,53,19,61,18,61,20,31,45,44,62,43,38,37,22,21,24,57,56,27,51,19,58,20,45,35,31,50,32,51,38,18,19,51,46,18,62,59,37,64,38,33,46,46,53,34,20,63,54,28,54,25,63,32,62,52,25,28,46,34,19,46,54,27,50,18,19,38,41,49,31,18,30,62,57,58,22,52,25,59,19,39,32,19,33,21,61,38,58,47,20,41,46,42,34,43,52,18,51,56,64,51,27,28,47,38,18,34,20,56,55,30,49,59,29,36,33,58,53,24,29,40,51,64,19,35,56,33,61,23,43,48,39,40,18,58,49,53,48,45,59,26,27,48,57,37,57,32,18,49,40,30,29,36,41,45,55,56,49,21,19,53,33,53,42,40,47,21,47,20,24,27,26,53,56,23,21,50,53,34,47,33,49,31,36,18,50,43,20,24,60,49,60,51,58,51,53,62,19,50,41,18,41,53,24,48,59,49,26,45,31,50,50,34,19,47,28,21,64,58,24,31,39,30,22,23,27,45,57,47,42,64,38,61,53,44,41,51,40,45,35,53,18,51,31,35,60,21,29,62,39,19,22,39,30,30,58,42,64,21,23,45,40,19,18,25,46,33,54,28,36,20,24,23,45,26,18,44,60,64,39,63,36,28,58,36,42,36,56,35,59,21,59,53,51,23,27,55,61,53,20,25,57,38,55,36,51,40,18,57,61,25,50,26,42,43,44,23,49,33,41,37,22,23,21,25,36,22,57,36,54,62,61,19,18,19,49,26,49,60,26,27,44,63,22,59,44,33,24,61,35,62,62,38,34,43,50,19,57,62,41,26,39,46,45,32,59,44,39,18,53,18,50,18,19,62,56,42,42,57,30,31,24,48,19,29,63,46,52,35,44,21,39,50,34,22,19,26,48,26,45,36,54,34,27,20,44,43,45,34,26,38,50,38,39,39,63,33,36,24,48,47,29,28,25,51,48,61,48,38,59,19,26,54,21,51,18,47,21,23,54,37,30,61,54,22,19,18,28,55,43,25,44,64,49,27,55,48,45,24,32,24,57,36,29,42,48,39,63,54,63,21,54,60,32,47,21,63,18,32,38,32,62,55,57,52,56,55,23,50,18,22,52,25,53,29,58,37,54,49,50,26,45,54,28,23,55,41,30,46,27,63,55,35,34,19,39,27,57,52,28,50,44,26,33,50,41,52,39,50,52,20,55,42,18,58,35,48,36,23,20,32,43,34,30,18,41,35,57,29,32,37,56,38,29,22,40,23,42,24,25,48,45,62,23,31,41,58,48,31,19,41,40,31,37,46,22,51,35,59,59,36,39,18,52,27,18,40,29,38,30,40,50,41,33,38,42,56,58,54,58,45,26,63,58,37,25,22,28,18,28,45,33,18,19,40,34,42,51,54,55,52,32,28,41,43,49,55,20,45,26,25,43,35,57,22,32,25,48,18,47,28,36,44,38,21,46,58,20,18,28,33,19,25,24,41,42,33,34,18,19,18,35,39,31,62,31,61,42,51,23,52,57,23,52,50,18,18,21],\"xaxis\":\"x\",\"y\":[1725.5523,4449.462,21984.47061,3866.8552,3756.6216,8240.5896,7281.5056,6406.4107,28923.13692,2721.3208,1826.843,11090.7178,1837.237,10797.3362,2395.17155,10602.385,13228.84695,4149.736,1137.011,6203.90175,14001.1338,14451.83515,12268.63225,2775.19215,2198.18985,4687.797,13770.0979,1625.43375,15612.19335,2302.3,3046.062,4949.7587,6272.4772,6313.759,6079.6715,20630.28351,3393.35635,3556.9223,12629.8967,2211.13075,3579.8287,8059.6791,13607.36875,5989.52365,8606.2174,4504.6624,30166.61817,4133.64165,1743.214,14235.072,6389.37785,5920.1041,6799.458,11741.726,11946.6259,7726.854,11356.6609,3947.4131,1532.4697,2755.02095,6571.02435,4441.21315,7935.29115,11033.6617,11073.176,8026.6666,11082.5772,2026.9741,10942.13205,5729.0053,3766.8838,12105.32,10226.2842,6186.127,3645.0894,21344.8467,5003.853,2331.519,3877.30425,2867.1196,10825.2537,11881.358,4646.759,2404.7338,11488.31695,30259.99556,11381.3254,8601.3293,6686.4313,7740.337,1705.6245,2257.47525,10115.00885,3385.39915,9634.538,6082.405,12815.44495,13616.3586,11163.568,1632.56445,2457.21115,2155.6815,1261.442,2045.68525,27322.73386,2166.732,27375.90478,3490.5491,18157.876,5138.2567,9877.6077,10959.6947,1842.519,5125.2157,7789.635,6334.34355,7077.1894,6948.7008,19749.38338,10450.552,5152.134,5028.1466,10407.08585,4830.63,6128.79745,2719.27975,4827.90495,13405.3903,8116.68,1694.7964,5246.047,2855.43755,6455.86265,10436.096,8823.279,8538.28845,11735.87905,1631.8212,4005.4225,7419.4779,7731.4271,3981.9768,5325.651,6775.961,4922.9159,12557.6053,4883.866,2137.6536,12044.342,1137.4697,1639.5631,5649.715,8516.829,9644.2525,14901.5167,2130.6759,8871.1517,13012.20865,7147.105,4337.7352,11743.299,13880.949,6610.1097,1980.07,8162.71625,3537.703,5002.7827,8520.026,7371.772,10355.641,2483.736,3392.9768,25081.76784,5012.471,10564.8845,5253.524,11987.1682,2689.4954,24227.33724,7358.17565,9225.2564,7443.64305,14001.2867,1727.785,12333.828,6710.1919,1615.7667,4463.2051,7152.6714,5354.07465,35160.13457,7196.867,24476.47851,12648.7034,1986.9334,1832.094,4040.55825,4260.744,13047.33235,5400.9805,11520.09985,11837.16,20462.99766,14590.63205,7441.053,9282.4806,1719.4363,7265.7025,9617.66245,2523.1695,9715.841,2803.69785,2150.469,12928.7911,9855.1314,4237.12655,11879.10405,9625.92,7742.1098,9432.9253,14256.1928,25992.82104,3172.018,20277.80751,2156.7518,3906.127,1704.5681,9249.4952,6746.7425,12265.5069,4349.462,12646.207,19442.3535,20177.67113,4151.0287,11944.59435,7749.1564,8444.474,1737.376,8124.4084,9722.7695,8835.26495,10435.06525,7421.19455,4667.60765,4894.7533,24671.66334,11566.30055,2866.091,6600.20595,3561.8889,9144.565,13429.0354,11658.37915,19144.57652,13822.803,12142.5786,13937.6665,8232.6388,18955.22017,13352.0998,13217.0945,13981.85035,10977.2063,6184.2994,4889.9995,8334.45755,5478.0368,1635.73365,11830.6072,8932.084,3554.203,12404.8791,14133.03775,24603.04837,8944.1151,9620.3307,1837.2819,1607.5101,10043.249,4751.07,2597.779,3180.5101,9778.3472,13430.265,8017.06115,8116.26885,3481.868,13415.0381,12029.2867,7639.41745,1391.5287,16455.70785,27000.98473,20781.48892,5846.9176,8302.53565,1261.859,11856.4115,30284.64294,3176.8159,4618.0799,10736.87075,2138.0707,8964.06055,9290.1395,9411.005,7526.70645,8522.003,16586.49771,14988.432,1631.6683,9264.797,8083.9198,14692.66935,10269.46,3260.199,11396.9002,4185.0979,8539.671,6652.5288,4074.4537,1621.3402,5080.096,2134.9015,7345.7266,9140.951,14418.2804,2727.3951,8968.33,9788.8659,6555.07035,7323.734819,3167.45585,18804.7524,23082.95533,4906.40965,5969.723,12638.195,4243.59005,13919.8229,2254.7967,5926.846,12592.5345,2897.3235,4738.2682,1149.3959,28287.89766,7345.084,12730.9996,11454.0215,5910.944,4762.329,7512.267,4032.2407,1969.614,1769.53165,4686.3887,21797.0004,11881.9696,11840.77505,10601.412,7682.67,10381.4787,15230.32405,11165.41765,1632.03625,13224.693,12643.3778,23288.9284,2201.0971,2497.0383,2203.47185,1744.465,20878.78443,2534.39375,1534.3045,1824.2854,15555.18875,9304.7019,1622.1885,9880.068,9563.029,4347.02335,12475.3513,1253.936,10461.9794,1748.774,24513.09126,2196.4732,12574.049,1967.0227,4931.647,8027.968,8211.1002,13470.86,6837.3687,5974.3847,6796.86325,2643.2685,3077.0955,3044.2133,11455.28,11763.0009,2498.4144,9361.3268,1256.299,11362.755,27724.28875,8413.46305,5240.765,3857.75925,25656.57526,3994.1778,9866.30485,5397.6167,11482.63485,24059.68019,9861.025,8342.90875,1708.0014,14043.4767,12925.886,19214.70553,13831.1152,6067.12675,5972.378,8825.086,8233.0975,27346.04207,6196.448,3056.3881,13887.204,10231.4999,3268.84665,11538.421,3213.62205,13390.559,3972.9247,12957.118,11187.6567,17878.90068,3847.674,8334.5896,3935.1799,1646.4297,9193.8385,10923.9332,2494.022,9058.7303,2801.2588,2128.43105,6373.55735,7256.7231,11552.904,3761.292,2219.4451,4753.6368,31620.00106,13224.05705,12222.8983,1664.9996,9724.53,3206.49135,12913.9924,1639.5631,6356.2707,17626.23951,1242.816,4779.6023,3861.20965,13635.6379,5976.8311,11842.442,8428.0693,2566.4707,5709.1644,8823.98575,7640.3092,5594.8455,7441.501,33471.97189,1633.0444,9174.13565,11070.535,16085.1275,9283.562,3558.62025,4435.0942,8547.6913,6571.544,2207.69745,6753.038,1880.07,11658.11505,10713.644,3659.346,9182.17,12129.61415,3736.4647,6748.5912,11326.71487,11365.952,10085.846,1977.815,3366.6697,7173.35995,9391.346,14410.9321,2709.1119,24915.04626,12949.1554,6666.243,13143.86485,4466.6214,18806.14547,10141.1362,6123.5688,8252.2843,1712.227,12430.95335,9800.8882,10579.711,8280.6227,8527.532,12244.531,3410.324,4058.71245,26392.26029,14394.39815,6435.6237,22192.43711,5148.5526,1136.3994,8703.456,6500.2359,4837.5823,3943.5954,4399.731,6185.3208,7222.78625,12485.8009,12363.547,10156.7832,2585.269,1242.26,9863.4718,4766.022,11244.3769,7729.64575,5438.7491,26236.57997,2104.1134,8068.185,2362.22905,2352.96845,3577.999,3201.24515,29186.48236,10976.24575,3500.6123,2020.5523,9541.69555,9504.3103,5385.3379,8930.93455,5375.038,10264.4421,6113.23105,5469.0066,1727.54,10107.2206,8310.83915,1984.4533,2457.502,12146.971,9566.9909,13112.6048,10848.1343,12231.6136,9875.6804,11264.541,12979.358,1263.249,10106.13425,6664.68595,2217.6012,6781.3542,10065.413,4234.927,9447.25035,14007.222,9583.8933,3484.331,8604.48365,3757.8448,8827.2099,9910.35985,11737.84884,1627.28245,8556.907,3062.50825,1906.35825,14210.53595,11833.7823,17128.42608,5031.26955,7985.815,5428.7277,3925.7582,2416.955,3070.8087,9095.06825,11842.62375,8062.764,7050.642,14319.031,6933.24225,27941.28758,11150.78,12797.20962,7261.741,10560.4917,6986.697,7448.40395,5934.3798,9869.8102,1146.7966,9386.1613,4350.5144,6414.178,12741.16745,1917.3184,5209.57885,13457.9608,5662.225,1252.407,2731.9122,7209.4918,4266.1658,4719.52405,11848.141,7046.7222,14313.8463,2103.08,1815.8759,7731.85785,28476.73499,2136.88225,1131.5066,3309.7926,9414.92,6360.9936,11013.7119,4428.88785,5584.3057,1877.9294,2842.76075,3597.596,7445.918,2680.9493,1621.8827,8219.2039,12523.6048,16069.08475,6117.4945,13393.756,5266.3656,4719.73655,11743.9341,5377.4578,7160.3303,4402.233,11657.7189,6402.29135,12622.1795,1526.312,12323.936,10072.05505,9872.701,2438.0552,2974.126,10601.63225,14119.62,11729.6795,1875.344,18218.16139,10965.446,7151.092,12269.68865,5458.04645,8782.469,6600.361,1141.4451,11576.13,13129.60345,4391.652,8457.818,3392.3652,5966.8874,6849.026,8891.1395,2690.1138,26140.3603,6653.7886,6282.235,6311.952,3443.064,2789.0574,2585.85065,4877.98105,5272.1758,1682.597,11945.1327,7243.8136,10422.91665,13555.0049,13063.883,2221.56445,1634.5734,2117.33885,8688.85885,4661.28635,8125.7845,12644.589,4564.19145,4846.92015,7633.7206,15170.069,2639.0429,14382.70905,7626.993,5257.50795,2473.3341,13041.921,5245.2269,13451.122,13462.52,5488.262,4320.41085,6250.435,25333.33284,2913.569,12032.326,13470.8044,6289.7549,2927.0647,6238.298,10096.97,7348.142,4673.3922,12233.828,32108.66282,8965.79575,2304.0022,9487.6442,1121.8739,9549.5651,2217.46915,1628.4709,12982.8747,11674.13,7160.094,6358.77645,11534.87265,4527.18295,3875.7341,12609.88702,28468.91901,2730.10785,3353.284,14474.675,9500.57305,26467.09737,4746.344,7518.02535,3279.86855,8596.8278,10702.6424,4992.3764,2527.81865,1759.338,2322.6218,7804.1605,2902.9065,9704.66805,4889.0368,25517.11363,4500.33925,16796.41194,4915.05985,7624.63,8410.04685,28340.18885,4518.82625,3378.91,7144.86265,10118.424,5484.4673,7986.47525,7418.522,13887.9685,6551.7501,5267.81815,1972.95,21232.18226,8627.5411,4433.3877,4438.2634,23241.47453,9957.7216,8269.044,36580.28216,8765.249,5383.536,12124.9924,2709.24395,3987.926,12495.29085,26018.95052,8798.593,1711.0268,8569.8618,2020.177,21595.38229,9850.432,6877.9801,4137.5227,12950.0712,12094.478,2250.8352,22493.65964,1704.70015,3161.454,11394.06555,7325.0482,3594.17085,8023.13545,14394.5579,9288.0267,3353.4703,10594.50155,8277.523,17929.30337,2480.9791,4462.7218,1981.5819,11554.2236,6548.19505,5708.867,7045.499,8978.1851,5757.41345,14349.8544,10928.849,13974.45555,1909.52745,12096.6512,13204.28565,4562.8421,8551.347,2102.2647,15161.5344,11884.04858,4454.40265,5855.9025,4076.497,15019.76005,10796.35025,11353.2276,9748.9106,10577.087,11286.5387,3591.48,11299.343,4561.1885,1674.6323,23045.56616,3227.1211,11253.421,3471.4096,11363.2832,20420.60465,10338.9316,8988.15875,10493.9458,2904.088,8605.3615,11512.405,5312.16985,2396.0959,10807.4863,9222.4026,5693.4305,8347.1643,18903.49141,14254.6082,10214.636,5836.5204,14358.36437,1728.897,8582.3023,3693.428,20709.02034,9991.03765,19673.33573,11085.5868,7623.518,3176.2877,3704.3545,9048.0273,7954.517,27117.99378,6338.0756,9630.397,11289.10925,2261.5688,10791.96,5979.731,2203.73595,12235.8392,5630.45785,11015.1747,7228.21565,14426.07385,2459.7201,3989.841,7727.2532,5124.1887,18963.17192,2200.83085,7153.5539,5227.98875,10982.5013,4529.477,4670.64,6112.35295,11093.6229,6457.8434,4433.9159,2154.361,6496.886,2899.48935,7650.77375,2850.68375,2632.992,9447.3824,8603.8234,13844.7972,13126.67745,5327.40025,13725.47184,13019.16105,8671.19125,4134.08245,18838.70366,5699.8375,6393.60345,4934.705,6198.7518,8733.22925,2055.3249,9964.06,5116.5004,36910.60803,12347.172,5373.36425,23563.01618,1702.4553,10806.839,3956.07145,12890.05765,5415.6612,4058.1161,7537.1639,4718.20355,6593.5083,8442.667,6858.4796,4795.6568,6640.54485,7162.0122,10594.2257,11938.25595,12479.70895,11345.519,8515.7587,2699.56835,14449.8544,12224.35085,6985.50695,3238.4357,4296.2712,3171.6149,1135.9407,5615.369,9101.798,6059.173,1633.9618,1241.565,15828.82173,4415.1588,6474.013,11436.73815,11305.93455,30063.58055,10197.7722,4544.2348,3277.161,6770.1925,7337.748,10370.91255,10704.47,1880.487,8615.3,3292.52985,3021.80915,14478.33015,4747.0529,10959.33,2741.948,4357.04365,4189.1131,8283.6807,1720.3537,8534.6718,3732.6251,5472.449,7147.4728,7133.9025,1515.3449,9301.89355,11931.12525,1964.78,1708.92575,4340.4409,5261.46945,2710.82855,3208.787,2464.6188,6875.961,6940.90985,4571.41305,4536.259,11272.33139,1731.677,1163.4627,19496.71917,7201.70085,5425.02335,12981.3457,4239.89265,13143.33665,7050.0213,9377.9047,22395.74424,10325.206,12629.1656,10795.93733,11411.685,10600.5483,2205.9808,1629.8335,2007.945],\"yaxis\":\"y\",\"type\":\"scattergl\"}],                        {\"template\":{\"data\":{\"bar\":[{\"error_x\":{\"color\":\"#2a3f5f\"},\"error_y\":{\"color\":\"#2a3f5f\"},\"marker\":{\"line\":{\"color\":\"#E5ECF6\",\"width\":0.5},\"pattern\":{\"fillmode\":\"overlay\",\"size\":10,\"solidity\":0.2}},\"type\":\"bar\"}],\"barpolar\":[{\"marker\":{\"line\":{\"color\":\"#E5ECF6\",\"width\":0.5},\"pattern\":{\"fillmode\":\"overlay\",\"size\":10,\"solidity\":0.2}},\"type\":\"barpolar\"}],\"carpet\":[{\"aaxis\":{\"endlinecolor\":\"#2a3f5f\",\"gridcolor\":\"white\",\"linecolor\":\"white\",\"minorgridcolor\":\"white\",\"startlinecolor\":\"#2a3f5f\"},\"baxis\":{\"endlinecolor\":\"#2a3f5f\",\"gridcolor\":\"white\",\"linecolor\":\"white\",\"minorgridcolor\":\"white\",\"startlinecolor\":\"#2a3f5f\"},\"type\":\"carpet\"}],\"choropleth\":[{\"colorbar\":{\"outlinewidth\":0,\"ticks\":\"\"},\"type\":\"choropleth\"}],\"contour\":[{\"colorbar\":{\"outlinewidth\":0,\"ticks\":\"\"},\"colorscale\":[[0.0,\"#0d0887\"],[0.1111111111111111,\"#46039f\"],[0.2222222222222222,\"#7201a8\"],[0.3333333333333333,\"#9c179e\"],[0.4444444444444444,\"#bd3786\"],[0.5555555555555556,\"#d8576b\"],[0.6666666666666666,\"#ed7953\"],[0.7777777777777778,\"#fb9f3a\"],[0.8888888888888888,\"#fdca26\"],[1.0,\"#f0f921\"]],\"type\":\"contour\"}],\"contourcarpet\":[{\"colorbar\":{\"outlinewidth\":0,\"ticks\":\"\"},\"type\":\"contourcarpet\"}],\"heatmap\":[{\"colorbar\":{\"outlinewidth\":0,\"ticks\":\"\"},\"colorscale\":[[0.0,\"#0d0887\"],[0.1111111111111111,\"#46039f\"],[0.2222222222222222,\"#7201a8\"],[0.3333333333333333,\"#9c179e\"],[0.4444444444444444,\"#bd3786\"],[0.5555555555555556,\"#d8576b\"],[0.6666666666666666,\"#ed7953\"],[0.7777777777777778,\"#fb9f3a\"],[0.8888888888888888,\"#fdca26\"],[1.0,\"#f0f921\"]],\"type\":\"heatmap\"}],\"heatmapgl\":[{\"colorbar\":{\"outlinewidth\":0,\"ticks\":\"\"},\"colorscale\":[[0.0,\"#0d0887\"],[0.1111111111111111,\"#46039f\"],[0.2222222222222222,\"#7201a8\"],[0.3333333333333333,\"#9c179e\"],[0.4444444444444444,\"#bd3786\"],[0.5555555555555556,\"#d8576b\"],[0.6666666666666666,\"#ed7953\"],[0.7777777777777778,\"#fb9f3a\"],[0.8888888888888888,\"#fdca26\"],[1.0,\"#f0f921\"]],\"type\":\"heatmapgl\"}],\"histogram\":[{\"marker\":{\"pattern\":{\"fillmode\":\"overlay\",\"size\":10,\"solidity\":0.2}},\"type\":\"histogram\"}],\"histogram2d\":[{\"colorbar\":{\"outlinewidth\":0,\"ticks\":\"\"},\"colorscale\":[[0.0,\"#0d0887\"],[0.1111111111111111,\"#46039f\"],[0.2222222222222222,\"#7201a8\"],[0.3333333333333333,\"#9c179e\"],[0.4444444444444444,\"#bd3786\"],[0.5555555555555556,\"#d8576b\"],[0.6666666666666666,\"#ed7953\"],[0.7777777777777778,\"#fb9f3a\"],[0.8888888888888888,\"#fdca26\"],[1.0,\"#f0f921\"]],\"type\":\"histogram2d\"}],\"histogram2dcontour\":[{\"colorbar\":{\"outlinewidth\":0,\"ticks\":\"\"},\"colorscale\":[[0.0,\"#0d0887\"],[0.1111111111111111,\"#46039f\"],[0.2222222222222222,\"#7201a8\"],[0.3333333333333333,\"#9c179e\"],[0.4444444444444444,\"#bd3786\"],[0.5555555555555556,\"#d8576b\"],[0.6666666666666666,\"#ed7953\"],[0.7777777777777778,\"#fb9f3a\"],[0.8888888888888888,\"#fdca26\"],[1.0,\"#f0f921\"]],\"type\":\"histogram2dcontour\"}],\"mesh3d\":[{\"colorbar\":{\"outlinewidth\":0,\"ticks\":\"\"},\"type\":\"mesh3d\"}],\"parcoords\":[{\"line\":{\"colorbar\":{\"outlinewidth\":0,\"ticks\":\"\"}},\"type\":\"parcoords\"}],\"pie\":[{\"automargin\":true,\"type\":\"pie\"}],\"scatter\":[{\"marker\":{\"colorbar\":{\"outlinewidth\":0,\"ticks\":\"\"}},\"type\":\"scatter\"}],\"scatter3d\":[{\"line\":{\"colorbar\":{\"outlinewidth\":0,\"ticks\":\"\"}},\"marker\":{\"colorbar\":{\"outlinewidth\":0,\"ticks\":\"\"}},\"type\":\"scatter3d\"}],\"scattercarpet\":[{\"marker\":{\"colorbar\":{\"outlinewidth\":0,\"ticks\":\"\"}},\"type\":\"scattercarpet\"}],\"scattergeo\":[{\"marker\":{\"colorbar\":{\"outlinewidth\":0,\"ticks\":\"\"}},\"type\":\"scattergeo\"}],\"scattergl\":[{\"marker\":{\"colorbar\":{\"outlinewidth\":0,\"ticks\":\"\"}},\"type\":\"scattergl\"}],\"scattermapbox\":[{\"marker\":{\"colorbar\":{\"outlinewidth\":0,\"ticks\":\"\"}},\"type\":\"scattermapbox\"}],\"scatterpolar\":[{\"marker\":{\"colorbar\":{\"outlinewidth\":0,\"ticks\":\"\"}},\"type\":\"scatterpolar\"}],\"scatterpolargl\":[{\"marker\":{\"colorbar\":{\"outlinewidth\":0,\"ticks\":\"\"}},\"type\":\"scatterpolargl\"}],\"scatterternary\":[{\"marker\":{\"colorbar\":{\"outlinewidth\":0,\"ticks\":\"\"}},\"type\":\"scatterternary\"}],\"surface\":[{\"colorbar\":{\"outlinewidth\":0,\"ticks\":\"\"},\"colorscale\":[[0.0,\"#0d0887\"],[0.1111111111111111,\"#46039f\"],[0.2222222222222222,\"#7201a8\"],[0.3333333333333333,\"#9c179e\"],[0.4444444444444444,\"#bd3786\"],[0.5555555555555556,\"#d8576b\"],[0.6666666666666666,\"#ed7953\"],[0.7777777777777778,\"#fb9f3a\"],[0.8888888888888888,\"#fdca26\"],[1.0,\"#f0f921\"]],\"type\":\"surface\"}],\"table\":[{\"cells\":{\"fill\":{\"color\":\"#EBF0F8\"},\"line\":{\"color\":\"white\"}},\"header\":{\"fill\":{\"color\":\"#C8D4E3\"},\"line\":{\"color\":\"white\"}},\"type\":\"table\"}]},\"layout\":{\"annotationdefaults\":{\"arrowcolor\":\"#2a3f5f\",\"arrowhead\":0,\"arrowwidth\":1},\"autotypenumbers\":\"strict\",\"coloraxis\":{\"colorbar\":{\"outlinewidth\":0,\"ticks\":\"\"}},\"colorscale\":{\"diverging\":[[0,\"#8e0152\"],[0.1,\"#c51b7d\"],[0.2,\"#de77ae\"],[0.3,\"#f1b6da\"],[0.4,\"#fde0ef\"],[0.5,\"#f7f7f7\"],[0.6,\"#e6f5d0\"],[0.7,\"#b8e186\"],[0.8,\"#7fbc41\"],[0.9,\"#4d9221\"],[1,\"#276419\"]],\"sequential\":[[0.0,\"#0d0887\"],[0.1111111111111111,\"#46039f\"],[0.2222222222222222,\"#7201a8\"],[0.3333333333333333,\"#9c179e\"],[0.4444444444444444,\"#bd3786\"],[0.5555555555555556,\"#d8576b\"],[0.6666666666666666,\"#ed7953\"],[0.7777777777777778,\"#fb9f3a\"],[0.8888888888888888,\"#fdca26\"],[1.0,\"#f0f921\"]],\"sequentialminus\":[[0.0,\"#0d0887\"],[0.1111111111111111,\"#46039f\"],[0.2222222222222222,\"#7201a8\"],[0.3333333333333333,\"#9c179e\"],[0.4444444444444444,\"#bd3786\"],[0.5555555555555556,\"#d8576b\"],[0.6666666666666666,\"#ed7953\"],[0.7777777777777778,\"#fb9f3a\"],[0.8888888888888888,\"#fdca26\"],[1.0,\"#f0f921\"]]},\"colorway\":[\"#636efa\",\"#EF553B\",\"#00cc96\",\"#ab63fa\",\"#FFA15A\",\"#19d3f3\",\"#FF6692\",\"#B6E880\",\"#FF97FF\",\"#FECB52\"],\"font\":{\"color\":\"#2a3f5f\"},\"geo\":{\"bgcolor\":\"white\",\"lakecolor\":\"white\",\"landcolor\":\"#E5ECF6\",\"showlakes\":true,\"showland\":true,\"subunitcolor\":\"white\"},\"hoverlabel\":{\"align\":\"left\"},\"hovermode\":\"closest\",\"mapbox\":{\"style\":\"light\"},\"paper_bgcolor\":\"white\",\"plot_bgcolor\":\"#E5ECF6\",\"polar\":{\"angularaxis\":{\"gridcolor\":\"white\",\"linecolor\":\"white\",\"ticks\":\"\"},\"bgcolor\":\"#E5ECF6\",\"radialaxis\":{\"gridcolor\":\"white\",\"linecolor\":\"white\",\"ticks\":\"\"}},\"scene\":{\"xaxis\":{\"backgroundcolor\":\"#E5ECF6\",\"gridcolor\":\"white\",\"gridwidth\":2,\"linecolor\":\"white\",\"showbackground\":true,\"ticks\":\"\",\"zerolinecolor\":\"white\"},\"yaxis\":{\"backgroundcolor\":\"#E5ECF6\",\"gridcolor\":\"white\",\"gridwidth\":2,\"linecolor\":\"white\",\"showbackground\":true,\"ticks\":\"\",\"zerolinecolor\":\"white\"},\"zaxis\":{\"backgroundcolor\":\"#E5ECF6\",\"gridcolor\":\"white\",\"gridwidth\":2,\"linecolor\":\"white\",\"showbackground\":true,\"ticks\":\"\",\"zerolinecolor\":\"white\"}},\"shapedefaults\":{\"line\":{\"color\":\"#2a3f5f\"}},\"ternary\":{\"aaxis\":{\"gridcolor\":\"white\",\"linecolor\":\"white\",\"ticks\":\"\"},\"baxis\":{\"gridcolor\":\"white\",\"linecolor\":\"white\",\"ticks\":\"\"},\"bgcolor\":\"#E5ECF6\",\"caxis\":{\"gridcolor\":\"white\",\"linecolor\":\"white\",\"ticks\":\"\"}},\"title\":{\"x\":0.05},\"xaxis\":{\"automargin\":true,\"gridcolor\":\"white\",\"linecolor\":\"white\",\"ticks\":\"\",\"title\":{\"standoff\":15},\"zerolinecolor\":\"white\",\"zerolinewidth\":2},\"yaxis\":{\"automargin\":true,\"gridcolor\":\"white\",\"linecolor\":\"white\",\"ticks\":\"\",\"title\":{\"standoff\":15},\"zerolinecolor\":\"white\",\"zerolinewidth\":2}}},\"xaxis\":{\"anchor\":\"y\",\"domain\":[0.0,1.0],\"title\":{\"text\":\"age\"}},\"yaxis\":{\"anchor\":\"x\",\"domain\":[0.0,1.0],\"title\":{\"text\":\"charges\"}},\"legend\":{\"title\":{\"text\":\"smoker\"},\"tracegroupgap\":0},\"title\":{\"text\":\"Age vs Charges\"}},                        {\"responsive\": true}                    ).then(function(){\n",
              "                            \n",
              "var gd = document.getElementById('cd6d65d1-1517-4b19-ae3f-c6c2aabb2f74');\n",
              "var x = new MutationObserver(function (mutations, observer) {{\n",
              "        var display = window.getComputedStyle(gd).display;\n",
              "        if (!display || display === 'none') {{\n",
              "            console.log([gd, 'removed!']);\n",
              "            Plotly.purge(gd);\n",
              "            observer.disconnect();\n",
              "        }}\n",
              "}});\n",
              "\n",
              "// Listen for the removal of the full notebook cells\n",
              "var notebookContainer = gd.closest('#notebook-container');\n",
              "if (notebookContainer) {{\n",
              "    x.observe(notebookContainer, {childList: true});\n",
              "}}\n",
              "\n",
              "// Listen for the clearing of the current output cell\n",
              "var outputEl = gd.closest('.output');\n",
              "if (outputEl) {{\n",
              "    x.observe(outputEl, {childList: true});\n",
              "}}\n",
              "\n",
              "                        })                };                            </script>        </div>\n",
              "</body>\n",
              "</html>"
            ]
          },
          "metadata": {}
        }
      ]
    },
    {
      "cell_type": "code",
      "source": [
        "fig = px.scatter(medical_df, \n",
        "                 x=\"bmi\", \n",
        "                 y=\"charges\", \n",
        "                 color=\"smoker\",\n",
        "                 hover_data=['sex'],\n",
        "                 title = 'BMI vs Charges',\n",
        "                 opacity=1)\n",
        "fig.update_traces(marker_size = 5)\n",
        "fig.show()"
      ],
      "metadata": {
        "colab": {
          "base_uri": "https://localhost:8080/",
          "height": 542
        },
        "id": "_pb5VRimTYYJ",
        "outputId": "227c51a2-b082-4803-9af4-6598517f696c"
      },
      "execution_count": 351,
      "outputs": [
        {
          "output_type": "display_data",
          "data": {
            "text/html": [
              "<html>\n",
              "<head><meta charset=\"utf-8\" /></head>\n",
              "<body>\n",
              "    <div>            <script src=\"https://cdnjs.cloudflare.com/ajax/libs/mathjax/2.7.5/MathJax.js?config=TeX-AMS-MML_SVG\"></script><script type=\"text/javascript\">if (window.MathJax) {MathJax.Hub.Config({SVG: {font: \"STIX-Web\"}});}</script>                <script type=\"text/javascript\">window.PlotlyConfig = {MathJaxConfig: 'local'};</script>\n",
              "        <script src=\"https://cdn.plot.ly/plotly-2.8.3.min.js\"></script>                <div id=\"a9a0fc19-a983-419c-8eca-e7652fb82274\" class=\"plotly-graph-div\" style=\"height:525px; width:100%;\"></div>            <script type=\"text/javascript\">                                    window.PLOTLYENV=window.PLOTLYENV || {};                                    if (document.getElementById(\"a9a0fc19-a983-419c-8eca-e7652fb82274\")) {                    Plotly.newPlot(                        \"a9a0fc19-a983-419c-8eca-e7652fb82274\",                        [{\"customdata\":[[\"female\"],[\"female\"],[\"male\"],[\"male\"],[\"female\"],[\"male\"],[\"male\"],[\"male\"],[\"male\"],[\"male\"],[\"male\"],[\"male\"],[\"male\"],[\"male\"],[\"male\"],[\"female\"],[\"female\"],[\"male\"],[\"female\"],[\"male\"],[\"female\"],[\"male\"],[\"female\"],[\"male\"],[\"female\"],[\"male\"],[\"male\"],[\"female\"],[\"male\"],[\"male\"],[\"female\"],[\"male\"],[\"female\"],[\"female\"],[\"male\"],[\"male\"],[\"male\"],[\"female\"],[\"male\"],[\"male\"],[\"male\"],[\"female\"],[\"female\"],[\"female\"],[\"male\"],[\"female\"],[\"male\"],[\"male\"],[\"male\"],[\"female\"],[\"male\"],[\"female\"],[\"female\"],[\"male\"],[\"female\"],[\"male\"],[\"male\"],[\"male\"],[\"male\"],[\"female\"],[\"male\"],[\"male\"],[\"male\"],[\"male\"],[\"male\"],[\"female\"],[\"male\"],[\"female\"],[\"male\"],[\"male\"],[\"male\"],[\"male\"],[\"female\"],[\"male\"],[\"female\"],[\"male\"],[\"male\"],[\"female\"],[\"female\"],[\"male\"],[\"male\"],[\"female\"],[\"male\"],[\"female\"],[\"female\"],[\"male\"],[\"female\"],[\"male\"],[\"female\"],[\"female\"],[\"female\"],[\"female\"],[\"male\"],[\"male\"],[\"male\"],[\"female\"],[\"male\"],[\"male\"],[\"female\"],[\"male\"],[\"male\"],[\"male\"],[\"female\"],[\"male\"],[\"male\"],[\"male\"],[\"male\"],[\"male\"],[\"male\"],[\"male\"],[\"female\"],[\"male\"],[\"female\"],[\"female\"],[\"male\"],[\"female\"],[\"female\"],[\"female\"],[\"female\"],[\"female\"],[\"male\"],[\"female\"],[\"male\"],[\"female\"],[\"male\"],[\"male\"],[\"female\"],[\"male\"],[\"male\"],[\"female\"],[\"female\"],[\"male\"],[\"female\"],[\"male\"],[\"female\"],[\"male\"],[\"male\"],[\"male\"],[\"male\"],[\"female\"],[\"female\"],[\"female\"],[\"male\"],[\"female\"],[\"male\"],[\"male\"],[\"male\"],[\"male\"],[\"female\"],[\"female\"],[\"male\"],[\"male\"],[\"female\"],[\"male\"],[\"female\"],[\"male\"],[\"male\"],[\"male\"],[\"female\"],[\"female\"],[\"female\"],[\"male\"],[\"male\"],[\"male\"],[\"female\"],[\"female\"],[\"female\"],[\"female\"],[\"female\"],[\"female\"],[\"female\"],[\"male\"],[\"female\"],[\"female\"],[\"male\"],[\"male\"],[\"female\"],[\"male\"],[\"female\"],[\"male\"],[\"female\"],[\"male\"],[\"female\"],[\"male\"],[\"male\"],[\"male\"],[\"male\"],[\"male\"],[\"male\"],[\"male\"],[\"male\"],[\"male\"],[\"male\"],[\"male\"],[\"female\"],[\"female\"],[\"male\"],[\"male\"],[\"male\"],[\"male\"],[\"female\"],[\"male\"],[\"male\"],[\"female\"],[\"female\"],[\"male\"],[\"male\"],[\"female\"],[\"female\"],[\"male\"],[\"female\"],[\"male\"],[\"male\"],[\"male\"],[\"male\"],[\"male\"],[\"male\"],[\"female\"],[\"male\"],[\"female\"],[\"female\"],[\"female\"],[\"male\"],[\"female\"],[\"male\"],[\"male\"],[\"female\"],[\"female\"],[\"female\"],[\"female\"],[\"male\"],[\"female\"],[\"male\"],[\"male\"],[\"female\"],[\"female\"],[\"male\"],[\"female\"],[\"male\"],[\"female\"],[\"female\"],[\"female\"],[\"male\"],[\"female\"],[\"female\"],[\"female\"],[\"male\"],[\"female\"],[\"male\"],[\"male\"],[\"male\"],[\"male\"],[\"male\"],[\"male\"],[\"male\"],[\"male\"],[\"male\"],[\"female\"],[\"female\"],[\"male\"],[\"male\"],[\"male\"],[\"male\"],[\"male\"],[\"male\"],[\"male\"],[\"female\"],[\"male\"],[\"female\"],[\"female\"],[\"female\"],[\"male\"],[\"female\"],[\"female\"]],\"hovertemplate\":\"smoker=yes<br>bmi=%{x}<br>charges=%{y}<br>sex=%{customdata[0]}<extra></extra>\",\"legendgroup\":\"yes\",\"marker\":{\"color\":\"#636efa\",\"opacity\":1,\"symbol\":\"circle\",\"size\":5},\"mode\":\"markers\",\"name\":\"yes\",\"showlegend\":true,\"x\":[27.9,26.29,42.13,35.3,31.92,36.3,35.6,36.4,36.67,39.9,35.2,28.0,34.43,36.955,31.68,22.88,22.42,23.98,24.75,37.62,34.8,22.895,31.16,29.83,31.3,19.95,19.3,29.92,28.025,35.09,27.94,31.35,28.3,17.765,25.3,28.69,30.495,23.37,24.42,25.175,35.53,26.6,36.85,37.7,41.895,36.08,27.74,34.8,24.64,22.22,29.07,36.67,27.74,17.29,32.2,34.21,31.825,33.63,31.92,26.84,24.32,36.955,42.35,19.8,34.2,28.12,40.565,36.765,45.54,27.7,25.41,34.39,22.61,35.97,31.4,30.8,36.48,33.8,36.385,27.36,32.3,21.7,32.9,28.31,24.89,40.15,17.955,30.685,20.235,17.195,22.6,26.98,33.88,35.86,32.775,33.5,26.695,30.0,28.38,25.1,28.31,28.5,38.06,25.7,34.4,23.21,30.25,28.3,26.07,42.13,47.41,25.84,46.2,34.105,40.565,38.095,30.21,21.85,28.31,23.655,37.8,36.63,25.6,33.11,34.1,33.535,38.95,26.41,28.31,25.3,22.99,38.06,32.775,32.015,43.89,31.35,35.3,31.13,35.75,38.06,39.05,21.755,24.42,38.39,31.73,35.5,29.15,34.105,26.4,27.83,38.17,27.1,28.88,24.4,27.6,20.9,28.5,24.795,42.24,26.125,35.53,31.79,28.025,30.78,32.78,29.81,32.45,30.78,35.53,23.845,33.11,24.13,47.6,37.05,28.93,28.975,26.885,38.94,20.045,40.92,24.6,31.73,26.885,22.895,34.2,29.7,42.9,30.2,27.835,30.8,34.96,24.795,22.895,25.9,20.52,20.045,22.99,32.7,28.215,20.13,31.02,36.08,26.03,23.655,35.2,21.565,37.07,30.495,28.025,30.685,24.7,52.58,30.9,29.8,41.14,37.07,31.68,18.3,36.19,30.4,34.96,19.095,38.39,25.85,33.33,35.75,31.4,36.86,42.75,32.49,32.8,32.56,44.88,27.36,26.7,24.13,29.81,28.49,35.625,25.27,30.02,27.28,33.4,25.555,34.6,24.42,34.485,21.8,41.8,36.96,33.63,29.83,27.3,23.76,31.065,27.06,29.925,27.645,21.66,36.3,39.4,34.9,30.36,30.875,27.8,24.605,21.85,28.12,30.2,34.7,23.655,26.695,40.37,29.07],\"xaxis\":\"x\",\"y\":[16884.924,27808.7251,39611.7577,36837.467,37701.8768,38711.0,35585.576,51194.55914,39774.2763,48173.361,38709.176,23568.272,37742.5757,47496.49445,34303.1672,23244.7902,14711.7438,17663.1442,16577.7795,37165.1638,39836.519,21098.55405,43578.9394,30184.9367,47291.055,22412.6485,15820.699,30942.1918,17560.37975,47055.5321,19107.7796,39556.4945,17081.08,32734.1863,18972.495,20745.9891,40720.55105,19964.7463,21223.6758,15518.18025,36950.2567,21348.706,36149.4835,48824.45,43753.33705,37133.8982,20984.0936,34779.615,19515.5416,19444.2658,17352.6803,38511.6283,29523.1656,12829.4551,47305.305,44260.7499,41097.16175,43921.1837,33750.2918,17085.2676,24869.8368,36219.40545,46151.1245,17179.522,42856.838,22331.5668,48549.17835,47896.79135,42112.2356,16297.846,21978.6769,38746.3551,24873.3849,42124.5153,34838.873,35491.64,42760.5022,47928.03,48517.56315,24393.6224,41919.097,13844.506,36085.219,18033.9679,21659.9301,38126.2465,15006.57945,42303.69215,19594.80965,14455.64405,18608.262,28950.4692,46889.2612,46599.1084,39125.33225,37079.372,26109.32905,22144.032,19521.9682,25382.297,28868.6639,35147.52848,48885.13561,17942.106,36197.699,22218.1149,32548.3405,21082.16,38245.59327,48675.5177,63770.42801,23807.2406,45863.205,39983.42595,45702.02235,58571.07448,43943.8761,15359.1045,17468.9839,25678.77845,39241.442,42969.8527,23306.547,34439.8559,40182.246,34617.84065,42983.4585,20149.3229,32787.45859,24667.419,27037.9141,42560.4304,40003.33225,45710.20785,46200.9851,46130.5265,40103.89,34806.4677,40273.6455,44400.4064,40932.4295,16657.71745,19361.9988,40419.0191,36189.1017,44585.45587,18246.4955,43254.41795,19539.243,23065.4207,36307.7983,19040.876,17748.5062,18259.216,24520.264,21195.818,18310.742,17904.52705,38792.6856,23401.30575,55135.40209,43813.8661,20773.62775,39597.4072,36021.0112,27533.9129,45008.9555,37270.1512,42111.6647,24106.91255,40974.1649,15817.9857,46113.511,46255.1125,19719.6947,27218.43725,29330.98315,44202.6536,19798.05455,48673.5588,17496.306,33732.6867,21774.32215,35069.37452,39047.285,19933.458,47462.894,38998.546,20009.63365,41999.52,41034.2214,23967.38305,16138.76205,19199.944,14571.8908,16420.49455,17361.7661,34472.841,24915.22085,18767.7377,35595.5898,42211.1382,16450.8947,21677.28345,44423.803,13747.87235,37484.4493,39725.51805,20234.85475,33475.81715,21880.82,44501.3982,39727.614,25309.489,48970.2476,39871.7043,34672.1472,19023.26,41676.0811,33907.548,44641.1974,16776.30405,41949.2441,24180.9335,36124.5737,38282.7495,34166.273,46661.4424,40904.1995,36898.73308,52590.82939,40941.2854,39722.7462,17178.6824,22478.6,23887.6627,19350.3689,18328.2381,37465.34375,21771.3423,33307.5508,18223.4512,38415.474,20296.86345,41661.602,26125.67477,60021.39897,20167.33603,47269.854,49577.6624,37607.5277,18648.4217,16232.847,26926.5144,34254.05335,17043.3414,22462.04375,24535.69855,14283.4594,47403.88,38344.566,34828.654,62592.87309,46718.16325,37829.7242,21259.37795,16115.3045,21472.4788,33900.653,36397.576,18765.87545,28101.33305,43896.3763,29141.3603],\"yaxis\":\"y\",\"type\":\"scattergl\"},{\"customdata\":[[\"male\"],[\"male\"],[\"male\"],[\"male\"],[\"female\"],[\"female\"],[\"female\"],[\"male\"],[\"female\"],[\"male\"],[\"male\"],[\"female\"],[\"male\"],[\"female\"],[\"male\"],[\"male\"],[\"female\"],[\"female\"],[\"male\"],[\"male\"],[\"female\"],[\"female\"],[\"female\"],[\"male\"],[\"female\"],[\"female\"],[\"male\"],[\"male\"],[\"female\"],[\"male\"],[\"female\"],[\"female\"],[\"male\"],[\"female\"],[\"male\"],[\"male\"],[\"female\"],[\"female\"],[\"female\"],[\"female\"],[\"female\"],[\"female\"],[\"female\"],[\"female\"],[\"male\"],[\"male\"],[\"male\"],[\"female\"],[\"female\"],[\"female\"],[\"male\"],[\"female\"],[\"male\"],[\"female\"],[\"male\"],[\"male\"],[\"male\"],[\"female\"],[\"male\"],[\"female\"],[\"female\"],[\"male\"],[\"female\"],[\"female\"],[\"female\"],[\"female\"],[\"female\"],[\"female\"],[\"female\"],[\"male\"],[\"female\"],[\"female\"],[\"male\"],[\"female\"],[\"male\"],[\"female\"],[\"female\"],[\"female\"],[\"male\"],[\"male\"],[\"male\"],[\"female\"],[\"male\"],[\"female\"],[\"male\"],[\"male\"],[\"male\"],[\"female\"],[\"female\"],[\"male\"],[\"male\"],[\"female\"],[\"female\"],[\"female\"],[\"female\"],[\"male\"],[\"female\"],[\"female\"],[\"female\"],[\"male\"],[\"female\"],[\"female\"],[\"male\"],[\"male\"],[\"female\"],[\"female\"],[\"male\"],[\"male\"],[\"male\"],[\"female\"],[\"female\"],[\"female\"],[\"male\"],[\"male\"],[\"male\"],[\"female\"],[\"female\"],[\"male\"],[\"female\"],[\"male\"],[\"female\"],[\"male\"],[\"male\"],[\"female\"],[\"female\"],[\"female\"],[\"male\"],[\"male\"],[\"male\"],[\"male\"],[\"female\"],[\"female\"],[\"male\"],[\"male\"],[\"female\"],[\"female\"],[\"male\"],[\"female\"],[\"male\"],[\"female\"],[\"male\"],[\"female\"],[\"female\"],[\"female\"],[\"female\"],[\"male\"],[\"female\"],[\"male\"],[\"female\"],[\"male\"],[\"male\"],[\"female\"],[\"female\"],[\"female\"],[\"female\"],[\"female\"],[\"female\"],[\"female\"],[\"male\"],[\"female\"],[\"male\"],[\"female\"],[\"male\"],[\"male\"],[\"male\"],[\"male\"],[\"female\"],[\"female\"],[\"female\"],[\"female\"],[\"male\"],[\"female\"],[\"female\"],[\"female\"],[\"female\"],[\"male\"],[\"male\"],[\"male\"],[\"female\"],[\"female\"],[\"male\"],[\"female\"],[\"female\"],[\"female\"],[\"male\"],[\"male\"],[\"female\"],[\"male\"],[\"male\"],[\"female\"],[\"female\"],[\"male\"],[\"male\"],[\"female\"],[\"male\"],[\"male\"],[\"male\"],[\"male\"],[\"female\"],[\"female\"],[\"male\"],[\"female\"],[\"female\"],[\"female\"],[\"male\"],[\"male\"],[\"male\"],[\"male\"],[\"male\"],[\"male\"],[\"female\"],[\"male\"],[\"female\"],[\"male\"],[\"female\"],[\"male\"],[\"female\"],[\"female\"],[\"male\"],[\"female\"],[\"female\"],[\"male\"],[\"female\"],[\"male\"],[\"female\"],[\"male\"],[\"male\"],[\"female\"],[\"male\"],[\"female\"],[\"female\"],[\"female\"],[\"male\"],[\"female\"],[\"female\"],[\"male\"],[\"female\"],[\"male\"],[\"female\"],[\"male\"],[\"male\"],[\"male\"],[\"male\"],[\"female\"],[\"male\"],[\"male\"],[\"female\"],[\"male\"],[\"male\"],[\"male\"],[\"female\"],[\"male\"],[\"female\"],[\"female\"],[\"female\"],[\"male\"],[\"male\"],[\"male\"],[\"female\"],[\"female\"],[\"male\"],[\"female\"],[\"male\"],[\"female\"],[\"female\"],[\"male\"],[\"male\"],[\"female\"],[\"male\"],[\"female\"],[\"female\"],[\"female\"],[\"male\"],[\"female\"],[\"male\"],[\"male\"],[\"male\"],[\"male\"],[\"female\"],[\"female\"],[\"male\"],[\"female\"],[\"female\"],[\"female\"],[\"female\"],[\"female\"],[\"male\"],[\"male\"],[\"female\"],[\"female\"],[\"female\"],[\"male\"],[\"female\"],[\"male\"],[\"male\"],[\"female\"],[\"male\"],[\"male\"],[\"female\"],[\"male\"],[\"female\"],[\"female\"],[\"male\"],[\"female\"],[\"male\"],[\"male\"],[\"female\"],[\"male\"],[\"female\"],[\"male\"],[\"male\"],[\"female\"],[\"female\"],[\"male\"],[\"female\"],[\"male\"],[\"male\"],[\"female\"],[\"female\"],[\"female\"],[\"male\"],[\"male\"],[\"male\"],[\"male\"],[\"female\"],[\"female\"],[\"male\"],[\"male\"],[\"male\"],[\"male\"],[\"male\"],[\"female\"],[\"female\"],[\"female\"],[\"female\"],[\"male\"],[\"female\"],[\"male\"],[\"female\"],[\"male\"],[\"male\"],[\"male\"],[\"male\"],[\"female\"],[\"male\"],[\"female\"],[\"male\"],[\"female\"],[\"female\"],[\"male\"],[\"female\"],[\"female\"],[\"male\"],[\"male\"],[\"male\"],[\"male\"],[\"male\"],[\"male\"],[\"male\"],[\"female\"],[\"female\"],[\"male\"],[\"female\"],[\"female\"],[\"female\"],[\"male\"],[\"male\"],[\"female\"],[\"female\"],[\"female\"],[\"female\"],[\"male\"],[\"female\"],[\"female\"],[\"female\"],[\"male\"],[\"male\"],[\"male\"],[\"male\"],[\"male\"],[\"female\"],[\"female\"],[\"male\"],[\"female\"],[\"female\"],[\"male\"],[\"male\"],[\"female\"],[\"female\"],[\"female\"],[\"male\"],[\"male\"],[\"female\"],[\"male\"],[\"female\"],[\"female\"],[\"male\"],[\"female\"],[\"male\"],[\"male\"],[\"male\"],[\"female\"],[\"female\"],[\"male\"],[\"male\"],[\"male\"],[\"male\"],[\"male\"],[\"male\"],[\"male\"],[\"female\"],[\"male\"],[\"female\"],[\"female\"],[\"female\"],[\"female\"],[\"female\"],[\"female\"],[\"female\"],[\"male\"],[\"male\"],[\"female\"],[\"male\"],[\"male\"],[\"male\"],[\"male\"],[\"female\"],[\"female\"],[\"female\"],[\"male\"],[\"female\"],[\"female\"],[\"female\"],[\"male\"],[\"male\"],[\"female\"],[\"female\"],[\"male\"],[\"female\"],[\"male\"],[\"female\"],[\"female\"],[\"male\"],[\"male\"],[\"male\"],[\"male\"],[\"female\"],[\"female\"],[\"male\"],[\"male\"],[\"female\"],[\"female\"],[\"female\"],[\"male\"],[\"female\"],[\"female\"],[\"female\"],[\"female\"],[\"female\"],[\"female\"],[\"female\"],[\"male\"],[\"male\"],[\"female\"],[\"male\"],[\"male\"],[\"male\"],[\"female\"],[\"male\"],[\"female\"],[\"male\"],[\"female\"],[\"female\"],[\"female\"],[\"male\"],[\"male\"],[\"male\"],[\"female\"],[\"female\"],[\"female\"],[\"male\"],[\"female\"],[\"female\"],[\"male\"],[\"female\"],[\"female\"],[\"female\"],[\"female\"],[\"male\"],[\"female\"],[\"female\"],[\"female\"],[\"female\"],[\"female\"],[\"female\"],[\"female\"],[\"male\"],[\"female\"],[\"male\"],[\"female\"],[\"male\"],[\"male\"],[\"male\"],[\"male\"],[\"male\"],[\"female\"],[\"male\"],[\"male\"],[\"male\"],[\"female\"],[\"female\"],[\"male\"],[\"male\"],[\"male\"],[\"female\"],[\"male\"],[\"male\"],[\"male\"],[\"female\"],[\"male\"],[\"female\"],[\"female\"],[\"female\"],[\"female\"],[\"female\"],[\"female\"],[\"female\"],[\"male\"],[\"female\"],[\"female\"],[\"male\"],[\"female\"],[\"female\"],[\"male\"],[\"male\"],[\"female\"],[\"male\"],[\"female\"],[\"male\"],[\"female\"],[\"male\"],[\"female\"],[\"male\"],[\"female\"],[\"female\"],[\"male\"],[\"male\"],[\"female\"],[\"male\"],[\"male\"],[\"male\"],[\"female\"],[\"male\"],[\"male\"],[\"male\"],[\"male\"],[\"female\"],[\"female\"],[\"female\"],[\"male\"],[\"female\"],[\"female\"],[\"female\"],[\"male\"],[\"female\"],[\"female\"],[\"female\"],[\"male\"],[\"female\"],[\"female\"],[\"male\"],[\"female\"],[\"female\"],[\"male\"],[\"female\"],[\"male\"],[\"female\"],[\"male\"],[\"female\"],[\"female\"],[\"female\"],[\"male\"],[\"male\"],[\"male\"],[\"female\"],[\"male\"],[\"female\"],[\"female\"],[\"male\"],[\"female\"],[\"female\"],[\"female\"],[\"female\"],[\"male\"],[\"male\"],[\"female\"],[\"male\"],[\"female\"],[\"male\"],[\"male\"],[\"female\"],[\"male\"],[\"male\"],[\"male\"],[\"female\"],[\"male\"],[\"male\"],[\"female\"],[\"male\"],[\"female\"],[\"male\"],[\"male\"],[\"female\"],[\"female\"],[\"male\"],[\"female\"],[\"female\"],[\"female\"],[\"male\"],[\"female\"],[\"female\"],[\"male\"],[\"male\"],[\"male\"],[\"male\"],[\"male\"],[\"male\"],[\"male\"],[\"male\"],[\"female\"],[\"female\"],[\"male\"],[\"male\"],[\"male\"],[\"female\"],[\"female\"],[\"male\"],[\"female\"],[\"female\"],[\"male\"],[\"female\"],[\"female\"],[\"female\"],[\"female\"],[\"male\"],[\"male\"],[\"female\"],[\"female\"],[\"female\"],[\"male\"],[\"male\"],[\"female\"],[\"female\"],[\"male\"],[\"male\"],[\"male\"],[\"female\"],[\"female\"],[\"male\"],[\"male\"],[\"male\"],[\"female\"],[\"female\"],[\"male\"],[\"female\"],[\"male\"],[\"male\"],[\"female\"],[\"female\"],[\"male\"],[\"male\"],[\"male\"],[\"male\"],[\"female\"],[\"female\"],[\"female\"],[\"male\"],[\"male\"],[\"male\"],[\"female\"],[\"male\"],[\"female\"],[\"male\"],[\"male\"],[\"female\"],[\"female\"],[\"female\"],[\"male\"],[\"female\"],[\"female\"],[\"female\"],[\"male\"],[\"male\"],[\"male\"],[\"male\"],[\"male\"],[\"female\"],[\"male\"],[\"female\"],[\"male\"],[\"male\"],[\"male\"],[\"female\"],[\"female\"],[\"male\"],[\"male\"],[\"female\"],[\"male\"],[\"male\"],[\"female\"],[\"male\"],[\"female\"],[\"male\"],[\"male\"],[\"female\"],[\"male\"],[\"male\"],[\"female\"],[\"male\"],[\"female\"],[\"female\"],[\"male\"],[\"male\"],[\"male\"],[\"female\"],[\"female\"],[\"male\"],[\"female\"],[\"male\"],[\"male\"],[\"female\"],[\"female\"],[\"male\"],[\"female\"],[\"female\"],[\"female\"],[\"female\"],[\"female\"],[\"male\"],[\"male\"],[\"male\"],[\"male\"],[\"female\"],[\"female\"],[\"female\"],[\"male\"],[\"male\"],[\"female\"],[\"male\"],[\"female\"],[\"male\"],[\"female\"],[\"male\"],[\"female\"],[\"male\"],[\"male\"],[\"male\"],[\"female\"],[\"female\"],[\"male\"],[\"male\"],[\"female\"],[\"male\"],[\"male\"],[\"male\"],[\"female\"],[\"male\"],[\"male\"],[\"male\"],[\"female\"],[\"female\"],[\"female\"],[\"male\"],[\"male\"],[\"male\"],[\"male\"],[\"male\"],[\"female\"],[\"female\"],[\"female\"],[\"female\"],[\"female\"],[\"male\"],[\"male\"],[\"male\"],[\"female\"],[\"female\"],[\"male\"],[\"male\"],[\"female\"],[\"male\"],[\"female\"],[\"male\"],[\"female\"],[\"male\"],[\"female\"],[\"female\"],[\"female\"],[\"male\"],[\"female\"],[\"female\"],[\"female\"],[\"female\"],[\"female\"],[\"male\"],[\"male\"],[\"male\"],[\"male\"],[\"male\"],[\"male\"],[\"male\"],[\"female\"],[\"female\"],[\"male\"],[\"female\"],[\"male\"],[\"female\"],[\"female\"],[\"female\"],[\"female\"],[\"male\"],[\"male\"],[\"female\"],[\"female\"],[\"male\"],[\"male\"],[\"female\"],[\"female\"],[\"male\"],[\"female\"],[\"male\"],[\"male\"],[\"male\"],[\"female\"],[\"male\"],[\"female\"],[\"female\"],[\"female\"],[\"male\"],[\"male\"],[\"female\"],[\"male\"],[\"female\"],[\"female\"],[\"female\"],[\"male\"],[\"male\"],[\"male\"],[\"male\"],[\"female\"],[\"female\"],[\"male\"],[\"male\"],[\"male\"],[\"female\"],[\"male\"],[\"male\"],[\"female\"],[\"female\"],[\"female\"],[\"female\"],[\"male\"],[\"male\"],[\"male\"],[\"male\"],[\"male\"],[\"male\"],[\"female\"],[\"male\"],[\"male\"],[\"male\"],[\"male\"],[\"female\"],[\"male\"],[\"female\"],[\"female\"],[\"male\"],[\"female\"],[\"female\"],[\"male\"],[\"male\"],[\"male\"],[\"male\"],[\"female\"],[\"female\"],[\"female\"],[\"male\"],[\"male\"],[\"female\"],[\"female\"],[\"male\"],[\"male\"],[\"male\"],[\"female\"],[\"male\"],[\"female\"],[\"female\"],[\"male\"],[\"female\"],[\"male\"],[\"female\"],[\"female\"],[\"male\"],[\"male\"],[\"female\"],[\"male\"],[\"female\"],[\"female\"],[\"female\"],[\"male\"],[\"male\"],[\"female\"],[\"female\"],[\"male\"],[\"male\"],[\"male\"],[\"female\"],[\"male\"],[\"male\"],[\"female\"],[\"female\"],[\"female\"],[\"female\"],[\"female\"],[\"female\"],[\"female\"],[\"female\"],[\"female\"],[\"male\"],[\"male\"],[\"female\"],[\"female\"],[\"female\"],[\"male\"],[\"female\"],[\"male\"],[\"female\"],[\"female\"],[\"male\"],[\"male\"],[\"female\"],[\"female\"],[\"female\"],[\"female\"],[\"female\"],[\"female\"],[\"female\"],[\"male\"],[\"female\"],[\"female\"],[\"female\"],[\"female\"],[\"female\"],[\"female\"],[\"female\"],[\"female\"],[\"male\"],[\"male\"],[\"female\"],[\"male\"],[\"male\"],[\"male\"],[\"male\"],[\"male\"],[\"female\"],[\"male\"],[\"male\"],[\"male\"],[\"male\"],[\"female\"],[\"female\"],[\"male\"],[\"male\"],[\"male\"],[\"female\"],[\"female\"],[\"male\"],[\"male\"],[\"male\"],[\"female\"],[\"male\"],[\"male\"],[\"male\"],[\"male\"],[\"female\"],[\"male\"],[\"female\"],[\"male\"],[\"female\"],[\"female\"],[\"male\"],[\"female\"],[\"female\"],[\"female\"],[\"male\"],[\"male\"],[\"female\"],[\"male\"],[\"female\"],[\"male\"],[\"female\"],[\"female\"],[\"female\"],[\"female\"],[\"female\"],[\"male\"],[\"female\"],[\"female\"],[\"male\"],[\"female\"],[\"female\"],[\"female\"],[\"female\"],[\"female\"],[\"male\"],[\"male\"],[\"female\"],[\"male\"],[\"male\"],[\"male\"],[\"female\"],[\"female\"],[\"female\"],[\"female\"],[\"male\"],[\"female\"],[\"female\"],[\"female\"],[\"male\"],[\"female\"],[\"male\"],[\"male\"],[\"male\"],[\"male\"],[\"male\"],[\"female\"],[\"male\"],[\"female\"],[\"female\"],[\"female\"],[\"male\"],[\"male\"],[\"female\"],[\"male\"],[\"male\"],[\"female\"],[\"male\"],[\"male\"],[\"female\"],[\"male\"],[\"male\"],[\"male\"],[\"male\"],[\"female\"],[\"male\"],[\"female\"],[\"male\"],[\"female\"],[\"female\"],[\"female\"],[\"male\"],[\"female\"],[\"female\"],[\"female\"]],\"hovertemplate\":\"smoker=no<br>bmi=%{x}<br>charges=%{y}<br>sex=%{customdata[0]}<extra></extra>\",\"legendgroup\":\"no\",\"marker\":{\"color\":\"#EF553B\",\"opacity\":1,\"symbol\":\"circle\",\"size\":5},\"mode\":\"markers\",\"name\":\"no\",\"showlegend\":true,\"x\":[33.77,33.0,22.705,28.88,25.74,33.44,27.74,29.83,25.84,26.22,34.4,39.82,24.6,30.78,23.845,40.3,36.005,32.4,34.1,28.025,27.72,23.085,32.775,17.385,26.315,28.6,28.31,20.425,32.965,20.8,26.6,36.63,21.78,30.8,37.05,37.3,38.665,34.77,24.53,35.625,33.63,28.69,31.825,37.335,27.36,33.66,24.7,25.935,28.9,39.1,26.315,36.19,28.5,28.1,32.01,27.4,34.01,29.59,35.53,39.805,32.965,26.885,38.285,41.23,27.2,27.74,26.98,39.49,24.795,34.77,37.62,30.8,38.28,31.6,25.46,30.115,27.5,28.4,30.875,27.94,33.63,29.7,30.8,35.72,32.205,28.595,49.06,27.17,23.37,37.1,23.75,28.975,33.915,28.785,37.4,34.7,26.505,22.04,35.9,25.555,28.785,28.05,34.1,25.175,31.9,36.0,22.42,32.49,29.735,38.83,37.73,37.43,28.4,24.13,29.7,37.145,25.46,39.52,27.83,39.6,29.8,29.64,28.215,37.0,33.155,31.825,18.905,41.47,30.3,15.96,34.8,33.345,27.835,29.2,28.9,33.155,28.595,38.28,19.95,26.41,30.69,29.92,30.9,32.2,32.11,31.57,26.2,25.74,26.6,34.43,30.59,32.8,28.6,18.05,39.33,32.11,32.23,24.035,22.3,28.88,26.4,31.8,41.23,33.0,30.875,28.5,26.73,30.9,37.1,26.6,23.1,29.92,23.21,33.7,33.25,30.8,33.88,38.06,41.91,31.635,25.46,36.195,27.83,17.8,27.5,24.51,26.73,38.39,38.06,22.135,26.8,35.3,30.02,38.06,35.86,20.9,28.975,30.3,25.365,40.15,24.415,25.2,38.06,32.395,30.2,25.84,29.37,37.05,27.455,27.55,26.6,20.615,24.3,31.79,21.56,27.645,32.395,31.2,26.62,48.07,26.22,26.4,33.4,29.64,28.82,26.8,22.99,28.88,27.55,37.51,33.0,38.0,33.345,27.5,33.33,34.865,33.06,26.6,24.7,35.86,33.25,32.205,32.775,27.645,37.335,25.27,29.64,40.945,27.2,34.105,23.21,36.7,31.16,28.785,35.72,34.5,25.74,27.55,27.72,27.6,30.02,27.55,36.765,41.47,29.26,35.75,33.345,29.92,27.835,23.18,25.6,27.7,35.245,38.28,27.6,43.89,29.83,41.91,20.79,32.3,30.5,26.4,21.89,30.78,32.3,24.985,32.015,30.4,21.09,22.23,33.155,33.33,30.115,31.46,33.0,43.34,22.135,34.4,39.05,25.365,22.61,30.21,35.625,37.43,31.445,31.35,32.3,19.855,34.4,31.02,25.6,38.17,20.6,47.52,32.965,32.3,20.4,38.38,24.31,23.6,21.12,30.03,17.48,23.9,35.15,35.64,34.1,39.16,30.59,30.2,24.31,27.265,29.165,16.815,30.4,33.1,20.235,26.9,30.5,28.595,33.11,31.73,28.9,46.75,29.45,32.68,43.01,36.52,33.1,29.64,25.65,29.6,38.6,29.6,24.13,23.4,29.735,46.53,37.4,30.14,30.495,39.6,33.0,36.63,38.095,25.935,25.175,28.7,33.82,24.32,24.09,32.67,30.115,29.8,33.345,35.625,36.85,32.56,41.325,37.51,31.35,39.5,34.3,31.065,21.47,28.7,31.16,32.9,25.08,25.08,43.4,27.93,23.6,28.7,23.98,39.2,26.03,28.93,30.875,31.35,23.75,25.27,28.7,32.11,33.66,22.42,30.4,35.7,35.31,30.495,31.0,30.875,27.36,44.22,33.915,37.73,33.88,30.59,25.8,39.425,25.46,31.73,29.7,36.19,40.48,28.025,38.9,30.2,28.05,31.35,38.0,31.79,36.3,30.21,35.435,46.7,28.595,30.8,28.93,21.4,31.73,41.325,23.8,33.44,34.21,35.53,19.95,32.68,30.5,44.77,32.12,30.495,40.565,30.59,31.9,29.1,37.29,43.12,36.86,34.295,27.17,26.84,30.2,23.465,25.46,30.59,45.43,23.65,20.7,28.27,20.235,35.91,30.69,29.0,19.57,31.13,40.26,33.725,29.48,33.25,32.6,37.525,39.16,31.635,25.3,39.05,34.1,25.175,26.98,29.37,34.8,33.155,19.0,33.0,28.595,37.1,31.4,21.3,28.785,26.03,28.88,42.46,38.0,36.1,29.3,35.53,22.705,39.7,38.19,24.51,38.095,33.66,42.4,33.915,34.96,35.31,30.78,26.22,23.37,28.5,32.965,42.68,39.6,31.13,36.3,35.2,42.4,33.155,35.91,28.785,46.53,23.98,31.54,33.66,28.7,29.81,31.57,31.16,29.7,31.02,21.375,40.81,36.1,23.18,17.4,20.3,24.32,18.5,26.41,26.125,41.69,24.1,27.36,36.2,32.395,23.655,34.8,40.185,32.3,33.725,39.27,34.87,44.745,41.47,26.41,29.545,32.9,28.69,30.495,27.74,35.2,23.54,30.685,40.47,22.6,28.9,22.61,24.32,36.67,33.44,40.66,36.6,37.4,35.4,27.075,28.405,40.28,36.08,21.4,30.1,27.265,32.1,34.77,23.7,24.035,26.62,26.41,30.115,27.0,21.755,36.0,30.875,28.975,37.905,22.77,33.63,27.645,22.8,37.43,34.58,35.2,26.03,25.175,31.825,32.3,29.0,39.7,19.475,36.1,26.7,36.48,34.2,33.33,32.3,39.805,34.32,28.88,41.14,35.97,29.26,27.7,36.955,36.86,22.515,29.92,41.8,27.6,23.18,31.92,44.22,22.895,33.1,26.18,35.97,22.3,26.51,35.815,41.42,36.575,30.14,25.84,30.8,42.94,21.01,22.515,34.43,31.46,24.225,37.1,33.7,17.67,31.13,29.81,24.32,31.825,21.85,33.1,25.84,23.845,34.39,33.82,35.97,31.5,28.31,23.465,31.35,31.1,24.7,30.495,34.2,50.38,24.1,32.775,32.3,23.75,29.6,32.23,28.1,28.0,33.535,19.855,25.4,29.9,37.29,43.7,23.655,24.3,36.2,29.48,24.86,30.1,21.85,28.12,27.1,33.44,28.8,29.5,34.8,27.36,22.135,26.695,30.02,39.5,33.63,29.04,24.035,32.11,44.0,25.555,40.26,22.515,22.515,27.265,36.85,35.1,29.355,32.585,32.34,39.8,28.31,26.695,27.5,24.605,33.99,28.2,34.21,25.0,33.2,31.0,35.815,23.2,32.11,23.4,20.1,39.16,34.21,46.53,32.5,25.8,35.3,37.18,27.5,29.735,24.225,26.18,29.48,23.21,46.09,40.185,22.61,39.93,35.8,35.8,31.255,18.335,28.405,39.49,26.79,36.67,39.615,25.9,35.2,24.795,36.765,27.1,25.365,25.745,34.32,28.16,23.56,20.235,40.5,35.42,40.15,29.15,39.995,29.92,25.46,21.375,30.59,30.115,25.8,30.115,27.645,34.675,19.8,27.835,31.6,28.27,23.275,34.1,36.85,36.29,26.885,25.8,29.6,19.19,31.73,29.26,24.985,27.74,22.8,33.33,32.3,27.6,25.46,24.605,34.2,35.815,32.68,37.0,23.32,45.32,34.6,18.715,31.6,17.29,27.93,38.38,23.0,28.88,27.265,23.085,25.8,35.245,25.08,22.515,36.955,26.41,29.83,21.47,27.645,28.9,31.79,39.49,33.82,32.01,27.94,28.595,25.6,25.3,37.29,42.655,21.66,31.9,31.445,31.255,28.88,18.335,29.59,32.0,26.03,33.66,21.78,27.835,19.95,31.5,30.495,28.975,31.54,47.74,22.1,29.83,32.7,33.7,31.35,33.77,30.875,33.99,28.6,38.94,36.08,29.8,31.24,29.925,26.22,30.0,20.35,32.3,26.315,24.51,32.67,29.64,19.95,38.17,32.395,25.08,29.9,35.86,32.8,18.6,23.87,45.9,40.28,18.335,33.82,28.12,25.0,22.23,30.25,37.07,32.6,24.86,32.34,32.3,32.775,31.92,21.5,34.1,30.305,36.48,35.815,27.93,22.135,23.18,30.59,41.1,34.58,42.13,38.83,28.215,28.31,26.125,40.37,24.6,35.2,34.105,41.91,29.26,32.11,27.1,27.4,34.865,41.325,29.925,30.3,27.36,23.56,32.68,28.0,32.775,21.755,32.395,36.575,21.755,27.93,33.55,29.355,25.8,24.32,40.375,32.11,32.3,17.86,34.8,37.1,30.875,34.1,21.47,33.3,31.255,39.14,25.08,37.29,30.21,21.945,24.97,25.3,23.94,39.82,16.815,37.18,34.43,30.305,24.605,23.3,27.83,31.065,21.66,28.215,22.705,42.13,21.28,33.11,33.33,24.3,25.7,29.4,39.82,19.8,29.3,27.72,37.9,36.385,27.645,37.715,23.18,20.52,37.1,28.05,29.9,33.345,30.5,33.3,27.5,33.915,34.485,25.52,27.61,23.7,30.4,29.735,26.79,33.33,30.03,24.32,17.29,25.9,34.32,19.95,23.21,25.745,25.175,22.0,26.125,26.51,27.455,25.745,20.8,27.72,32.2,26.315,26.695,42.9,28.31,20.6,53.13,39.71,26.315,31.065,38.83,25.935,33.535,32.87,30.03,24.225,38.6,25.74,33.4,44.7,30.97,31.92,36.85,25.8],\"xaxis\":\"x\",\"y\":[1725.5523,4449.462,21984.47061,3866.8552,3756.6216,8240.5896,7281.5056,6406.4107,28923.13692,2721.3208,1826.843,11090.7178,1837.237,10797.3362,2395.17155,10602.385,13228.84695,4149.736,1137.011,6203.90175,14001.1338,14451.83515,12268.63225,2775.19215,2198.18985,4687.797,13770.0979,1625.43375,15612.19335,2302.3,3046.062,4949.7587,6272.4772,6313.759,6079.6715,20630.28351,3393.35635,3556.9223,12629.8967,2211.13075,3579.8287,8059.6791,13607.36875,5989.52365,8606.2174,4504.6624,30166.61817,4133.64165,1743.214,14235.072,6389.37785,5920.1041,6799.458,11741.726,11946.6259,7726.854,11356.6609,3947.4131,1532.4697,2755.02095,6571.02435,4441.21315,7935.29115,11033.6617,11073.176,8026.6666,11082.5772,2026.9741,10942.13205,5729.0053,3766.8838,12105.32,10226.2842,6186.127,3645.0894,21344.8467,5003.853,2331.519,3877.30425,2867.1196,10825.2537,11881.358,4646.759,2404.7338,11488.31695,30259.99556,11381.3254,8601.3293,6686.4313,7740.337,1705.6245,2257.47525,10115.00885,3385.39915,9634.538,6082.405,12815.44495,13616.3586,11163.568,1632.56445,2457.21115,2155.6815,1261.442,2045.68525,27322.73386,2166.732,27375.90478,3490.5491,18157.876,5138.2567,9877.6077,10959.6947,1842.519,5125.2157,7789.635,6334.34355,7077.1894,6948.7008,19749.38338,10450.552,5152.134,5028.1466,10407.08585,4830.63,6128.79745,2719.27975,4827.90495,13405.3903,8116.68,1694.7964,5246.047,2855.43755,6455.86265,10436.096,8823.279,8538.28845,11735.87905,1631.8212,4005.4225,7419.4779,7731.4271,3981.9768,5325.651,6775.961,4922.9159,12557.6053,4883.866,2137.6536,12044.342,1137.4697,1639.5631,5649.715,8516.829,9644.2525,14901.5167,2130.6759,8871.1517,13012.20865,7147.105,4337.7352,11743.299,13880.949,6610.1097,1980.07,8162.71625,3537.703,5002.7827,8520.026,7371.772,10355.641,2483.736,3392.9768,25081.76784,5012.471,10564.8845,5253.524,11987.1682,2689.4954,24227.33724,7358.17565,9225.2564,7443.64305,14001.2867,1727.785,12333.828,6710.1919,1615.7667,4463.2051,7152.6714,5354.07465,35160.13457,7196.867,24476.47851,12648.7034,1986.9334,1832.094,4040.55825,4260.744,13047.33235,5400.9805,11520.09985,11837.16,20462.99766,14590.63205,7441.053,9282.4806,1719.4363,7265.7025,9617.66245,2523.1695,9715.841,2803.69785,2150.469,12928.7911,9855.1314,4237.12655,11879.10405,9625.92,7742.1098,9432.9253,14256.1928,25992.82104,3172.018,20277.80751,2156.7518,3906.127,1704.5681,9249.4952,6746.7425,12265.5069,4349.462,12646.207,19442.3535,20177.67113,4151.0287,11944.59435,7749.1564,8444.474,1737.376,8124.4084,9722.7695,8835.26495,10435.06525,7421.19455,4667.60765,4894.7533,24671.66334,11566.30055,2866.091,6600.20595,3561.8889,9144.565,13429.0354,11658.37915,19144.57652,13822.803,12142.5786,13937.6665,8232.6388,18955.22017,13352.0998,13217.0945,13981.85035,10977.2063,6184.2994,4889.9995,8334.45755,5478.0368,1635.73365,11830.6072,8932.084,3554.203,12404.8791,14133.03775,24603.04837,8944.1151,9620.3307,1837.2819,1607.5101,10043.249,4751.07,2597.779,3180.5101,9778.3472,13430.265,8017.06115,8116.26885,3481.868,13415.0381,12029.2867,7639.41745,1391.5287,16455.70785,27000.98473,20781.48892,5846.9176,8302.53565,1261.859,11856.4115,30284.64294,3176.8159,4618.0799,10736.87075,2138.0707,8964.06055,9290.1395,9411.005,7526.70645,8522.003,16586.49771,14988.432,1631.6683,9264.797,8083.9198,14692.66935,10269.46,3260.199,11396.9002,4185.0979,8539.671,6652.5288,4074.4537,1621.3402,5080.096,2134.9015,7345.7266,9140.951,14418.2804,2727.3951,8968.33,9788.8659,6555.07035,7323.734819,3167.45585,18804.7524,23082.95533,4906.40965,5969.723,12638.195,4243.59005,13919.8229,2254.7967,5926.846,12592.5345,2897.3235,4738.2682,1149.3959,28287.89766,7345.084,12730.9996,11454.0215,5910.944,4762.329,7512.267,4032.2407,1969.614,1769.53165,4686.3887,21797.0004,11881.9696,11840.77505,10601.412,7682.67,10381.4787,15230.32405,11165.41765,1632.03625,13224.693,12643.3778,23288.9284,2201.0971,2497.0383,2203.47185,1744.465,20878.78443,2534.39375,1534.3045,1824.2854,15555.18875,9304.7019,1622.1885,9880.068,9563.029,4347.02335,12475.3513,1253.936,10461.9794,1748.774,24513.09126,2196.4732,12574.049,1967.0227,4931.647,8027.968,8211.1002,13470.86,6837.3687,5974.3847,6796.86325,2643.2685,3077.0955,3044.2133,11455.28,11763.0009,2498.4144,9361.3268,1256.299,11362.755,27724.28875,8413.46305,5240.765,3857.75925,25656.57526,3994.1778,9866.30485,5397.6167,11482.63485,24059.68019,9861.025,8342.90875,1708.0014,14043.4767,12925.886,19214.70553,13831.1152,6067.12675,5972.378,8825.086,8233.0975,27346.04207,6196.448,3056.3881,13887.204,10231.4999,3268.84665,11538.421,3213.62205,13390.559,3972.9247,12957.118,11187.6567,17878.90068,3847.674,8334.5896,3935.1799,1646.4297,9193.8385,10923.9332,2494.022,9058.7303,2801.2588,2128.43105,6373.55735,7256.7231,11552.904,3761.292,2219.4451,4753.6368,31620.00106,13224.05705,12222.8983,1664.9996,9724.53,3206.49135,12913.9924,1639.5631,6356.2707,17626.23951,1242.816,4779.6023,3861.20965,13635.6379,5976.8311,11842.442,8428.0693,2566.4707,5709.1644,8823.98575,7640.3092,5594.8455,7441.501,33471.97189,1633.0444,9174.13565,11070.535,16085.1275,9283.562,3558.62025,4435.0942,8547.6913,6571.544,2207.69745,6753.038,1880.07,11658.11505,10713.644,3659.346,9182.17,12129.61415,3736.4647,6748.5912,11326.71487,11365.952,10085.846,1977.815,3366.6697,7173.35995,9391.346,14410.9321,2709.1119,24915.04626,12949.1554,6666.243,13143.86485,4466.6214,18806.14547,10141.1362,6123.5688,8252.2843,1712.227,12430.95335,9800.8882,10579.711,8280.6227,8527.532,12244.531,3410.324,4058.71245,26392.26029,14394.39815,6435.6237,22192.43711,5148.5526,1136.3994,8703.456,6500.2359,4837.5823,3943.5954,4399.731,6185.3208,7222.78625,12485.8009,12363.547,10156.7832,2585.269,1242.26,9863.4718,4766.022,11244.3769,7729.64575,5438.7491,26236.57997,2104.1134,8068.185,2362.22905,2352.96845,3577.999,3201.24515,29186.48236,10976.24575,3500.6123,2020.5523,9541.69555,9504.3103,5385.3379,8930.93455,5375.038,10264.4421,6113.23105,5469.0066,1727.54,10107.2206,8310.83915,1984.4533,2457.502,12146.971,9566.9909,13112.6048,10848.1343,12231.6136,9875.6804,11264.541,12979.358,1263.249,10106.13425,6664.68595,2217.6012,6781.3542,10065.413,4234.927,9447.25035,14007.222,9583.8933,3484.331,8604.48365,3757.8448,8827.2099,9910.35985,11737.84884,1627.28245,8556.907,3062.50825,1906.35825,14210.53595,11833.7823,17128.42608,5031.26955,7985.815,5428.7277,3925.7582,2416.955,3070.8087,9095.06825,11842.62375,8062.764,7050.642,14319.031,6933.24225,27941.28758,11150.78,12797.20962,7261.741,10560.4917,6986.697,7448.40395,5934.3798,9869.8102,1146.7966,9386.1613,4350.5144,6414.178,12741.16745,1917.3184,5209.57885,13457.9608,5662.225,1252.407,2731.9122,7209.4918,4266.1658,4719.52405,11848.141,7046.7222,14313.8463,2103.08,1815.8759,7731.85785,28476.73499,2136.88225,1131.5066,3309.7926,9414.92,6360.9936,11013.7119,4428.88785,5584.3057,1877.9294,2842.76075,3597.596,7445.918,2680.9493,1621.8827,8219.2039,12523.6048,16069.08475,6117.4945,13393.756,5266.3656,4719.73655,11743.9341,5377.4578,7160.3303,4402.233,11657.7189,6402.29135,12622.1795,1526.312,12323.936,10072.05505,9872.701,2438.0552,2974.126,10601.63225,14119.62,11729.6795,1875.344,18218.16139,10965.446,7151.092,12269.68865,5458.04645,8782.469,6600.361,1141.4451,11576.13,13129.60345,4391.652,8457.818,3392.3652,5966.8874,6849.026,8891.1395,2690.1138,26140.3603,6653.7886,6282.235,6311.952,3443.064,2789.0574,2585.85065,4877.98105,5272.1758,1682.597,11945.1327,7243.8136,10422.91665,13555.0049,13063.883,2221.56445,1634.5734,2117.33885,8688.85885,4661.28635,8125.7845,12644.589,4564.19145,4846.92015,7633.7206,15170.069,2639.0429,14382.70905,7626.993,5257.50795,2473.3341,13041.921,5245.2269,13451.122,13462.52,5488.262,4320.41085,6250.435,25333.33284,2913.569,12032.326,13470.8044,6289.7549,2927.0647,6238.298,10096.97,7348.142,4673.3922,12233.828,32108.66282,8965.79575,2304.0022,9487.6442,1121.8739,9549.5651,2217.46915,1628.4709,12982.8747,11674.13,7160.094,6358.77645,11534.87265,4527.18295,3875.7341,12609.88702,28468.91901,2730.10785,3353.284,14474.675,9500.57305,26467.09737,4746.344,7518.02535,3279.86855,8596.8278,10702.6424,4992.3764,2527.81865,1759.338,2322.6218,7804.1605,2902.9065,9704.66805,4889.0368,25517.11363,4500.33925,16796.41194,4915.05985,7624.63,8410.04685,28340.18885,4518.82625,3378.91,7144.86265,10118.424,5484.4673,7986.47525,7418.522,13887.9685,6551.7501,5267.81815,1972.95,21232.18226,8627.5411,4433.3877,4438.2634,23241.47453,9957.7216,8269.044,36580.28216,8765.249,5383.536,12124.9924,2709.24395,3987.926,12495.29085,26018.95052,8798.593,1711.0268,8569.8618,2020.177,21595.38229,9850.432,6877.9801,4137.5227,12950.0712,12094.478,2250.8352,22493.65964,1704.70015,3161.454,11394.06555,7325.0482,3594.17085,8023.13545,14394.5579,9288.0267,3353.4703,10594.50155,8277.523,17929.30337,2480.9791,4462.7218,1981.5819,11554.2236,6548.19505,5708.867,7045.499,8978.1851,5757.41345,14349.8544,10928.849,13974.45555,1909.52745,12096.6512,13204.28565,4562.8421,8551.347,2102.2647,15161.5344,11884.04858,4454.40265,5855.9025,4076.497,15019.76005,10796.35025,11353.2276,9748.9106,10577.087,11286.5387,3591.48,11299.343,4561.1885,1674.6323,23045.56616,3227.1211,11253.421,3471.4096,11363.2832,20420.60465,10338.9316,8988.15875,10493.9458,2904.088,8605.3615,11512.405,5312.16985,2396.0959,10807.4863,9222.4026,5693.4305,8347.1643,18903.49141,14254.6082,10214.636,5836.5204,14358.36437,1728.897,8582.3023,3693.428,20709.02034,9991.03765,19673.33573,11085.5868,7623.518,3176.2877,3704.3545,9048.0273,7954.517,27117.99378,6338.0756,9630.397,11289.10925,2261.5688,10791.96,5979.731,2203.73595,12235.8392,5630.45785,11015.1747,7228.21565,14426.07385,2459.7201,3989.841,7727.2532,5124.1887,18963.17192,2200.83085,7153.5539,5227.98875,10982.5013,4529.477,4670.64,6112.35295,11093.6229,6457.8434,4433.9159,2154.361,6496.886,2899.48935,7650.77375,2850.68375,2632.992,9447.3824,8603.8234,13844.7972,13126.67745,5327.40025,13725.47184,13019.16105,8671.19125,4134.08245,18838.70366,5699.8375,6393.60345,4934.705,6198.7518,8733.22925,2055.3249,9964.06,5116.5004,36910.60803,12347.172,5373.36425,23563.01618,1702.4553,10806.839,3956.07145,12890.05765,5415.6612,4058.1161,7537.1639,4718.20355,6593.5083,8442.667,6858.4796,4795.6568,6640.54485,7162.0122,10594.2257,11938.25595,12479.70895,11345.519,8515.7587,2699.56835,14449.8544,12224.35085,6985.50695,3238.4357,4296.2712,3171.6149,1135.9407,5615.369,9101.798,6059.173,1633.9618,1241.565,15828.82173,4415.1588,6474.013,11436.73815,11305.93455,30063.58055,10197.7722,4544.2348,3277.161,6770.1925,7337.748,10370.91255,10704.47,1880.487,8615.3,3292.52985,3021.80915,14478.33015,4747.0529,10959.33,2741.948,4357.04365,4189.1131,8283.6807,1720.3537,8534.6718,3732.6251,5472.449,7147.4728,7133.9025,1515.3449,9301.89355,11931.12525,1964.78,1708.92575,4340.4409,5261.46945,2710.82855,3208.787,2464.6188,6875.961,6940.90985,4571.41305,4536.259,11272.33139,1731.677,1163.4627,19496.71917,7201.70085,5425.02335,12981.3457,4239.89265,13143.33665,7050.0213,9377.9047,22395.74424,10325.206,12629.1656,10795.93733,11411.685,10600.5483,2205.9808,1629.8335,2007.945],\"yaxis\":\"y\",\"type\":\"scattergl\"}],                        {\"template\":{\"data\":{\"bar\":[{\"error_x\":{\"color\":\"#2a3f5f\"},\"error_y\":{\"color\":\"#2a3f5f\"},\"marker\":{\"line\":{\"color\":\"#E5ECF6\",\"width\":0.5},\"pattern\":{\"fillmode\":\"overlay\",\"size\":10,\"solidity\":0.2}},\"type\":\"bar\"}],\"barpolar\":[{\"marker\":{\"line\":{\"color\":\"#E5ECF6\",\"width\":0.5},\"pattern\":{\"fillmode\":\"overlay\",\"size\":10,\"solidity\":0.2}},\"type\":\"barpolar\"}],\"carpet\":[{\"aaxis\":{\"endlinecolor\":\"#2a3f5f\",\"gridcolor\":\"white\",\"linecolor\":\"white\",\"minorgridcolor\":\"white\",\"startlinecolor\":\"#2a3f5f\"},\"baxis\":{\"endlinecolor\":\"#2a3f5f\",\"gridcolor\":\"white\",\"linecolor\":\"white\",\"minorgridcolor\":\"white\",\"startlinecolor\":\"#2a3f5f\"},\"type\":\"carpet\"}],\"choropleth\":[{\"colorbar\":{\"outlinewidth\":0,\"ticks\":\"\"},\"type\":\"choropleth\"}],\"contour\":[{\"colorbar\":{\"outlinewidth\":0,\"ticks\":\"\"},\"colorscale\":[[0.0,\"#0d0887\"],[0.1111111111111111,\"#46039f\"],[0.2222222222222222,\"#7201a8\"],[0.3333333333333333,\"#9c179e\"],[0.4444444444444444,\"#bd3786\"],[0.5555555555555556,\"#d8576b\"],[0.6666666666666666,\"#ed7953\"],[0.7777777777777778,\"#fb9f3a\"],[0.8888888888888888,\"#fdca26\"],[1.0,\"#f0f921\"]],\"type\":\"contour\"}],\"contourcarpet\":[{\"colorbar\":{\"outlinewidth\":0,\"ticks\":\"\"},\"type\":\"contourcarpet\"}],\"heatmap\":[{\"colorbar\":{\"outlinewidth\":0,\"ticks\":\"\"},\"colorscale\":[[0.0,\"#0d0887\"],[0.1111111111111111,\"#46039f\"],[0.2222222222222222,\"#7201a8\"],[0.3333333333333333,\"#9c179e\"],[0.4444444444444444,\"#bd3786\"],[0.5555555555555556,\"#d8576b\"],[0.6666666666666666,\"#ed7953\"],[0.7777777777777778,\"#fb9f3a\"],[0.8888888888888888,\"#fdca26\"],[1.0,\"#f0f921\"]],\"type\":\"heatmap\"}],\"heatmapgl\":[{\"colorbar\":{\"outlinewidth\":0,\"ticks\":\"\"},\"colorscale\":[[0.0,\"#0d0887\"],[0.1111111111111111,\"#46039f\"],[0.2222222222222222,\"#7201a8\"],[0.3333333333333333,\"#9c179e\"],[0.4444444444444444,\"#bd3786\"],[0.5555555555555556,\"#d8576b\"],[0.6666666666666666,\"#ed7953\"],[0.7777777777777778,\"#fb9f3a\"],[0.8888888888888888,\"#fdca26\"],[1.0,\"#f0f921\"]],\"type\":\"heatmapgl\"}],\"histogram\":[{\"marker\":{\"pattern\":{\"fillmode\":\"overlay\",\"size\":10,\"solidity\":0.2}},\"type\":\"histogram\"}],\"histogram2d\":[{\"colorbar\":{\"outlinewidth\":0,\"ticks\":\"\"},\"colorscale\":[[0.0,\"#0d0887\"],[0.1111111111111111,\"#46039f\"],[0.2222222222222222,\"#7201a8\"],[0.3333333333333333,\"#9c179e\"],[0.4444444444444444,\"#bd3786\"],[0.5555555555555556,\"#d8576b\"],[0.6666666666666666,\"#ed7953\"],[0.7777777777777778,\"#fb9f3a\"],[0.8888888888888888,\"#fdca26\"],[1.0,\"#f0f921\"]],\"type\":\"histogram2d\"}],\"histogram2dcontour\":[{\"colorbar\":{\"outlinewidth\":0,\"ticks\":\"\"},\"colorscale\":[[0.0,\"#0d0887\"],[0.1111111111111111,\"#46039f\"],[0.2222222222222222,\"#7201a8\"],[0.3333333333333333,\"#9c179e\"],[0.4444444444444444,\"#bd3786\"],[0.5555555555555556,\"#d8576b\"],[0.6666666666666666,\"#ed7953\"],[0.7777777777777778,\"#fb9f3a\"],[0.8888888888888888,\"#fdca26\"],[1.0,\"#f0f921\"]],\"type\":\"histogram2dcontour\"}],\"mesh3d\":[{\"colorbar\":{\"outlinewidth\":0,\"ticks\":\"\"},\"type\":\"mesh3d\"}],\"parcoords\":[{\"line\":{\"colorbar\":{\"outlinewidth\":0,\"ticks\":\"\"}},\"type\":\"parcoords\"}],\"pie\":[{\"automargin\":true,\"type\":\"pie\"}],\"scatter\":[{\"marker\":{\"colorbar\":{\"outlinewidth\":0,\"ticks\":\"\"}},\"type\":\"scatter\"}],\"scatter3d\":[{\"line\":{\"colorbar\":{\"outlinewidth\":0,\"ticks\":\"\"}},\"marker\":{\"colorbar\":{\"outlinewidth\":0,\"ticks\":\"\"}},\"type\":\"scatter3d\"}],\"scattercarpet\":[{\"marker\":{\"colorbar\":{\"outlinewidth\":0,\"ticks\":\"\"}},\"type\":\"scattercarpet\"}],\"scattergeo\":[{\"marker\":{\"colorbar\":{\"outlinewidth\":0,\"ticks\":\"\"}},\"type\":\"scattergeo\"}],\"scattergl\":[{\"marker\":{\"colorbar\":{\"outlinewidth\":0,\"ticks\":\"\"}},\"type\":\"scattergl\"}],\"scattermapbox\":[{\"marker\":{\"colorbar\":{\"outlinewidth\":0,\"ticks\":\"\"}},\"type\":\"scattermapbox\"}],\"scatterpolar\":[{\"marker\":{\"colorbar\":{\"outlinewidth\":0,\"ticks\":\"\"}},\"type\":\"scatterpolar\"}],\"scatterpolargl\":[{\"marker\":{\"colorbar\":{\"outlinewidth\":0,\"ticks\":\"\"}},\"type\":\"scatterpolargl\"}],\"scatterternary\":[{\"marker\":{\"colorbar\":{\"outlinewidth\":0,\"ticks\":\"\"}},\"type\":\"scatterternary\"}],\"surface\":[{\"colorbar\":{\"outlinewidth\":0,\"ticks\":\"\"},\"colorscale\":[[0.0,\"#0d0887\"],[0.1111111111111111,\"#46039f\"],[0.2222222222222222,\"#7201a8\"],[0.3333333333333333,\"#9c179e\"],[0.4444444444444444,\"#bd3786\"],[0.5555555555555556,\"#d8576b\"],[0.6666666666666666,\"#ed7953\"],[0.7777777777777778,\"#fb9f3a\"],[0.8888888888888888,\"#fdca26\"],[1.0,\"#f0f921\"]],\"type\":\"surface\"}],\"table\":[{\"cells\":{\"fill\":{\"color\":\"#EBF0F8\"},\"line\":{\"color\":\"white\"}},\"header\":{\"fill\":{\"color\":\"#C8D4E3\"},\"line\":{\"color\":\"white\"}},\"type\":\"table\"}]},\"layout\":{\"annotationdefaults\":{\"arrowcolor\":\"#2a3f5f\",\"arrowhead\":0,\"arrowwidth\":1},\"autotypenumbers\":\"strict\",\"coloraxis\":{\"colorbar\":{\"outlinewidth\":0,\"ticks\":\"\"}},\"colorscale\":{\"diverging\":[[0,\"#8e0152\"],[0.1,\"#c51b7d\"],[0.2,\"#de77ae\"],[0.3,\"#f1b6da\"],[0.4,\"#fde0ef\"],[0.5,\"#f7f7f7\"],[0.6,\"#e6f5d0\"],[0.7,\"#b8e186\"],[0.8,\"#7fbc41\"],[0.9,\"#4d9221\"],[1,\"#276419\"]],\"sequential\":[[0.0,\"#0d0887\"],[0.1111111111111111,\"#46039f\"],[0.2222222222222222,\"#7201a8\"],[0.3333333333333333,\"#9c179e\"],[0.4444444444444444,\"#bd3786\"],[0.5555555555555556,\"#d8576b\"],[0.6666666666666666,\"#ed7953\"],[0.7777777777777778,\"#fb9f3a\"],[0.8888888888888888,\"#fdca26\"],[1.0,\"#f0f921\"]],\"sequentialminus\":[[0.0,\"#0d0887\"],[0.1111111111111111,\"#46039f\"],[0.2222222222222222,\"#7201a8\"],[0.3333333333333333,\"#9c179e\"],[0.4444444444444444,\"#bd3786\"],[0.5555555555555556,\"#d8576b\"],[0.6666666666666666,\"#ed7953\"],[0.7777777777777778,\"#fb9f3a\"],[0.8888888888888888,\"#fdca26\"],[1.0,\"#f0f921\"]]},\"colorway\":[\"#636efa\",\"#EF553B\",\"#00cc96\",\"#ab63fa\",\"#FFA15A\",\"#19d3f3\",\"#FF6692\",\"#B6E880\",\"#FF97FF\",\"#FECB52\"],\"font\":{\"color\":\"#2a3f5f\"},\"geo\":{\"bgcolor\":\"white\",\"lakecolor\":\"white\",\"landcolor\":\"#E5ECF6\",\"showlakes\":true,\"showland\":true,\"subunitcolor\":\"white\"},\"hoverlabel\":{\"align\":\"left\"},\"hovermode\":\"closest\",\"mapbox\":{\"style\":\"light\"},\"paper_bgcolor\":\"white\",\"plot_bgcolor\":\"#E5ECF6\",\"polar\":{\"angularaxis\":{\"gridcolor\":\"white\",\"linecolor\":\"white\",\"ticks\":\"\"},\"bgcolor\":\"#E5ECF6\",\"radialaxis\":{\"gridcolor\":\"white\",\"linecolor\":\"white\",\"ticks\":\"\"}},\"scene\":{\"xaxis\":{\"backgroundcolor\":\"#E5ECF6\",\"gridcolor\":\"white\",\"gridwidth\":2,\"linecolor\":\"white\",\"showbackground\":true,\"ticks\":\"\",\"zerolinecolor\":\"white\"},\"yaxis\":{\"backgroundcolor\":\"#E5ECF6\",\"gridcolor\":\"white\",\"gridwidth\":2,\"linecolor\":\"white\",\"showbackground\":true,\"ticks\":\"\",\"zerolinecolor\":\"white\"},\"zaxis\":{\"backgroundcolor\":\"#E5ECF6\",\"gridcolor\":\"white\",\"gridwidth\":2,\"linecolor\":\"white\",\"showbackground\":true,\"ticks\":\"\",\"zerolinecolor\":\"white\"}},\"shapedefaults\":{\"line\":{\"color\":\"#2a3f5f\"}},\"ternary\":{\"aaxis\":{\"gridcolor\":\"white\",\"linecolor\":\"white\",\"ticks\":\"\"},\"baxis\":{\"gridcolor\":\"white\",\"linecolor\":\"white\",\"ticks\":\"\"},\"bgcolor\":\"#E5ECF6\",\"caxis\":{\"gridcolor\":\"white\",\"linecolor\":\"white\",\"ticks\":\"\"}},\"title\":{\"x\":0.05},\"xaxis\":{\"automargin\":true,\"gridcolor\":\"white\",\"linecolor\":\"white\",\"ticks\":\"\",\"title\":{\"standoff\":15},\"zerolinecolor\":\"white\",\"zerolinewidth\":2},\"yaxis\":{\"automargin\":true,\"gridcolor\":\"white\",\"linecolor\":\"white\",\"ticks\":\"\",\"title\":{\"standoff\":15},\"zerolinecolor\":\"white\",\"zerolinewidth\":2}}},\"xaxis\":{\"anchor\":\"y\",\"domain\":[0.0,1.0],\"title\":{\"text\":\"bmi\"}},\"yaxis\":{\"anchor\":\"x\",\"domain\":[0.0,1.0],\"title\":{\"text\":\"charges\"}},\"legend\":{\"title\":{\"text\":\"smoker\"},\"tracegroupgap\":0},\"title\":{\"text\":\"BMI vs Charges\"}},                        {\"responsive\": true}                    ).then(function(){\n",
              "                            \n",
              "var gd = document.getElementById('a9a0fc19-a983-419c-8eca-e7652fb82274');\n",
              "var x = new MutationObserver(function (mutations, observer) {{\n",
              "        var display = window.getComputedStyle(gd).display;\n",
              "        if (!display || display === 'none') {{\n",
              "            console.log([gd, 'removed!']);\n",
              "            Plotly.purge(gd);\n",
              "            observer.disconnect();\n",
              "        }}\n",
              "}});\n",
              "\n",
              "// Listen for the removal of the full notebook cells\n",
              "var notebookContainer = gd.closest('#notebook-container');\n",
              "if (notebookContainer) {{\n",
              "    x.observe(notebookContainer, {childList: true});\n",
              "}}\n",
              "\n",
              "// Listen for the clearing of the current output cell\n",
              "var outputEl = gd.closest('.output');\n",
              "if (outputEl) {{\n",
              "    x.observe(outputEl, {childList: true});\n",
              "}}\n",
              "\n",
              "                        })                };                            </script>        </div>\n",
              "</body>\n",
              "</html>"
            ]
          },
          "metadata": {}
        }
      ]
    },
    {
      "cell_type": "code",
      "source": [
        "fig = px.violin(medical_df, \n",
        "                y=\"age\", \n",
        "                color=\"sex\",\n",
        "                violinmode='overlay', # draw violins on top of each other\n",
        "                # default violinmode is 'group' as in example above\n",
        "                hover_data=medical_df.columns)\n",
        "fig.show()"
      ],
      "metadata": {
        "colab": {
          "base_uri": "https://localhost:8080/",
          "height": 542
        },
        "id": "4h7ypxnGU8Zg",
        "outputId": "227b6539-ad09-4fca-d2e3-54f0775313cd"
      },
      "execution_count": 352,
      "outputs": [
        {
          "output_type": "display_data",
          "data": {
            "text/html": [
              "<html>\n",
              "<head><meta charset=\"utf-8\" /></head>\n",
              "<body>\n",
              "    <div>            <script src=\"https://cdnjs.cloudflare.com/ajax/libs/mathjax/2.7.5/MathJax.js?config=TeX-AMS-MML_SVG\"></script><script type=\"text/javascript\">if (window.MathJax) {MathJax.Hub.Config({SVG: {font: \"STIX-Web\"}});}</script>                <script type=\"text/javascript\">window.PlotlyConfig = {MathJaxConfig: 'local'};</script>\n",
              "        <script src=\"https://cdn.plot.ly/plotly-2.8.3.min.js\"></script>                <div id=\"7c03d15c-df73-4067-9b27-72b1ef9ab70c\" class=\"plotly-graph-div\" style=\"height:525px; width:100%;\"></div>            <script type=\"text/javascript\">                                    window.PLOTLYENV=window.PLOTLYENV || {};                                    if (document.getElementById(\"7c03d15c-df73-4067-9b27-72b1ef9ab70c\")) {                    Plotly.newPlot(                        \"7c03d15c-df73-4067-9b27-72b1ef9ab70c\",                        [{\"alignmentgroup\":\"True\",\"box\":{\"visible\":false},\"customdata\":[[\"female\",27.9,0,\"yes\",\"southwest\",16884.924],[\"female\",25.74,0,\"no\",\"southeast\",3756.6216],[\"female\",33.44,1,\"no\",\"southeast\",8240.5896],[\"female\",27.74,3,\"no\",\"northwest\",7281.5056],[\"female\",25.84,0,\"no\",\"northwest\",28923.13692],[\"female\",26.29,0,\"yes\",\"southeast\",27808.7251],[\"female\",39.82,0,\"no\",\"southeast\",11090.7178],[\"female\",30.78,1,\"no\",\"northeast\",10797.3362],[\"female\",36.005,0,\"no\",\"northeast\",13228.84695],[\"female\",32.4,1,\"no\",\"southwest\",4149.736],[\"female\",31.92,1,\"yes\",\"northeast\",37701.8768],[\"female\",27.72,3,\"no\",\"southeast\",14001.1338],[\"female\",23.085,0,\"no\",\"northeast\",14451.83515],[\"female\",32.775,2,\"no\",\"northwest\",12268.63225],[\"female\",26.315,0,\"no\",\"northeast\",2198.18985],[\"female\",28.6,5,\"no\",\"southwest\",4687.797],[\"female\",32.965,3,\"no\",\"northwest\",15612.19335],[\"female\",26.6,0,\"no\",\"northeast\",3046.062],[\"female\",36.63,2,\"no\",\"southeast\",4949.7587],[\"female\",30.8,2,\"no\",\"southeast\",6313.759],[\"female\",38.665,2,\"no\",\"northeast\",3393.35635],[\"female\",34.77,0,\"no\",\"northwest\",3556.9223],[\"female\",24.53,0,\"no\",\"southeast\",12629.8967],[\"female\",35.625,0,\"no\",\"northeast\",2211.13075],[\"female\",33.63,2,\"no\",\"northwest\",3579.8287],[\"female\",28.69,3,\"no\",\"northwest\",8059.6791],[\"female\",31.825,2,\"no\",\"northeast\",13607.36875],[\"female\",22.88,1,\"yes\",\"southeast\",23244.7902],[\"female\",37.335,2,\"no\",\"northwest\",5989.52365],[\"female\",25.935,1,\"no\",\"northwest\",4133.64165],[\"female\",22.42,0,\"yes\",\"northwest\",14711.7438],[\"female\",28.9,0,\"no\",\"southwest\",1743.214],[\"female\",39.1,2,\"no\",\"southwest\",14235.072],[\"female\",36.19,0,\"no\",\"southeast\",5920.1041],[\"female\",24.75,0,\"yes\",\"southeast\",16577.7795],[\"female\",28.1,3,\"no\",\"southwest\",11741.726],[\"female\",29.59,1,\"no\",\"southeast\",3947.4131],[\"female\",39.805,0,\"no\",\"northeast\",2755.02095],[\"female\",32.965,0,\"no\",\"northwest\",6571.02435],[\"female\",38.285,0,\"no\",\"northeast\",7935.29115],[\"female\",41.23,4,\"no\",\"northwest\",11033.6617],[\"female\",34.8,2,\"yes\",\"southwest\",39836.519],[\"female\",31.16,0,\"yes\",\"northwest\",43578.9394],[\"female\",27.2,0,\"no\",\"southwest\",11073.176],[\"female\",27.74,0,\"no\",\"northwest\",8026.6666],[\"female\",26.98,0,\"no\",\"northwest\",11082.5772],[\"female\",39.49,0,\"no\",\"southeast\",2026.9741],[\"female\",24.795,1,\"no\",\"northwest\",10942.13205],[\"female\",31.3,2,\"yes\",\"southwest\",47291.055],[\"female\",37.62,1,\"no\",\"southeast\",3766.8838],[\"female\",30.8,3,\"no\",\"southwest\",12105.32],[\"female\",31.6,0,\"no\",\"southwest\",6186.127],[\"female\",30.115,0,\"no\",\"northeast\",21344.8467],[\"female\",29.92,3,\"yes\",\"southeast\",30942.1918],[\"female\",27.5,1,\"no\",\"southwest\",5003.853],[\"female\",28.4,1,\"no\",\"southwest\",2331.519],[\"female\",29.7,2,\"no\",\"southwest\",11881.358],[\"female\",35.72,0,\"no\",\"northwest\",2404.7338],[\"female\",27.94,1,\"yes\",\"southeast\",19107.7796],[\"female\",27.17,0,\"no\",\"southeast\",8601.3293],[\"female\",23.37,2,\"no\",\"northwest\",6686.4313],[\"female\",28.975,0,\"no\",\"northwest\",2257.47525],[\"female\",33.915,3,\"no\",\"northwest\",10115.00885],[\"female\",28.785,0,\"no\",\"northeast\",3385.39915],[\"female\",28.3,0,\"yes\",\"southwest\",17081.08],[\"female\",37.4,0,\"no\",\"southwest\",9634.538],[\"female\",17.765,2,\"yes\",\"northwest\",32734.1863],[\"female\",26.505,0,\"no\",\"northeast\",12815.44495],[\"female\",22.04,0,\"no\",\"northeast\",13616.3586],[\"female\",35.9,2,\"no\",\"southwest\",11163.568],[\"female\",28.785,0,\"no\",\"northeast\",2457.21115],[\"female\",28.05,0,\"no\",\"southeast\",2155.6815],[\"female\",31.9,3,\"no\",\"southeast\",27322.73386],[\"female\",36.0,0,\"no\",\"southwest\",2166.732],[\"female\",38.83,3,\"no\",\"southeast\",5138.2567],[\"female\",37.73,1,\"no\",\"southeast\",9877.6077],[\"female\",37.43,1,\"no\",\"northwest\",10959.6947],[\"female\",37.145,3,\"no\",\"northeast\",6334.34355],[\"female\",23.37,0,\"yes\",\"northeast\",19964.7463],[\"female\",25.46,1,\"no\",\"northeast\",7077.1894],[\"female\",27.83,3,\"no\",\"southeast\",19749.38338],[\"female\",26.6,0,\"yes\",\"northwest\",21348.706],[\"female\",36.85,0,\"yes\",\"southeast\",36149.4835],[\"female\",29.8,2,\"no\",\"southwest\",5152.134],[\"female\",37.0,5,\"no\",\"southwest\",4830.63],[\"female\",33.155,3,\"no\",\"northwest\",6128.79745],[\"female\",31.825,1,\"no\",\"northwest\",2719.27975],[\"female\",34.8,1,\"no\",\"southwest\",5246.047],[\"female\",33.345,0,\"no\",\"northwest\",2855.43755],[\"female\",37.7,0,\"yes\",\"southwest\",48824.45],[\"female\",28.9,2,\"no\",\"southwest\",8823.279],[\"female\",33.155,3,\"no\",\"northeast\",8538.28845],[\"female\",38.28,0,\"no\",\"southeast\",1631.8212],[\"female\",26.41,0,\"no\",\"northwest\",7419.4779],[\"female\",29.92,2,\"no\",\"southeast\",3981.9768],[\"female\",30.9,3,\"no\",\"southwest\",5325.651],[\"female\",32.2,1,\"no\",\"southwest\",6775.961],[\"female\",32.11,2,\"no\",\"northwest\",4922.9159],[\"female\",26.2,0,\"no\",\"southwest\",4883.866],[\"female\",26.6,1,\"no\",\"northwest\",12044.342],[\"female\",32.8,0,\"no\",\"southwest\",5649.715],[\"female\",28.6,2,\"no\",\"southeast\",8516.829],[\"female\",18.05,0,\"no\",\"northwest\",9644.2525],[\"female\",39.33,0,\"no\",\"northeast\",14901.5167],[\"female\",32.11,0,\"no\",\"northwest\",2130.6759],[\"female\",32.23,1,\"no\",\"southeast\",8871.1517],[\"female\",24.035,0,\"no\",\"northwest\",13012.20865],[\"female\",36.08,0,\"yes\",\"southeast\",37133.8982],[\"female\",28.88,1,\"no\",\"northeast\",4337.7352],[\"female\",31.8,0,\"no\",\"southwest\",13880.949],[\"female\",26.73,1,\"no\",\"southeast\",5002.7827],[\"female\",30.9,2,\"no\",\"southwest\",8520.026],[\"female\",37.1,2,\"no\",\"southwest\",7371.772],[\"female\",26.6,0,\"no\",\"northwest\",10355.641],[\"female\",29.92,1,\"no\",\"southeast\",3392.9768],[\"female\",23.21,0,\"no\",\"southeast\",25081.76784],[\"female\",33.7,1,\"no\",\"southwest\",5012.471],[\"female\",33.25,0,\"no\",\"northeast\",10564.8845],[\"female\",41.91,0,\"no\",\"southeast\",24227.33724],[\"female\",31.635,1,\"no\",\"northeast\",7358.17565],[\"female\",36.195,1,\"no\",\"northwest\",7443.64305],[\"female\",27.83,3,\"no\",\"southeast\",14001.2867],[\"female\",17.8,0,\"no\",\"southwest\",1727.785],[\"female\",22.22,2,\"yes\",\"southeast\",19444.2658],[\"female\",26.73,0,\"no\",\"southeast\",1615.7667],[\"female\",36.67,2,\"yes\",\"northeast\",38511.6283],[\"female\",22.135,1,\"no\",\"northeast\",5354.07465],[\"female\",26.8,1,\"no\",\"southwest\",35160.13457],[\"female\",27.74,0,\"yes\",\"northeast\",29523.1656],[\"female\",38.06,0,\"no\",\"southeast\",12648.7034],[\"female\",32.2,2,\"yes\",\"southwest\",47305.305],[\"female\",25.365,3,\"no\",\"northeast\",13047.33235],[\"female\",40.15,0,\"no\",\"southeast\",5400.9805],[\"female\",25.2,0,\"no\",\"southwest\",11837.16],[\"female\",26.84,1,\"yes\",\"southeast\",17085.2676],[\"female\",38.06,3,\"no\",\"southeast\",20462.99766],[\"female\",32.395,3,\"no\",\"northeast\",14590.63205],[\"female\",26.6,2,\"no\",\"northeast\",9715.841],[\"female\",24.3,0,\"no\",\"southwest\",2150.469],[\"female\",21.56,1,\"no\",\"southeast\",9855.1314],[\"female\",28.12,1,\"yes\",\"northeast\",22331.5668],[\"female\",32.395,1,\"no\",\"northeast\",11879.10405],[\"female\",31.2,0,\"no\",\"southwest\",9625.92],[\"female\",48.07,2,\"no\",\"northeast\",9432.9253],[\"female\",26.22,0,\"no\",\"northwest\",14256.1928],[\"female\",36.765,1,\"yes\",\"northeast\",47896.79135],[\"female\",33.4,0,\"no\",\"southwest\",3172.018],[\"female\",28.82,0,\"no\",\"southeast\",2156.7518],[\"female\",28.88,1,\"no\",\"northwest\",9249.4952],[\"female\",22.61,3,\"yes\",\"northeast\",24873.3849],[\"female\",37.51,2,\"no\",\"southeast\",12265.5069],[\"female\",33.0,2,\"no\",\"southeast\",4349.462],[\"female\",38.0,2,\"no\",\"southwest\",12646.207],[\"female\",27.5,2,\"no\",\"southwest\",20177.67113],[\"female\",33.33,1,\"no\",\"southeast\",4151.0287],[\"female\",33.06,2,\"no\",\"northwest\",7749.1564],[\"female\",24.7,0,\"no\",\"southwest\",1737.376],[\"female\",31.4,0,\"yes\",\"southwest\",34838.873],[\"female\",27.645,0,\"no\",\"northwest\",7421.19455],[\"female\",29.64,4,\"no\",\"northeast\",24671.66334],[\"female\",23.21,1,\"no\",\"southeast\",3561.8889],[\"female\",33.8,1,\"yes\",\"southwest\",47928.03],[\"female\",36.385,1,\"yes\",\"northeast\",48517.56315],[\"female\",31.16,0,\"no\",\"northwest\",13429.0354],[\"female\",28.785,0,\"no\",\"northeast\",11658.37915],[\"female\",35.72,2,\"no\",\"northeast\",19144.57652],[\"female\",27.72,1,\"no\",\"southeast\",8232.6388],[\"female\",27.6,0,\"no\",\"southwest\",18955.22017],[\"female\",27.55,0,\"no\",\"northeast\",13217.0945],[\"female\",41.47,4,\"no\",\"southeast\",10977.2063],[\"female\",29.26,3,\"no\",\"southeast\",6184.2994],[\"female\",29.92,1,\"no\",\"southeast\",5478.0368],[\"female\",23.18,0,\"no\",\"northwest\",11830.6072],[\"female\",25.6,0,\"no\",\"southwest\",8932.084],[\"female\",27.7,0,\"no\",\"southwest\",3554.203],[\"female\",38.28,0,\"no\",\"southeast\",14133.03775],[\"female\",20.79,0,\"no\",\"southeast\",1607.5101],[\"female\",32.3,2,\"no\",\"northeast\",10043.249],[\"female\",21.7,0,\"yes\",\"southwest\",13844.506],[\"female\",26.4,1,\"no\",\"southwest\",2597.779],[\"female\",21.89,2,\"no\",\"southeast\",3180.5101],[\"female\",30.78,1,\"no\",\"northeast\",9778.3472],[\"female\",32.3,3,\"no\",\"northeast\",13430.265],[\"female\",24.985,2,\"no\",\"northwest\",8017.06115],[\"female\",21.09,0,\"no\",\"northwest\",13415.0381],[\"female\",22.23,0,\"no\",\"northeast\",12029.2867],[\"female\",33.155,1,\"no\",\"northeast\",7639.41745],[\"female\",28.31,0,\"yes\",\"northwest\",18033.9679],[\"female\",24.89,3,\"yes\",\"northeast\",21659.9301],[\"female\",30.115,3,\"no\",\"northwest\",16455.70785],[\"female\",17.955,2,\"yes\",\"northeast\",15006.57945],[\"female\",43.34,2,\"no\",\"southeast\",5846.9176],[\"female\",39.05,0,\"no\",\"southeast\",11856.4115],[\"female\",22.61,0,\"no\",\"northwest\",3176.8159],[\"female\",30.21,3,\"no\",\"northwest\",4618.0799],[\"female\",37.43,0,\"no\",\"northwest\",2138.0707],[\"female\",32.3,2,\"no\",\"northeast\",9411.005],[\"female\",34.4,3,\"no\",\"southwest\",8522.003],[\"female\",38.17,0,\"no\",\"southeast\",1631.6683],[\"female\",20.6,0,\"no\",\"southwest\",9264.797],[\"female\",32.965,0,\"no\",\"northwest\",14692.66935],[\"female\",38.38,2,\"no\",\"northeast\",11396.9002],[\"female\",24.31,0,\"no\",\"southeast\",4185.0979],[\"female\",23.6,1,\"no\",\"southwest\",8539.671],[\"female\",20.235,1,\"yes\",\"northeast\",19594.80965],[\"female\",17.195,2,\"yes\",\"northeast\",14455.64405],[\"female\",35.15,0,\"no\",\"northwest\",2134.9015],[\"female\",35.64,1,\"no\",\"southeast\",7345.7266],[\"female\",22.6,2,\"yes\",\"southwest\",18608.262],[\"female\",26.98,0,\"yes\",\"northwest\",28950.4692],[\"female\",27.265,1,\"no\",\"northeast\",6555.07035],[\"female\",29.165,0,\"no\",\"northeast\",7323.734819],[\"female\",16.815,1,\"no\",\"northeast\",3167.45585],[\"female\",30.4,3,\"no\",\"northwest\",18804.7524],[\"female\",20.235,2,\"no\",\"northwest\",4906.40965],[\"female\",30.5,0,\"no\",\"southwest\",12638.195],[\"female\",46.75,5,\"no\",\"southeast\",12592.5345],[\"female\",32.68,1,\"no\",\"northwest\",4738.2682],[\"female\",33.5,0,\"yes\",\"southwest\",37079.372],[\"female\",36.52,1,\"no\",\"southeast\",28287.89766],[\"female\",33.1,0,\"no\",\"southwest\",7345.084],[\"female\",25.65,0,\"no\",\"northwest\",11454.0215],[\"female\",29.6,0,\"no\",\"southwest\",5910.944],[\"female\",30.14,2,\"no\",\"southeast\",11881.9696],[\"female\",30.495,0,\"no\",\"northwest\",11840.77505],[\"female\",33.0,3,\"no\",\"southeast\",7682.67],[\"female\",36.63,3,\"no\",\"southeast\",10381.4787],[\"female\",38.095,2,\"no\",\"northeast\",15230.32405],[\"female\",28.38,1,\"yes\",\"southeast\",19521.9682],[\"female\",28.7,1,\"no\",\"southwest\",13224.693],[\"female\",33.82,2,\"no\",\"northwest\",12643.3778],[\"female\",24.32,1,\"no\",\"northeast\",23288.9284],[\"female\",24.09,1,\"no\",\"southeast\",2201.0971],[\"female\",30.115,0,\"no\",\"northeast\",2203.47185],[\"female\",29.8,0,\"no\",\"southwest\",1744.465],[\"female\",33.345,0,\"no\",\"northeast\",20878.78443],[\"female\",31.35,0,\"no\",\"southeast\",1622.1885],[\"female\",39.5,1,\"no\",\"southwest\",9880.068],[\"female\",31.065,0,\"no\",\"northeast\",4347.02335],[\"female\",21.47,3,\"no\",\"northwest\",12475.3513],[\"female\",38.06,0,\"yes\",\"southeast\",48885.13561],[\"female\",32.9,0,\"no\",\"southwest\",1748.774],[\"female\",25.08,0,\"no\",\"southeast\",24513.09126],[\"female\",25.08,0,\"no\",\"northeast\",2196.4732],[\"female\",23.6,2,\"no\",\"southwest\",4931.647],[\"female\",23.98,2,\"no\",\"southeast\",8211.1002],[\"female\",39.2,0,\"no\",\"southwest\",13470.86],[\"female\",28.93,1,\"no\",\"southeast\",5974.3847],[\"female\",25.27,0,\"no\",\"northeast\",3044.2133],[\"female\",28.7,0,\"no\",\"southwest\",11455.28],[\"female\",31.0,1,\"no\",\"southwest\",5240.765],[\"female\",27.36,0,\"no\",\"northeast\",25656.57526],[\"female\",44.22,0,\"no\",\"southeast\",3994.1778],[\"female\",33.915,0,\"no\",\"northeast\",9866.30485],[\"female\",37.73,0,\"no\",\"southeast\",5397.6167],[\"female\",33.88,0,\"no\",\"southeast\",11482.63485],[\"female\",30.59,2,\"no\",\"northwest\",24059.68019],[\"female\",25.8,1,\"no\",\"southwest\",9861.025],[\"female\",31.73,0,\"no\",\"northeast\",14043.4767],[\"female\",38.9,3,\"no\",\"southwest\",5972.378],[\"female\",30.2,2,\"no\",\"southwest\",8825.086],[\"female\",28.05,1,\"no\",\"southeast\",8233.0975],[\"female\",38.0,3,\"no\",\"southwest\",6196.448],[\"female\",31.79,2,\"no\",\"southeast\",3056.3881],[\"female\",36.3,0,\"no\",\"southeast\",13887.204],[\"female\",47.41,0,\"yes\",\"southeast\",63770.42801],[\"female\",46.7,2,\"no\",\"southwest\",11538.421],[\"female\",28.595,0,\"no\",\"northeast\",3213.62205],[\"female\",46.2,0,\"yes\",\"southeast\",45863.205],[\"female\",28.93,0,\"no\",\"southeast\",3972.9247],[\"female\",31.73,2,\"no\",\"northwest\",11187.6567],[\"female\",41.325,0,\"no\",\"northeast\",17878.90068],[\"female\",34.105,3,\"yes\",\"northwest\",39983.42595],[\"female\",19.95,2,\"no\",\"northwest\",9193.8385],[\"female\",32.68,0,\"no\",\"northeast\",10923.9332],[\"female\",32.12,2,\"no\",\"southeast\",2801.2588],[\"female\",30.495,0,\"no\",\"northwest\",2128.43105],[\"female\",40.565,1,\"no\",\"northwest\",6373.55735],[\"female\",31.9,5,\"no\",\"southwest\",11552.904],[\"female\",29.1,0,\"no\",\"southwest\",3761.292],[\"female\",37.29,1,\"no\",\"southeast\",2219.4451],[\"female\",43.12,2,\"no\",\"southeast\",4753.6368],[\"female\",36.86,1,\"no\",\"northeast\",31620.00106],[\"female\",34.295,2,\"no\",\"northeast\",13224.05705],[\"female\",27.17,0,\"no\",\"northwest\",12222.8983],[\"female\",38.095,1,\"yes\",\"northeast\",58571.07448],[\"female\",23.465,0,\"no\",\"northeast\",3206.49135],[\"female\",23.65,1,\"no\",\"southeast\",17626.23951],[\"female\",28.27,1,\"no\",\"southeast\",4779.6023],[\"female\",30.21,1,\"yes\",\"northwest\",43943.8761],[\"female\",35.91,0,\"no\",\"northeast\",13635.6379],[\"female\",30.69,1,\"no\",\"southeast\",5976.8311],[\"female\",29.0,0,\"no\",\"southwest\",11842.442],[\"female\",21.85,1,\"yes\",\"northeast\",15359.1045],[\"female\",33.725,1,\"no\",\"northeast\",8823.98575],[\"female\",29.48,2,\"no\",\"southeast\",7640.3092],[\"female\",33.25,1,\"no\",\"northeast\",5594.8455],[\"female\",37.525,2,\"no\",\"northwest\",33471.97189],[\"female\",39.16,0,\"no\",\"southeast\",1633.0444],[\"female\",25.3,0,\"no\",\"southwest\",11070.535],[\"female\",39.05,3,\"no\",\"southeast\",16085.1275],[\"female\",28.31,0,\"yes\",\"northwest\",17468.9839],[\"female\",34.1,0,\"no\",\"southeast\",9283.562],[\"female\",25.175,0,\"no\",\"northeast\",3558.62025],[\"female\",23.655,0,\"yes\",\"northwest\",25678.77845],[\"female\",29.37,1,\"no\",\"southeast\",8547.6913],[\"female\",34.8,2,\"no\",\"southwest\",6571.544],[\"female\",33.155,0,\"no\",\"northeast\",2207.69745],[\"female\",19.0,3,\"no\",\"northeast\",6753.038],[\"female\",33.0,0,\"no\",\"southeast\",1880.07],[\"female\",36.63,1,\"yes\",\"southeast\",42969.8527],[\"female\",28.595,0,\"no\",\"northeast\",11658.11505],[\"female\",33.11,0,\"yes\",\"southeast\",34439.8559],[\"female\",37.1,0,\"no\",\"southwest\",10713.644],[\"female\",21.3,1,\"no\",\"southwest\",9182.17],[\"female\",26.03,0,\"no\",\"northwest\",3736.4647],[\"female\",38.95,0,\"yes\",\"northwest\",42983.4585],[\"female\",35.53,0,\"no\",\"southeast\",3366.6697],[\"female\",24.51,1,\"no\",\"northwest\",2709.1119],[\"female\",38.095,2,\"no\",\"northeast\",24915.04626],[\"female\",34.96,3,\"no\",\"northwest\",4466.6214],[\"female\",23.37,3,\"no\",\"northeast\",8252.2843],[\"female\",32.965,0,\"no\",\"northeast\",12430.95335],[\"female\",42.68,2,\"no\",\"southeast\",9800.8882],[\"female\",39.6,1,\"no\",\"southeast\",10579.711],[\"female\",31.13,0,\"no\",\"southeast\",8280.6227],[\"female\",36.3,2,\"no\",\"southeast\",8527.532],[\"female\",35.2,0,\"no\",\"southeast\",12244.531],[\"female\",25.3,2,\"yes\",\"southeast\",24667.419],[\"female\",42.4,1,\"no\",\"southwest\",3410.324],[\"female\",35.91,1,\"no\",\"northeast\",26392.26029],[\"female\",28.785,4,\"no\",\"northeast\",14394.39815],[\"female\",23.98,1,\"no\",\"southeast\",22192.43711],[\"female\",31.54,1,\"no\",\"northeast\",5148.5526],[\"female\",22.99,0,\"yes\",\"southeast\",27037.9141],[\"female\",32.775,2,\"yes\",\"northwest\",40003.33225],[\"female\",29.81,1,\"no\",\"southeast\",6500.2359],[\"female\",31.16,0,\"no\",\"northeast\",3943.5954],[\"female\",31.02,0,\"no\",\"southeast\",6185.3208],[\"female\",43.89,2,\"yes\",\"southeast\",46200.9851],[\"female\",40.81,3,\"no\",\"southeast\",12485.8009],[\"female\",23.18,2,\"no\",\"northwest\",10156.7832],[\"female\",17.4,1,\"no\",\"southwest\",2585.269],[\"female\",18.5,1,\"no\",\"southwest\",4766.022],[\"female\",24.1,1,\"no\",\"southwest\",26236.57997],[\"female\",34.8,1,\"no\",\"southwest\",3577.999],[\"female\",40.185,0,\"no\",\"northwest\",3201.24515],[\"female\",32.3,2,\"no\",\"northeast\",29186.48236],[\"female\",39.27,2,\"no\",\"southeast\",3500.6123],[\"female\",34.87,0,\"no\",\"southeast\",2020.5523],[\"female\",44.745,0,\"no\",\"northeast\",9541.69555],[\"female\",26.41,1,\"no\",\"northwest\",5385.3379],[\"female\",29.545,1,\"no\",\"northwest\",8930.93455],[\"female\",32.9,2,\"no\",\"southwest\",5375.038],[\"female\",38.06,0,\"yes\",\"southeast\",44400.4064],[\"female\",30.495,3,\"no\",\"northeast\",6113.23105],[\"female\",27.74,0,\"no\",\"northeast\",5469.0066],[\"female\",23.54,2,\"no\",\"southeast\",10107.2206],[\"female\",30.685,2,\"no\",\"northwest\",8310.83915],[\"female\",22.6,0,\"no\",\"southwest\",2457.502],[\"female\",22.61,1,\"no\",\"northwest\",9566.9909],[\"female\",36.67,2,\"no\",\"northwest\",10848.1343],[\"female\",33.44,0,\"no\",\"northwest\",12231.6136],[\"female\",40.66,0,\"no\",\"northeast\",9875.6804],[\"female\",27.075,1,\"no\",\"northeast\",10106.13425],[\"female\",39.05,3,\"yes\",\"southeast\",40932.4295],[\"female\",21.755,1,\"yes\",\"northeast\",16657.71745],[\"female\",40.28,0,\"no\",\"northeast\",2217.6012],[\"female\",36.08,1,\"no\",\"southeast\",6781.3542],[\"female\",30.1,3,\"no\",\"southwest\",4234.927],[\"female\",27.265,1,\"no\",\"northeast\",9447.25035],[\"female\",32.1,3,\"no\",\"southwest\",14007.222],[\"female\",34.77,1,\"no\",\"northwest\",9583.8933],[\"female\",38.39,0,\"yes\",\"southeast\",40419.0191],[\"female\",26.62,0,\"no\",\"southeast\",3757.8448],[\"female\",30.115,1,\"no\",\"northwest\",9910.35985],[\"female\",36.0,1,\"no\",\"southwest\",8556.907],[\"female\",26.4,0,\"yes\",\"southeast\",19539.243],[\"female\",22.77,0,\"no\",\"southeast\",11833.7823],[\"female\",22.8,3,\"no\",\"northeast\",7985.815],[\"female\",27.83,0,\"yes\",\"southeast\",23065.4207],[\"female\",34.58,2,\"no\",\"northeast\",3925.7582],[\"female\",25.175,2,\"no\",\"northeast\",9095.06825],[\"female\",31.825,0,\"no\",\"northwest\",11842.62375],[\"female\",29.0,1,\"no\",\"southwest\",7050.642],[\"female\",39.7,0,\"no\",\"southwest\",14319.031],[\"female\",19.475,2,\"no\",\"northwest\",6933.24225],[\"female\",26.7,2,\"no\",\"southwest\",11150.78],[\"female\",36.48,0,\"no\",\"northeast\",12797.20962],[\"female\",28.88,0,\"yes\",\"northwest\",17748.5062],[\"female\",27.6,1,\"yes\",\"southwest\",24520.264],[\"female\",29.26,1,\"no\",\"southeast\",4350.5144],[\"female\",27.7,3,\"no\",\"southwest\",6414.178],[\"female\",29.92,0,\"no\",\"southeast\",13457.9608],[\"female\",41.8,0,\"no\",\"southeast\",5662.225],[\"female\",23.18,0,\"no\",\"northeast\",2731.9122],[\"female\",31.92,2,\"no\",\"northwest\",7209.4918],[\"female\",22.895,1,\"no\",\"northeast\",4719.52405],[\"female\",33.1,0,\"no\",\"southwest\",11848.141],[\"female\",26.18,1,\"no\",\"southeast\",7046.7222],[\"female\",35.97,0,\"no\",\"southeast\",14313.8463],[\"female\",42.24,0,\"yes\",\"southeast\",38792.6856],[\"female\",35.815,0,\"no\",\"northwest\",7731.85785],[\"female\",41.42,1,\"no\",\"northwest\",28476.73499],[\"female\",36.575,0,\"no\",\"northwest\",2136.88225],[\"female\",30.8,3,\"no\",\"southwest\",9414.92],[\"female\",42.94,3,\"no\",\"northwest\",6360.9936],[\"female\",31.46,0,\"no\",\"southeast\",1877.9294],[\"female\",24.225,0,\"no\",\"northwest\",2842.76075],[\"female\",26.125,1,\"yes\",\"northeast\",23401.30575],[\"female\",35.53,0,\"yes\",\"northwest\",55135.40209],[\"female\",31.13,0,\"no\",\"southeast\",1621.8827],[\"female\",29.81,2,\"no\",\"southeast\",8219.2039],[\"female\",31.825,2,\"no\",\"northeast\",16069.08475],[\"female\",25.84,0,\"no\",\"northwest\",5266.3656],[\"female\",23.845,2,\"no\",\"northwest\",4719.73655],[\"female\",28.31,0,\"no\",\"northeast\",11657.7189],[\"female\",23.465,2,\"no\",\"northeast\",6402.29135],[\"female\",31.35,0,\"no\",\"northwest\",12622.1795],[\"female\",32.78,2,\"yes\",\"southeast\",36021.0112],[\"female\",29.81,0,\"yes\",\"southeast\",27533.9129],[\"female\",32.45,0,\"yes\",\"southeast\",45008.9555],[\"female\",34.2,1,\"no\",\"southwest\",9872.701],[\"female\",24.1,0,\"no\",\"southwest\",2974.126],[\"female\",30.78,0,\"yes\",\"northeast\",37270.1512],[\"female\",35.53,0,\"yes\",\"northeast\",42111.6647],[\"female\",23.75,2,\"no\",\"northeast\",11729.6795],[\"female\",23.845,3,\"yes\",\"northeast\",24106.91255],[\"female\",29.6,0,\"no\",\"southwest\",1875.344],[\"female\",33.11,0,\"yes\",\"southeast\",40974.1649],[\"female\",32.23,1,\"no\",\"southeast\",18218.16139],[\"female\",47.6,2,\"yes\",\"southwest\",46113.511],[\"female\",28.0,3,\"no\",\"southwest\",7151.092],[\"female\",33.535,2,\"no\",\"northwest\",12269.68865],[\"female\",19.855,0,\"no\",\"northeast\",5458.04645],[\"female\",24.3,3,\"no\",\"southwest\",4391.652],[\"female\",29.48,1,\"no\",\"southeast\",3392.3652],[\"female\",28.12,0,\"no\",\"northwest\",2690.1138],[\"female\",27.1,1,\"no\",\"southwest\",26140.3603],[\"female\",29.5,2,\"no\",\"southwest\",6311.952],[\"female\",22.135,0,\"no\",\"northeast\",2585.85065],[\"female\",37.05,3,\"yes\",\"northeast\",46255.1125],[\"female\",30.02,0,\"no\",\"northwest\",5272.1758],[\"female\",26.885,0,\"yes\",\"northwest\",29330.98315],[\"female\",29.04,4,\"no\",\"southeast\",7243.8136],[\"female\",44.0,0,\"no\",\"southwest\",13063.883],[\"female\",20.045,2,\"yes\",\"northeast\",19798.05455],[\"female\",40.26,0,\"no\",\"southeast\",1634.5734],[\"female\",22.515,0,\"no\",\"northwest\",2117.33885],[\"female\",35.1,0,\"no\",\"southwest\",12644.589],[\"female\",29.355,2,\"no\",\"northeast\",4564.19145],[\"female\",32.34,1,\"no\",\"southeast\",7633.7206],[\"female\",24.6,0,\"yes\",\"southwest\",17496.306],[\"female\",26.695,3,\"no\",\"northwest\",14382.70905],[\"female\",27.5,1,\"no\",\"southwest\",7626.993],[\"female\",33.99,0,\"no\",\"southeast\",2473.3341],[\"female\",26.885,0,\"yes\",\"northwest\",21774.32215],[\"female\",28.2,0,\"no\",\"southwest\",13041.921],[\"female\",34.21,1,\"no\",\"southeast\",5245.2269],[\"female\",25.0,0,\"no\",\"southwest\",13451.122],[\"female\",33.2,0,\"no\",\"southwest\",13462.52],[\"female\",23.4,2,\"no\",\"southwest\",2913.569],[\"female\",20.1,1,\"no\",\"southwest\",12032.326],[\"female\",39.16,0,\"no\",\"southeast\",13470.8044],[\"female\",32.5,1,\"no\",\"southwest\",6238.298],[\"female\",35.3,0,\"no\",\"southwest\",7348.142],[\"female\",27.5,0,\"no\",\"southwest\",12233.828],[\"female\",24.225,5,\"no\",\"northwest\",8965.79575],[\"female\",46.09,1,\"no\",\"southeast\",9549.5651],[\"female\",40.185,0,\"no\",\"northeast\",2217.46915],[\"female\",35.8,1,\"no\",\"southwest\",11674.13],[\"female\",28.405,1,\"no\",\"northwest\",4527.18295],[\"female\",39.615,1,\"no\",\"northwest\",2730.10785],[\"female\",25.9,0,\"no\",\"southwest\",3353.284],[\"female\",35.2,1,\"no\",\"southeast\",14474.675],[\"female\",34.32,5,\"no\",\"southeast\",8596.8278],[\"female\",28.16,3,\"no\",\"southeast\",10702.6424],[\"female\",23.56,0,\"no\",\"northeast\",4992.3764],[\"female\",20.235,0,\"no\",\"northwest\",2527.81865],[\"female\",40.5,0,\"no\",\"southwest\",1759.338],[\"female\",39.995,3,\"no\",\"northeast\",9704.66805],[\"female\",29.92,0,\"no\",\"southeast\",4889.0368],[\"female\",30.59,1,\"no\",\"northeast\",16796.41194],[\"female\",25.8,1,\"no\",\"southwest\",7624.63],[\"female\",27.645,1,\"no\",\"northwest\",28340.18885],[\"female\",20.52,0,\"yes\",\"northeast\",14571.8908],[\"female\",19.8,1,\"no\",\"southwest\",3378.91],[\"female\",27.835,2,\"no\",\"northeast\",7144.86265],[\"female\",31.6,2,\"no\",\"southwest\",10118.424],[\"female\",20.045,3,\"yes\",\"northwest\",16420.49455],[\"female\",23.275,3,\"no\",\"northeast\",7986.47525],[\"female\",34.1,3,\"no\",\"southwest\",7418.522],[\"female\",36.85,0,\"no\",\"southeast\",13887.9685],[\"female\",36.29,3,\"no\",\"northeast\",6551.7501],[\"female\",26.885,0,\"no\",\"northwest\",5267.81815],[\"female\",22.8,0,\"no\",\"southwest\",8269.044],[\"female\",33.33,4,\"no\",\"southeast\",36580.28216],[\"female\",27.6,0,\"no\",\"southwest\",5383.536],[\"female\",24.605,1,\"no\",\"northwest\",2709.24395],[\"female\",34.2,2,\"no\",\"southwest\",3987.926],[\"female\",35.815,3,\"no\",\"northwest\",12495.29085],[\"female\",32.68,2,\"no\",\"northwest\",26018.95052],[\"female\",31.02,3,\"yes\",\"southeast\",35595.5898],[\"female\",45.32,1,\"no\",\"southeast\",8569.8618],[\"female\",34.6,0,\"no\",\"southwest\",2020.177],[\"female\",17.29,2,\"no\",\"northeast\",6877.9801],[\"female\",23.655,1,\"yes\",\"northwest\",21677.28345],[\"female\",35.2,0,\"yes\",\"southeast\",44423.803],[\"female\",27.93,0,\"no\",\"northeast\",4137.5227],[\"female\",23.0,3,\"no\",\"southwest\",12094.478],[\"female\",30.495,1,\"yes\",\"northwest\",39725.51805],[\"female\",28.025,0,\"yes\",\"northwest\",20234.85475],[\"female\",25.8,0,\"no\",\"southwest\",3161.454],[\"female\",24.7,2,\"yes\",\"northwest\",21880.82],[\"female\",25.08,0,\"no\",\"northeast\",7325.0482],[\"female\",22.515,1,\"no\",\"northwest\",3594.17085],[\"female\",36.955,1,\"no\",\"northwest\",8023.13545],[\"female\",21.47,0,\"no\",\"northwest\",3353.4703],[\"female\",28.9,0,\"no\",\"southwest\",8277.523],[\"female\",31.79,0,\"no\",\"southeast\",17929.30337],[\"female\",39.49,0,\"no\",\"southeast\",2480.9791],[\"female\",25.6,4,\"no\",\"southwest\",5708.867],[\"female\",25.3,1,\"no\",\"southwest\",7045.499],[\"female\",31.9,1,\"no\",\"southeast\",10928.849],[\"female\",28.88,2,\"no\",\"northeast\",12096.6512],[\"female\",18.335,0,\"no\",\"northeast\",13204.28565],[\"female\",29.59,1,\"no\",\"southeast\",4562.8421],[\"female\",32.0,1,\"no\",\"southwest\",8551.347],[\"female\",30.495,2,\"no\",\"northwest\",15019.76005],[\"female\",18.3,5,\"yes\",\"southwest\",19023.26],[\"female\",29.83,0,\"no\",\"northeast\",11286.5387],[\"female\",30.4,0,\"yes\",\"northwest\",33907.548],[\"female\",33.7,4,\"no\",\"southwest\",11299.343],[\"female\",31.35,4,\"no\",\"northeast\",4561.1885],[\"female\",34.96,2,\"yes\",\"northeast\",44641.1974],[\"female\",30.875,0,\"no\",\"northeast\",23045.56616],[\"female\",33.99,1,\"no\",\"southeast\",3227.1211],[\"female\",19.095,2,\"yes\",\"northeast\",16776.30405],[\"female\",31.24,0,\"no\",\"southeast\",10338.9316],[\"female\",29.925,0,\"no\",\"northwest\",8988.15875],[\"female\",26.22,2,\"no\",\"northwest\",10493.9458],[\"female\",32.3,1,\"no\",\"northeast\",11512.405],[\"female\",25.85,3,\"yes\",\"southeast\",24180.9335],[\"female\",26.315,3,\"no\",\"northwest\",5312.16985],[\"female\",19.95,3,\"no\",\"northwest\",5693.4305],[\"female\",31.4,0,\"yes\",\"southwest\",34166.273],[\"female\",36.86,3,\"yes\",\"northwest\",46661.4424],[\"female\",32.395,1,\"no\",\"northeast\",18903.49141],[\"female\",42.75,1,\"yes\",\"northeast\",40904.1995],[\"female\",25.08,0,\"no\",\"northwest\",14254.6082],[\"female\",35.86,2,\"no\",\"southeast\",5836.5204],[\"female\",18.6,0,\"no\",\"southwest\",1728.897],[\"female\",23.87,5,\"no\",\"southeast\",8582.3023],[\"female\",18.335,0,\"no\",\"northwest\",9991.03765],[\"female\",28.12,3,\"no\",\"northwest\",11085.5868],[\"female\",25.0,1,\"no\",\"southwest\",7623.518],[\"female\",22.23,0,\"no\",\"northwest\",3176.2877],[\"female\",32.49,0,\"yes\",\"northwest\",36898.73308],[\"female\",32.6,3,\"no\",\"southwest\",7954.517],[\"female\",24.86,0,\"no\",\"southeast\",27117.99378],[\"female\",31.92,0,\"no\",\"northwest\",2261.5688],[\"female\",30.305,0,\"no\",\"northeast\",2203.73595],[\"female\",36.48,0,\"no\",\"northwest\",12235.8392],[\"female\",32.56,3,\"yes\",\"southeast\",40941.2854],[\"female\",35.815,1,\"no\",\"northwest\",5630.45785],[\"female\",27.93,4,\"no\",\"northwest\",11015.1747],[\"female\",22.135,3,\"no\",\"northeast\",7228.21565],[\"female\",23.18,2,\"no\",\"northwest\",14426.07385],[\"female\",30.59,0,\"no\",\"northeast\",2459.7201],[\"female\",41.1,0,\"no\",\"southwest\",3989.841],[\"female\",34.58,1,\"no\",\"northwest\",7727.2532],[\"female\",28.215,0,\"no\",\"northeast\",2200.83085],[\"female\",28.31,1,\"no\",\"northwest\",7153.5539],[\"female\",26.125,0,\"no\",\"northeast\",5227.98875],[\"female\",24.6,2,\"no\",\"southwest\",4529.477],[\"female\",34.105,1,\"no\",\"northwest\",6112.35295],[\"female\",26.7,2,\"yes\",\"southwest\",22478.6],[\"female\",41.91,0,\"no\",\"southeast\",11093.6229],[\"female\",27.1,0,\"no\",\"southwest\",2154.361],[\"female\",24.13,1,\"yes\",\"northwest\",23887.6627],[\"female\",27.4,1,\"no\",\"southwest\",6496.886],[\"female\",34.865,0,\"no\",\"northeast\",2899.48935],[\"female\",41.325,1,\"no\",\"northeast\",7650.77375],[\"female\",29.925,0,\"no\",\"northwest\",2850.68375],[\"female\",30.3,0,\"no\",\"southwest\",2632.992],[\"female\",27.36,1,\"no\",\"northeast\",9447.3824],[\"female\",28.49,1,\"yes\",\"southeast\",18328.2381],[\"female\",32.68,0,\"no\",\"northwest\",13844.7972],[\"female\",25.27,1,\"yes\",\"northeast\",21771.3423],[\"female\",28.0,0,\"no\",\"southwest\",13126.67745],[\"female\",32.775,2,\"no\",\"northwest\",5327.40025],[\"female\",21.755,1,\"no\",\"northeast\",13725.47184],[\"female\",32.395,1,\"no\",\"northeast\",13019.16105],[\"female\",36.575,0,\"no\",\"northwest\",8671.19125],[\"female\",21.755,0,\"no\",\"northwest\",4134.08245],[\"female\",27.93,3,\"no\",\"northwest\",18838.70366],[\"female\",30.02,0,\"yes\",\"northwest\",33307.5508],[\"female\",25.8,2,\"no\",\"southwest\",4934.705],[\"female\",27.28,3,\"yes\",\"southeast\",18223.4512],[\"female\",34.8,2,\"no\",\"southwest\",36910.60803],[\"female\",25.555,1,\"yes\",\"northeast\",20296.86345],[\"female\",33.3,2,\"no\",\"southwest\",10806.839],[\"female\",31.255,1,\"no\",\"northwest\",3956.07145],[\"female\",34.6,1,\"yes\",\"southwest\",41661.602],[\"female\",30.21,3,\"no\",\"northwest\",7537.1639],[\"female\",21.945,1,\"no\",\"northeast\",4718.20355],[\"female\",24.42,0,\"yes\",\"southeast\",26125.67477],[\"female\",39.82,1,\"no\",\"southeast\",4795.6568],[\"female\",21.8,0,\"yes\",\"southwest\",20167.33603],[\"female\",24.605,3,\"no\",\"northwest\",12479.70895],[\"female\",27.83,2,\"no\",\"southeast\",8515.7587],[\"female\",21.66,0,\"no\",\"northeast\",14449.8544],[\"female\",28.215,0,\"no\",\"northwest\",12224.35085],[\"female\",42.13,1,\"no\",\"southeast\",3238.4357],[\"female\",21.28,3,\"no\",\"northwest\",4296.2712],[\"female\",33.11,0,\"no\",\"southeast\",3171.6149],[\"female\",25.7,3,\"no\",\"southwest\",9101.798],[\"female\",39.82,0,\"no\",\"southeast\",1633.9618],[\"female\",29.3,4,\"no\",\"southwest\",15828.82173],[\"female\",27.72,0,\"no\",\"southeast\",4415.1588],[\"female\",37.9,0,\"no\",\"southwest\",6474.013],[\"female\",36.385,3,\"no\",\"northwest\",11436.73815],[\"female\",27.645,1,\"no\",\"northwest\",11305.93455],[\"female\",23.18,0,\"no\",\"northeast\",10197.7722],[\"female\",20.52,0,\"no\",\"northeast\",4544.2348],[\"female\",28.05,1,\"no\",\"southeast\",6770.1925],[\"female\",29.9,1,\"no\",\"southwest\",7337.748],[\"female\",33.345,2,\"no\",\"northeast\",10370.91255],[\"female\",30.5,0,\"no\",\"southwest\",10704.47],[\"female\",33.3,0,\"no\",\"southwest\",1880.487],[\"female\",34.485,0,\"no\",\"northwest\",3021.80915],[\"female\",30.4,0,\"no\",\"northeast\",2741.948],[\"female\",29.735,0,\"no\",\"northwest\",4357.04365],[\"female\",26.79,2,\"no\",\"northwest\",4189.1131],[\"female\",33.33,0,\"no\",\"southeast\",8283.6807],[\"female\",27.645,2,\"yes\",\"northwest\",24535.69855],[\"female\",21.66,0,\"yes\",\"northeast\",14283.4594],[\"female\",24.32,0,\"no\",\"northeast\",8534.6718],[\"female\",17.29,0,\"no\",\"northeast\",3732.6251],[\"female\",25.9,1,\"no\",\"southwest\",5472.449],[\"female\",19.95,2,\"no\",\"northeast\",7133.9025],[\"female\",26.51,2,\"no\",\"southeast\",4340.4409],[\"female\",25.745,1,\"no\",\"northwest\",2710.82855],[\"female\",20.8,1,\"no\",\"southwest\",3208.787],[\"female\",27.72,0,\"no\",\"southeast\",2464.6188],[\"female\",21.85,0,\"yes\",\"northeast\",16115.3045],[\"female\",30.2,0,\"yes\",\"southwest\",33900.653],[\"female\",26.695,0,\"no\",\"northwest\",4571.41305],[\"female\",34.7,2,\"yes\",\"southwest\",36397.576],[\"female\",23.655,3,\"yes\",\"northwest\",18765.87545],[\"female\",20.6,0,\"no\",\"southwest\",1731.677],[\"female\",26.315,2,\"no\",\"northwest\",7201.70085],[\"female\",40.37,2,\"yes\",\"southeast\",43896.3763],[\"female\",32.87,0,\"no\",\"northeast\",7050.0213],[\"female\",24.225,2,\"no\",\"northeast\",22395.74424],[\"female\",25.74,2,\"no\",\"southeast\",12629.1656],[\"female\",33.4,0,\"no\",\"southwest\",10795.93733],[\"female\",44.7,3,\"no\",\"southwest\",11411.685],[\"female\",31.92,0,\"no\",\"northeast\",2205.9808],[\"female\",36.85,0,\"no\",\"southeast\",1629.8335],[\"female\",25.8,0,\"no\",\"southwest\",2007.945],[\"female\",29.07,0,\"yes\",\"northwest\",29141.3603]],\"hovertemplate\":\"sex=%{customdata[0]}<br>age=%{y}<br>bmi=%{customdata[1]}<br>children=%{customdata[2]}<br>smoker=%{customdata[3]}<br>region=%{customdata[4]}<br>charges=%{customdata[5]}<extra></extra>\",\"legendgroup\":\"female\",\"marker\":{\"color\":\"#636efa\"},\"name\":\"female\",\"offsetgroup\":\"female\",\"orientation\":\"v\",\"scalegroup\":\"True\",\"showlegend\":true,\"x0\":\" \",\"xaxis\":\"x\",\"y\":[19,31,46,37,60,62,56,52,60,30,34,59,63,55,18,19,62,24,31,37,18,28,60,18,21,40,58,53,34,28,20,19,61,40,27,53,29,22,41,45,48,37,57,56,46,55,21,53,64,28,54,41,18,61,34,19,55,21,29,49,37,20,47,26,19,52,32,59,61,53,20,22,54,22,29,51,53,32,42,40,50,42,18,32,20,32,19,35,24,63,46,41,18,44,26,30,41,29,36,56,39,45,51,64,19,48,60,27,28,63,34,45,41,53,26,24,34,53,58,41,42,59,19,40,18,23,33,55,63,60,63,55,38,58,20,53,59,47,22,51,40,55,52,46,63,59,28,22,48,53,56,28,57,28,30,41,19,27,44,26,27,64,61,61,56,43,46,24,60,49,34,36,57,50,30,18,18,48,19,21,21,49,56,42,61,57,42,23,39,64,27,35,58,26,24,19,46,43,18,51,64,52,33,47,44,26,19,43,36,63,38,18,21,27,29,60,52,31,33,59,45,56,40,55,57,40,49,62,30,60,56,28,18,18,19,47,18,51,31,54,44,19,61,18,31,44,62,38,24,57,35,50,32,51,38,18,19,51,62,33,46,46,34,20,63,54,54,25,43,32,52,25,35,46,54,18,19,38,49,31,18,30,62,57,58,31,25,32,33,34,61,38,58,21,46,42,34,52,18,56,64,19,51,27,59,47,38,18,34,20,47,56,19,55,49,29,44,29,19,35,23,40,58,49,53,48,45,59,52,26,48,57,57,32,64,40,40,29,41,44,55,49,21,33,47,27,26,53,23,21,50,34,47,33,51,31,36,50,43,24,49,51,58,51,50,30,29,18,41,24,48,59,49,37,31,50,47,37,58,39,47,22,45,57,42,64,38,53,44,19,50,31,35,62,39,22,39,30,58,42,64,18,45,40,19,46,33,20,24,47,33,18,44,64,36,28,56,35,59,23,57,60,51,27,37,46,53,49,20,48,25,37,38,55,36,25,26,23,49,37,21,51,36,64,36,61,43,18,19,60,26,44,32,59,44,24,43,61,35,62,62,19,57,62,39,45,59,39,50,18,56,30,19,29,63,39,50,34,22,19,45,36,27,44,45,24,26,38,50,27,39,39,63,33,36,48,61,38,19,26,54,21,22,47,21,37,46,55,30,54,45,35,28,43,43,25,44,27,48,45,24,29,42,54,54,60,32,47,62,39,55,22,50,18,51,52,25,33,54,49,50,54,48,28,30,23,53,27,23,63,35,19,39,52,50,44,26,19,41,52,20,18,58,43,35,48,36,23,20,32,43,18,41,35,29,37,43,56,22,52,40,23,42,24,25,48,23,62,43,23,31,41,58,48,31,19,19,31,18,59,37,52,27,46,38,30,20,33,20,54,45,63,58,25,22,28,45,18,40,34,42,51,54,52,32,41,43,49,55,20,25,22,32,25,48,47,18,47,28,36,38,28,19,25,24,29,25,33,19,30,19,39,42,42,23,57,23,52,18,18,21,61],\"y0\":\" \",\"yaxis\":\"y\",\"type\":\"violin\"},{\"alignmentgroup\":\"True\",\"box\":{\"visible\":false},\"customdata\":[[\"male\",33.77,1,\"no\",\"southeast\",1725.5523],[\"male\",33.0,3,\"no\",\"southeast\",4449.462],[\"male\",22.705,0,\"no\",\"northwest\",21984.47061],[\"male\",28.88,0,\"no\",\"northwest\",3866.8552],[\"male\",29.83,2,\"no\",\"northeast\",6406.4107],[\"male\",26.22,0,\"no\",\"northeast\",2721.3208],[\"male\",34.4,0,\"no\",\"southwest\",1826.843],[\"male\",42.13,0,\"yes\",\"southeast\",39611.7577],[\"male\",24.6,1,\"no\",\"southwest\",1837.237],[\"male\",23.845,0,\"no\",\"northeast\",2395.17155],[\"male\",40.3,0,\"no\",\"southwest\",10602.385],[\"male\",35.3,0,\"yes\",\"southwest\",36837.467],[\"male\",34.1,0,\"no\",\"southeast\",1137.011],[\"male\",28.025,2,\"no\",\"northwest\",6203.90175],[\"male\",17.385,1,\"no\",\"northwest\",2775.19215],[\"male\",36.3,2,\"yes\",\"southwest\",38711.0],[\"male\",35.6,0,\"yes\",\"southwest\",35585.576],[\"male\",28.31,0,\"no\",\"northwest\",13770.0979],[\"male\",36.4,1,\"yes\",\"southwest\",51194.55914],[\"male\",20.425,0,\"no\",\"northwest\",1625.43375],[\"male\",20.8,0,\"no\",\"southwest\",2302.3],[\"male\",36.67,1,\"yes\",\"northeast\",39774.2763],[\"male\",39.9,0,\"yes\",\"southwest\",48173.361],[\"male\",21.78,1,\"no\",\"southeast\",6272.4772],[\"male\",37.05,1,\"no\",\"northeast\",6079.6715],[\"male\",37.3,0,\"no\",\"southwest\",20630.28351],[\"male\",35.2,1,\"yes\",\"southeast\",38709.176],[\"male\",28.0,1,\"yes\",\"southwest\",23568.272],[\"male\",34.43,0,\"yes\",\"southeast\",37742.5757],[\"male\",36.955,2,\"yes\",\"northwest\",47496.49445],[\"male\",31.68,2,\"yes\",\"southeast\",34303.1672],[\"male\",27.36,3,\"no\",\"northeast\",8606.2174],[\"male\",33.66,4,\"no\",\"southeast\",4504.6624],[\"male\",24.7,1,\"no\",\"northwest\",30166.61817],[\"male\",26.315,1,\"no\",\"northwest\",6389.37785],[\"male\",23.98,3,\"yes\",\"southeast\",17663.1442],[\"male\",28.5,5,\"no\",\"northeast\",6799.458],[\"male\",32.01,1,\"no\",\"southeast\",11946.6259],[\"male\",27.4,2,\"no\",\"southwest\",7726.854],[\"male\",34.01,0,\"no\",\"northwest\",11356.6609],[\"male\",35.53,0,\"no\",\"southeast\",1532.4697],[\"male\",26.885,1,\"no\",\"northeast\",4441.21315],[\"male\",37.62,1,\"yes\",\"southeast\",37165.1638],[\"male\",22.895,2,\"yes\",\"northwest\",21098.55405],[\"male\",29.83,3,\"yes\",\"northeast\",30184.9367],[\"male\",34.77,2,\"no\",\"northwest\",5729.0053],[\"male\",38.28,0,\"no\",\"southeast\",10226.2842],[\"male\",19.95,0,\"yes\",\"northeast\",22412.6485],[\"male\",19.3,0,\"yes\",\"southwest\",15820.699],[\"male\",25.46,0,\"no\",\"northeast\",3645.0894],[\"male\",28.025,1,\"yes\",\"northwest\",17560.37975],[\"male\",30.875,2,\"no\",\"northwest\",3877.30425],[\"male\",27.94,0,\"no\",\"southeast\",2867.1196],[\"male\",35.09,0,\"yes\",\"southeast\",47055.5321],[\"male\",33.63,1,\"no\",\"northwest\",10825.2537],[\"male\",30.8,0,\"no\",\"southwest\",4646.759],[\"male\",32.205,3,\"no\",\"northeast\",11488.31695],[\"male\",28.595,0,\"no\",\"northeast\",30259.99556],[\"male\",49.06,0,\"no\",\"southeast\",11381.3254],[\"male\",37.1,2,\"no\",\"southwest\",7740.337],[\"male\",23.75,0,\"no\",\"northeast\",1705.6245],[\"male\",31.35,1,\"yes\",\"northeast\",39556.4945],[\"male\",34.7,2,\"no\",\"southwest\",6082.405],[\"male\",25.555,0,\"no\",\"northwest\",1632.56445],[\"male\",34.1,0,\"no\",\"southwest\",1261.442],[\"male\",25.175,0,\"no\",\"northwest\",2045.68525],[\"male\",22.42,2,\"no\",\"northeast\",27375.90478],[\"male\",32.49,1,\"no\",\"northeast\",3490.5491],[\"male\",25.3,2,\"yes\",\"southeast\",18972.495],[\"male\",29.735,2,\"no\",\"northwest\",18157.876],[\"male\",28.69,3,\"yes\",\"northwest\",20745.9891],[\"male\",30.495,3,\"yes\",\"northwest\",40720.55105],[\"male\",28.4,1,\"no\",\"southwest\",1842.519],[\"male\",24.13,1,\"no\",\"northwest\",5125.2157],[\"male\",29.7,0,\"no\",\"southeast\",7789.635],[\"male\",39.52,0,\"no\",\"northwest\",6948.7008],[\"male\",24.42,0,\"yes\",\"southeast\",21223.6758],[\"male\",25.175,0,\"yes\",\"northeast\",15518.18025],[\"male\",35.53,0,\"yes\",\"southeast\",36950.2567],[\"male\",39.6,1,\"no\",\"southwest\",10450.552],[\"male\",29.64,0,\"no\",\"northwest\",5028.1466],[\"male\",28.215,4,\"no\",\"northeast\",10407.08585],[\"male\",18.905,3,\"no\",\"northeast\",4827.90495],[\"male\",41.47,0,\"no\",\"southeast\",13405.3903],[\"male\",30.3,0,\"no\",\"southwest\",8116.68],[\"male\",15.96,0,\"no\",\"northeast\",1694.7964],[\"male\",27.835,2,\"no\",\"northwest\",6455.86265],[\"male\",29.2,1,\"no\",\"southwest\",10436.096],[\"male\",28.595,0,\"no\",\"northwest\",11735.87905],[\"male\",19.95,3,\"no\",\"northeast\",4005.4225],[\"male\",30.69,2,\"no\",\"southeast\",7731.4271],[\"male\",41.895,3,\"yes\",\"northeast\",43753.33705],[\"male\",31.57,0,\"no\",\"southeast\",12557.6053],[\"male\",25.74,0,\"no\",\"southeast\",2137.6536],[\"male\",34.43,0,\"no\",\"southeast\",1137.4697],[\"male\",30.59,0,\"no\",\"northwest\",1639.5631],[\"male\",22.3,0,\"no\",\"southwest\",7147.105],[\"male\",26.4,0,\"no\",\"southeast\",11743.299],[\"male\",27.74,2,\"yes\",\"northeast\",20984.0936],[\"male\",41.23,1,\"no\",\"northeast\",6610.1097],[\"male\",33.0,1,\"no\",\"southwest\",1980.07],[\"male\",30.875,4,\"no\",\"northwest\",8162.71625],[\"male\",28.5,2,\"no\",\"northwest\",3537.703],[\"male\",23.1,0,\"no\",\"southeast\",2483.736],[\"male\",30.8,3,\"no\",\"southwest\",5253.524],[\"male\",34.8,0,\"yes\",\"southwest\",34779.615],[\"male\",24.64,0,\"yes\",\"southeast\",19515.5416],[\"male\",33.88,3,\"no\",\"southeast\",11987.1682],[\"male\",38.06,0,\"no\",\"southeast\",2689.4954],[\"male\",25.46,2,\"no\",\"northeast\",9225.2564],[\"male\",27.5,1,\"no\",\"southwest\",12333.828],[\"male\",24.51,2,\"no\",\"northwest\",6710.1919],[\"male\",38.39,2,\"no\",\"southeast\",4463.2051],[\"male\",29.07,0,\"yes\",\"northwest\",17352.6803],[\"male\",38.06,1,\"no\",\"southeast\",7152.6714],[\"male\",35.3,3,\"no\",\"southwest\",7196.867],[\"male\",30.02,0,\"no\",\"northwest\",24476.47851],[\"male\",35.86,0,\"no\",\"southeast\",1986.9334],[\"male\",20.9,1,\"no\",\"southwest\",1832.094],[\"male\",28.975,1,\"no\",\"northeast\",4040.55825],[\"male\",17.29,2,\"yes\",\"northeast\",12829.4551],[\"male\",34.21,2,\"yes\",\"southeast\",44260.7499],[\"male\",30.3,3,\"no\",\"southwest\",4260.744],[\"male\",31.825,0,\"yes\",\"northeast\",41097.16175],[\"male\",33.63,0,\"yes\",\"northwest\",43921.1837],[\"male\",24.415,4,\"no\",\"northwest\",11520.09985],[\"male\",31.92,0,\"yes\",\"northwest\",33750.2918],[\"male\",24.32,3,\"yes\",\"northeast\",24869.8368],[\"male\",36.955,0,\"yes\",\"northwest\",36219.40545],[\"male\",42.35,3,\"yes\",\"southeast\",46151.1245],[\"male\",19.8,1,\"yes\",\"southeast\",17179.522],[\"male\",30.2,1,\"no\",\"southwest\",7441.053],[\"male\",25.84,1,\"no\",\"northeast\",9282.4806],[\"male\",29.37,1,\"no\",\"southeast\",1719.4363],[\"male\",34.2,2,\"yes\",\"southwest\",42856.838],[\"male\",37.05,2,\"no\",\"northwest\",7265.7025],[\"male\",27.455,1,\"no\",\"northeast\",9617.66245],[\"male\",27.55,0,\"no\",\"northwest\",2523.1695],[\"male\",20.615,2,\"no\",\"northwest\",2803.69785],[\"male\",31.79,2,\"no\",\"southeast\",12928.7911],[\"male\",40.565,3,\"yes\",\"northeast\",48549.17835],[\"male\",27.645,1,\"no\",\"northeast\",4237.12655],[\"male\",26.62,1,\"no\",\"southeast\",7742.1098],[\"male\",26.4,3,\"no\",\"southeast\",25992.82104],[\"male\",29.64,1,\"no\",\"northeast\",20277.80751],[\"male\",45.54,2,\"yes\",\"southeast\",42112.2356],[\"male\",26.8,3,\"no\",\"southwest\",3906.127],[\"male\",22.99,0,\"no\",\"northeast\",1704.5681],[\"male\",27.7,0,\"yes\",\"southwest\",16297.846],[\"male\",25.41,1,\"yes\",\"southeast\",21978.6769],[\"male\",34.39,3,\"yes\",\"northwest\",38746.3551],[\"male\",27.55,3,\"no\",\"northeast\",6746.7425],[\"male\",33.345,2,\"no\",\"northwest\",19442.3535],[\"male\",34.865,0,\"no\",\"northeast\",11944.59435],[\"male\",26.6,0,\"no\",\"southwest\",8444.474],[\"male\",35.97,3,\"yes\",\"southeast\",42124.5153],[\"male\",35.86,0,\"no\",\"southeast\",8124.4084],[\"male\",33.25,0,\"no\",\"northeast\",9722.7695],[\"male\",32.205,0,\"no\",\"northwest\",8835.26495],[\"male\",32.775,0,\"no\",\"northeast\",10435.06525],[\"male\",37.335,1,\"no\",\"northeast\",4667.60765],[\"male\",25.27,1,\"no\",\"northwest\",4894.7533],[\"male\",30.8,0,\"yes\",\"southwest\",35491.64],[\"male\",40.945,0,\"no\",\"northeast\",11566.30055],[\"male\",27.2,0,\"no\",\"southwest\",2866.091],[\"male\",34.105,1,\"no\",\"northeast\",6600.20595],[\"male\",36.48,2,\"yes\",\"northwest\",42760.5022],[\"male\",36.7,0,\"no\",\"southwest\",9144.565],[\"male\",27.36,0,\"yes\",\"northwest\",24393.6224],[\"male\",34.5,0,\"no\",\"southwest\",13822.803],[\"male\",25.74,0,\"no\",\"southeast\",12142.5786],[\"male\",27.55,1,\"no\",\"northwest\",13937.6665],[\"male\",32.3,1,\"yes\",\"northeast\",41919.097],[\"male\",30.02,0,\"no\",\"northwest\",13352.0998],[\"male\",36.765,0,\"no\",\"northeast\",13981.85035],[\"male\",35.75,2,\"no\",\"southeast\",4889.9995],[\"male\",33.345,1,\"no\",\"northeast\",8334.45755],[\"male\",27.835,0,\"no\",\"northwest\",1635.73365],[\"male\",35.245,0,\"no\",\"northeast\",12404.8791],[\"male\",27.6,0,\"no\",\"southwest\",24603.04837],[\"male\",43.89,3,\"no\",\"southeast\",8944.1151],[\"male\",29.83,3,\"no\",\"northwest\",9620.3307],[\"male\",41.91,0,\"no\",\"southeast\",1837.2819],[\"male\",30.5,1,\"no\",\"southwest\",4751.07],[\"male\",32.015,2,\"no\",\"northwest\",8116.26885],[\"male\",30.4,3,\"no\",\"northeast\",3481.868],[\"male\",32.9,2,\"yes\",\"southwest\",36085.219],[\"male\",33.33,0,\"no\",\"southeast\",1391.5287],[\"male\",40.15,0,\"yes\",\"southeast\",38126.2465],[\"male\",31.46,1,\"no\",\"southeast\",27000.98473],[\"male\",30.685,0,\"yes\",\"northeast\",42303.69215],[\"male\",33.0,0,\"no\",\"southeast\",20781.48892],[\"male\",22.135,2,\"no\",\"northeast\",8302.53565],[\"male\",34.4,0,\"no\",\"southwest\",1261.859],[\"male\",25.365,2,\"no\",\"northwest\",30284.64294],[\"male\",35.625,4,\"no\",\"northeast\",10736.87075],[\"male\",31.445,1,\"no\",\"northeast\",8964.06055],[\"male\",31.35,1,\"no\",\"northeast\",9290.1395],[\"male\",19.855,0,\"no\",\"northwest\",7526.70645],[\"male\",31.02,0,\"no\",\"southeast\",16586.49771],[\"male\",25.6,2,\"no\",\"southwest\",14988.432],[\"male\",47.52,1,\"no\",\"southeast\",8083.9198],[\"male\",32.3,3,\"no\",\"northwest\",10269.46],[\"male\",20.4,0,\"no\",\"southwest\",3260.199],[\"male\",21.12,3,\"no\",\"southeast\",6652.5288],[\"male\",30.03,1,\"no\",\"southeast\",4074.4537],[\"male\",17.48,0,\"no\",\"northwest\",1621.3402],[\"male\",23.9,5,\"no\",\"southwest\",5080.096],[\"male\",34.1,0,\"no\",\"southeast\",9140.951],[\"male\",39.16,1,\"no\",\"southeast\",14418.2804],[\"male\",33.88,0,\"yes\",\"southeast\",46889.2612],[\"male\",35.86,0,\"yes\",\"southeast\",46599.1084],[\"male\",32.775,1,\"yes\",\"northeast\",39125.33225],[\"male\",30.59,0,\"no\",\"northeast\",2727.3951],[\"male\",30.2,2,\"no\",\"southwest\",8968.33],[\"male\",24.31,5,\"no\",\"southeast\",9788.8659],[\"male\",33.1,0,\"no\",\"southwest\",23082.95533],[\"male\",26.9,0,\"no\",\"southwest\",5969.723],[\"male\",28.595,1,\"no\",\"northwest\",4243.59005],[\"male\",33.11,3,\"no\",\"southeast\",13919.8229],[\"male\",31.73,0,\"no\",\"northeast\",2254.7967],[\"male\",28.9,3,\"no\",\"southwest\",5926.846],[\"male\",29.45,0,\"no\",\"northeast\",2897.3235],[\"male\",43.01,0,\"no\",\"southeast\",1149.3959],[\"male\",26.695,1,\"yes\",\"northwest\",26109.32905],[\"male\",29.64,0,\"no\",\"northeast\",12730.9996],[\"male\",38.6,1,\"no\",\"southwest\",4762.329],[\"male\",29.6,4,\"no\",\"southwest\",7512.267],[\"male\",24.13,1,\"no\",\"northwest\",4032.2407],[\"male\",23.4,0,\"no\",\"southwest\",1969.614],[\"male\",29.735,0,\"no\",\"northwest\",1769.53165],[\"male\",46.53,2,\"no\",\"southeast\",4686.3887],[\"male\",37.4,0,\"no\",\"southwest\",21797.0004],[\"male\",39.6,0,\"no\",\"southwest\",10601.412],[\"male\",30.0,0,\"yes\",\"southwest\",22144.032],[\"male\",25.935,0,\"no\",\"northeast\",11165.41765],[\"male\",25.175,0,\"no\",\"northwest\",1632.03625],[\"male\",32.67,0,\"no\",\"southeast\",2497.0383],[\"male\",25.1,3,\"yes\",\"southwest\",25382.297],[\"male\",28.31,1,\"yes\",\"northwest\",28868.6639],[\"male\",28.5,0,\"yes\",\"northeast\",35147.52848],[\"male\",35.625,0,\"no\",\"northwest\",2534.39375],[\"male\",36.85,0,\"no\",\"southeast\",1534.3045],[\"male\",32.56,0,\"no\",\"southeast\",1824.2854],[\"male\",41.325,3,\"no\",\"northwest\",15555.18875],[\"male\",37.51,2,\"no\",\"southeast\",9304.7019],[\"male\",34.3,3,\"no\",\"southwest\",9563.029],[\"male\",28.7,0,\"no\",\"southwest\",1253.936],[\"male\",31.16,1,\"no\",\"northwest\",10461.9794],[\"male\",43.4,0,\"no\",\"southwest\",12574.049],[\"male\",25.7,4,\"yes\",\"southwest\",17942.106],[\"male\",27.93,0,\"no\",\"northeast\",1967.0227],[\"male\",28.7,2,\"no\",\"southwest\",8027.968],[\"male\",34.4,0,\"yes\",\"southwest\",36197.699],[\"male\",26.03,0,\"no\",\"northeast\",6837.3687],[\"male\",23.21,1,\"yes\",\"southeast\",22218.1149],[\"male\",30.25,0,\"yes\",\"southeast\",32548.3405],[\"male\",30.875,3,\"no\",\"northwest\",6796.86325],[\"male\",31.35,1,\"no\",\"northwest\",2643.2685],[\"male\",23.75,2,\"no\",\"northwest\",3077.0955],[\"male\",32.11,1,\"no\",\"northeast\",11763.0009],[\"male\",33.66,0,\"no\",\"southeast\",2498.4144],[\"male\",22.42,0,\"no\",\"northeast\",9361.3268],[\"male\",30.4,0,\"no\",\"southwest\",1256.299],[\"male\",28.3,1,\"yes\",\"southwest\",21082.16],[\"male\",35.7,0,\"no\",\"southwest\",11362.755],[\"male\",35.31,1,\"no\",\"southeast\",27724.28875],[\"male\",30.495,2,\"no\",\"northwest\",8413.46305],[\"male\",30.875,0,\"no\",\"northeast\",3857.75925],[\"male\",26.07,1,\"yes\",\"southeast\",38245.59327],[\"male\",39.425,1,\"no\",\"northeast\",8342.90875],[\"male\",25.46,0,\"no\",\"northeast\",1708.0014],[\"male\",42.13,1,\"yes\",\"southeast\",48675.5177],[\"male\",29.7,2,\"no\",\"southeast\",12925.886],[\"male\",36.19,0,\"no\",\"southeast\",19214.70553],[\"male\",40.48,0,\"no\",\"southeast\",13831.1152],[\"male\",28.025,1,\"no\",\"northeast\",6067.12675],[\"male\",31.35,0,\"no\",\"southeast\",27346.04207],[\"male\",30.21,0,\"no\",\"northwest\",10231.4999],[\"male\",25.84,2,\"yes\",\"northwest\",23807.2406],[\"male\",35.435,0,\"no\",\"northeast\",3268.84665],[\"male\",30.8,0,\"no\",\"southwest\",13390.559],[\"male\",21.4,0,\"no\",\"southwest\",12957.118],[\"male\",23.8,2,\"no\",\"southwest\",3847.674],[\"male\",33.44,1,\"no\",\"northeast\",8334.5896],[\"male\",34.21,0,\"no\",\"southeast\",3935.1799],[\"male\",35.53,0,\"no\",\"northwest\",1646.4297],[\"male\",30.5,0,\"no\",\"southwest\",2494.022],[\"male\",44.77,1,\"no\",\"southeast\",9058.7303],[\"male\",30.59,2,\"no\",\"northwest\",7256.7231],[\"male\",40.565,2,\"yes\",\"northwest\",45702.02235],[\"male\",26.84,0,\"no\",\"southeast\",1664.9996],[\"male\",30.2,1,\"no\",\"southwest\",9724.53],[\"male\",25.46,1,\"no\",\"northeast\",12913.9924],[\"male\",30.59,0,\"no\",\"northwest\",1639.5631],[\"male\",45.43,2,\"no\",\"southeast\",6356.2707],[\"male\",20.7,0,\"no\",\"southwest\",1242.816],[\"male\",20.235,3,\"no\",\"northeast\",3861.20965],[\"male\",19.57,1,\"no\",\"northwest\",8428.0693],[\"male\",31.13,2,\"no\",\"southeast\",2566.4707],[\"male\",40.26,0,\"no\",\"southeast\",5709.1644],[\"male\",32.6,2,\"no\",\"southwest\",7441.501],[\"male\",31.635,0,\"no\",\"northwest\",9174.13565],[\"male\",26.98,2,\"no\",\"northeast\",4435.0942],[\"male\",37.8,2,\"yes\",\"southwest\",39241.442],[\"male\",25.6,2,\"yes\",\"southwest\",23306.547],[\"male\",31.4,1,\"no\",\"southwest\",3659.346],[\"male\",34.1,4,\"yes\",\"southwest\",40182.246],[\"male\",33.535,0,\"yes\",\"northeast\",34617.84065],[\"male\",28.785,0,\"no\",\"northwest\",12129.61415],[\"male\",28.88,3,\"no\",\"northeast\",6748.5912],[\"male\",42.46,1,\"no\",\"southeast\",11326.71487],[\"male\",38.0,0,\"no\",\"southwest\",11365.952],[\"male\",36.1,1,\"no\",\"southwest\",10085.846],[\"male\",29.3,0,\"no\",\"southwest\",1977.815],[\"male\",22.705,2,\"no\",\"northeast\",7173.35995],[\"male\",39.7,1,\"no\",\"southwest\",9391.346],[\"male\",38.19,0,\"no\",\"northeast\",14410.9321],[\"male\",26.41,0,\"yes\",\"northeast\",20149.3229],[\"male\",33.66,4,\"no\",\"southeast\",12949.1554],[\"male\",42.4,5,\"no\",\"southwest\",6666.243],[\"male\",28.31,3,\"yes\",\"northwest\",32787.45859],[\"male\",33.915,0,\"no\",\"northeast\",13143.86485],[\"male\",35.31,2,\"no\",\"southeast\",18806.14547],[\"male\",30.78,3,\"no\",\"northeast\",10141.1362],[\"male\",26.22,1,\"no\",\"northwest\",6123.5688],[\"male\",28.5,0,\"no\",\"northeast\",1712.227],[\"male\",33.155,2,\"no\",\"northwest\",4058.71245],[\"male\",46.53,3,\"no\",\"southeast\",6435.6237],[\"male\",33.66,0,\"no\",\"southeast\",1136.3994],[\"male\",38.06,2,\"yes\",\"southeast\",42560.4304],[\"male\",28.7,1,\"no\",\"southwest\",8703.456],[\"male\",32.015,0,\"yes\",\"northeast\",45710.20785],[\"male\",31.57,3,\"no\",\"southeast\",4837.5823],[\"male\",29.7,0,\"no\",\"southeast\",4399.731],[\"male\",21.375,0,\"no\",\"northwest\",7222.78625],[\"male\",31.35,3,\"yes\",\"northwest\",46130.5265],[\"male\",36.1,3,\"no\",\"southwest\",12363.547],[\"male\",20.3,0,\"no\",\"southwest\",1242.26],[\"male\",35.3,2,\"yes\",\"southwest\",40103.89],[\"male\",24.32,0,\"no\",\"northwest\",9863.4718],[\"male\",26.41,2,\"no\",\"northeast\",11244.3769],[\"male\",26.125,2,\"no\",\"northeast\",7729.64575],[\"male\",41.69,0,\"no\",\"southeast\",5438.7491],[\"male\",31.13,1,\"yes\",\"southeast\",34806.4677],[\"male\",27.36,0,\"no\",\"northeast\",2104.1134],[\"male\",36.2,1,\"no\",\"southwest\",8068.185],[\"male\",32.395,1,\"no\",\"northwest\",2362.22905],[\"male\",23.655,0,\"no\",\"northwest\",2352.96845],[\"male\",35.75,1,\"yes\",\"southeast\",40273.6455],[\"male\",33.725,0,\"no\",\"northwest\",10976.24575],[\"male\",41.47,0,\"no\",\"southeast\",9504.3103],[\"male\",28.69,3,\"no\",\"northwest\",10264.4421],[\"male\",35.2,1,\"no\",\"southeast\",1727.54],[\"male\",40.47,0,\"no\",\"northeast\",1984.4533],[\"male\",28.9,0,\"no\",\"southwest\",12146.971],[\"male\",24.32,1,\"no\",\"northwest\",13112.6048],[\"male\",36.6,3,\"no\",\"southwest\",11264.541],[\"male\",37.4,0,\"no\",\"southwest\",12979.358],[\"male\",35.4,0,\"no\",\"southwest\",1263.249],[\"male\",28.405,1,\"no\",\"northwest\",6664.68595],[\"male\",24.42,3,\"yes\",\"southeast\",19361.9988],[\"male\",21.4,1,\"no\",\"southwest\",10065.413],[\"male\",23.7,2,\"no\",\"southwest\",3484.331],[\"male\",31.73,3,\"yes\",\"northeast\",36189.1017],[\"male\",35.5,2,\"yes\",\"southwest\",44585.45587],[\"male\",24.035,2,\"no\",\"northeast\",8604.48365],[\"male\",29.15,0,\"yes\",\"southeast\",18246.4955],[\"male\",34.105,0,\"yes\",\"northeast\",43254.41795],[\"male\",26.41,0,\"no\",\"northwest\",8827.2099],[\"male\",27.0,2,\"no\",\"southwest\",11737.84884],[\"male\",21.755,0,\"no\",\"northwest\",1627.28245],[\"male\",30.875,0,\"no\",\"northwest\",3062.50825],[\"male\",28.975,0,\"no\",\"northwest\",1906.35825],[\"male\",37.905,0,\"no\",\"northwest\",14210.53595],[\"male\",33.63,4,\"no\",\"northeast\",17128.42608],[\"male\",27.645,2,\"no\",\"northeast\",5031.26955],[\"male\",37.43,3,\"no\",\"northeast\",5428.7277],[\"male\",38.17,0,\"yes\",\"southeast\",36307.7983],[\"male\",35.2,1,\"no\",\"southwest\",2416.955],[\"male\",27.1,1,\"yes\",\"southwest\",19040.876],[\"male\",26.03,0,\"no\",\"northeast\",3070.8087],[\"male\",32.3,1,\"no\",\"southwest\",8062.764],[\"male\",36.1,3,\"no\",\"southwest\",27941.28758],[\"male\",34.2,2,\"no\",\"northwest\",7261.741],[\"male\",33.33,3,\"no\",\"southeast\",10560.4917],[\"male\",32.3,2,\"no\",\"northwest\",6986.697],[\"male\",39.805,0,\"no\",\"northeast\",7448.40395],[\"male\",34.32,3,\"no\",\"southeast\",5934.3798],[\"male\",28.88,0,\"no\",\"northwest\",9869.8102],[\"male\",24.4,3,\"yes\",\"southwest\",18259.216],[\"male\",41.14,0,\"no\",\"southeast\",1146.7966],[\"male\",35.97,1,\"no\",\"southeast\",9386.1613],[\"male\",36.955,0,\"no\",\"northeast\",12741.16745],[\"male\",36.86,0,\"no\",\"northwest\",1917.3184],[\"male\",22.515,3,\"no\",\"northeast\",5209.57885],[\"male\",27.6,0,\"no\",\"southwest\",1252.407],[\"male\",20.9,0,\"yes\",\"southeast\",21195.818],[\"male\",28.5,0,\"yes\",\"northwest\",18310.742],[\"male\",44.22,2,\"no\",\"southeast\",4266.1658],[\"male\",24.795,0,\"yes\",\"northeast\",17904.52705],[\"male\",22.3,1,\"no\",\"southwest\",2103.08],[\"male\",26.51,0,\"no\",\"southeast\",1815.8759],[\"male\",30.14,0,\"no\",\"southeast\",1131.5066],[\"male\",25.84,1,\"no\",\"northeast\",3309.7926],[\"male\",21.01,2,\"no\",\"southeast\",11013.7119],[\"male\",22.515,2,\"no\",\"northeast\",4428.88785],[\"male\",34.43,2,\"no\",\"southeast\",5584.3057],[\"male\",37.1,3,\"no\",\"southwest\",3597.596],[\"male\",33.7,1,\"no\",\"southwest\",7445.918],[\"male\",17.67,0,\"no\",\"northwest\",2680.9493],[\"male\",24.32,0,\"no\",\"northwest\",12523.6048],[\"male\",31.79,2,\"yes\",\"southeast\",43813.8661],[\"male\",28.025,1,\"yes\",\"northeast\",20773.62775],[\"male\",30.78,3,\"yes\",\"northeast\",39597.4072],[\"male\",21.85,1,\"no\",\"northwest\",6117.4945],[\"male\",33.1,0,\"no\",\"southwest\",13393.756],[\"male\",34.39,0,\"no\",\"northwest\",11743.9341],[\"male\",33.82,1,\"no\",\"northwest\",5377.4578],[\"male\",35.97,2,\"no\",\"southeast\",7160.3303],[\"male\",31.5,0,\"no\",\"southwest\",4402.233],[\"male\",31.1,0,\"no\",\"southwest\",1526.312],[\"male\",24.7,0,\"no\",\"northeast\",12323.936],[\"male\",30.495,0,\"no\",\"northeast\",10072.05505],[\"male\",50.38,1,\"no\",\"southeast\",2438.0552],[\"male\",32.775,0,\"no\",\"northwest\",10601.63225],[\"male\",32.3,2,\"no\",\"northwest\",14119.62],[\"male\",24.13,0,\"yes\",\"northwest\",15817.9857],[\"male\",28.1,0,\"no\",\"southwest\",10965.446],[\"male\",25.4,0,\"no\",\"southwest\",8782.469],[\"male\",29.9,2,\"no\",\"southwest\",6600.361],[\"male\",37.29,0,\"no\",\"southeast\",1141.4451],[\"male\",43.7,1,\"no\",\"southwest\",11576.13],[\"male\",23.655,0,\"no\",\"northeast\",13129.60345],[\"male\",36.2,0,\"no\",\"southwest\",8457.818],[\"male\",24.86,0,\"no\",\"southeast\",5966.8874],[\"male\",30.1,1,\"no\",\"southwest\",6849.026],[\"male\",21.85,3,\"no\",\"northeast\",8891.1395],[\"male\",33.44,5,\"no\",\"southeast\",6653.7886],[\"male\",28.8,1,\"no\",\"southwest\",6282.235],[\"male\",34.8,3,\"no\",\"southwest\",3443.064],[\"male\",27.36,1,\"no\",\"northwest\",2789.0574],[\"male\",26.695,4,\"no\",\"northwest\",4877.98105],[\"male\",28.93,1,\"yes\",\"southeast\",19719.6947],[\"male\",28.975,0,\"yes\",\"northeast\",27218.43725],[\"male\",39.5,0,\"no\",\"southwest\",1682.597],[\"male\",33.63,1,\"no\",\"northwest\",11945.1327],[\"male\",24.035,0,\"no\",\"northeast\",10422.91665],[\"male\",38.94,2,\"yes\",\"southeast\",44202.6536],[\"male\",32.11,0,\"no\",\"northeast\",13555.0049],[\"male\",25.555,1,\"no\",\"northwest\",2221.56445],[\"male\",22.515,0,\"no\",\"northeast\",8688.85885],[\"male\",40.92,0,\"yes\",\"southeast\",48673.5588],[\"male\",27.265,3,\"no\",\"northeast\",4661.28635],[\"male\",36.85,0,\"no\",\"southeast\",8125.7845],[\"male\",32.585,3,\"no\",\"northeast\",4846.92015],[\"male\",39.8,3,\"no\",\"southwest\",15170.069],[\"male\",28.31,1,\"no\",\"northwest\",2639.0429],[\"male\",31.73,0,\"yes\",\"northeast\",33732.6867],[\"male\",24.605,2,\"no\",\"northwest\",5257.50795],[\"male\",22.895,0,\"yes\",\"northeast\",35069.37452],[\"male\",31.0,1,\"no\",\"southwest\",5488.262],[\"male\",35.815,0,\"no\",\"northwest\",4320.41085],[\"male\",23.2,0,\"no\",\"southwest\",6250.435],[\"male\",32.11,2,\"no\",\"northeast\",25333.33284],[\"male\",34.21,1,\"no\",\"southeast\",6289.7549],[\"male\",46.53,1,\"no\",\"southeast\",2927.0647],[\"male\",25.8,5,\"no\",\"southwest\",10096.97],[\"male\",37.18,2,\"no\",\"southeast\",4673.3922],[\"male\",29.735,2,\"no\",\"northeast\",32108.66282],[\"male\",26.18,2,\"no\",\"southeast\",2304.0022],[\"male\",29.48,0,\"no\",\"southeast\",9487.6442],[\"male\",23.21,0,\"no\",\"southeast\",1121.8739],[\"male\",22.61,0,\"no\",\"northwest\",1628.4709],[\"male\",39.93,0,\"no\",\"southeast\",12982.8747],[\"male\",35.8,2,\"no\",\"southwest\",7160.094],[\"male\",34.2,1,\"yes\",\"northeast\",39047.285],[\"male\",31.255,0,\"no\",\"northwest\",6358.77645],[\"male\",29.7,3,\"yes\",\"southwest\",19933.458],[\"male\",18.335,0,\"no\",\"northeast\",11534.87265],[\"male\",42.9,2,\"yes\",\"southeast\",47462.894],[\"male\",30.2,2,\"yes\",\"southwest\",38998.546],[\"male\",27.835,1,\"yes\",\"northwest\",20009.63365],[\"male\",39.49,1,\"no\",\"southeast\",3875.7341],[\"male\",30.8,1,\"yes\",\"southeast\",41999.52],[\"male\",26.79,1,\"no\",\"northwest\",12609.88702],[\"male\",34.96,1,\"yes\",\"northeast\",41034.2214],[\"male\",36.67,1,\"no\",\"northwest\",28468.91901],[\"male\",24.795,3,\"no\",\"northeast\",9500.57305],[\"male\",36.765,2,\"no\",\"northwest\",26467.09737],[\"male\",27.1,1,\"no\",\"southwest\",4746.344],[\"male\",24.795,2,\"yes\",\"northwest\",23967.38305],[\"male\",25.365,1,\"no\",\"northwest\",7518.02535],[\"male\",25.745,2,\"no\",\"northeast\",3279.86855],[\"male\",35.42,0,\"no\",\"southeast\",2322.6218],[\"male\",22.895,0,\"yes\",\"northeast\",16138.76205],[\"male\",40.15,0,\"no\",\"southeast\",7804.1605],[\"male\",29.15,1,\"no\",\"southeast\",2902.9065],[\"male\",25.46,1,\"no\",\"northeast\",25517.11363],[\"male\",21.375,0,\"no\",\"northeast\",4500.33925],[\"male\",25.9,3,\"yes\",\"southwest\",19199.944],[\"male\",30.115,5,\"no\",\"northeast\",4915.05985],[\"male\",30.115,3,\"no\",\"northwest\",8410.04685],[\"male\",34.675,0,\"no\",\"northeast\",4518.82625],[\"male\",28.27,1,\"no\",\"southeast\",5484.4673],[\"male\",22.99,2,\"yes\",\"northwest\",17361.7661],[\"male\",32.7,0,\"yes\",\"southwest\",34472.841],[\"male\",25.8,0,\"no\",\"southwest\",1972.95],[\"male\",29.6,0,\"no\",\"southwest\",21232.18226],[\"male\",19.19,1,\"no\",\"northeast\",8627.5411],[\"male\",31.73,2,\"no\",\"northwest\",4433.3877],[\"male\",29.26,2,\"no\",\"northeast\",4438.2634],[\"male\",28.215,3,\"yes\",\"northwest\",24915.22085],[\"male\",24.985,2,\"no\",\"northeast\",23241.47453],[\"male\",27.74,1,\"no\",\"northeast\",9957.7216],[\"male\",20.13,2,\"yes\",\"southeast\",18767.7377],[\"male\",32.3,1,\"no\",\"northwest\",8765.249],[\"male\",25.46,0,\"no\",\"northwest\",12124.9924],[\"male\",37.0,0,\"no\",\"southwest\",8798.593],[\"male\",36.08,1,\"yes\",\"southeast\",42211.1382],[\"male\",23.32,1,\"no\",\"southeast\",1711.0268],[\"male\",26.03,1,\"yes\",\"northwest\",16450.8947],[\"male\",18.715,0,\"no\",\"northwest\",21595.38229],[\"male\",31.6,0,\"no\",\"southwest\",9850.432],[\"male\",21.565,0,\"yes\",\"northeast\",13747.87235],[\"male\",38.38,0,\"no\",\"northwest\",12950.0712],[\"male\",37.07,2,\"yes\",\"southeast\",37484.4493],[\"male\",28.88,0,\"no\",\"northeast\",2250.8352],[\"male\",27.265,2,\"no\",\"northwest\",22493.65964],[\"male\",23.085,0,\"no\",\"northeast\",1704.70015],[\"male\",30.685,0,\"yes\",\"northeast\",33475.81715],[\"male\",35.245,1,\"no\",\"northeast\",11394.06555],[\"male\",52.58,1,\"yes\",\"southeast\",44501.3982],[\"male\",30.9,0,\"yes\",\"southwest\",39727.614],[\"male\",26.41,0,\"no\",\"northeast\",14394.5579],[\"male\",29.83,1,\"no\",\"northeast\",9288.0267],[\"male\",29.8,3,\"yes\",\"southwest\",25309.489],[\"male\",27.645,0,\"no\",\"northwest\",10594.50155],[\"male\",33.82,1,\"no\",\"northwest\",4462.7218],[\"male\",32.01,0,\"no\",\"southeast\",1981.5819],[\"male\",27.94,1,\"no\",\"southeast\",11554.2236],[\"male\",41.14,1,\"yes\",\"southeast\",48970.2476],[\"male\",28.595,3,\"no\",\"northwest\",6548.19505],[\"male\",37.29,2,\"no\",\"southeast\",8978.1851],[\"male\",42.655,0,\"no\",\"northeast\",5757.41345],[\"male\",21.66,1,\"no\",\"northwest\",14349.8544],[\"male\",37.07,1,\"yes\",\"southeast\",39871.7043],[\"male\",31.445,0,\"no\",\"northeast\",13974.45555],[\"male\",31.255,0,\"no\",\"northwest\",1909.52745],[\"male\",26.03,0,\"no\",\"northeast\",2102.2647],[\"male\",31.68,0,\"yes\",\"southeast\",34672.1472],[\"male\",33.66,3,\"no\",\"southeast\",15161.5344],[\"male\",21.78,2,\"no\",\"southeast\",11884.04858],[\"male\",27.835,1,\"no\",\"northwest\",4454.40265],[\"male\",19.95,1,\"no\",\"northwest\",5855.9025],[\"male\",31.5,1,\"no\",\"southwest\",4076.497],[\"male\",28.975,0,\"no\",\"northeast\",10796.35025],[\"male\",31.54,0,\"no\",\"northwest\",11353.2276],[\"male\",47.74,1,\"no\",\"southeast\",9748.9106],[\"male\",22.1,0,\"no\",\"southwest\",10577.087],[\"male\",36.19,0,\"yes\",\"southeast\",41676.0811],[\"male\",32.7,3,\"no\",\"southwest\",3591.48],[\"male\",33.77,0,\"no\",\"southeast\",1674.6323],[\"male\",28.6,3,\"no\",\"southwest\",11253.421],[\"male\",38.94,1,\"no\",\"southeast\",3471.4096],[\"male\",36.08,0,\"no\",\"southeast\",11363.2832],[\"male\",29.8,0,\"no\",\"southwest\",20420.60465],[\"male\",30.0,1,\"no\",\"southwest\",2904.088],[\"male\",20.35,3,\"no\",\"southeast\",8605.3615],[\"male\",38.39,3,\"yes\",\"southeast\",41949.2441],[\"male\",24.51,0,\"no\",\"northeast\",2396.0959],[\"male\",32.67,1,\"no\",\"southeast\",10807.4863],[\"male\",29.64,5,\"no\",\"northeast\",9222.4026],[\"male\",33.33,2,\"yes\",\"southeast\",36124.5737],[\"male\",35.75,1,\"yes\",\"southeast\",38282.7495],[\"male\",38.17,2,\"no\",\"southeast\",8347.1643],[\"male\",29.9,0,\"no\",\"southwest\",10214.636],[\"male\",32.8,1,\"no\",\"southwest\",14358.36437],[\"male\",45.9,2,\"no\",\"southwest\",3693.428],[\"male\",40.28,0,\"no\",\"northeast\",20709.02034],[\"male\",33.82,0,\"no\",\"northwest\",19673.33573],[\"male\",30.25,0,\"no\",\"southeast\",3704.3545],[\"male\",37.07,1,\"no\",\"southeast\",9048.0273],[\"male\",32.34,2,\"no\",\"southeast\",6338.0756],[\"male\",32.3,2,\"no\",\"southwest\",9630.397],[\"male\",32.775,3,\"no\",\"northwest\",11289.10925],[\"male\",32.8,0,\"yes\",\"southwest\",52590.82939],[\"male\",21.5,1,\"no\",\"southwest\",10791.96],[\"male\",34.1,0,\"no\",\"southwest\",5979.731],[\"male\",44.88,0,\"yes\",\"southeast\",39722.7462],[\"male\",42.13,2,\"no\",\"southeast\",5124.1887],[\"male\",38.83,1,\"no\",\"southeast\",18963.17192],[\"male\",40.37,0,\"no\",\"southeast\",10982.5013],[\"male\",35.2,2,\"no\",\"southwest\",4670.64],[\"male\",27.36,1,\"yes\",\"northeast\",17178.6824],[\"male\",29.26,2,\"no\",\"northwest\",6457.8434],[\"male\",32.11,2,\"no\",\"northwest\",4433.9159],[\"male\",29.81,0,\"yes\",\"southeast\",19350.3689],[\"male\",23.56,2,\"no\",\"northeast\",8603.8234],[\"male\",35.625,3,\"yes\",\"northwest\",37465.34375],[\"male\",33.55,0,\"no\",\"southeast\",5699.8375],[\"male\",29.355,1,\"no\",\"northwest\",6393.60345],[\"male\",24.32,2,\"no\",\"northwest\",6198.7518],[\"male\",40.375,2,\"no\",\"northwest\",8733.22925],[\"male\",32.11,0,\"no\",\"northwest\",2055.3249],[\"male\",32.3,1,\"no\",\"northeast\",9964.06],[\"male\",17.86,1,\"no\",\"northwest\",5116.5004],[\"male\",33.4,2,\"yes\",\"southwest\",38415.474],[\"male\",37.1,1,\"no\",\"southwest\",12347.172],[\"male\",30.875,1,\"no\",\"northwest\",5373.36425],[\"male\",34.1,2,\"no\",\"southeast\",23563.01618],[\"male\",21.47,0,\"no\",\"northeast\",1702.4553],[\"male\",39.14,0,\"no\",\"northeast\",12890.05765],[\"male\",25.08,0,\"no\",\"southeast\",5415.6612],[\"male\",37.29,2,\"no\",\"southeast\",4058.1161],[\"male\",24.97,2,\"no\",\"southeast\",6593.5083],[\"male\",25.3,0,\"no\",\"southeast\",8442.667],[\"male\",23.94,1,\"no\",\"northeast\",6858.4796],[\"male\",16.815,2,\"no\",\"northeast\",6640.54485],[\"male\",37.18,2,\"no\",\"southeast\",7162.0122],[\"male\",34.43,0,\"no\",\"southeast\",10594.2257],[\"male\",30.305,0,\"no\",\"northeast\",11938.25595],[\"male\",34.485,3,\"yes\",\"northwest\",60021.39897],[\"male\",23.3,0,\"no\",\"southwest\",11345.519],[\"male\",31.065,0,\"no\",\"northwest\",2699.56835],[\"male\",22.705,3,\"no\",\"northeast\",6985.50695],[\"male\",41.8,2,\"yes\",\"southeast\",47269.854],[\"male\",36.96,2,\"yes\",\"southeast\",49577.6624],[\"male\",33.33,0,\"no\",\"southeast\",1135.9407],[\"male\",24.3,5,\"no\",\"southwest\",5615.369],[\"male\",29.4,4,\"no\",\"southwest\",6059.173],[\"male\",33.63,1,\"yes\",\"northeast\",37607.5277],[\"male\",29.83,0,\"yes\",\"northeast\",18648.4217],[\"male\",19.8,0,\"no\",\"southwest\",1241.565],[\"male\",27.3,0,\"yes\",\"southwest\",16232.847],[\"male\",37.715,3,\"no\",\"northwest\",30063.58055],[\"male\",37.1,1,\"no\",\"southwest\",3277.161],[\"male\",23.76,0,\"yes\",\"southeast\",26926.5144],[\"male\",31.065,0,\"yes\",\"northeast\",34254.05335],[\"male\",27.5,3,\"no\",\"southwest\",8615.3],[\"male\",33.915,1,\"no\",\"northwest\",3292.52985],[\"male\",25.52,5,\"no\",\"southeast\",14478.33015],[\"male\",27.61,1,\"no\",\"southeast\",4747.0529],[\"male\",27.06,0,\"yes\",\"southeast\",17043.3414],[\"male\",23.7,0,\"no\",\"southwest\",10959.33],[\"male\",29.925,1,\"yes\",\"northeast\",22462.04375],[\"male\",30.03,1,\"no\",\"southeast\",1720.3537],[\"male\",36.3,1,\"yes\",\"southwest\",47403.88],[\"male\",39.4,2,\"yes\",\"southwest\",38344.566],[\"male\",34.32,1,\"no\",\"southeast\",7147.4728],[\"male\",34.9,0,\"yes\",\"southwest\",34828.654],[\"male\",23.21,0,\"no\",\"southeast\",1515.3449],[\"male\",25.745,3,\"no\",\"northwest\",9301.89355],[\"male\",25.175,0,\"no\",\"northeast\",11931.12525],[\"male\",22.0,1,\"no\",\"southwest\",1964.78],[\"male\",26.125,0,\"no\",\"northeast\",1708.92575],[\"male\",27.455,2,\"no\",\"northwest\",5261.46945],[\"male\",30.36,0,\"yes\",\"southeast\",62592.87309],[\"male\",30.875,3,\"yes\",\"northwest\",46718.16325],[\"male\",27.8,0,\"yes\",\"southwest\",37829.7242],[\"male\",24.605,2,\"yes\",\"northeast\",21259.37795],[\"male\",28.12,4,\"yes\",\"northwest\",21472.4788],[\"male\",32.2,2,\"no\",\"southwest\",6875.961],[\"male\",26.315,1,\"no\",\"northwest\",6940.90985],[\"male\",42.9,1,\"no\",\"southwest\",4536.259],[\"male\",28.31,1,\"no\",\"northeast\",11272.33139],[\"male\",53.13,0,\"no\",\"southeast\",1163.4627],[\"male\",39.71,4,\"no\",\"northeast\",19496.71917],[\"male\",31.065,3,\"no\",\"northwest\",5425.02335],[\"male\",26.695,0,\"yes\",\"northeast\",28101.33305],[\"male\",38.83,0,\"no\",\"southeast\",12981.3457],[\"male\",25.935,1,\"no\",\"northwest\",4239.89265],[\"male\",33.535,0,\"no\",\"northeast\",13143.33665],[\"male\",30.03,1,\"no\",\"southeast\",9377.9047],[\"male\",38.6,2,\"no\",\"southwest\",10325.206],[\"male\",30.97,3,\"no\",\"northwest\",10600.5483]],\"hovertemplate\":\"sex=%{customdata[0]}<br>age=%{y}<br>bmi=%{customdata[1]}<br>children=%{customdata[2]}<br>smoker=%{customdata[3]}<br>region=%{customdata[4]}<br>charges=%{customdata[5]}<extra></extra>\",\"legendgroup\":\"male\",\"marker\":{\"color\":\"#EF553B\"},\"name\":\"male\",\"offsetgroup\":\"male\",\"orientation\":\"v\",\"scalegroup\":\"True\",\"showlegend\":true,\"x0\":\" \",\"xaxis\":\"x\",\"y\":[18,28,33,32,37,25,23,27,19,23,56,30,18,37,23,31,22,63,28,19,26,35,60,41,38,55,36,48,36,58,18,43,25,64,40,28,31,58,44,57,21,31,22,45,59,35,55,56,38,30,20,26,29,63,54,37,52,60,58,44,18,44,38,19,19,22,34,26,34,29,30,46,19,35,48,44,48,18,30,54,37,47,27,63,49,18,38,54,58,22,44,36,61,25,18,19,46,59,35,40,20,40,24,27,32,19,42,55,28,47,59,39,31,19,44,40,54,24,19,29,18,54,27,50,56,51,19,52,19,46,40,45,49,18,50,41,50,25,19,59,54,30,46,52,29,25,25,18,19,47,31,36,29,58,50,43,49,52,50,54,32,34,34,57,29,40,45,52,52,64,60,62,50,62,63,33,46,19,33,46,46,47,23,35,44,18,26,20,24,62,55,55,44,19,50,48,48,49,46,21,64,47,49,31,38,32,19,25,52,64,64,61,40,25,48,45,19,42,31,60,22,35,26,18,56,60,35,39,30,24,20,32,59,56,42,56,19,27,54,61,24,25,21,23,63,49,48,19,53,61,21,20,45,29,43,51,19,37,22,21,56,27,51,19,39,58,20,45,31,42,46,18,57,59,37,64,38,53,54,49,28,63,62,28,46,34,19,27,50,41,48,22,52,59,19,39,19,21,47,20,41,43,51,28,30,49,30,37,18,59,36,33,58,53,24,40,51,64,39,56,33,42,61,43,48,39,18,27,37,18,43,49,62,30,36,45,60,56,19,39,53,53,42,40,27,21,47,20,24,41,56,53,49,18,20,60,60,53,62,19,41,35,53,26,23,29,45,27,53,50,34,19,28,21,64,24,31,30,18,23,33,27,47,61,41,51,40,45,35,53,30,18,51,60,21,29,19,53,27,30,33,21,23,18,25,54,28,36,23,45,26,60,56,36,41,39,63,58,36,42,36,21,59,53,23,55,61,25,57,51,40,18,57,61,50,42,43,44,33,41,22,23,25,32,57,22,57,54,47,62,19,49,60,26,49,27,63,22,18,33,45,38,34,43,50,41,26,46,32,44,18,53,18,19,62,42,37,42,25,57,51,44,34,31,54,24,43,48,46,52,35,51,44,21,26,29,48,26,54,34,31,20,43,34,38,30,24,24,48,47,29,28,47,25,51,43,48,59,51,47,18,19,23,54,18,61,22,22,19,18,20,55,22,49,64,49,47,55,32,24,57,59,36,48,39,63,37,63,21,21,28,63,18,32,38,32,55,57,52,56,47,23,22,53,29,58,37,26,45,38,23,55,41,25,33,46,55,34,27,57,28,33,50,39,50,52,60,55,42,19,34,30,57,32,18,38,29,31,45,20,41,40,37,46,22,51,35,36,59,36,39,18,18,40,29,40,50,41,38,42,56,58,52,58,26,37,52,64,18,28,33,32,24,19,20,55,28,64,24,45,26,43,35,26,57,39,18,61,20,44,19,21,46,58,20,18,33,45,62,43,42,32,41,42,34,18,18,35,31,62,62,31,61,51,52,50],\"y0\":\" \",\"yaxis\":\"y\",\"type\":\"violin\"}],                        {\"template\":{\"data\":{\"bar\":[{\"error_x\":{\"color\":\"#2a3f5f\"},\"error_y\":{\"color\":\"#2a3f5f\"},\"marker\":{\"line\":{\"color\":\"#E5ECF6\",\"width\":0.5},\"pattern\":{\"fillmode\":\"overlay\",\"size\":10,\"solidity\":0.2}},\"type\":\"bar\"}],\"barpolar\":[{\"marker\":{\"line\":{\"color\":\"#E5ECF6\",\"width\":0.5},\"pattern\":{\"fillmode\":\"overlay\",\"size\":10,\"solidity\":0.2}},\"type\":\"barpolar\"}],\"carpet\":[{\"aaxis\":{\"endlinecolor\":\"#2a3f5f\",\"gridcolor\":\"white\",\"linecolor\":\"white\",\"minorgridcolor\":\"white\",\"startlinecolor\":\"#2a3f5f\"},\"baxis\":{\"endlinecolor\":\"#2a3f5f\",\"gridcolor\":\"white\",\"linecolor\":\"white\",\"minorgridcolor\":\"white\",\"startlinecolor\":\"#2a3f5f\"},\"type\":\"carpet\"}],\"choropleth\":[{\"colorbar\":{\"outlinewidth\":0,\"ticks\":\"\"},\"type\":\"choropleth\"}],\"contour\":[{\"colorbar\":{\"outlinewidth\":0,\"ticks\":\"\"},\"colorscale\":[[0.0,\"#0d0887\"],[0.1111111111111111,\"#46039f\"],[0.2222222222222222,\"#7201a8\"],[0.3333333333333333,\"#9c179e\"],[0.4444444444444444,\"#bd3786\"],[0.5555555555555556,\"#d8576b\"],[0.6666666666666666,\"#ed7953\"],[0.7777777777777778,\"#fb9f3a\"],[0.8888888888888888,\"#fdca26\"],[1.0,\"#f0f921\"]],\"type\":\"contour\"}],\"contourcarpet\":[{\"colorbar\":{\"outlinewidth\":0,\"ticks\":\"\"},\"type\":\"contourcarpet\"}],\"heatmap\":[{\"colorbar\":{\"outlinewidth\":0,\"ticks\":\"\"},\"colorscale\":[[0.0,\"#0d0887\"],[0.1111111111111111,\"#46039f\"],[0.2222222222222222,\"#7201a8\"],[0.3333333333333333,\"#9c179e\"],[0.4444444444444444,\"#bd3786\"],[0.5555555555555556,\"#d8576b\"],[0.6666666666666666,\"#ed7953\"],[0.7777777777777778,\"#fb9f3a\"],[0.8888888888888888,\"#fdca26\"],[1.0,\"#f0f921\"]],\"type\":\"heatmap\"}],\"heatmapgl\":[{\"colorbar\":{\"outlinewidth\":0,\"ticks\":\"\"},\"colorscale\":[[0.0,\"#0d0887\"],[0.1111111111111111,\"#46039f\"],[0.2222222222222222,\"#7201a8\"],[0.3333333333333333,\"#9c179e\"],[0.4444444444444444,\"#bd3786\"],[0.5555555555555556,\"#d8576b\"],[0.6666666666666666,\"#ed7953\"],[0.7777777777777778,\"#fb9f3a\"],[0.8888888888888888,\"#fdca26\"],[1.0,\"#f0f921\"]],\"type\":\"heatmapgl\"}],\"histogram\":[{\"marker\":{\"pattern\":{\"fillmode\":\"overlay\",\"size\":10,\"solidity\":0.2}},\"type\":\"histogram\"}],\"histogram2d\":[{\"colorbar\":{\"outlinewidth\":0,\"ticks\":\"\"},\"colorscale\":[[0.0,\"#0d0887\"],[0.1111111111111111,\"#46039f\"],[0.2222222222222222,\"#7201a8\"],[0.3333333333333333,\"#9c179e\"],[0.4444444444444444,\"#bd3786\"],[0.5555555555555556,\"#d8576b\"],[0.6666666666666666,\"#ed7953\"],[0.7777777777777778,\"#fb9f3a\"],[0.8888888888888888,\"#fdca26\"],[1.0,\"#f0f921\"]],\"type\":\"histogram2d\"}],\"histogram2dcontour\":[{\"colorbar\":{\"outlinewidth\":0,\"ticks\":\"\"},\"colorscale\":[[0.0,\"#0d0887\"],[0.1111111111111111,\"#46039f\"],[0.2222222222222222,\"#7201a8\"],[0.3333333333333333,\"#9c179e\"],[0.4444444444444444,\"#bd3786\"],[0.5555555555555556,\"#d8576b\"],[0.6666666666666666,\"#ed7953\"],[0.7777777777777778,\"#fb9f3a\"],[0.8888888888888888,\"#fdca26\"],[1.0,\"#f0f921\"]],\"type\":\"histogram2dcontour\"}],\"mesh3d\":[{\"colorbar\":{\"outlinewidth\":0,\"ticks\":\"\"},\"type\":\"mesh3d\"}],\"parcoords\":[{\"line\":{\"colorbar\":{\"outlinewidth\":0,\"ticks\":\"\"}},\"type\":\"parcoords\"}],\"pie\":[{\"automargin\":true,\"type\":\"pie\"}],\"scatter\":[{\"marker\":{\"colorbar\":{\"outlinewidth\":0,\"ticks\":\"\"}},\"type\":\"scatter\"}],\"scatter3d\":[{\"line\":{\"colorbar\":{\"outlinewidth\":0,\"ticks\":\"\"}},\"marker\":{\"colorbar\":{\"outlinewidth\":0,\"ticks\":\"\"}},\"type\":\"scatter3d\"}],\"scattercarpet\":[{\"marker\":{\"colorbar\":{\"outlinewidth\":0,\"ticks\":\"\"}},\"type\":\"scattercarpet\"}],\"scattergeo\":[{\"marker\":{\"colorbar\":{\"outlinewidth\":0,\"ticks\":\"\"}},\"type\":\"scattergeo\"}],\"scattergl\":[{\"marker\":{\"colorbar\":{\"outlinewidth\":0,\"ticks\":\"\"}},\"type\":\"scattergl\"}],\"scattermapbox\":[{\"marker\":{\"colorbar\":{\"outlinewidth\":0,\"ticks\":\"\"}},\"type\":\"scattermapbox\"}],\"scatterpolar\":[{\"marker\":{\"colorbar\":{\"outlinewidth\":0,\"ticks\":\"\"}},\"type\":\"scatterpolar\"}],\"scatterpolargl\":[{\"marker\":{\"colorbar\":{\"outlinewidth\":0,\"ticks\":\"\"}},\"type\":\"scatterpolargl\"}],\"scatterternary\":[{\"marker\":{\"colorbar\":{\"outlinewidth\":0,\"ticks\":\"\"}},\"type\":\"scatterternary\"}],\"surface\":[{\"colorbar\":{\"outlinewidth\":0,\"ticks\":\"\"},\"colorscale\":[[0.0,\"#0d0887\"],[0.1111111111111111,\"#46039f\"],[0.2222222222222222,\"#7201a8\"],[0.3333333333333333,\"#9c179e\"],[0.4444444444444444,\"#bd3786\"],[0.5555555555555556,\"#d8576b\"],[0.6666666666666666,\"#ed7953\"],[0.7777777777777778,\"#fb9f3a\"],[0.8888888888888888,\"#fdca26\"],[1.0,\"#f0f921\"]],\"type\":\"surface\"}],\"table\":[{\"cells\":{\"fill\":{\"color\":\"#EBF0F8\"},\"line\":{\"color\":\"white\"}},\"header\":{\"fill\":{\"color\":\"#C8D4E3\"},\"line\":{\"color\":\"white\"}},\"type\":\"table\"}]},\"layout\":{\"annotationdefaults\":{\"arrowcolor\":\"#2a3f5f\",\"arrowhead\":0,\"arrowwidth\":1},\"autotypenumbers\":\"strict\",\"coloraxis\":{\"colorbar\":{\"outlinewidth\":0,\"ticks\":\"\"}},\"colorscale\":{\"diverging\":[[0,\"#8e0152\"],[0.1,\"#c51b7d\"],[0.2,\"#de77ae\"],[0.3,\"#f1b6da\"],[0.4,\"#fde0ef\"],[0.5,\"#f7f7f7\"],[0.6,\"#e6f5d0\"],[0.7,\"#b8e186\"],[0.8,\"#7fbc41\"],[0.9,\"#4d9221\"],[1,\"#276419\"]],\"sequential\":[[0.0,\"#0d0887\"],[0.1111111111111111,\"#46039f\"],[0.2222222222222222,\"#7201a8\"],[0.3333333333333333,\"#9c179e\"],[0.4444444444444444,\"#bd3786\"],[0.5555555555555556,\"#d8576b\"],[0.6666666666666666,\"#ed7953\"],[0.7777777777777778,\"#fb9f3a\"],[0.8888888888888888,\"#fdca26\"],[1.0,\"#f0f921\"]],\"sequentialminus\":[[0.0,\"#0d0887\"],[0.1111111111111111,\"#46039f\"],[0.2222222222222222,\"#7201a8\"],[0.3333333333333333,\"#9c179e\"],[0.4444444444444444,\"#bd3786\"],[0.5555555555555556,\"#d8576b\"],[0.6666666666666666,\"#ed7953\"],[0.7777777777777778,\"#fb9f3a\"],[0.8888888888888888,\"#fdca26\"],[1.0,\"#f0f921\"]]},\"colorway\":[\"#636efa\",\"#EF553B\",\"#00cc96\",\"#ab63fa\",\"#FFA15A\",\"#19d3f3\",\"#FF6692\",\"#B6E880\",\"#FF97FF\",\"#FECB52\"],\"font\":{\"color\":\"#2a3f5f\"},\"geo\":{\"bgcolor\":\"white\",\"lakecolor\":\"white\",\"landcolor\":\"#E5ECF6\",\"showlakes\":true,\"showland\":true,\"subunitcolor\":\"white\"},\"hoverlabel\":{\"align\":\"left\"},\"hovermode\":\"closest\",\"mapbox\":{\"style\":\"light\"},\"paper_bgcolor\":\"white\",\"plot_bgcolor\":\"#E5ECF6\",\"polar\":{\"angularaxis\":{\"gridcolor\":\"white\",\"linecolor\":\"white\",\"ticks\":\"\"},\"bgcolor\":\"#E5ECF6\",\"radialaxis\":{\"gridcolor\":\"white\",\"linecolor\":\"white\",\"ticks\":\"\"}},\"scene\":{\"xaxis\":{\"backgroundcolor\":\"#E5ECF6\",\"gridcolor\":\"white\",\"gridwidth\":2,\"linecolor\":\"white\",\"showbackground\":true,\"ticks\":\"\",\"zerolinecolor\":\"white\"},\"yaxis\":{\"backgroundcolor\":\"#E5ECF6\",\"gridcolor\":\"white\",\"gridwidth\":2,\"linecolor\":\"white\",\"showbackground\":true,\"ticks\":\"\",\"zerolinecolor\":\"white\"},\"zaxis\":{\"backgroundcolor\":\"#E5ECF6\",\"gridcolor\":\"white\",\"gridwidth\":2,\"linecolor\":\"white\",\"showbackground\":true,\"ticks\":\"\",\"zerolinecolor\":\"white\"}},\"shapedefaults\":{\"line\":{\"color\":\"#2a3f5f\"}},\"ternary\":{\"aaxis\":{\"gridcolor\":\"white\",\"linecolor\":\"white\",\"ticks\":\"\"},\"baxis\":{\"gridcolor\":\"white\",\"linecolor\":\"white\",\"ticks\":\"\"},\"bgcolor\":\"#E5ECF6\",\"caxis\":{\"gridcolor\":\"white\",\"linecolor\":\"white\",\"ticks\":\"\"}},\"title\":{\"x\":0.05},\"xaxis\":{\"automargin\":true,\"gridcolor\":\"white\",\"linecolor\":\"white\",\"ticks\":\"\",\"title\":{\"standoff\":15},\"zerolinecolor\":\"white\",\"zerolinewidth\":2},\"yaxis\":{\"automargin\":true,\"gridcolor\":\"white\",\"linecolor\":\"white\",\"ticks\":\"\",\"title\":{\"standoff\":15},\"zerolinecolor\":\"white\",\"zerolinewidth\":2}}},\"xaxis\":{\"anchor\":\"y\",\"domain\":[0.0,1.0]},\"yaxis\":{\"anchor\":\"x\",\"domain\":[0.0,1.0],\"title\":{\"text\":\"age\"}},\"legend\":{\"title\":{\"text\":\"sex\"},\"tracegroupgap\":0},\"margin\":{\"t\":60},\"violinmode\":\"overlay\"},                        {\"responsive\": true}                    ).then(function(){\n",
              "                            \n",
              "var gd = document.getElementById('7c03d15c-df73-4067-9b27-72b1ef9ab70c');\n",
              "var x = new MutationObserver(function (mutations, observer) {{\n",
              "        var display = window.getComputedStyle(gd).display;\n",
              "        if (!display || display === 'none') {{\n",
              "            console.log([gd, 'removed!']);\n",
              "            Plotly.purge(gd);\n",
              "            observer.disconnect();\n",
              "        }}\n",
              "}});\n",
              "\n",
              "// Listen for the removal of the full notebook cells\n",
              "var notebookContainer = gd.closest('#notebook-container');\n",
              "if (notebookContainer) {{\n",
              "    x.observe(notebookContainer, {childList: true});\n",
              "}}\n",
              "\n",
              "// Listen for the clearing of the current output cell\n",
              "var outputEl = gd.closest('.output');\n",
              "if (outputEl) {{\n",
              "    x.observe(outputEl, {childList: true});\n",
              "}}\n",
              "\n",
              "                        })                };                            </script>        </div>\n",
              "</body>\n",
              "</html>"
            ]
          },
          "metadata": {}
        }
      ]
    },
    {
      "cell_type": "code",
      "source": [
        "medical_df.charges.corr(medical_df.age)"
      ],
      "metadata": {
        "colab": {
          "base_uri": "https://localhost:8080/"
        },
        "id": "hW2zZZSfVyHH",
        "outputId": "5f9aa096-d7d0-481c-a8ba-7a1dc8b48b07"
      },
      "execution_count": 354,
      "outputs": [
        {
          "output_type": "execute_result",
          "data": {
            "text/plain": [
              "0.2990081933306476"
            ]
          },
          "metadata": {},
          "execution_count": 354
        }
      ]
    },
    {
      "cell_type": "code",
      "source": [
        "medical_df.charges.corr(medical_df.bmi)"
      ],
      "metadata": {
        "colab": {
          "base_uri": "https://localhost:8080/"
        },
        "id": "UdYLDbWkWgnj",
        "outputId": "08ae4348-e63f-4f8b-caf7-ead066a8d8f8"
      },
      "execution_count": 355,
      "outputs": [
        {
          "output_type": "execute_result",
          "data": {
            "text/plain": [
              "0.19834096883362895"
            ]
          },
          "metadata": {},
          "execution_count": 355
        }
      ]
    },
    {
      "cell_type": "code",
      "source": [
        "medical_df.age.corr(medical_df.bmi)"
      ],
      "metadata": {
        "colab": {
          "base_uri": "https://localhost:8080/"
        },
        "id": "PMUNhzclWnHm",
        "outputId": "0b778521-e12f-45d1-ec31-00c339c2eb47"
      },
      "execution_count": 356,
      "outputs": [
        {
          "output_type": "execute_result",
          "data": {
            "text/plain": [
              "0.1092718815485352"
            ]
          },
          "metadata": {},
          "execution_count": 356
        }
      ]
    },
    {
      "cell_type": "code",
      "source": [
        "smoker_values = {'no' : 0, 'yes':1}\n",
        "smoker_numeric = medical_df.smoker.map(smoker_values)\n",
        "medical_df.charges.corr(smoker_numeric)"
      ],
      "metadata": {
        "colab": {
          "base_uri": "https://localhost:8080/"
        },
        "id": "fNngRpI4WsK6",
        "outputId": "07d84452-fb74-473d-9fe3-8aef9b1b6a52"
      },
      "execution_count": 359,
      "outputs": [
        {
          "output_type": "execute_result",
          "data": {
            "text/plain": [
              "0.787251430498478"
            ]
          },
          "metadata": {},
          "execution_count": 359
        }
      ]
    },
    {
      "cell_type": "code",
      "source": [
        "#method : {'pearson', 'kendall', 'spearman'}\n",
        "medical_df.corr(method='pearson')"
      ],
      "metadata": {
        "colab": {
          "base_uri": "https://localhost:8080/",
          "height": 175
        },
        "id": "fCzaZEvsXEE2",
        "outputId": "2f8f25e5-7d45-47ed-814a-b5727b5b6261"
      },
      "execution_count": 364,
      "outputs": [
        {
          "output_type": "execute_result",
          "data": {
            "text/plain": [
              "               age       bmi  children   charges\n",
              "age       1.000000  0.109272  0.042469  0.299008\n",
              "bmi       0.109272  1.000000  0.012759  0.198341\n",
              "children  0.042469  0.012759  1.000000  0.067998\n",
              "charges   0.299008  0.198341  0.067998  1.000000"
            ],
            "text/html": [
              "\n",
              "  <div id=\"df-14bcdd92-8322-43bc-9187-48669b009ffd\">\n",
              "    <div class=\"colab-df-container\">\n",
              "      <div>\n",
              "<style scoped>\n",
              "    .dataframe tbody tr th:only-of-type {\n",
              "        vertical-align: middle;\n",
              "    }\n",
              "\n",
              "    .dataframe tbody tr th {\n",
              "        vertical-align: top;\n",
              "    }\n",
              "\n",
              "    .dataframe thead th {\n",
              "        text-align: right;\n",
              "    }\n",
              "</style>\n",
              "<table border=\"1\" class=\"dataframe\">\n",
              "  <thead>\n",
              "    <tr style=\"text-align: right;\">\n",
              "      <th></th>\n",
              "      <th>age</th>\n",
              "      <th>bmi</th>\n",
              "      <th>children</th>\n",
              "      <th>charges</th>\n",
              "    </tr>\n",
              "  </thead>\n",
              "  <tbody>\n",
              "    <tr>\n",
              "      <th>age</th>\n",
              "      <td>1.000000</td>\n",
              "      <td>0.109272</td>\n",
              "      <td>0.042469</td>\n",
              "      <td>0.299008</td>\n",
              "    </tr>\n",
              "    <tr>\n",
              "      <th>bmi</th>\n",
              "      <td>0.109272</td>\n",
              "      <td>1.000000</td>\n",
              "      <td>0.012759</td>\n",
              "      <td>0.198341</td>\n",
              "    </tr>\n",
              "    <tr>\n",
              "      <th>children</th>\n",
              "      <td>0.042469</td>\n",
              "      <td>0.012759</td>\n",
              "      <td>1.000000</td>\n",
              "      <td>0.067998</td>\n",
              "    </tr>\n",
              "    <tr>\n",
              "      <th>charges</th>\n",
              "      <td>0.299008</td>\n",
              "      <td>0.198341</td>\n",
              "      <td>0.067998</td>\n",
              "      <td>1.000000</td>\n",
              "    </tr>\n",
              "  </tbody>\n",
              "</table>\n",
              "</div>\n",
              "      <button class=\"colab-df-convert\" onclick=\"convertToInteractive('df-14bcdd92-8322-43bc-9187-48669b009ffd')\"\n",
              "              title=\"Convert this dataframe to an interactive table.\"\n",
              "              style=\"display:none;\">\n",
              "        \n",
              "  <svg xmlns=\"http://www.w3.org/2000/svg\" height=\"24px\"viewBox=\"0 0 24 24\"\n",
              "       width=\"24px\">\n",
              "    <path d=\"M0 0h24v24H0V0z\" fill=\"none\"/>\n",
              "    <path d=\"M18.56 5.44l.94 2.06.94-2.06 2.06-.94-2.06-.94-.94-2.06-.94 2.06-2.06.94zm-11 1L8.5 8.5l.94-2.06 2.06-.94-2.06-.94L8.5 2.5l-.94 2.06-2.06.94zm10 10l.94 2.06.94-2.06 2.06-.94-2.06-.94-.94-2.06-.94 2.06-2.06.94z\"/><path d=\"M17.41 7.96l-1.37-1.37c-.4-.4-.92-.59-1.43-.59-.52 0-1.04.2-1.43.59L10.3 9.45l-7.72 7.72c-.78.78-.78 2.05 0 2.83L4 21.41c.39.39.9.59 1.41.59.51 0 1.02-.2 1.41-.59l7.78-7.78 2.81-2.81c.8-.78.8-2.07 0-2.86zM5.41 20L4 18.59l7.72-7.72 1.47 1.35L5.41 20z\"/>\n",
              "  </svg>\n",
              "      </button>\n",
              "      \n",
              "  <style>\n",
              "    .colab-df-container {\n",
              "      display:flex;\n",
              "      flex-wrap:wrap;\n",
              "      gap: 12px;\n",
              "    }\n",
              "\n",
              "    .colab-df-convert {\n",
              "      background-color: #E8F0FE;\n",
              "      border: none;\n",
              "      border-radius: 50%;\n",
              "      cursor: pointer;\n",
              "      display: none;\n",
              "      fill: #1967D2;\n",
              "      height: 32px;\n",
              "      padding: 0 0 0 0;\n",
              "      width: 32px;\n",
              "    }\n",
              "\n",
              "    .colab-df-convert:hover {\n",
              "      background-color: #E2EBFA;\n",
              "      box-shadow: 0px 1px 2px rgba(60, 64, 67, 0.3), 0px 1px 3px 1px rgba(60, 64, 67, 0.15);\n",
              "      fill: #174EA6;\n",
              "    }\n",
              "\n",
              "    [theme=dark] .colab-df-convert {\n",
              "      background-color: #3B4455;\n",
              "      fill: #D2E3FC;\n",
              "    }\n",
              "\n",
              "    [theme=dark] .colab-df-convert:hover {\n",
              "      background-color: #434B5C;\n",
              "      box-shadow: 0px 1px 3px 1px rgba(0, 0, 0, 0.15);\n",
              "      filter: drop-shadow(0px 1px 2px rgba(0, 0, 0, 0.3));\n",
              "      fill: #FFFFFF;\n",
              "    }\n",
              "  </style>\n",
              "\n",
              "      <script>\n",
              "        const buttonEl =\n",
              "          document.querySelector('#df-14bcdd92-8322-43bc-9187-48669b009ffd button.colab-df-convert');\n",
              "        buttonEl.style.display =\n",
              "          google.colab.kernel.accessAllowed ? 'block' : 'none';\n",
              "\n",
              "        async function convertToInteractive(key) {\n",
              "          const element = document.querySelector('#df-14bcdd92-8322-43bc-9187-48669b009ffd');\n",
              "          const dataTable =\n",
              "            await google.colab.kernel.invokeFunction('convertToInteractive',\n",
              "                                                     [key], {});\n",
              "          if (!dataTable) return;\n",
              "\n",
              "          const docLinkHtml = 'Like what you see? Visit the ' +\n",
              "            '<a target=\"_blank\" href=https://colab.research.google.com/notebooks/data_table.ipynb>data table notebook</a>'\n",
              "            + ' to learn more about interactive tables.';\n",
              "          element.innerHTML = '';\n",
              "          dataTable['output_type'] = 'display_data';\n",
              "          await google.colab.output.renderOutput(dataTable, element);\n",
              "          const docLink = document.createElement('div');\n",
              "          docLink.innerHTML = docLinkHtml;\n",
              "          element.appendChild(docLink);\n",
              "        }\n",
              "      </script>\n",
              "    </div>\n",
              "  </div>\n",
              "  "
            ]
          },
          "metadata": {},
          "execution_count": 364
        }
      ]
    },
    {
      "cell_type": "code",
      "source": [
        "non_smoker_df = medical_df[medical_df.smoker == 'no']"
      ],
      "metadata": {
        "id": "g94Ch9CRXlcT"
      },
      "execution_count": 365,
      "outputs": []
    },
    {
      "cell_type": "code",
      "source": [
        "plt.figure(figsize = (10,6))\n",
        "plt.title(\"Age vs. Charges\")\n",
        "sns.scatterplot(data = non_smoker_df, x = 'age', y='charges', alpha=0.7, s=15)\n",
        "plt.show()"
      ],
      "metadata": {
        "colab": {
          "base_uri": "https://localhost:8080/",
          "height": 404
        },
        "id": "fsqVM4eyeZy0",
        "outputId": "07274a96-e93b-44f4-f51f-ec75b31a9c60"
      },
      "execution_count": 368,
      "outputs": [
        {
          "output_type": "display_data",
          "data": {
            "text/plain": [
              "<Figure size 720x432 with 1 Axes>"
            ],
            "image/png": "[encoded data removed]"
          },
          "metadata": {
            "needs_background": "light"
          }
        }
      ]
    },
    {
      "cell_type": "code",
      "source": [
        "def estimate_charges(age, w, b):\n",
        "  return w * age + b"
      ],
      "metadata": {
        "id": "uafQ3fiaep2h"
      },
      "execution_count": 369,
      "outputs": []
    },
    {
      "cell_type": "code",
      "source": [
        "w = 50\n",
        "b = 100"
      ],
      "metadata": {
        "id": "LrP99GGufL-k"
      },
      "execution_count": 370,
      "outputs": []
    },
    {
      "cell_type": "code",
      "source": [
        "ages = non_smoker_df.age\n",
        "estimated_charges = estimate_charges(ages, w, b)"
      ],
      "metadata": {
        "id": "4ePArWOlfQKK"
      },
      "execution_count": 371,
      "outputs": []
    },
    {
      "cell_type": "code",
      "source": [
        "estimated_charges"
      ],
      "metadata": {
        "colab": {
          "base_uri": "https://localhost:8080/"
        },
        "id": "qZ3YFfczfaOq",
        "outputId": "af4a5451-3ae4-47c8-fb08-cc6f7dce9bac"
      },
      "execution_count": 372,
      "outputs": [
        {
          "output_type": "execute_result",
          "data": {
            "text/plain": [
              "1       1000\n",
              "2       1500\n",
              "3       1750\n",
              "4       1700\n",
              "5       1650\n",
              "        ... \n",
              "1332    2700\n",
              "1333    2600\n",
              "1334    1000\n",
              "1335    1000\n",
              "1336    1150\n",
              "Name: age, Length: 1064, dtype: int64"
            ]
          },
          "metadata": {},
          "execution_count": 372
        }
      ]
    },
    {
      "cell_type": "code",
      "source": [
        "ages"
      ],
      "metadata": {
        "colab": {
          "base_uri": "https://localhost:8080/"
        },
        "id": "qFBBc3opf8Gc",
        "outputId": "e3bc7e30-349a-4e40-cb5f-ba4485bc30f2"
      },
      "execution_count": 380,
      "outputs": [
        {
          "output_type": "execute_result",
          "data": {
            "text/plain": [
              "1       18\n",
              "2       28\n",
              "3       33\n",
              "4       32\n",
              "5       31\n",
              "        ..\n",
              "1332    52\n",
              "1333    50\n",
              "1334    18\n",
              "1335    18\n",
              "1336    21\n",
              "Name: age, Length: 1064, dtype: int64"
            ]
          },
          "metadata": {},
          "execution_count": 380
        }
      ]
    },
    {
      "cell_type": "code",
      "source": [
        "plt.figure(figsize = (10,6))\n",
        "plt.plot(ages, estimated_charges, 'r--')\n",
        "plt.xlabel('Age')\n",
        "plt.ylabel('Charges')\n",
        "plt.show()"
      ],
      "metadata": {
        "colab": {
          "base_uri": "https://localhost:8080/",
          "height": 388
        },
        "id": "Ms62g0aMfbdz",
        "outputId": "469bbd66-052c-4257-e93f-0de59c907116"
      },
      "execution_count": 386,
      "outputs": [
        {
          "output_type": "display_data",
          "data": {
            "text/plain": [
              "<Figure size 720x432 with 1 Axes>"
            ],
            "image/png": "[encoded data removed]"
          },
          "metadata": {
            "needs_background": "light"
          }
        }
      ]
    },
    {
      "cell_type": "code",
      "source": [
        "target = non_smoker_df.charges\n",
        "\n",
        "plt.plot(ages, estimated_charges, 'r', alpha = 0.9);\n",
        "\n",
        "plt.scatter(ages, target, s = 8, alpha = 0.8)\n",
        "plt.xlabel('ages')\n",
        "plt.ylabel('target')\n",
        "plt.show()"
      ],
      "metadata": {
        "colab": {
          "base_uri": "https://localhost:8080/",
          "height": 279
        },
        "id": "DeJLWg_4fsFU",
        "outputId": "24206131-eb3d-4cc0-9828-4bb4a26ed133"
      },
      "execution_count": 388,
      "outputs": [
        {
          "output_type": "display_data",
          "data": {
            "text/plain": [
              "<Figure size 432x288 with 1 Axes>"
            ],
            "image/png": "[encoded data removed]"
          },
          "metadata": {
            "needs_background": "light"
          }
        }
      ]
    },
    {
      "cell_type": "code",
      "source": [
        "def try_parameters(w, b):\n",
        "  ages = non_smoker_df.age\n",
        "  target = non_smoker_df.charges\n",
        "\n",
        "  estimated_charges = estimate_charges(ages, w, b )\n",
        "\n",
        "  plt.plot(ages, estimated_charges, 'r', alpha = 0.9);\n",
        "\n",
        "  plt.scatter(ages, target, s =8, alpha = 0.8)\n",
        "  plt.xlabel('ages')\n",
        "  plt.ylabel('charges')\n",
        "  plt.legend(['Estimate', 'Actual']);\n",
        "\n"
      ],
      "metadata": {
        "id": "p6a4_jg6gv6n"
      },
      "execution_count": 389,
      "outputs": []
    },
    {
      "cell_type": "code",
      "source": [
        "try_parameters(60, 200)"
      ],
      "metadata": {
        "colab": {
          "base_uri": "https://localhost:8080/",
          "height": 279
        },
        "id": "5HFgSsRWiAJ2",
        "outputId": "a33eb361-905f-4ae8-9871-7c49472b4071"
      },
      "execution_count": 390,
      "outputs": [
        {
          "output_type": "display_data",
          "data": {
            "text/plain": [
              "<Figure size 432x288 with 1 Axes>"
            ],
            "image/png": "[encoded data removed]"
          },
          "metadata": {
            "needs_background": "light"
          }
        }
      ]
    },
    {
      "cell_type": "code",
      "source": [
        "try_parameters(200, 200)"
      ],
      "metadata": {
        "colab": {
          "base_uri": "https://localhost:8080/",
          "height": 279
        },
        "id": "C0fY9QNeiEIa",
        "outputId": "469eea8f-765a-4995-d6ca-ee616b16fd5b"
      },
      "execution_count": 391,
      "outputs": [
        {
          "output_type": "display_data",
          "data": {
            "text/plain": [
              "<Figure size 432x288 with 1 Axes>"
            ],
            "image/png": "[encoded data removed]"
          },
          "metadata": {
            "needs_background": "light"
          }
        }
      ]
    },
    {
      "cell_type": "code",
      "source": [
        "try_parameters(180, 200)"
      ],
      "metadata": {
        "colab": {
          "base_uri": "https://localhost:8080/",
          "height": 279
        },
        "id": "gh3ySnpgiIHF",
        "outputId": "0e346ee3-3eaf-4946-a958-2d9a69aea3c9"
      },
      "execution_count": 393,
      "outputs": [
        {
          "output_type": "display_data",
          "data": {
            "text/plain": [
              "<Figure size 432x288 with 1 Axes>"
            ],
            "image/png": "[encoded data removed]"
          },
          "metadata": {
            "needs_background": "light"
          }
        }
      ]
    },
    {
      "cell_type": "code",
      "source": [
        "predictions  = estimated_charges"
      ],
      "metadata": {
        "id": "Muz0hdKCiLjQ"
      },
      "execution_count": 394,
      "outputs": []
    },
    {
      "cell_type": "code",
      "source": [
        "predictions"
      ],
      "metadata": {
        "colab": {
          "base_uri": "https://localhost:8080/"
        },
        "id": "77fC9XaoikLD",
        "outputId": "edeac2dc-6a7a-40fc-b59d-f3a379d8693e"
      },
      "execution_count": 395,
      "outputs": [
        {
          "output_type": "execute_result",
          "data": {
            "text/plain": [
              "1       1000\n",
              "2       1500\n",
              "3       1750\n",
              "4       1700\n",
              "5       1650\n",
              "        ... \n",
              "1332    2700\n",
              "1333    2600\n",
              "1334    1000\n",
              "1335    1000\n",
              "1336    1150\n",
              "Name: age, Length: 1064, dtype: int64"
            ]
          },
          "metadata": {},
          "execution_count": 395
        }
      ]
    },
    {
      "cell_type": "code",
      "source": [
        "def rmse(targets, predictions):\n",
        "  return np.sqrt(np.mean(np.square(targets - predictions)))"
      ],
      "metadata": {
        "id": "dLsm1sATilI2"
      },
      "execution_count": 396,
      "outputs": []
    },
    {
      "cell_type": "code",
      "source": [
        "w = 50\n",
        "b = 100"
      ],
      "metadata": {
        "id": "CgND90EgjB2a"
      },
      "execution_count": 397,
      "outputs": []
    },
    {
      "cell_type": "code",
      "source": [
        "try_parameters(w=w, b=b)"
      ],
      "metadata": {
        "colab": {
          "base_uri": "https://localhost:8080/",
          "height": 279
        },
        "id": "tqpRWuxAjEzQ",
        "outputId": "0b80c182-bb3e-49e9-d388-3a25cf239772"
      },
      "execution_count": 398,
      "outputs": [
        {
          "output_type": "display_data",
          "data": {
            "text/plain": [
              "<Figure size 432x288 with 1 Axes>"
            ],
            "image/png": "[encoded data removed]"
          },
          "metadata": {
            "needs_background": "light"
          }
        }
      ]
    },
    {
      "cell_type": "code",
      "source": [
        "targets = non_smoker_df['charges']\n",
        "predicted = estimate_charges(non_smoker_df.age, w, b)"
      ],
      "metadata": {
        "id": "lGi_UrGjjIS1"
      },
      "execution_count": 399,
      "outputs": []
    },
    {
      "cell_type": "code",
      "source": [
        "rmse(targets, predicted)"
      ],
      "metadata": {
        "colab": {
          "base_uri": "https://localhost:8080/"
        },
        "id": "UF6NCm7njVLD",
        "outputId": "f30fc82a-d07a-4bcb-e33a-bb172f8c271a"
      },
      "execution_count": 400,
      "outputs": [
        {
          "output_type": "execute_result",
          "data": {
            "text/plain": [
              "8461.949562575493"
            ]
          },
          "metadata": {},
          "execution_count": 400
        }
      ]
    },
    {
      "cell_type": "code",
      "source": [
        "def try_parameters(w, b):\n",
        "  ages = non_smoker_df.age\n",
        "  target = non_smoker_df.charges\n",
        "\n",
        "  estimated_charges = estimate_charges(ages, w, b )\n",
        "\n",
        "  plt.plot(ages, estimated_charges, 'r', alpha = 0.9);\n",
        "\n",
        "  plt.scatter(ages, target, s =8, alpha = 0.8)\n",
        "  plt.xlabel('ages')\n",
        "  plt.ylabel('charges')\n",
        "  plt.legend(['Estimate', 'Actual']);\n",
        "\n",
        "  loss = rmse(target, predictions)\n",
        "  print('RMSE Loss : ', loss)"
      ],
      "metadata": {
        "id": "u5rd8iMTjXc2"
      },
      "execution_count": 401,
      "outputs": []
    },
    {
      "cell_type": "code",
      "source": [
        "try_parameters(50, 100)"
      ],
      "metadata": {
        "colab": {
          "base_uri": "https://localhost:8080/",
          "height": 296
        },
        "id": "8ih3iMJFj27b",
        "outputId": "279914d9-f246-4ebf-bb9d-76661379a038"
      },
      "execution_count": 402,
      "outputs": [
        {
          "output_type": "stream",
          "name": "stdout",
          "text": [
            "RMSE Loss :  8461.949562575493\n"
          ]
        },
        {
          "output_type": "display_data",
          "data": {
            "text/plain": [
              "<Figure size 432x288 with 1 Axes>"
            ],
            "image/png": "[encoded data removed]"
          },
          "metadata": {
            "needs_background": "light"
          }
        }
      ]
    },
    {
      "cell_type": "code",
      "source": [],
      "metadata": {
        "colab": {
          "base_uri": "https://localhost:8080/",
          "height": 453
        },
        "id": "TGQDlNVej5q2",
        "outputId": "f7039885-676d-41a6-a2cc-22eb73a85bfa"
      },
      "execution_count": 403,
      "outputs": [
        {
          "output_type": "stream",
          "name": "stdout",
          "text": [
            "RMSE Loss :  8461.949562575493\n",
            "RMSE Loss :  8461.949562575493\n",
            "RMSE Loss :  8461.949562575493\n",
            "RMSE Loss :  8461.949562575493\n",
            "RMSE Loss :  8461.949562575493\n",
            "RMSE Loss :  8461.949562575493\n",
            "RMSE Loss :  8461.949562575493\n",
            "RMSE Loss :  8461.949562575493\n",
            "RMSE Loss :  8461.949562575493\n",
            "RMSE Loss :  8461.949562575493\n"
          ]
        },
        {
          "output_type": "display_data",
          "data": {
            "text/plain": [
              "<Figure size 432x288 with 1 Axes>"
            ],
            "image/png": "[encoded data removed]"
          },
          "metadata": {
            "needs_background": "light"
          }
        }
      ]
    },
    {
      "cell_type": "code",
      "source": [
        "from sklearn.linear_model import LinearRegression\n",
        "\n",
        "model = LinearRegression()\n",
        "\n",
        "inputs = non_smoker_df[['age']]\n",
        "targets = non_smoker_df.charges\n",
        "\n",
        "print(inputs.shape, targets.shape)\n"
      ],
      "metadata": {
        "colab": {
          "base_uri": "https://localhost:8080/"
        },
        "id": "IVyLPmUikLA-",
        "outputId": "db134470-2466-4f7d-dd34-8b549c683a2a"
      },
      "execution_count": 407,
      "outputs": [
        {
          "output_type": "stream",
          "name": "stdout",
          "text": [
            "(1064, 1) (1064,)\n"
          ]
        }
      ]
    },
    {
      "cell_type": "code",
      "source": [
        "model.fit(inputs, targets)"
      ],
      "metadata": {
        "colab": {
          "base_uri": "https://localhost:8080/"
        },
        "id": "dLPFCtM1krHJ",
        "outputId": "aded0082-945d-4ccf-a321-194ad8ad9f2b"
      },
      "execution_count": 408,
      "outputs": [
        {
          "output_type": "execute_result",
          "data": {
            "text/plain": [
              "LinearRegression()"
            ]
          },
          "metadata": {},
          "execution_count": 408
        }
      ]
    },
    {
      "cell_type": "code",
      "source": [
        "model.predict(np.array([[23],\n",
        "                        [37],\n",
        "                        [61]]))\n"
      ],
      "metadata": {
        "colab": {
          "base_uri": "https://localhost:8080/"
        },
        "id": "JnOZj9YplMSB",
        "outputId": "3920ff57-d8a8-40e2-9d2d-aa9c9b4e73d5"
      },
      "execution_count": 409,
      "outputs": [
        {
          "output_type": "stream",
          "name": "stderr",
          "text": [
            "/usr/local/lib/python3.8/dist-packages/sklearn/base.py:450: UserWarning:\n",
            "\n",
            "X does not have valid feature names, but LinearRegression was fitted with feature names\n",
            "\n"
          ]
        },
        {
          "output_type": "execute_result",
          "data": {
            "text/plain": [
              "array([ 4055.30443855,  7796.78921819, 14210.76312614])"
            ]
          },
          "metadata": {},
          "execution_count": 409
        }
      ]
    },
    {
      "cell_type": "code",
      "source": [
        "predictions = model.predict(inputs)"
      ],
      "metadata": {
        "id": "onCtbhcZlWJR"
      },
      "execution_count": 410,
      "outputs": []
    },
    {
      "cell_type": "code",
      "source": [
        "predictions"
      ],
      "metadata": {
        "colab": {
          "base_uri": "https://localhost:8080/"
        },
        "id": "yWvCzRBxlgQT",
        "outputId": "c71672c1-f247-48e6-df37-6acb611c8743"
      },
      "execution_count": 411,
      "outputs": [
        {
          "output_type": "execute_result",
          "data": {
            "text/plain": [
              "array([2719.0598744 , 5391.54900271, 6727.79356686, ..., 2719.0598744 ,\n",
              "       2719.0598744 , 3520.80661289])"
            ]
          },
          "metadata": {},
          "execution_count": 411
        }
      ]
    },
    {
      "cell_type": "code",
      "source": [
        "targets"
      ],
      "metadata": {
        "colab": {
          "base_uri": "https://localhost:8080/"
        },
        "id": "XN9jJr9llh2A",
        "outputId": "7cc17060-85ab-4488-b9f6-0d4150066e8f"
      },
      "execution_count": 412,
      "outputs": [
        {
          "output_type": "execute_result",
          "data": {
            "text/plain": [
              "1        1725.55230\n",
              "2        4449.46200\n",
              "3       21984.47061\n",
              "4        3866.85520\n",
              "5        3756.62160\n",
              "           ...     \n",
              "1332    11411.68500\n",
              "1333    10600.54830\n",
              "1334     2205.98080\n",
              "1335     1629.83350\n",
              "1336     2007.94500\n",
              "Name: charges, Length: 1064, dtype: float64"
            ]
          },
          "metadata": {},
          "execution_count": 412
        }
      ]
    },
    {
      "cell_type": "code",
      "source": [
        "rmse(targets, predictions)"
      ],
      "metadata": {
        "colab": {
          "base_uri": "https://localhost:8080/"
        },
        "id": "O_JY4ivuljYV",
        "outputId": "7496f452-293d-4470-eb64-c33eeb366ec9"
      },
      "execution_count": 413,
      "outputs": [
        {
          "output_type": "execute_result",
          "data": {
            "text/plain": [
              "4662.505766636395"
            ]
          },
          "metadata": {},
          "execution_count": 413
        }
      ]
    },
    {
      "cell_type": "code",
      "source": [
        "model.coef_"
      ],
      "metadata": {
        "colab": {
          "base_uri": "https://localhost:8080/"
        },
        "id": "-PvO3tcSlmkP",
        "outputId": "c7376b60-b2f7-402d-b065-11b92ae46b28"
      },
      "execution_count": 414,
      "outputs": [
        {
          "output_type": "execute_result",
          "data": {
            "text/plain": [
              "array([267.24891283])"
            ]
          },
          "metadata": {},
          "execution_count": 414
        }
      ]
    },
    {
      "cell_type": "code",
      "source": [
        "model.intercept_"
      ],
      "metadata": {
        "colab": {
          "base_uri": "https://localhost:8080/"
        },
        "id": "bNSzq5YVlq7Y",
        "outputId": "bb2678fe-b1fc-4965-de00-752a7c70d68b"
      },
      "execution_count": 415,
      "outputs": [
        {
          "output_type": "execute_result",
          "data": {
            "text/plain": [
              "-2091.4205565650864"
            ]
          },
          "metadata": {},
          "execution_count": 415
        }
      ]
    },
    {
      "cell_type": "code",
      "source": [
        "try_parameters(model.coef_, model.intercept_)"
      ],
      "metadata": {
        "colab": {
          "base_uri": "https://localhost:8080/",
          "height": 296
        },
        "id": "84WF4oPMluOU",
        "outputId": "dea719e1-55a4-45f1-f4c7-639a2a92e934"
      },
      "execution_count": 416,
      "outputs": [
        {
          "output_type": "stream",
          "name": "stdout",
          "text": [
            "RMSE Loss :  4662.505766636395\n"
          ]
        },
        {
          "output_type": "display_data",
          "data": {
            "text/plain": [
              "<Figure size 432x288 with 1 Axes>"
            ],
            "image/png": "[encoded data removed]"
          },
          "metadata": {
            "needs_background": "light"
          }
        }
      ]
    },
    {
      "cell_type": "code",
      "source": [
        "from sklearn.linear_model import SGDRegressor\n",
        "models = SGDRegressor()\n",
        "models.fit(inputs, targets)\n",
        "try_parameters(model.coef_, model.intercept_)"
      ],
      "metadata": {
        "colab": {
          "base_uri": "https://localhost:8080/",
          "height": 296
        },
        "id": "L75QdgNfmKR9",
        "outputId": "927f147d-8115-42a0-d02f-9bdb2d99a398"
      },
      "execution_count": 420,
      "outputs": [
        {
          "output_type": "stream",
          "name": "stdout",
          "text": [
            "RMSE Loss :  4662.505766636395\n"
          ]
        },
        {
          "output_type": "display_data",
          "data": {
            "text/plain": [
              "<Figure size 432x288 with 1 Axes>"
            ],
            "image/png": "[encoded data removed]"
          },
          "metadata": {
            "needs_background": "light"
          }
        }
      ]
    },
    {
      "cell_type": "code",
      "source": [
        "df = pd.read_csv('medical.csv')"
      ],
      "metadata": {
        "id": "bT2Q_u5kmY1w"
      },
      "execution_count": 438,
      "outputs": []
    },
    {
      "cell_type": "code",
      "source": [
        "df.head()"
      ],
      "metadata": {
        "colab": {
          "base_uri": "https://localhost:8080/",
          "height": 206
        },
        "id": "DX82lcPnnKC4",
        "outputId": "9f9f1008-1471-48a8-afcc-367e92fdfc7a"
      },
      "execution_count": 439,
      "outputs": [
        {
          "output_type": "execute_result",
          "data": {
            "text/plain": [
              "   age     sex     bmi  children smoker     region      charges\n",
              "0   19  female  27.900         0    yes  southwest  16884.92400\n",
              "1   18    male  33.770         1     no  southeast   1725.55230\n",
              "2   28    male  33.000         3     no  southeast   4449.46200\n",
              "3   33    male  22.705         0     no  northwest  21984.47061\n",
              "4   32    male  28.880         0     no  northwest   3866.85520"
            ],
            "text/html": [
              "\n",
              "  <div id=\"df-70aa8ad3-5c76-47bb-a0d1-835cb7f8d485\">\n",
              "    <div class=\"colab-df-container\">\n",
              "      <div>\n",
              "<style scoped>\n",
              "    .dataframe tbody tr th:only-of-type {\n",
              "        vertical-align: middle;\n",
              "    }\n",
              "\n",
              "    .dataframe tbody tr th {\n",
              "        vertical-align: top;\n",
              "    }\n",
              "\n",
              "    .dataframe thead th {\n",
              "        text-align: right;\n",
              "    }\n",
              "</style>\n",
              "<table border=\"1\" class=\"dataframe\">\n",
              "  <thead>\n",
              "    <tr style=\"text-align: right;\">\n",
              "      <th></th>\n",
              "      <th>age</th>\n",
              "      <th>sex</th>\n",
              "      <th>bmi</th>\n",
              "      <th>children</th>\n",
              "      <th>smoker</th>\n",
              "      <th>region</th>\n",
              "      <th>charges</th>\n",
              "    </tr>\n",
              "  </thead>\n",
              "  <tbody>\n",
              "    <tr>\n",
              "      <th>0</th>\n",
              "      <td>19</td>\n",
              "      <td>female</td>\n",
              "      <td>27.900</td>\n",
              "      <td>0</td>\n",
              "      <td>yes</td>\n",
              "      <td>southwest</td>\n",
              "      <td>16884.92400</td>\n",
              "    </tr>\n",
              "    <tr>\n",
              "      <th>1</th>\n",
              "      <td>18</td>\n",
              "      <td>male</td>\n",
              "      <td>33.770</td>\n",
              "      <td>1</td>\n",
              "      <td>no</td>\n",
              "      <td>southeast</td>\n",
              "      <td>1725.55230</td>\n",
              "    </tr>\n",
              "    <tr>\n",
              "      <th>2</th>\n",
              "      <td>28</td>\n",
              "      <td>male</td>\n",
              "      <td>33.000</td>\n",
              "      <td>3</td>\n",
              "      <td>no</td>\n",
              "      <td>southeast</td>\n",
              "      <td>4449.46200</td>\n",
              "    </tr>\n",
              "    <tr>\n",
              "      <th>3</th>\n",
              "      <td>33</td>\n",
              "      <td>male</td>\n",
              "      <td>22.705</td>\n",
              "      <td>0</td>\n",
              "      <td>no</td>\n",
              "      <td>northwest</td>\n",
              "      <td>21984.47061</td>\n",
              "    </tr>\n",
              "    <tr>\n",
              "      <th>4</th>\n",
              "      <td>32</td>\n",
              "      <td>male</td>\n",
              "      <td>28.880</td>\n",
              "      <td>0</td>\n",
              "      <td>no</td>\n",
              "      <td>northwest</td>\n",
              "      <td>3866.85520</td>\n",
              "    </tr>\n",
              "  </tbody>\n",
              "</table>\n",
              "</div>\n",
              "      <button class=\"colab-df-convert\" onclick=\"convertToInteractive('df-70aa8ad3-5c76-47bb-a0d1-835cb7f8d485')\"\n",
              "              title=\"Convert this dataframe to an interactive table.\"\n",
              "              style=\"display:none;\">\n",
              "        \n",
              "  <svg xmlns=\"http://www.w3.org/2000/svg\" height=\"24px\"viewBox=\"0 0 24 24\"\n",
              "       width=\"24px\">\n",
              "    <path d=\"M0 0h24v24H0V0z\" fill=\"none\"/>\n",
              "    <path d=\"M18.56 5.44l.94 2.06.94-2.06 2.06-.94-2.06-.94-.94-2.06-.94 2.06-2.06.94zm-11 1L8.5 8.5l.94-2.06 2.06-.94-2.06-.94L8.5 2.5l-.94 2.06-2.06.94zm10 10l.94 2.06.94-2.06 2.06-.94-2.06-.94-.94-2.06-.94 2.06-2.06.94z\"/><path d=\"M17.41 7.96l-1.37-1.37c-.4-.4-.92-.59-1.43-.59-.52 0-1.04.2-1.43.59L10.3 9.45l-7.72 7.72c-.78.78-.78 2.05 0 2.83L4 21.41c.39.39.9.59 1.41.59.51 0 1.02-.2 1.41-.59l7.78-7.78 2.81-2.81c.8-.78.8-2.07 0-2.86zM5.41 20L4 18.59l7.72-7.72 1.47 1.35L5.41 20z\"/>\n",
              "  </svg>\n",
              "      </button>\n",
              "      \n",
              "  <style>\n",
              "    .colab-df-container {\n",
              "      display:flex;\n",
              "      flex-wrap:wrap;\n",
              "      gap: 12px;\n",
              "    }\n",
              "\n",
              "    .colab-df-convert {\n",
              "      background-color: #E8F0FE;\n",
              "      border: none;\n",
              "      border-radius: 50%;\n",
              "      cursor: pointer;\n",
              "      display: none;\n",
              "      fill: #1967D2;\n",
              "      height: 32px;\n",
              "      padding: 0 0 0 0;\n",
              "      width: 32px;\n",
              "    }\n",
              "\n",
              "    .colab-df-convert:hover {\n",
              "      background-color: #E2EBFA;\n",
              "      box-shadow: 0px 1px 2px rgba(60, 64, 67, 0.3), 0px 1px 3px 1px rgba(60, 64, 67, 0.15);\n",
              "      fill: #174EA6;\n",
              "    }\n",
              "\n",
              "    [theme=dark] .colab-df-convert {\n",
              "      background-color: #3B4455;\n",
              "      fill: #D2E3FC;\n",
              "    }\n",
              "\n",
              "    [theme=dark] .colab-df-convert:hover {\n",
              "      background-color: #434B5C;\n",
              "      box-shadow: 0px 1px 3px 1px rgba(0, 0, 0, 0.15);\n",
              "      filter: drop-shadow(0px 1px 2px rgba(0, 0, 0, 0.3));\n",
              "      fill: #FFFFFF;\n",
              "    }\n",
              "  </style>\n",
              "\n",
              "      <script>\n",
              "        const buttonEl =\n",
              "          document.querySelector('#df-70aa8ad3-5c76-47bb-a0d1-835cb7f8d485 button.colab-df-convert');\n",
              "        buttonEl.style.display =\n",
              "          google.colab.kernel.accessAllowed ? 'block' : 'none';\n",
              "\n",
              "        async function convertToInteractive(key) {\n",
              "          const element = document.querySelector('#df-70aa8ad3-5c76-47bb-a0d1-835cb7f8d485');\n",
              "          const dataTable =\n",
              "            await google.colab.kernel.invokeFunction('convertToInteractive',\n",
              "                                                     [key], {});\n",
              "          if (!dataTable) return;\n",
              "\n",
              "          const docLinkHtml = 'Like what you see? Visit the ' +\n",
              "            '<a target=\"_blank\" href=https://colab.research.google.com/notebooks/data_table.ipynb>data table notebook</a>'\n",
              "            + ' to learn more about interactive tables.';\n",
              "          element.innerHTML = '';\n",
              "          dataTable['output_type'] = 'display_data';\n",
              "          await google.colab.output.renderOutput(dataTable, element);\n",
              "          const docLink = document.createElement('div');\n",
              "          docLink.innerHTML = docLinkHtml;\n",
              "          element.appendChild(docLink);\n",
              "        }\n",
              "      </script>\n",
              "    </div>\n",
              "  </div>\n",
              "  "
            ]
          },
          "metadata": {},
          "execution_count": 439
        }
      ]
    },
    {
      "cell_type": "code",
      "source": [
        "df['sex'] = df['sex'].map({'female':0, 'male':1})"
      ],
      "metadata": {
        "id": "jQRF5iJovPnp"
      },
      "execution_count": 440,
      "outputs": []
    },
    {
      "cell_type": "code",
      "source": [
        "df['smoker'] = df['smoker'].map({'yes':0, 'no':1})"
      ],
      "metadata": {
        "id": "lDemz9qtvk-l"
      },
      "execution_count": 441,
      "outputs": []
    },
    {
      "cell_type": "code",
      "source": [
        "df['region'] = df['region'].map({'southeast':0, 'southwest':1, 'northwest':2, 'northeast':3})"
      ],
      "metadata": {
        "id": "85IIs-c0wXeT"
      },
      "execution_count": 445,
      "outputs": []
    },
    {
      "cell_type": "code",
      "source": [
        "df.head()"
      ],
      "metadata": {
        "colab": {
          "base_uri": "https://localhost:8080/",
          "height": 206
        },
        "id": "cJJ2EqPVvs8e",
        "outputId": "0dbe9bb2-40b6-431f-ad18-0ba109fbe26c"
      },
      "execution_count": 448,
      "outputs": [
        {
          "output_type": "execute_result",
          "data": {
            "text/plain": [
              "   age  sex     bmi  children  smoker  region      charges\n",
              "0   19    0  27.900         0       0       1  16884.92400\n",
              "1   18    1  33.770         1       1       0   1725.55230\n",
              "2   28    1  33.000         3       1       0   4449.46200\n",
              "3   33    1  22.705         0       1       2  21984.47061\n",
              "4   32    1  28.880         0       1       2   3866.85520"
            ],
            "text/html": [
              "\n",
              "  <div id=\"df-e40a7fd1-deac-42fa-8a7e-eccd588a291c\">\n",
              "    <div class=\"colab-df-container\">\n",
              "      <div>\n",
              "<style scoped>\n",
              "    .dataframe tbody tr th:only-of-type {\n",
              "        vertical-align: middle;\n",
              "    }\n",
              "\n",
              "    .dataframe tbody tr th {\n",
              "        vertical-align: top;\n",
              "    }\n",
              "\n",
              "    .dataframe thead th {\n",
              "        text-align: right;\n",
              "    }\n",
              "</style>\n",
              "<table border=\"1\" class=\"dataframe\">\n",
              "  <thead>\n",
              "    <tr style=\"text-align: right;\">\n",
              "      <th></th>\n",
              "      <th>age</th>\n",
              "      <th>sex</th>\n",
              "      <th>bmi</th>\n",
              "      <th>children</th>\n",
              "      <th>smoker</th>\n",
              "      <th>region</th>\n",
              "      <th>charges</th>\n",
              "    </tr>\n",
              "  </thead>\n",
              "  <tbody>\n",
              "    <tr>\n",
              "      <th>0</th>\n",
              "      <td>19</td>\n",
              "      <td>0</td>\n",
              "      <td>27.900</td>\n",
              "      <td>0</td>\n",
              "      <td>0</td>\n",
              "      <td>1</td>\n",
              "      <td>16884.92400</td>\n",
              "    </tr>\n",
              "    <tr>\n",
              "      <th>1</th>\n",
              "      <td>18</td>\n",
              "      <td>1</td>\n",
              "      <td>33.770</td>\n",
              "      <td>1</td>\n",
              "      <td>1</td>\n",
              "      <td>0</td>\n",
              "      <td>1725.55230</td>\n",
              "    </tr>\n",
              "    <tr>\n",
              "      <th>2</th>\n",
              "      <td>28</td>\n",
              "      <td>1</td>\n",
              "      <td>33.000</td>\n",
              "      <td>3</td>\n",
              "      <td>1</td>\n",
              "      <td>0</td>\n",
              "      <td>4449.46200</td>\n",
              "    </tr>\n",
              "    <tr>\n",
              "      <th>3</th>\n",
              "      <td>33</td>\n",
              "      <td>1</td>\n",
              "      <td>22.705</td>\n",
              "      <td>0</td>\n",
              "      <td>1</td>\n",
              "      <td>2</td>\n",
              "      <td>21984.47061</td>\n",
              "    </tr>\n",
              "    <tr>\n",
              "      <th>4</th>\n",
              "      <td>32</td>\n",
              "      <td>1</td>\n",
              "      <td>28.880</td>\n",
              "      <td>0</td>\n",
              "      <td>1</td>\n",
              "      <td>2</td>\n",
              "      <td>3866.85520</td>\n",
              "    </tr>\n",
              "  </tbody>\n",
              "</table>\n",
              "</div>\n",
              "      <button class=\"colab-df-convert\" onclick=\"convertToInteractive('df-e40a7fd1-deac-42fa-8a7e-eccd588a291c')\"\n",
              "              title=\"Convert this dataframe to an interactive table.\"\n",
              "              style=\"display:none;\">\n",
              "        \n",
              "  <svg xmlns=\"http://www.w3.org/2000/svg\" height=\"24px\"viewBox=\"0 0 24 24\"\n",
              "       width=\"24px\">\n",
              "    <path d=\"M0 0h24v24H0V0z\" fill=\"none\"/>\n",
              "    <path d=\"M18.56 5.44l.94 2.06.94-2.06 2.06-.94-2.06-.94-.94-2.06-.94 2.06-2.06.94zm-11 1L8.5 8.5l.94-2.06 2.06-.94-2.06-.94L8.5 2.5l-.94 2.06-2.06.94zm10 10l.94 2.06.94-2.06 2.06-.94-2.06-.94-.94-2.06-.94 2.06-2.06.94z\"/><path d=\"M17.41 7.96l-1.37-1.37c-.4-.4-.92-.59-1.43-.59-.52 0-1.04.2-1.43.59L10.3 9.45l-7.72 7.72c-.78.78-.78 2.05 0 2.83L4 21.41c.39.39.9.59 1.41.59.51 0 1.02-.2 1.41-.59l7.78-7.78 2.81-2.81c.8-.78.8-2.07 0-2.86zM5.41 20L4 18.59l7.72-7.72 1.47 1.35L5.41 20z\"/>\n",
              "  </svg>\n",
              "      </button>\n",
              "      \n",
              "  <style>\n",
              "    .colab-df-container {\n",
              "      display:flex;\n",
              "      flex-wrap:wrap;\n",
              "      gap: 12px;\n",
              "    }\n",
              "\n",
              "    .colab-df-convert {\n",
              "      background-color: #E8F0FE;\n",
              "      border: none;\n",
              "      border-radius: 50%;\n",
              "      cursor: pointer;\n",
              "      display: none;\n",
              "      fill: #1967D2;\n",
              "      height: 32px;\n",
              "      padding: 0 0 0 0;\n",
              "      width: 32px;\n",
              "    }\n",
              "\n",
              "    .colab-df-convert:hover {\n",
              "      background-color: #E2EBFA;\n",
              "      box-shadow: 0px 1px 2px rgba(60, 64, 67, 0.3), 0px 1px 3px 1px rgba(60, 64, 67, 0.15);\n",
              "      fill: #174EA6;\n",
              "    }\n",
              "\n",
              "    [theme=dark] .colab-df-convert {\n",
              "      background-color: #3B4455;\n",
              "      fill: #D2E3FC;\n",
              "    }\n",
              "\n",
              "    [theme=dark] .colab-df-convert:hover {\n",
              "      background-color: #434B5C;\n",
              "      box-shadow: 0px 1px 3px 1px rgba(0, 0, 0, 0.15);\n",
              "      filter: drop-shadow(0px 1px 2px rgba(0, 0, 0, 0.3));\n",
              "      fill: #FFFFFF;\n",
              "    }\n",
              "  </style>\n",
              "\n",
              "      <script>\n",
              "        const buttonEl =\n",
              "          document.querySelector('#df-e40a7fd1-deac-42fa-8a7e-eccd588a291c button.colab-df-convert');\n",
              "        buttonEl.style.display =\n",
              "          google.colab.kernel.accessAllowed ? 'block' : 'none';\n",
              "\n",
              "        async function convertToInteractive(key) {\n",
              "          const element = document.querySelector('#df-e40a7fd1-deac-42fa-8a7e-eccd588a291c');\n",
              "          const dataTable =\n",
              "            await google.colab.kernel.invokeFunction('convertToInteractive',\n",
              "                                                     [key], {});\n",
              "          if (!dataTable) return;\n",
              "\n",
              "          const docLinkHtml = 'Like what you see? Visit the ' +\n",
              "            '<a target=\"_blank\" href=https://colab.research.google.com/notebooks/data_table.ipynb>data table notebook</a>'\n",
              "            + ' to learn more about interactive tables.';\n",
              "          element.innerHTML = '';\n",
              "          dataTable['output_type'] = 'display_data';\n",
              "          await google.colab.output.renderOutput(dataTable, element);\n",
              "          const docLink = document.createElement('div');\n",
              "          docLink.innerHTML = docLinkHtml;\n",
              "          element.appendChild(docLink);\n",
              "        }\n",
              "      </script>\n",
              "    </div>\n",
              "  </div>\n",
              "  "
            ]
          },
          "metadata": {},
          "execution_count": 448
        }
      ]
    },
    {
      "cell_type": "code",
      "source": [
        "X = df.drop('charges', axis = 1) \n",
        "y = df['charges']"
      ],
      "metadata": {
        "id": "AiGUaZmuxXXy"
      },
      "execution_count": 453,
      "outputs": []
    },
    {
      "cell_type": "code",
      "source": [
        "from sklearn.model_selection import train_test_split"
      ],
      "metadata": {
        "id": "JVoPsjATxQL_"
      },
      "execution_count": 451,
      "outputs": []
    },
    {
      "cell_type": "code",
      "source": [
        "X_train, X_test, y_train, y_test = train_test_split(X, y, test_size=0.2, random_state=125)"
      ],
      "metadata": {
        "id": "Jou0aYBjxTsJ"
      },
      "execution_count": 454,
      "outputs": []
    },
    {
      "cell_type": "code",
      "source": [
        "print(X_train.shape)\n",
        "print(X_test.shape)\n"
      ],
      "metadata": {
        "colab": {
          "base_uri": "https://localhost:8080/"
        },
        "id": "WTDyqffUxqSs",
        "outputId": "e6f48747-34f8-44e8-af38-411ff43578ba"
      },
      "execution_count": 459,
      "outputs": [
        {
          "output_type": "stream",
          "name": "stdout",
          "text": [
            "(1070, 6)\n",
            "(268, 6)\n"
          ]
        }
      ]
    },
    {
      "cell_type": "code",
      "source": [
        "from sklearn.linear_model import LinearRegression\n",
        "from sklearn.metrics import mean_squared_error"
      ],
      "metadata": {
        "id": "PdF4WXiWvviG"
      },
      "execution_count": 460,
      "outputs": []
    },
    {
      "cell_type": "code",
      "source": [
        "model = LinearRegression()\n",
        "model.fit(X_train, y_train)\n",
        "predictions = model.predict(X_test)\n",
        "print(np.sqrt(mean_squared_error(predictions, y_test)))"
      ],
      "metadata": {
        "colab": {
          "base_uri": "https://localhost:8080/"
        },
        "id": "ZJmAI7TGw6Zv",
        "outputId": "92cc4a6d-f2e6-4fe1-8556-2158259622d9"
      },
      "execution_count": 462,
      "outputs": [
        {
          "output_type": "stream",
          "name": "stdout",
          "text": [
            "5682.77995539676\n"
          ]
        }
      ]
    },
    {
      "cell_type": "code",
      "source": [
        "new = np.array([[19, 0, 27.900, 0, 0, 1]])"
      ],
      "metadata": {
        "id": "vPirzuTmyhcM"
      },
      "execution_count": 469,
      "outputs": []
    },
    {
      "cell_type": "code",
      "source": [
        "model.predict(new)"
      ],
      "metadata": {
        "colab": {
          "base_uri": "https://localhost:8080/"
        },
        "id": "JYSVBgTtzOd-",
        "outputId": "6fbf3407-8d72-4686-84ea-27b8d12b5517"
      },
      "execution_count": 470,
      "outputs": [
        {
          "output_type": "stream",
          "name": "stderr",
          "text": [
            "/usr/local/lib/python3.8/dist-packages/sklearn/base.py:450: UserWarning:\n",
            "\n",
            "X does not have valid feature names, but LinearRegression was fitted with feature names\n",
            "\n"
          ]
        },
        {
          "output_type": "execute_result",
          "data": {
            "text/plain": [
              "array([25367.58156147])"
            ]
          },
          "metadata": {},
          "execution_count": 470
        }
      ]
    },
    {
      "cell_type": "code",
      "source": [],
      "metadata": {
        "id": "fGCJfHEozRen"
      },
      "execution_count": null,
      "outputs": []
    }
  ]
}